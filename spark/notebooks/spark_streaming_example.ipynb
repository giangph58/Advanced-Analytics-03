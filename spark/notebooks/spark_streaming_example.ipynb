{
 "cells": [
  {
   "cell_type": "code",
   "execution_count": 1,
   "metadata": {},
   "outputs": [
    {
     "name": "stdout",
     "output_type": "stream",
     "text": [
      "I am using the following SPARK_HOME: D:\\OneDrive - CGIAR\\Master\\Advanced Analytics\\assignments\\assignment-03\\spark\\spark-3.5.5-bin-hadoop3\n",
      "Windows detected: set HADOOP_HOME to: D:\\OneDrive - CGIAR\\Master\\Advanced Analytics\\assignments\\assignment-03\\spark\\winutils\n",
      "  Also added Hadoop bin directory to PATH: D:\\OneDrive - CGIAR\\Master\\Advanced Analytics\\assignments\\assignment-03\\spark\\winutils\\bin\n"
     ]
    }
   ],
   "source": [
    "import os\n",
    "spark_home = os.path.abspath(os.getcwd() + \"/../spark-3.5.5-bin-hadoop3\")\n",
    "hadoop_home = os.path.abspath(os.getcwd() + \"/../winutils\")\n",
    "print(f\"I am using the following SPARK_HOME: {spark_home}\")\n",
    "if os.name == 'nt':\n",
    "    os.environ[\"HADOOP_HOME\"] = f\"{hadoop_home}\"\n",
    "    print(f\"Windows detected: set HADOOP_HOME to: {os.environ['HADOOP_HOME']}\")\n",
    "    hadoop_bin = os.path.join(hadoop_home, \"bin\")\n",
    "    os.environ[\"PATH\"] = f\"{hadoop_bin};{os.environ['PATH']}\"\n",
    "    print(f\"  Also added Hadoop bin directory to PATH: {hadoop_bin}\")\n",
    "\n",
    "import findspark\n",
    "import pyspark\n",
    "from pyspark.streaming import StreamingContext\n",
    "\n",
    "findspark.init(spark_home)\n",
    "sc = pyspark.SparkContext()\n",
    "spark = pyspark.sql.SparkSession.builder.getOrCreate()\n"
   ]
  },
  {
   "cell_type": "code",
   "execution_count": 2,
   "metadata": {},
   "outputs": [],
   "source": [
    "import threading\n",
    "\n",
    "# Helper thread to avoid the Spark StreamingContext from blocking Jupyter\n",
    "        \n",
    "class StreamingThread(threading.Thread):\n",
    "    def __init__(self, ssc):\n",
    "        super().__init__()\n",
    "        self.ssc = ssc\n",
    "    def run(self):\n",
    "        self.ssc.start()\n",
    "        self.ssc.awaitTermination()\n",
    "    def stop(self):\n",
    "        print('----- Stopping... this may take a few seconds -----')\n",
    "        self.ssc.stop(stopSparkContext=False, stopGraceFully=True)\n",
    "        "
   ]
  },
  {
   "cell_type": "code",
   "execution_count": 3,
   "metadata": {},
   "outputs": [
    {
     "name": "stderr",
     "output_type": "stream",
     "text": [
      "C:\\Users\\GPham\\miniforge3\\envs\\assignment-03\\Lib\\site-packages\\pyspark\\streaming\\context.py:72: FutureWarning: DStream is deprecated as of Spark 3.4.0. Migrate to Structured Streaming.\n",
      "  warnings.warn(\n"
     ]
    },
    {
     "name": "stdout",
     "output_type": "stream",
     "text": [
      "-------------------------------------------\n",
      "Time: 2025-03-31 23:04:00\n",
      "-------------------------------------------\n",
      "{\"aid\": \"http://arxiv.org/abs/2503.21639v1\", \"title\": \"Locally minimax optimal and dimension-agnostic discrete argmin inference\", \"summary\": \"We revisit the discrete argmin inference problem in high-dimensional\\nsettings. Given $n$ observations from a $d$ dimensional vector, the goal is to\\ntest whether the $r$th component of the mean vector is the smallest among all\\ncomponents. We propose dimension-agnostic tests that maintain validity\\nregardless of how $d$ scales with $n$, and regardless of arbitrary ties in the\\nmean vector. Notably, our validity holds under mild moment conditions,\\nrequiring little more than finiteness of a second moment, and permitting\\npossibly strong dependence between coordinates. In addition, we establish the\\nlocal minimax separation rate for this problem, which adapts to the cardinality\\nof a confusion set, and show that the proposed tests attain this rate. Our\\nmethod uses the sample splitting and self-normalization approach of Kim and\\nRamdas (2024). Our tests can be easily inverted to yield confidence sets for\\nthe argmin index. Empirical results illustrate the strong performance of our\\napproach in terms of type I error control and power compared to existing\\nmethods.\", \"main_category\": \"math.ST\", \"categories\": \"math.ST,stat.ME,stat.ML,stat.TH\", \"published\": \"2025-03-27T16:06:07Z\"}\n",
      "\n",
      "-------------------------------------------\n",
      "Time: 2025-03-31 23:04:10\n",
      "-------------------------------------------\n",
      "{\"aid\": \"http://arxiv.org/abs/2503.21640v1\", \"title\": \"Towards Fully Automated Decision-Making Systems for Greenhouse Control:\\n  Challenges and Opportunities\", \"summary\": \"Machine learning has been successful in building control policies to drive a\\ncomplex system to desired states in various applications (e.g. games, robotics,\\netc.). To be specific, a number of parameters of policy can be automatically\\noptimized from the observations of environment to be able to generate a\\nsequence of decisions leading to the best performance. In this survey paper, we\\nparticularly explore such policy-learning techniques for another unique,\\npractical use-case scenario--farming, in which critical decisions (e.g., water\\nsupply, heating, etc.) must be made in a timely manner to minimize risks (e.g.,\\ndamage to plants) while maximizing the revenue (e.g., healthy crops) in the\\nend. We first provide a broad overview of latest studies on it to identify not\\nonly domain-specific challenges but opportunities with potential solutions,\\nsome of which are suggested as promising directions for future research. Also,\\nwe then introduce our successful approach to being ranked second among 46 teams\\nat the ''3rd Autonomous Greenhouse Challenge'' to use this specific example to\\ndiscuss the lessons learned about important considerations for design to create\\nautonomous farm-management systems.\", \"main_category\": \"cs.AI\", \"categories\": \"cs.AI,cs.LG\", \"published\": \"2025-03-27T16:06:59Z\"}\n",
      "{\"aid\": \"http://arxiv.org/abs/2503.21641v1\", \"title\": \"A possible GeV-TeV connection in the direction of the Globular Cluster\\n  UKS 1\", \"summary\": \"Using public data collected by the Fermi Large Area Telescope (LAT) over 16\\nyears, and the 1523 days of survey data (3HWC) from the High Altitude Water\\nCherenkov (HAWC) observatory, we searched for possible GeV-TeV connections in\\nglobular clusters (GCs). In addition to the confirmed $\\\\gamma-$ray GCs in the\\n4FGL catalog, we report a GeV detection at the position of UKS 1 with a\\npost-trial probability of $\\\\sim8\\\\times10^{-5}$ of it being a fluctuation. Its\\nspectrum within this energy range is well described by a power-law model with\\n$\\\\Gamma\\\\simeq2.3\\\\pm0.5$. Furthermore, this GeV feature appears to extend\\nsoutheast in a direction towards the Galactic plane. From the 3HWC survey data,\\nwe have also identified a TeV feature in the direction of UKS 1. It is\\nwell-resolved from any known Very High Energy (VHE) source. The post-trial\\nprobability that this feature is a fluctuation is $\\\\sim3\\\\times10^{-4}$. If\\nconfirmed, this would be the second detection of a TeV feature in the proximity\\nof a GC. While the GeV emission mostly coincides with the center of UKS 1, the\\nTeV peak is displaced from the cluster center by several tidal radii in the\\ntrailing direction of the GC's proper motion. Given the supersonic speed of UKS\\n1 at $\\\\sim270$ km s$^{-1}$, our findings are consistent with a scenario where\\nthe VHE $\\\\gamma-$rays are produced by inverse Compton scattering between\\nrelativistic particles and ambient soft photon fields during the course of\\ntheir propagation away from the head of the bow shock.\", \"main_category\": \"astro-ph.HE\", \"categories\": \"astro-ph.HE\", \"published\": \"2025-03-27T16:07:22Z\"}\n",
      "{\"aid\": \"http://arxiv.org/abs/2503.21642v1\", \"title\": \"On the Picard number and the extension degree of period matrices of\\n  complex tori\", \"summary\": \"The rank $\\\\rho$ of the N\\\\'eron-Severi group of a complex torus $X$ of\\ndimension $g$ satisfies $0\\\\leq\\\\rho\\\\leq g^2=h^{1,1}.$ The degree $\\\\mathfrak{d}$\\nof the extension field generated over $\\\\mathbb{Q}$ by the entries of a period\\nmatrix of $X$ imposes constraints on its Picard number $\\\\rho$ and,\\nconsequently, on the structure of $X$. In this paper, we show that when\\n$\\\\mathfrak{d}$ is $2$, $3$ or $4$, the Picard number $\\\\rho$ is necessarily\\nlarge. Moreover, for an abelian variety $X$ of dimension $g$ with\\n$\\\\mathfrak{d}=3,$ we establish a structure-type result: $X$ must be isogenous\\nto either $A^{\\\\frac{g}{2}},$ where $A$ is a simple abelian surface with\\n$\\\\mathrm{End}_\\\\mathbb{Q}(A)$ an indefinite quaternion algebra over\\n$\\\\mathbb{Q},$ or $E^g$, where $E$ is an elliptic curve without complex\\nmultiplication. In both cases, the Picard number satisfies\\n$\\\\rho(X)=\\\\frac{g(g+1)}{2}.$ As a byproduct, we obtain that if $\\\\mathfrak{d}$ is\\nodd, then $\\\\rho(X)\\\\leq\\\\frac{g(g+1)}{2}.$\", \"main_category\": \"math.AG\", \"categories\": \"math.AG,math.CV\", \"published\": \"2025-03-27T16:07:47Z\"}\n",
      "{\"aid\": \"http://arxiv.org/abs/2503.21643v1\", \"title\": \"Wasserstein bounds for non-linear Gaussian filters\", \"summary\": \"Most Kalman filters for non-linear systems, such as the unscented Kalman\\nfilter, are based on Gaussian approximations. We use Poincar\\\\'e inequalities to\\nbound the Wasserstein distance between the true joint distribution of the\\nprediction and measurement and its Gaussian approximation. The bounds can be\\nused to assess the performance of non-linear Gaussian filters and determine\\nthose filtering approximations that are most likely to induce error.\", \"main_category\": \"math.ST\", \"categories\": \"math.ST,math.PR,stat.TH\", \"published\": \"2025-03-27T16:07:51Z\"}\n",
      "\n",
      "-------------------------------------------\n",
      "Time: 2025-03-31 23:04:20\n",
      "-------------------------------------------\n",
      "\n",
      "-------------------------------------------\n",
      "Time: 2025-03-31 23:04:30\n",
      "-------------------------------------------\n",
      "{\"aid\": \"http://arxiv.org/abs/2503.21644v1\", \"title\": \"Four-twist effects on excitations in symmetric orbifold CFTs\", \"summary\": \"Symmetric orbifold CFTs contain twist operators that can join and split\\ncopies of the CFT. In this paper, we study the effects of four twist-2\\noperators on two copies of a single free boson. A recent study analyzed their\\neffects on the vacuum, finding a nontrivial left-right mixing that arises from\\nthe fact that the covering surface is a torus, while the effects of one or two\\ntwist-2 operators do not produce such mixing. Here, we extend this analysis to\\nexcited states and find a similar left-right mixing. Furthermore, we explore\\nthe continuum, or high-energy, limit and show that the left-right mixing\\nbecomes negligible in this limit.\", \"main_category\": \"hep-th\", \"categories\": \"hep-th\", \"published\": \"2025-03-27T16:07:55Z\"}\n",
      "{\"aid\": \"http://arxiv.org/abs/2503.21645v1\", \"title\": \"Mapping the Digital Diplomatic Infrastructure: A Comparative Evaluation\\n  of Global Online Directories for Diplomatic Missions\", \"summary\": \"This study provides a comparative evaluation of global diplomatic mission\\ndirectories. DiplomaticMonitor.org, EmbassyPages.com, and WikiData.org are\\nstrategically selected among the top ten global services. After analyzing\\nnearly all available online global diplomatic directory services, these three\\nplatforms are selected as they represent fundamentally different approaches to\\ncreating worldwide diplomatic mission databases. Using official diplomatic\\nlists from over 150 countries as benchmarks, we assessed data coverage,\\naccuracy, and update frequency across these platforms. DiplomaticMonitor\\nconsistently outperforms its counterparts in structure, completeness, and\\ntimeliness, accurately reflecting ambassadorial appointment cycles and\\nmaintaining high precision across contact and personnel records. EmbassyPages,\\ndespite strong search engine visibility and widespread usage, exhibits\\nsignificant data currency issues, with markedly diminished ambassadorial\\naccuracy attributable to delayed refresh cycles. WikiData offers valuable\\nhistorical documentation and open-source accessibility but lacks the\\nconsistency and verification protocols necessary for reliable real-time\\ndiplomatic information. Our findings highlight the critical challenge posed by\\nthe absence of a standardized global diplomatic mission registry. In this\\nfragmented landscape, methodologically rigorous third-party platforms can\\noccasionally surpass government-published records in quality and utility. The\\nresearch demonstrates that in contemporary digital diplomacy, data reliability\\ncorrelates less with institutional provenance than with disciplined,\\ntransparent, and consistent data stewardship practices.\", \"main_category\": \"cs.DL\", \"categories\": \"cs.DL\", \"published\": \"2025-03-27T16:08:15Z\"}\n",
      "{\"aid\": \"http://arxiv.org/abs/2503.21646v1\", \"title\": \"Unlocking the Potential of Past Research: Using Generative AI to\\n  Reconstruct Healthcare Simulation Models\", \"summary\": \"Discrete-event simulation (DES) is widely used in healthcare Operations\\nResearch, but the models themselves are rarely shared. This limits their\\npotential for reuse and long-term impact in the modelling and healthcare\\ncommunities. This study explores the feasibility of using generative artificial\\nintelligence (AI) to recreate published models using Free and Open Source\\nSoftware (FOSS), based on the descriptions provided in an academic journal.\\nUsing a structured methodology, we successfully generated, tested and\\ninternally reproduced two DES models, including user interfaces. The reported\\nresults were replicated for one model, but not the other, likely due to missing\\ninformation on distributions. These models are substantially more complex than\\nAI-generated DES models published to date. Given the challenges we faced in\\nprompt engineering, code generation, and model testing, we conclude that our\\niterative approach to model development, systematic comparison and testing, and\\nthe expertise of our team were necessary to the success of our recreated\\nsimulation models.\", \"main_category\": \"cs.AI\", \"categories\": \"cs.AI,stat.AP\", \"published\": \"2025-03-27T16:10:02Z\"}\n",
      "\n",
      "-------------------------------------------\n",
      "Time: 2025-03-31 23:04:40\n",
      "-------------------------------------------\n",
      "{\"aid\": \"http://arxiv.org/abs/2503.21647v1\", \"title\": \"Effects of non-equilibrium in ultrafast irradiation of matter\", \"summary\": \"This proceeding discusses nonequilibrium effects in matter exposed to\\nXUV/X-ray irradiation. When ultrashort, intense XUV/X-ray pulses interact with\\nmaterials, they trigger a complex sequence of processes, including electronic\\nexcitation, nonequilibrium electron kinetics, energy exchange with the atomic\\nsystem, electronic thermalization, and subsequent atomic dynamics. These\\neffects were investigated using XTANT-3, a hybrid simulation tool that\\nsimultaneously models all relevant dynamics. XTANT-3 integrates (a) a Monte\\nCarlo transport method for photon absorption and fast electron kinetics, (b)\\nthe Boltzmann equation for nonequilibrium slow electron dynamics, (c) a\\ntransferable tight-binding approach for electronic structure evolution and\\ninteratomic potential modeling, and (d) molecular dynamics for atomic system\\nresponse. This approach enables a detailed study of nonequilibrium effects in\\neach subsystem and their interplay with nonthermal damage, where electronic\\nexcitation alters the interatomic potential. Methods of quantifying the\\nnonequilibrium in the electronic and atomic subsystems are discussed.\", \"main_category\": \"cond-mat.mtrl-sci\", \"categories\": \"cond-mat.mtrl-sci,cond-mat.other\", \"published\": \"2025-03-27T16:12:12Z\"}\n",
      "{\"aid\": \"http://arxiv.org/abs/2503.21648v1\", \"title\": \"On triple product $L$-functions and the fiber bundle method\", \"summary\": \"We introduce multi-variable zeta integrals which unfold to Euler products\\nrepresenting the triple product $L$-function times a product of $L$-functions\\nwith known analytic properties. We then formulate a generalization of the\\nPoisson summation conjecture and show how it implies the analytic properties of\\ntriple product $L$-functions. Finally, we propose a strategy, the fiber bundle\\nmethod, to reduce this generalized conjecture to a simpler case of the Poisson\\nsummation conjecture along with certain local compatibility statements.\", \"main_category\": \"math.NT\", \"categories\": \"math.NT,math.RT\", \"published\": \"2025-03-27T16:12:53Z\"}\n",
      "\n",
      "-------------------------------------------\n",
      "Time: 2025-03-31 23:04:50\n",
      "-------------------------------------------\n",
      "{\"aid\": \"http://arxiv.org/abs/2503.21649v1\", \"title\": \"Odd Droplets: Fluids with Odd Viscosity and Highly Deformable Interfaces\", \"summary\": \"Flows with deformable interfaces are commonly controlled by applying an\\nexternal field or modifying the boundaries that interact with the fluid, but\\nrealizing such solutions can be demanding or impractical in various scenarios.\\nHere, we demonstrate that fluids with broken symmetries can self-control their\\nmechanics. We present a continuum model of a viscous fluid with highly\\ndeformable interfaces subject to capillary stresses. Our model features odd\\nviscosity, a parity-violating property that emerges in chiral fluids. Using\\ndirect numerical simulations, we focus on the impact of an odd droplet on a\\nsuperhydrophobic surface. We demonstrate that odd viscosity dramatically\\ndisrupts conventional symmetric spreading by inducing asymmetric deformations\\nand chiral flow patterns. Our analysis reveals a variety of dynamic regimes,\\nincluding leftward and rightward bouncing, as well as rolling, depending on the\\nrelative strength of the odd viscosity. Our work illustrates that regulating\\nodd viscosity provides a promising framework for controlling multiphase flows\\nand designing functional metamaterials with tailored fluidic properties.\", \"main_category\": \"cond-mat.soft\", \"categories\": \"cond-mat.soft,physics.flu-dyn\", \"published\": \"2025-03-27T16:13:02Z\"}\n",
      "{\"aid\": \"http://arxiv.org/abs/2503.21650v1\", \"title\": \"Hacking quantum computers with row hammer attack\", \"summary\": \"We demonstrate a hardware vulnerability in quantum computing systems by\\nexploiting cross-talk effects on an available commercial quantum computer\\n(IBM). Specifically, based on the cross-talk produced by certain quantum gates,\\nwe implement a row hammer attack that ultimately allows us to flip a qubit.\\nBoth single-qubit and two-qubit operations are performed and analyzed. Our\\nfindings reveal that two-qubit operations applied near the target qubit\\nsignificantly influence it through cross-talk, effectively compromising its\\nstate.\", \"main_category\": \"quant-ph\", \"categories\": \"quant-ph\", \"published\": \"2025-03-27T16:14:08Z\"}\n",
      "{\"aid\": \"http://arxiv.org/abs/2503.21651v1\", \"title\": \"Evaluation of Deployable Solar Panels on GRACE-like Satellites by\\n  Closed-Loop Simulations\", \"summary\": \"Future satellite gravimetry missions seek to surpass the performance of\\nCHAMP, GOCE, GRACE, and GRACE-FO to meet increasing scientific and operational\\ndemands. These missions will integrate advanced technologies, including optical\\nand quantum accelerometers, high-precision inter-satellite laser ranging, and\\nmicro-Newton electric thrusters. However, increased power demands for sensors\\nand propulsion systems require larger solar panels, constrained by payload mass\\nand launcher limitations. This study assesses the impact of modified satellite\\nshapes on gravity field recovery (GFR) using closed-loop simulation. Five\\nsatellite configurations were analyzed: a standard shape and variations with\\nsingle and double solar panels mounted on the top and bottom of the satellite\\nbody, each modeled with distinct finite element models and moments of inertia.\\nOrbit simulations accounted for non-spherical static gravity and time-variable\\nnon-gravitational forces. Performance of a simplified gravitational reference\\nsensor (SGRS) with optical interferometer test mass displacement readout was\\nevaluated. The air drag coefficient, a complex parameter influenced by multiple\\nfactors, was varied from 2.25 (standard) to 4.5 (double-panel). Time-variable\\ngravity background models were excluded to isolate instrument performance\\neffects. Gravity models were evaluated in the spectral domain using Degree RMS\\nof spherical harmonic coefficient differences. Discrepancies between\\nconfigurations stemmed primarily from variations in SGRS actuation noise due to\\nsatellite cross-sectional area. Convergence of residuals in the spectral domain\\nfor the double-panel configuration under different drag coefficients confirmed\\nthe dominant role of SGRS performance in GFR accuracy.\", \"main_category\": \"physics.geo-ph\", \"categories\": \"physics.geo-ph\", \"published\": \"2025-03-27T16:16:32Z\"}\n",
      "\n",
      "-------------------------------------------\n",
      "Time: 2025-03-31 23:05:00\n",
      "-------------------------------------------\n",
      "{\"aid\": \"http://arxiv.org/abs/2503.21652v1\", \"title\": \"Interacting dark sectors in light of DESI DR2\", \"summary\": \"Possible interaction between dark energy and dark matter has previously shown\\npromise in alleviating the clustering tension, without exacerbating the Hubble\\ntension, when BAO data from SDSS DR16 is combined with CMB and SNIa datasets.\\nWith the recent DESI BAO DR2, there is now a compelling need to re-evaluate\\nthis scenario. We combine DESI DR2 with Planck 2018 and Pantheon+ SNIa datasets\\nto constrain interacting dark matter dark energy models, accounting for\\ninteraction effects in both the background and perturbation sectors. Our\\nresults exhibit similar trends to those observed with SDSS, albeit with\\nimproved precision, reinforcing the consistency between the two BAO datasets.\\nIn addition to offering a resolution to the $S_8$ tension, in the\\nphantom-limit, the dark energy equation of state exhibits an early-phantom\\nbehaviour, aligning with DESI DR2 findings, before transitioning to $w\\\\sim-1$\\nat lower redshifts, regardless of the DE parametrization. However, the\\nstatistical significance of excluding $w=-1$ is reduced compared to their\\nnon-interacting counterparts.\", \"main_category\": \"astro-ph.CO\", \"categories\": \"astro-ph.CO,gr-qc\", \"published\": \"2025-03-27T16:16:43Z\"}\n",
      "{\"aid\": \"http://arxiv.org/abs/2503.21653v1\", \"title\": \"Strong convergence and stability of stochastic theta method for\\n  time-changed stochastic differential equations with local Lipschitz\\n  coefficients\", \"summary\": \"In this paper, the stochastic theta (ST) method is investigated for a class\\nof stochastic differential equations driven by a time-changed Brownian motion,\\nwhose coefficients are time-space-dependent and satisfy the local Lipschitz\\ncondition. It is proved that under the local Lipschitz and some additional\\nassumptions, the ST method with $\\\\theta\\\\in[1/2,1]$ is strongly convergent. It\\nis also obtained that, for all positive stepsizes, the ST method with\\n$\\\\theta\\\\in[1/2,1]$ is asymptotically mean square stable under a coercivity\\ncondition. With some restrictions on the stepsize, the ST method with\\n$\\\\theta\\\\in[0,1/2)$ is asymptotically mean square stable under a stronger\\nassumption. Some numerical simulations are presented to illustrate the\\ntheoretical results.\", \"main_category\": \"math.PR\", \"categories\": \"math.PR,cs.NA,math.NA\", \"published\": \"2025-03-27T16:17:14Z\"}\n",
      "\n",
      "-------------------------------------------\n",
      "Time: 2025-03-31 23:05:10\n",
      "-------------------------------------------\n",
      "\n",
      "-------------------------------------------\n",
      "Time: 2025-03-31 23:05:20\n",
      "-------------------------------------------\n",
      "\n"
     ]
    }
   ],
   "source": [
    "ssc = StreamingContext(sc, 10)"
   ]
  },
  {
   "cell_type": "code",
   "execution_count": 4,
   "metadata": {
    "scrolled": true
   },
   "outputs": [],
   "source": [
    "lines = ssc.socketTextStream(\"seppe.net\", 7778)\n",
    "lines.pprint()"
   ]
  },
  {
   "cell_type": "code",
   "execution_count": 5,
   "metadata": {},
   "outputs": [],
   "source": [
    "ssc_t = StreamingThread(ssc)\n",
    "ssc_t.start()"
   ]
  },
  {
   "cell_type": "code",
   "execution_count": 6,
   "metadata": {},
   "outputs": [
    {
     "name": "stdout",
     "output_type": "stream",
     "text": [
      "----- Stopping... this may take a few seconds -----\n"
     ]
    }
   ],
   "source": [
    "# Wait a bit before running this cell until you see output appear in the previous cell\n",
    "ssc_t.stop()"
   ]
  },
  {
   "cell_type": "code",
   "execution_count": null,
   "metadata": {},
   "outputs": [],
   "source": []
  }
 ],
 "metadata": {
  "kernelspec": {
   "display_name": "Python 3 (ipykernel)",
   "language": "python",
   "name": "python3"
  },
  "language_info": {
   "codemirror_mode": {
    "name": "ipython",
    "version": 3
   },
   "file_extension": ".py",
   "mimetype": "text/x-python",
   "name": "python",
   "nbconvert_exporter": "python",
   "pygments_lexer": "ipython3",
   "version": "3.11.11"
  },
  "toc": {
   "base_numbering": 1,
   "nav_menu": {},
   "number_sections": true,
   "sideBar": true,
   "skip_h1_title": false,
   "title_cell": "Table of Contents",
   "title_sidebar": "Contents",
   "toc_cell": false,
   "toc_position": {},
   "toc_section_display": true,
   "toc_window_display": false
  }
 },
 "nbformat": 4,
 "nbformat_minor": 4
}
