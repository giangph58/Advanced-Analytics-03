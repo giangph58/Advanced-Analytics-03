{
 "cells": [
  {
   "cell_type": "code",
   "execution_count": 1,
   "id": "c71bf5fa",
   "metadata": {},
   "outputs": [],
   "source": [
    "from datasets import DatasetDict, Dataset, ClassLabel, load_dataset\n",
    "import pandas as pd\n",
    "import numpy as np\n",
    "import glob\n",
    "from sklearn.model_selection import train_test_split\n",
    "from src.utils import map_category\n"
   ]
  },
  {
   "cell_type": "code",
   "execution_count": 2,
   "id": "49114f69",
   "metadata": {},
   "outputs": [
    {
     "data": {
      "application/vnd.jupyter.widget-view+json": {
       "model_id": "a760dd8d77b444e5915f33a901f61e90",
       "version_major": 2,
       "version_minor": 0
      },
      "text/plain": [
       "Casting the dataset:   0%|          | 0/8985 [00:00<?, ? examples/s]"
      ]
     },
     "metadata": {},
     "output_type": "display_data"
    },
    {
     "data": {
      "application/vnd.jupyter.widget-view+json": {
       "model_id": "ba363435580d46bcbed56dcf15b39672",
       "version_major": 2,
       "version_minor": 0
      },
      "text/plain": [
       "Casting the dataset:   0%|          | 0/1925 [00:00<?, ? examples/s]"
      ]
     },
     "metadata": {},
     "output_type": "display_data"
    },
    {
     "data": {
      "application/vnd.jupyter.widget-view+json": {
       "model_id": "ee33c90cddc2486788958fc899ce6638",
       "version_major": 2,
       "version_minor": 0
      },
      "text/plain": [
       "Casting the dataset:   0%|          | 0/1926 [00:00<?, ? examples/s]"
      ]
     },
     "metadata": {},
     "output_type": "display_data"
    },
    {
     "data": {
      "application/vnd.jupyter.widget-view+json": {
       "model_id": "2c0873c777eb4a8697445fd1369fda43",
       "version_major": 2,
       "version_minor": 0
      },
      "text/plain": [
       "Saving the dataset (0/1 shards):   0%|          | 0/8985 [00:00<?, ? examples/s]"
      ]
     },
     "metadata": {},
     "output_type": "display_data"
    },
    {
     "data": {
      "application/vnd.jupyter.widget-view+json": {
       "model_id": "4fb30b6cba3f42378545bcdf564fed6f",
       "version_major": 2,
       "version_minor": 0
      },
      "text/plain": [
       "Saving the dataset (0/1 shards):   0%|          | 0/1925 [00:00<?, ? examples/s]"
      ]
     },
     "metadata": {},
     "output_type": "display_data"
    },
    {
     "data": {
      "application/vnd.jupyter.widget-view+json": {
       "model_id": "365fea7060434a879d789f44fbd4e065",
       "version_major": 2,
       "version_minor": 0
      },
      "text/plain": [
       "Saving the dataset (0/1 shards):   0%|          | 0/1926 [00:00<?, ? examples/s]"
      ]
     },
     "metadata": {},
     "output_type": "display_data"
    }
   ],
   "source": [
    "data_path = \"data/interim/part-*.json\"\n",
    "json_files = glob.glob(data_path)\n",
    "stream_df = pd.concat([pd.read_json(file, lines=True) for file in json_files], ignore_index=True)\n",
    "\n",
    "stream_df[\"label\"] = stream_df[\"main_category\"].apply(map_category)\n",
    "stream_df[\"text\"] = stream_df[\"title\"] + \"\\n\" + stream_df[\"summary\"]\n",
    "stream_df = stream_df[[\"text\", \"label\"]]\n",
    "\n",
    "train_df, temp_df = train_test_split(\n",
    "    stream_df, \n",
    "    test_size=0.3,\n",
    "    stratify=stream_df[\"label\"],\n",
    "    random_state=42\n",
    ")\n",
    "val_df, test_df = train_test_split(\n",
    "    temp_df,\n",
    "    test_size=0.5,\n",
    "    stratify=temp_df[\"label\"],\n",
    "    random_state=42\n",
    ")\n",
    "\n",
    "stream_data = DatasetDict({\n",
    "    \"train\": Dataset.from_pandas(train_df, preserve_index=False),\n",
    "    \"validation\": Dataset.from_pandas(val_df, preserve_index=False),\n",
    "    \"test\": Dataset.from_pandas(test_df, preserve_index=False)\n",
    "})\n",
    "\n",
    "labels = sorted(stream_df[\"label\"].unique())\n",
    "class_label = ClassLabel(names=labels)\n",
    "\n",
    "stream_data = stream_data.cast_column(\"label\", class_label)\n",
    "\n",
    "stream_data.save_to_disk(\"data/processed/stream_data\")\n"
   ]
  },
  {
   "cell_type": "code",
   "execution_count": 3,
   "id": "b3ca523a",
   "metadata": {},
   "outputs": [
    {
     "data": {
      "text/plain": [
       "label\n",
       "cs          818\n",
       "math        331\n",
       "cond-mat    137\n",
       "physics     123\n",
       "astro-ph    120\n",
       "quant-ph     90\n",
       "eess         84\n",
       "hep          79\n",
       "stat         41\n",
       "gr-qc        32\n",
       "nucl         18\n",
       "q-bio        15\n",
       "econ         14\n",
       "math-ph       8\n",
       "nlin          8\n",
       "q-fin         7\n",
       "Name: count, dtype: int64"
      ]
     },
     "execution_count": 3,
     "metadata": {},
     "output_type": "execute_result"
    }
   ],
   "source": [
    "val_df[\"label\"].value_counts()\n"
   ]
  }
 ],
 "metadata": {
  "kernelspec": {
   "display_name": "assignment-03",
   "language": "python",
   "name": "python3"
  },
  "language_info": {
   "codemirror_mode": {
    "name": "ipython",
    "version": 3
   },
   "file_extension": ".py",
   "mimetype": "text/x-python",
   "name": "python",
   "nbconvert_exporter": "python",
   "pygments_lexer": "ipython3",
   "version": "3.11.11"
  }
 },
 "nbformat": 4,
 "nbformat_minor": 5
}
