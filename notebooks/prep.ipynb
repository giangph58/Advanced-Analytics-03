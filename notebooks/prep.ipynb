{
 "cells": [
  {
   "cell_type": "code",
   "execution_count": 6,
   "id": "c71bf5fa",
   "metadata": {},
   "outputs": [],
   "source": [
    "from datasets import DatasetDict, Dataset, ClassLabel, load_dataset\n",
    "import pandas as pd\n",
    "import numpy as np\n",
    "import glob\n",
    "from sklearn.model_selection import train_test_split\n",
    "from src.utils import map_category\n"
   ]
  },
  {
   "cell_type": "code",
   "execution_count": 7,
   "id": "49114f69",
   "metadata": {},
   "outputs": [],
   "source": [
    "data_path = \"data/interim/part-*.json\"\n",
    "json_files = glob.glob(data_path)\n",
    "stream_df = pd.concat([pd.read_json(file, lines=True) for file in json_files], ignore_index=True)\n",
    "\n",
    "stream_df[\"label\"] = stream_df[\"main_category\"].apply(map_category)\n",
    "stream_df[\"text\"] = stream_df[\"title\"] + \"\\n\" + stream_df[\"summary\"]\n",
    "stream_df = stream_df[[\"text\", \"label\"]]\n"
   ]
  },
  {
   "cell_type": "code",
   "execution_count": null,
   "id": "3c77ce18",
   "metadata": {},
   "outputs": [],
   "source": [
    "train_df, temp_df = train_test_split(\n",
    "    stream_df, \n",
    "    test_size=0.3,\n",
    "    stratify=stream_df[\"label\"],\n",
    "    random_state=42\n",
    ")\n",
    "val_df, test_df = train_test_split(\n",
    "    temp_df,\n",
    "    test_size=0.5,\n",
    "    stratify=temp_df[\"label\"],\n",
    "    random_state=42\n",
    ")\n",
    "\n",
    "stream_data = DatasetDict({\n",
    "    \"train\": Dataset.from_pandas(train_df, preserve_index=False),\n",
    "    \"validation\": Dataset.from_pandas(val_df, preserve_index=False),\n",
    "    \"test\": Dataset.from_pandas(test_df, preserve_index=False)\n",
    "})\n",
    "\n",
    "labels = sorted(stream_df[\"label\"].unique())\n",
    "class_label = ClassLabel(names=labels)\n",
    "\n",
    "stream_data = stream_data.cast_column(\"label\", class_label)\n"
   ]
  },
  {
   "cell_type": "code",
   "execution_count": 5,
   "id": "18df0e54",
   "metadata": {},
   "outputs": [
    {
     "name": "stdout",
     "output_type": "stream",
     "text": [
      "('VLM-R1: A Stable and Generalizable R1-style Large Vision-Language Model\\n'\n",
      " 'Recently DeepSeek R1 has shown that reinforcement learning (RL) can\\n'\n",
      " 'substantially improve the reasoning capabilities of Large Language Models\\n'\n",
      " '(LLMs) through a simple yet effective design. The core of R1 lies in its\\n'\n",
      " 'rule-based reward formulation, which leverages tasks with deterministic\\n'\n",
      " 'ground-truth answers to enable precise and stable reward computation. In '\n",
      " 'the\\n'\n",
      " 'visual domain, we similarly observe that a wide range of visual '\n",
      " 'understanding\\n'\n",
      " 'tasks are inherently equipped with well-defined ground-truth annotations. '\n",
      " 'This\\n'\n",
      " 'property makes them naturally compatible with rule-based reward mechanisms.\\n'\n",
      " 'Motivated by this observation, we investigate the extension of R1-style\\n'\n",
      " 'reinforcement learning to Vision-Language Models (VLMs), aiming to enhance\\n'\n",
      " 'their visual reasoning capabilities. To this end, we develop VLM-R1, a\\n'\n",
      " \"dedicated framework designed to harness RL for improving VLMs' performance \"\n",
      " 'on\\n'\n",
      " 'general vision-language tasks. Using this framework, we further explore the\\n'\n",
      " 'feasibility of applying RL to visual domain. Experimental results indicate '\n",
      " 'that\\n'\n",
      " 'the RL-based model not only delivers competitive performance on visual\\n'\n",
      " 'understanding tasks but also surpasses Supervised Fine-Tuning (SFT) in\\n'\n",
      " 'generalization ability. Furthermore, we conduct comprehensive ablation '\n",
      " 'studies\\n'\n",
      " 'that uncover a series of noteworthy insights, including the presence of '\n",
      " 'reward\\n'\n",
      " 'hacking in object detection, the emergence of the \"OD aha moment\", the '\n",
      " 'impact\\n'\n",
      " 'of training data quality, and the scaling behavior of RL across different '\n",
      " 'model\\n'\n",
      " 'sizes. Through these analyses, we aim to deepen the understanding of how\\n'\n",
      " 'reinforcement learning enhances the capabilities of vision-language models, '\n",
      " 'and\\n'\n",
      " 'we hope our findings and open-source contributions will support continued\\n'\n",
      " 'progress in the vision-language RL community. Our code and model are '\n",
      " 'available\\n'\n",
      " 'at https://github.com/om-ai-lab/VLM-R1')\n"
     ]
    }
   ],
   "source": [
    "from pprint import pprint\n",
    "\n",
    "pprint(stream_data[\"train\"][\"text\"][0])\n"
   ]
  },
  {
   "cell_type": "code",
   "execution_count": null,
   "id": "2ad98df8",
   "metadata": {},
   "outputs": [],
   "source": [
    "stream_data.save_to_disk(\"data/processed/stream_data\")\n"
   ]
  },
  {
   "cell_type": "code",
   "execution_count": 3,
   "id": "b3ca523a",
   "metadata": {},
   "outputs": [
    {
     "data": {
      "text/plain": [
       "label\n",
       "cs          818\n",
       "math        331\n",
       "cond-mat    137\n",
       "physics     123\n",
       "astro-ph    120\n",
       "quant-ph     90\n",
       "eess         84\n",
       "hep          79\n",
       "stat         41\n",
       "gr-qc        32\n",
       "nucl         18\n",
       "q-bio        15\n",
       "econ         14\n",
       "math-ph       8\n",
       "nlin          8\n",
       "q-fin         7\n",
       "Name: count, dtype: int64"
      ]
     },
     "execution_count": 3,
     "metadata": {},
     "output_type": "execute_result"
    }
   ],
   "source": [
    "val_df[\"label\"].value_counts()\n"
   ]
  }
 ],
 "metadata": {
  "kernelspec": {
   "display_name": "assignment-03",
   "language": "python",
   "name": "python3"
  },
  "language_info": {
   "codemirror_mode": {
    "name": "ipython",
    "version": 3
   },
   "file_extension": ".py",
   "mimetype": "text/x-python",
   "name": "python",
   "nbconvert_exporter": "python",
   "pygments_lexer": "ipython3",
   "version": "3.11.11"
  }
 },
 "nbformat": 4,
 "nbformat_minor": 5
}
