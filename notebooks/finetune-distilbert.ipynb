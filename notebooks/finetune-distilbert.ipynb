{
 "cells": [
  {
   "cell_type": "markdown",
   "id": "9b15ed7a",
   "metadata": {},
   "source": [
    "Attempt to finetune DistilBERT-base-uncased for Arxiv papers multiclassification:\n",
    "- Prepare dataset\n",
    "- Tokenize\n",
    "- Load model\n",
    "- Define metrics\n",
    "- Define Trainer object and TrainingArguments\n",
    "- Evaluate predictions\n",
    "- Error analysis\n",
    "- \n"
   ]
  },
  {
   "cell_type": "code",
   "execution_count": 20,
   "id": "b7e6a904",
   "metadata": {},
   "outputs": [],
   "source": [
    "from datasets import DatasetDict, Dataset, ClassLabel\n",
    "import pandas as pd\n",
    "import glob\n",
    "from src.utils import map_category\n",
    "from sklearn.model_selection import train_test_split\n",
    "import torch\n",
    "import numpy as np\n",
    "import matplotlib.pyplot as plt\n",
    "from sklearn.metrics import ConfusionMatrixDisplay, confusion_matrix\n"
   ]
  },
  {
   "cell_type": "code",
   "execution_count": 3,
   "id": "9a2be5bd",
   "metadata": {},
   "outputs": [],
   "source": [
    "# Define the path to the interim data directory\n",
    "data_path = \"data/interim/part-*.json\"\n",
    "json_files = glob.glob(data_path)\n",
    "papers_df = pd.concat([pd.read_json(file, lines=True) for file in json_files], ignore_index=True)\n",
    "\n",
    "papers_df[\"label\"] = papers_df[\"main_category\"].apply(map_category)\n",
    "papers_df[\"text\"] = papers_df[\"title\"] + \"\\n\" + papers_df[\"summary\"]\n",
    "papers_df = papers_df[[\"text\", \"label\"]]\n"
   ]
  },
  {
   "cell_type": "code",
   "execution_count": 4,
   "id": "d152b2cc",
   "metadata": {},
   "outputs": [],
   "source": [
    "train_df, temp_df = train_test_split(\n",
    "    papers_df, \n",
    "    test_size=0.2,\n",
    "    stratify=papers_df[\"label\"],\n",
    "    random_state=42\n",
    ")\n",
    "val_df, test_df = train_test_split(\n",
    "    temp_df,\n",
    "    test_size=0.5,\n",
    "    stratify=temp_df[\"label\"],\n",
    "    random_state=42\n",
    ")\n"
   ]
  },
  {
   "cell_type": "code",
   "execution_count": 53,
   "id": "99d971e4",
   "metadata": {},
   "outputs": [
    {
     "name": "stdout",
     "output_type": "stream",
     "text": [
      "Training set: 7121 examples (80.0%)\n",
      "Validation set: 890 examples (10.0%)\n",
      "Test set: 891 examples (10.0%)\n",
      "Total categories to classify: 20\n",
      "\n",
      "Split: train\n",
      "Number of unique categories: 20\n",
      "Categories present: 20/20\n",
      "\n",
      "Label Distribution:\n",
      "          Count  Percentage\n",
      "label                      \n",
      "cs         3052       42.86\n",
      "math       1201       16.87\n",
      "cond-mat    510        7.16\n",
      "astro-ph    453        6.36\n",
      "physics     451        6.33\n",
      "quant-ph    326        4.58\n",
      "eess        309        4.34\n",
      "hep-ph      146        2.05\n",
      "stat        138        1.94\n",
      "gr-qc       121        1.70\n",
      "hep-th      102        1.43\n",
      "q-bio        54        0.76\n",
      "econ         50        0.70\n",
      "nucl-th      46        0.65\n",
      "hep-ex       36        0.51\n",
      "nlin         30        0.42\n",
      "q-fin        28        0.39\n",
      "math-ph      27        0.38\n",
      "nucl-ex      22        0.31\n",
      "hep-lat      19        0.27\n",
      "------------------------------\n",
      "\n",
      "Split: validation\n",
      "Number of unique categories: 20\n",
      "Categories present: 20/20\n",
      "\n",
      "Label Distribution:\n",
      "          Count  Percentage\n",
      "label                      \n",
      "cs          381       42.81\n",
      "math        150       16.85\n",
      "cond-mat     64        7.19\n",
      "physics      56        6.29\n",
      "astro-ph     56        6.29\n",
      "quant-ph     40        4.49\n",
      "eess         38        4.27\n",
      "hep-ph       18        2.02\n",
      "stat         17        1.91\n",
      "gr-qc        15        1.69\n",
      "hep-th       13        1.46\n",
      "q-bio         7        0.79\n",
      "econ          6        0.67\n",
      "nucl-th       6        0.67\n",
      "hep-ex        5        0.56\n",
      "nlin          4        0.45\n",
      "math-ph       4        0.45\n",
      "q-fin         4        0.45\n",
      "nucl-ex       3        0.34\n",
      "hep-lat       3        0.34\n",
      "------------------------------\n",
      "\n",
      "Split: test\n",
      "Number of unique categories: 20\n",
      "Categories present: 20/20\n",
      "\n",
      "Label Distribution:\n",
      "          Count  Percentage\n",
      "label                      \n",
      "cs          382       42.87\n",
      "math        151       16.95\n",
      "cond-mat     64        7.18\n",
      "physics      57        6.40\n",
      "astro-ph     57        6.40\n",
      "quant-ph     41        4.60\n",
      "eess         39        4.38\n",
      "hep-ph       18        2.02\n",
      "stat         17        1.91\n",
      "gr-qc        15        1.68\n",
      "hep-th       13        1.46\n",
      "econ          6        0.67\n",
      "q-bio         6        0.67\n",
      "nucl-th       6        0.67\n",
      "nlin          4        0.45\n",
      "hep-ex        4        0.45\n",
      "nucl-ex       3        0.34\n",
      "math-ph       3        0.34\n",
      "q-fin         3        0.34\n",
      "hep-lat       2        0.22\n",
      "------------------------------\n"
     ]
    }
   ],
   "source": [
    "# Print split sizes to verify\n",
    "print(f\"Training set: {len(train_df)} examples ({len(train_df)/len(papers_df)*100:.1f}%)\")\n",
    "print(f\"Validation set: {len(val_df)} examples ({len(val_df)/len(papers_df)*100:.1f}%)\")\n",
    "print(f\"Test set: {len(test_df)} examples ({len(test_df)/len(papers_df)*100:.1f}%)\")\n",
    "\n",
    "# Check category distribution across all splits using pandas\n",
    "print(f\"Total categories to classify: {len(papers_df['label'].unique())}\")\n",
    "\n",
    "# Dictionary of DataFrames for easy iteration\n",
    "split_dfs = {\n",
    "    \"train\": train_df,\n",
    "    \"validation\": val_df,\n",
    "    \"test\": test_df\n",
    "}\n",
    "\n",
    "for split_name, df in split_dfs.items():\n",
    "    # Get unique categories in this split\n",
    "    split_categories = set(df[\"label\"].unique())\n",
    "    \n",
    "    # Check if all categories are present\n",
    "    missing_categories = set(papers_df[\"label\"]) - split_categories\n",
    "    \n",
    "    print(f\"\\nSplit: {split_name}\")\n",
    "    print(f\"Number of unique categories: {len(split_categories)}\")\n",
    "    print(f\"Categories present: {len(split_categories)}/{len(papers_df['label'].unique())}\")\n",
    "\n",
    "    # Calculate and print label distribution\n",
    "    print(\"\\nLabel Distribution:\")\n",
    "    label_counts = df['label'].value_counts()\n",
    "    label_percentages = df['label'].value_counts(normalize=True) * 100\n",
    "    distribution_df = pd.DataFrame({'Count': label_counts, 'Percentage': label_percentages.round(2)})\n",
    "    print(distribution_df)\n",
    "    print(\"-\" * 30) # Separator for clarity\n"
   ]
  },
  {
   "cell_type": "code",
   "execution_count": null,
   "id": "e20e2241",
   "metadata": {},
   "outputs": [
    {
     "data": {
      "application/vnd.jupyter.widget-view+json": {
       "model_id": "6d40eb958035400ba5dad19c374857f3",
       "version_major": 2,
       "version_minor": 0
      },
      "text/plain": [
       "Casting the dataset:   0%|          | 0/7121 [00:00<?, ? examples/s]"
      ]
     },
     "metadata": {},
     "output_type": "display_data"
    },
    {
     "data": {
      "application/vnd.jupyter.widget-view+json": {
       "model_id": "71a3cb301f1f40618ea66da7d5368179",
       "version_major": 2,
       "version_minor": 0
      },
      "text/plain": [
       "Casting the dataset:   0%|          | 0/890 [00:00<?, ? examples/s]"
      ]
     },
     "metadata": {},
     "output_type": "display_data"
    },
    {
     "data": {
      "application/vnd.jupyter.widget-view+json": {
       "model_id": "9499953442ce432d8fe863da0fe2ffbf",
       "version_major": 2,
       "version_minor": 0
      },
      "text/plain": [
       "Casting the dataset:   0%|          | 0/891 [00:00<?, ? examples/s]"
      ]
     },
     "metadata": {},
     "output_type": "display_data"
    },
    {
     "name": "stdout",
     "output_type": "stream",
     "text": [
      "DatasetDict({\n",
      "    train: Dataset({\n",
      "        features: ['text', 'label'],\n",
      "        num_rows: 7121\n",
      "    })\n",
      "    validation: Dataset({\n",
      "        features: ['text', 'label'],\n",
      "        num_rows: 890\n",
      "    })\n",
      "    test: Dataset({\n",
      "        features: ['text', 'label'],\n",
      "        num_rows: 891\n",
      "    })\n",
      "})\n"
     ]
    }
   ],
   "source": [
    "# Create the final DatasetDict with train, validation, and test splits\n",
    "data = DatasetDict({\n",
    "    \"train\": Dataset.from_pandas(train_df, preserve_index=False),\n",
    "    \"validation\": Dataset.from_pandas(val_df, preserve_index=False),\n",
    "    \"test\": Dataset.from_pandas(test_df, preserve_index=False)\n",
    "})\n",
    "\n",
    "labels = sorted(papers_df[\"label\"].unique())\n",
    "class_label = ClassLabel(names=labels)\n",
    "\n",
    "data = data.cast_column(\"label\", class_label)\n",
    "print(data)\n"
   ]
  },
  {
   "cell_type": "code",
   "execution_count": 7,
   "id": "e485d78c",
   "metadata": {},
   "outputs": [],
   "source": [
    "from transformers import AutoTokenizer\n",
    "model_id = \"distilbert-base-uncased\"\n",
    "device = torch.device(\"cuda\" if torch.cuda.is_available() else \"cpu\")\n",
    "tokenizer = AutoTokenizer.from_pretrained(model_id)\n",
    "\n",
    "def tokenize(batch):\n",
    "    return tokenizer(batch[\"text\"], padding=True, truncation=True)\n"
   ]
  },
  {
   "cell_type": "code",
   "execution_count": 8,
   "id": "4ed65b94",
   "metadata": {},
   "outputs": [
    {
     "data": {
      "application/vnd.jupyter.widget-view+json": {
       "model_id": "e779dd48dc594495b87b7d5ec98b147d",
       "version_major": 2,
       "version_minor": 0
      },
      "text/plain": [
       "Map:   0%|          | 0/7121 [00:00<?, ? examples/s]"
      ]
     },
     "metadata": {},
     "output_type": "display_data"
    },
    {
     "data": {
      "application/vnd.jupyter.widget-view+json": {
       "model_id": "1312650a3f974d93a16c5adc63b62e12",
       "version_major": 2,
       "version_minor": 0
      },
      "text/plain": [
       "Map:   0%|          | 0/890 [00:00<?, ? examples/s]"
      ]
     },
     "metadata": {},
     "output_type": "display_data"
    },
    {
     "data": {
      "application/vnd.jupyter.widget-view+json": {
       "model_id": "e7f19dce5030404da98a7047090cc511",
       "version_major": 2,
       "version_minor": 0
      },
      "text/plain": [
       "Map:   0%|          | 0/891 [00:00<?, ? examples/s]"
      ]
     },
     "metadata": {},
     "output_type": "display_data"
    }
   ],
   "source": [
    "data_encoded = data.map(tokenize, batched=True, batch_size=None)\n"
   ]
  },
  {
   "cell_type": "code",
   "execution_count": 24,
   "id": "3a0135f4",
   "metadata": {},
   "outputs": [
    {
     "data": {
      "text/plain": [
       "((7121,), (890,))"
      ]
     },
     "execution_count": 24,
     "metadata": {},
     "output_type": "execute_result"
    }
   ],
   "source": [
    "X_train = np.array(data_encoded[\"train\"][\"text\"])\n",
    "X_valid = np.array(data_encoded[\"validation\"][\"text\"])\n",
    "y_train = np.array(data_encoded[\"train\"][\"label\"])\n",
    "y_valid = np.array(data_encoded[\"validation\"][\"label\"])\n",
    "X_train.shape, X_valid.shape\n"
   ]
  },
  {
   "cell_type": "code",
   "execution_count": 9,
   "id": "751e9b7e",
   "metadata": {},
   "outputs": [
    {
     "name": "stderr",
     "output_type": "stream",
     "text": [
      "Some weights of DistilBertForSequenceClassification were not initialized from the model checkpoint at distilbert-base-uncased and are newly initialized: ['classifier.bias', 'classifier.weight', 'pre_classifier.bias', 'pre_classifier.weight']\n",
      "You should probably TRAIN this model on a down-stream task to be able to use it for predictions and inference.\n"
     ]
    }
   ],
   "source": [
    "from transformers import AutoModelForSequenceClassification\n",
    "\n",
    "num_labels = len(labels)\n",
    "model = (AutoModelForSequenceClassification\n",
    "        .from_pretrained(model_id, num_labels=num_labels)\n",
    "        .to(device))\n"
   ]
  },
  {
   "cell_type": "code",
   "execution_count": 10,
   "id": "3ff50249",
   "metadata": {},
   "outputs": [],
   "source": [
    "from sklearn.metrics import accuracy_score, f1_score\n",
    "def compute_metrics(pred):\n",
    "    labels = pred.label_ids\n",
    "    preds = pred.predictions.argmax(-1)\n",
    "    f1 = f1_score(labels, preds, average=\"weighted\")\n",
    "    acc = accuracy_score(labels, preds)\n",
    "    return {\"accuracy\": acc, \"f1\": f1}\n"
   ]
  },
  {
   "cell_type": "code",
   "execution_count": 11,
   "id": "d0cb20ae",
   "metadata": {},
   "outputs": [
    {
     "data": {
      "application/vnd.jupyter.widget-view+json": {
       "model_id": "bc77fa6af8b64220afcc1bee38061d71",
       "version_major": 2,
       "version_minor": 0
      },
      "text/plain": [
       "VBox(children=(HTML(value='<center> <img\\nsrc=https://huggingface.co/front/assets/huggingface_logo-noborder.sv…"
      ]
     },
     "metadata": {},
     "output_type": "display_data"
    }
   ],
   "source": [
    "from huggingface_hub import notebook_login\n",
    "notebook_login()\n"
   ]
  },
  {
   "cell_type": "code",
   "execution_count": 37,
   "id": "83f13169",
   "metadata": {},
   "outputs": [],
   "source": [
    "from transformers import Trainer, TrainingArguments\n",
    "\n",
    "batch_size = 64\n",
    "num_train_epochs = 5\n",
    "learning_rate = 2e-5\n",
    "logging_steps = len(data_encoded[\"train\"]) // batch_size\n",
    "model_name = f\"{model_id}-finetuned-arxiv\"\n",
    "training_args = TrainingArguments(output_dir=model_name,\n",
    "                                  num_train_epochs=num_train_epochs,\n",
    "                                  learning_rate=learning_rate,per_device_train_batch_size=batch_size,per_device_eval_batch_size=batch_size,weight_decay=0.01,\n",
    "                                  eval_strategy=\"epoch\",\n",
    "                                  disable_tqdm=False,\n",
    "                                  logging_steps=logging_steps,push_to_hub=True,\n",
    "                                  log_level=\"error\")\n"
   ]
  },
  {
   "cell_type": "code",
   "execution_count": 38,
   "id": "9b1871a6",
   "metadata": {},
   "outputs": [
    {
     "name": "stderr",
     "output_type": "stream",
     "text": [
      "/tmp/ipykernel_22547/53220401.py:2: FutureWarning: `tokenizer` is deprecated and will be removed in version 5.0.0 for `Trainer.__init__`. Use `processing_class` instead.\n",
      "  trainer = Trainer(model=model,\n"
     ]
    },
    {
     "data": {
      "text/html": [
       "\n",
       "    <div>\n",
       "      \n",
       "      <progress value='560' max='560' style='width:300px; height:20px; vertical-align: middle;'></progress>\n",
       "      [560/560 06:19, Epoch 5/5]\n",
       "    </div>\n",
       "    <table border=\"1\" class=\"dataframe\">\n",
       "  <thead>\n",
       " <tr style=\"text-align: left;\">\n",
       "      <th>Epoch</th>\n",
       "      <th>Training Loss</th>\n",
       "      <th>Validation Loss</th>\n",
       "      <th>Accuracy</th>\n",
       "      <th>F1</th>\n",
       "    </tr>\n",
       "  </thead>\n",
       "  <tbody>\n",
       "    <tr>\n",
       "      <td>1</td>\n",
       "      <td>0.855000</td>\n",
       "      <td>0.807632</td>\n",
       "      <td>0.761798</td>\n",
       "      <td>0.735601</td>\n",
       "    </tr>\n",
       "    <tr>\n",
       "      <td>2</td>\n",
       "      <td>0.660600</td>\n",
       "      <td>0.759227</td>\n",
       "      <td>0.766292</td>\n",
       "      <td>0.750570</td>\n",
       "    </tr>\n",
       "    <tr>\n",
       "      <td>3</td>\n",
       "      <td>0.566300</td>\n",
       "      <td>0.707229</td>\n",
       "      <td>0.769663</td>\n",
       "      <td>0.755176</td>\n",
       "    </tr>\n",
       "    <tr>\n",
       "      <td>4</td>\n",
       "      <td>0.484400</td>\n",
       "      <td>0.692314</td>\n",
       "      <td>0.774157</td>\n",
       "      <td>0.761210</td>\n",
       "    </tr>\n",
       "    <tr>\n",
       "      <td>5</td>\n",
       "      <td>0.438700</td>\n",
       "      <td>0.692515</td>\n",
       "      <td>0.776404</td>\n",
       "      <td>0.763105</td>\n",
       "    </tr>\n",
       "  </tbody>\n",
       "</table><p>"
      ],
      "text/plain": [
       "<IPython.core.display.HTML object>"
      ]
     },
     "metadata": {},
     "output_type": "display_data"
    },
    {
     "data": {
      "text/plain": [
       "TrainOutput(global_step=560, training_loss=0.6001750026430402, metrics={'train_runtime': 380.1029, 'train_samples_per_second': 93.672, 'train_steps_per_second': 1.473, 'total_flos': 4718015747174400.0, 'train_loss': 0.6001750026430402, 'epoch': 5.0})"
      ]
     },
     "execution_count": 38,
     "metadata": {},
     "output_type": "execute_result"
    }
   ],
   "source": [
    "from transformers import Trainer\n",
    "trainer = Trainer(model=model, \n",
    "                  args=training_args,\n",
    "                  compute_metrics=compute_metrics,\n",
    "                  train_dataset=data_encoded[\"train\"],\n",
    "                  eval_dataset=data_encoded[\"validation\"],\n",
    "                  tokenizer=tokenizer)\n",
    "\n",
    "trainer.train()\n"
   ]
  },
  {
   "cell_type": "code",
   "execution_count": 39,
   "id": "17a06ec7",
   "metadata": {},
   "outputs": [
    {
     "data": {
      "text/html": [],
      "text/plain": [
       "<IPython.core.display.HTML object>"
      ]
     },
     "metadata": {},
     "output_type": "display_data"
    }
   ],
   "source": [
    "preds_output = trainer.predict(data_encoded[\"validation\"])\n"
   ]
  },
  {
   "cell_type": "code",
   "execution_count": 40,
   "id": "9b8e6d09",
   "metadata": {},
   "outputs": [
    {
     "data": {
      "text/plain": [
       "{'test_loss': 0.6925145983695984,\n",
       " 'test_accuracy': 0.7764044943820225,\n",
       " 'test_f1': 0.7631051020945786,\n",
       " 'test_runtime': 3.7144,\n",
       " 'test_samples_per_second': 239.607,\n",
       " 'test_steps_per_second': 3.769}"
      ]
     },
     "execution_count": 40,
     "metadata": {},
     "output_type": "execute_result"
    }
   ],
   "source": [
    "preds_output.metrics\n"
   ]
  },
  {
   "cell_type": "code",
   "execution_count": 41,
   "id": "7459cd9a",
   "metadata": {},
   "outputs": [],
   "source": [
    "y_preds = np.argmax(preds_output.predictions, axis=1)\n"
   ]
  },
  {
   "cell_type": "code",
   "execution_count": 42,
   "id": "91b4341d",
   "metadata": {},
   "outputs": [],
   "source": [
    "def plot_confusion_matrix(y_preds, y_true, labels):\n",
    "    cm = confusion_matrix(y_true, y_preds, normalize=\"true\")\n",
    "    fig, ax = plt.subplots(figsize=(10, 10))\n",
    "    disp = ConfusionMatrixDisplay(confusion_matrix=cm, display_labels=labels)\n",
    "    disp.plot(cmap=\"Blues\", values_format=\".2f\", ax=ax, colorbar=False)\n",
    "    plt.title(\"Normalized confusion matrix\")\n",
    "    plt.xticks(rotation=30, ha=\"right\")\n",
    "    plt.show()\n",
    "    "
   ]
  },
  {
   "cell_type": "code",
   "execution_count": 43,
   "id": "a5c4e1e3",
   "metadata": {},
   "outputs": [
    {
     "data": {
      "image/png": "[encoded data removed]",
      "text/plain": [
       "<Figure size 1000x1000 with 1 Axes>"
      ]
     },
     "metadata": {},
     "output_type": "display_data"
    }
   ],
   "source": [
    "plot_confusion_matrix(y_preds, y_valid, labels)\n"
   ]
  },
  {
   "cell_type": "code",
   "execution_count": 44,
   "id": "6f6f4f0f",
   "metadata": {},
   "outputs": [],
   "source": [
    "from torch.nn.functional import cross_entropy\n",
    "\n",
    "def forward_pass_with_label(batch):\n",
    "    # Place all input tensors on the same device as the model\n",
    "    inputs = {k:v.to(device) for k,v in batch.items()\n",
    "              if k in tokenizer.model_input_names}\n",
    "    with torch.no_grad():\n",
    "        output = model(**inputs)\n",
    "        pred_label = torch.argmax(output.logits, axis=-1)\n",
    "        loss = cross_entropy(output.logits, batch[\"label\"].to(device),\n",
    "                         reduction=\"none\")\n",
    "    # Place outputs on CPU for compatibility with other dataset columns\n",
    "    return {\"loss\": loss.cpu().numpy(),\n",
    "            \"predicted_label\": pred_label.cpu().numpy()}\n"
   ]
  },
  {
   "cell_type": "code",
   "execution_count": 45,
   "id": "55362386",
   "metadata": {},
   "outputs": [
    {
     "data": {
      "application/vnd.jupyter.widget-view+json": {
       "model_id": "fa736068569d4c4690a9193483eacff1",
       "version_major": 2,
       "version_minor": 0
      },
      "text/plain": [
       "Map:   0%|          | 0/890 [00:00<?, ? examples/s]"
      ]
     },
     "metadata": {},
     "output_type": "display_data"
    }
   ],
   "source": [
    "# Convert our dataset back to PyTorch tensors\n",
    "data_encoded.set_format(\"torch\",\n",
    "                        columns=[\"input_ids\", \"attention_mask\", \"label\"])\n",
    "# Compute loss values\n",
    "data_encoded[\"validation\"] = data_encoded[\"validation\"].map(\n",
    "    forward_pass_with_label, batched=True, batch_size=16)\n"
   ]
  },
  {
   "cell_type": "code",
   "execution_count": 46,
   "id": "306d69da",
   "metadata": {},
   "outputs": [],
   "source": [
    "def label_int2str(row):\n",
    "    return data[\"train\"].features[\"label\"].int2str(row)\n"
   ]
  },
  {
   "cell_type": "code",
   "execution_count": 47,
   "id": "1eb8643e",
   "metadata": {},
   "outputs": [],
   "source": [
    "data_encoded.set_format(\"pandas\")\n",
    "cols = [\"text\", \"label\", \"predicted_label\", \"loss\"]\n",
    "df_test = data_encoded[\"validation\"][:][cols]\n",
    "df_test[\"label\"] = df_test[\"label\"].apply(label_int2str)\n",
    "df_test[\"predicted_label\"] = (df_test[\"predicted_label\"].apply(label_int2str))\n"
   ]
  },
  {
   "cell_type": "code",
   "execution_count": 54,
   "id": "a2a1bd83",
   "metadata": {},
   "outputs": [
    {
     "data": {
      "text/html": [
       "<div>\n",
       "<style scoped>\n",
       "    .dataframe tbody tr th:only-of-type {\n",
       "        vertical-align: middle;\n",
       "    }\n",
       "\n",
       "    .dataframe tbody tr th {\n",
       "        vertical-align: top;\n",
       "    }\n",
       "\n",
       "    .dataframe thead th {\n",
       "        text-align: right;\n",
       "    }\n",
       "</style>\n",
       "<table border=\"1\" class=\"dataframe\">\n",
       "  <thead>\n",
       "    <tr style=\"text-align: right;\">\n",
       "      <th></th>\n",
       "      <th>text</th>\n",
       "      <th>label</th>\n",
       "      <th>predicted_label</th>\n",
       "      <th>loss</th>\n",
       "    </tr>\n",
       "  </thead>\n",
       "  <tbody>\n",
       "    <tr>\n",
       "      <th>716</th>\n",
       "      <td>Detecting relevant dependencies under measurem...</td>\n",
       "      <td>stat</td>\n",
       "      <td>astro-ph</td>\n",
       "      <td>6.758710</td>\n",
       "    </tr>\n",
       "    <tr>\n",
       "      <th>74</th>\n",
       "      <td>Exact solutions for the moments of the binary ...</td>\n",
       "      <td>nucl-th</td>\n",
       "      <td>math</td>\n",
       "      <td>6.502712</td>\n",
       "    </tr>\n",
       "    <tr>\n",
       "      <th>320</th>\n",
       "      <td>Natural Theories\\nWe consider the class of phy...</td>\n",
       "      <td>physics</td>\n",
       "      <td>math</td>\n",
       "      <td>6.453927</td>\n",
       "    </tr>\n",
       "    <tr>\n",
       "      <th>600</th>\n",
       "      <td>Interacting Copies of Random Constraint Satisf...</td>\n",
       "      <td>cond-mat</td>\n",
       "      <td>math</td>\n",
       "      <td>6.168572</td>\n",
       "    </tr>\n",
       "    <tr>\n",
       "      <th>538</th>\n",
       "      <td>Solitons of the constrained Schrödinger equati...</td>\n",
       "      <td>nlin</td>\n",
       "      <td>math</td>\n",
       "      <td>6.033093</td>\n",
       "    </tr>\n",
       "    <tr>\n",
       "      <th>759</th>\n",
       "      <td>POMATO: Marrying Pointmap Matching with Tempor...</td>\n",
       "      <td>eess</td>\n",
       "      <td>cs</td>\n",
       "      <td>5.781720</td>\n",
       "    </tr>\n",
       "    <tr>\n",
       "      <th>162</th>\n",
       "      <td>Hybrid Random Concentrated Optimization Withou...</td>\n",
       "      <td>physics</td>\n",
       "      <td>cs</td>\n",
       "      <td>5.771364</td>\n",
       "    </tr>\n",
       "    <tr>\n",
       "      <th>540</th>\n",
       "      <td>Characterization of the $W_{1+\\infty}$-n-algeb...</td>\n",
       "      <td>math-ph</td>\n",
       "      <td>math</td>\n",
       "      <td>5.677855</td>\n",
       "    </tr>\n",
       "    <tr>\n",
       "      <th>797</th>\n",
       "      <td>Dynamics of localized states in the stochastic...</td>\n",
       "      <td>nlin</td>\n",
       "      <td>math</td>\n",
       "      <td>5.580626</td>\n",
       "    </tr>\n",
       "    <tr>\n",
       "      <th>773</th>\n",
       "      <td>OmniAudio: Generating Spatial Audio from 360-D...</td>\n",
       "      <td>eess</td>\n",
       "      <td>cs</td>\n",
       "      <td>5.515879</td>\n",
       "    </tr>\n",
       "  </tbody>\n",
       "</table>\n",
       "</div>"
      ],
      "text/plain": [
       "                                                  text     label  \\\n",
       "716  Detecting relevant dependencies under measurem...      stat   \n",
       "74   Exact solutions for the moments of the binary ...   nucl-th   \n",
       "320  Natural Theories\\nWe consider the class of phy...   physics   \n",
       "600  Interacting Copies of Random Constraint Satisf...  cond-mat   \n",
       "538  Solitons of the constrained Schrödinger equati...      nlin   \n",
       "759  POMATO: Marrying Pointmap Matching with Tempor...      eess   \n",
       "162  Hybrid Random Concentrated Optimization Withou...   physics   \n",
       "540  Characterization of the $W_{1+\\infty}$-n-algeb...   math-ph   \n",
       "797  Dynamics of localized states in the stochastic...      nlin   \n",
       "773  OmniAudio: Generating Spatial Audio from 360-D...      eess   \n",
       "\n",
       "    predicted_label      loss  \n",
       "716        astro-ph  6.758710  \n",
       "74             math  6.502712  \n",
       "320            math  6.453927  \n",
       "600            math  6.168572  \n",
       "538            math  6.033093  \n",
       "759              cs  5.781720  \n",
       "162              cs  5.771364  \n",
       "540            math  5.677855  \n",
       "797            math  5.580626  \n",
       "773              cs  5.515879  "
      ]
     },
     "execution_count": 54,
     "metadata": {},
     "output_type": "execute_result"
    }
   ],
   "source": [
    "df_test.sort_values(\"loss\", ascending=False).head(10)\n"
   ]
  },
  {
   "cell_type": "code",
   "execution_count": 50,
   "id": "c7f0d3fe",
   "metadata": {},
   "outputs": [
    {
     "data": {
      "text/html": [
       "<div>\n",
       "<style scoped>\n",
       "    .dataframe tbody tr th:only-of-type {\n",
       "        vertical-align: middle;\n",
       "    }\n",
       "\n",
       "    .dataframe tbody tr th {\n",
       "        vertical-align: top;\n",
       "    }\n",
       "\n",
       "    .dataframe thead th {\n",
       "        text-align: right;\n",
       "    }\n",
       "</style>\n",
       "<table border=\"1\" class=\"dataframe\">\n",
       "  <thead>\n",
       "    <tr style=\"text-align: right;\">\n",
       "      <th></th>\n",
       "      <th>text</th>\n",
       "      <th>label</th>\n",
       "      <th>predicted_label</th>\n",
       "      <th>loss</th>\n",
       "    </tr>\n",
       "  </thead>\n",
       "  <tbody>\n",
       "    <tr>\n",
       "      <th>766</th>\n",
       "      <td>ZIP: An Efficient Zeroth-order Prompt Tuning f...</td>\n",
       "      <td>cs</td>\n",
       "      <td>cs</td>\n",
       "      <td>0.009002</td>\n",
       "    </tr>\n",
       "    <tr>\n",
       "      <th>787</th>\n",
       "      <td>ERPO: Advancing Safety Alignment via Ex-Ante R...</td>\n",
       "      <td>cs</td>\n",
       "      <td>cs</td>\n",
       "      <td>0.009215</td>\n",
       "    </tr>\n",
       "    <tr>\n",
       "      <th>236</th>\n",
       "      <td>Heimdall: test-time scaling on the generative ...</td>\n",
       "      <td>cs</td>\n",
       "      <td>cs</td>\n",
       "      <td>0.009392</td>\n",
       "    </tr>\n",
       "    <tr>\n",
       "      <th>492</th>\n",
       "      <td>Efficient Prompt Tuning for Hierarchical Ingre...</td>\n",
       "      <td>cs</td>\n",
       "      <td>cs</td>\n",
       "      <td>0.009413</td>\n",
       "    </tr>\n",
       "    <tr>\n",
       "      <th>534</th>\n",
       "      <td>FingER: Content Aware Fine-grained Evaluation ...</td>\n",
       "      <td>cs</td>\n",
       "      <td>cs</td>\n",
       "      <td>0.009451</td>\n",
       "    </tr>\n",
       "    <tr>\n",
       "      <th>124</th>\n",
       "      <td>The Future of MLLM Prompting is Adaptive: A Co...</td>\n",
       "      <td>cs</td>\n",
       "      <td>cs</td>\n",
       "      <td>0.009462</td>\n",
       "    </tr>\n",
       "    <tr>\n",
       "      <th>264</th>\n",
       "      <td>Taylor Series-Inspired Local Structure Fitting...</td>\n",
       "      <td>cs</td>\n",
       "      <td>cs</td>\n",
       "      <td>0.009463</td>\n",
       "    </tr>\n",
       "    <tr>\n",
       "      <th>253</th>\n",
       "      <td>Guiding Reasoning in Small Language Models wit...</td>\n",
       "      <td>cs</td>\n",
       "      <td>cs</td>\n",
       "      <td>0.009463</td>\n",
       "    </tr>\n",
       "    <tr>\n",
       "      <th>258</th>\n",
       "      <td>DianJin-R1: Evaluating and Enhancing Financial...</td>\n",
       "      <td>cs</td>\n",
       "      <td>cs</td>\n",
       "      <td>0.009490</td>\n",
       "    </tr>\n",
       "    <tr>\n",
       "      <th>302</th>\n",
       "      <td>VAPO: Efficient and Reliable Reinforcement Lea...</td>\n",
       "      <td>cs</td>\n",
       "      <td>cs</td>\n",
       "      <td>0.009511</td>\n",
       "    </tr>\n",
       "  </tbody>\n",
       "</table>\n",
       "</div>"
      ],
      "text/plain": [
       "                                                  text label predicted_label  \\\n",
       "766  ZIP: An Efficient Zeroth-order Prompt Tuning f...    cs              cs   \n",
       "787  ERPO: Advancing Safety Alignment via Ex-Ante R...    cs              cs   \n",
       "236  Heimdall: test-time scaling on the generative ...    cs              cs   \n",
       "492  Efficient Prompt Tuning for Hierarchical Ingre...    cs              cs   \n",
       "534  FingER: Content Aware Fine-grained Evaluation ...    cs              cs   \n",
       "124  The Future of MLLM Prompting is Adaptive: A Co...    cs              cs   \n",
       "264  Taylor Series-Inspired Local Structure Fitting...    cs              cs   \n",
       "253  Guiding Reasoning in Small Language Models wit...    cs              cs   \n",
       "258  DianJin-R1: Evaluating and Enhancing Financial...    cs              cs   \n",
       "302  VAPO: Efficient and Reliable Reinforcement Lea...    cs              cs   \n",
       "\n",
       "         loss  \n",
       "766  0.009002  \n",
       "787  0.009215  \n",
       "236  0.009392  \n",
       "492  0.009413  \n",
       "534  0.009451  \n",
       "124  0.009462  \n",
       "264  0.009463  \n",
       "253  0.009463  \n",
       "258  0.009490  \n",
       "302  0.009511  "
      ]
     },
     "execution_count": 50,
     "metadata": {},
     "output_type": "execute_result"
    }
   ],
   "source": [
    "df_test.sort_values(\"loss\", ascending=True).head(10)\n"
   ]
  }
 ],
 "metadata": {
  "kernelspec": {
   "display_name": ".venv",
   "language": "python",
   "name": "python3"
  },
  "language_info": {
   "codemirror_mode": {
    "name": "ipython",
    "version": 3
   },
   "file_extension": ".py",
   "mimetype": "text/x-python",
   "name": "python",
   "nbconvert_exporter": "python",
   "pygments_lexer": "ipython3",
   "version": "3.11.12"
  }
 },
 "nbformat": 4,
 "nbformat_minor": 5
}
