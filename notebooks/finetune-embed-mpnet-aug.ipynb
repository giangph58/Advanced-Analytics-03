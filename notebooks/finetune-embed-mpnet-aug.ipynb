{
 "cells": [
  {
   "cell_type": "code",
   "execution_count": 2,
   "id": "24c5042a",
   "metadata": {},
   "outputs": [],
   "source": [
    "import pandas as pd\n",
    "import numpy as np\n",
    "from datasets import load_from_disk\n",
    "from setfit import sample_dataset\n"
   ]
  },
  {
   "cell_type": "code",
   "execution_count": 10,
   "id": "a22f0139",
   "metadata": {},
   "outputs": [
    {
     "data": {
      "application/vnd.jupyter.widget-view+json": {
       "model_id": "a491b484a6a34e7e8a62065d29354ad0",
       "version_major": 2,
       "version_minor": 0
      },
      "text/plain": [
       "VBox(children=(HTML(value='<center> <img\\nsrc=https://huggingface.co/front/assets/huggingface_logo-noborder.sv…"
      ]
     },
     "metadata": {},
     "output_type": "display_data"
    }
   ],
   "source": [
    "from huggingface_hub import notebook_login\n",
    "\n",
    "notebook_login()\n"
   ]
  },
  {
   "cell_type": "code",
   "execution_count": 3,
   "id": "5e22eb15",
   "metadata": {},
   "outputs": [],
   "source": [
    "aug_stream_data = load_from_disk(\"data/processed/aug_stream_data\")\n"
   ]
  },
  {
   "cell_type": "code",
   "execution_count": 13,
   "id": "e91f6799",
   "metadata": {},
   "outputs": [
    {
     "name": "stdout",
     "output_type": "stream",
     "text": [
      "Dataset({\n",
      "    features: ['text', 'label'],\n",
      "    num_rows: 160\n",
      "})\n",
      "Dataset({\n",
      "    features: ['text', 'label'],\n",
      "    num_rows: 1382\n",
      "})\n"
     ]
    }
   ],
   "source": [
    "train_dataset = sample_dataset(aug_stream_data[\"train\"])\n",
    "eval_dataset = aug_stream_data[\"validation\"]\n",
    "print(train_dataset)\n",
    "print(eval_dataset)\n"
   ]
  },
  {
   "cell_type": "code",
   "execution_count": 9,
   "id": "53c4daac",
   "metadata": {},
   "outputs": [
    {
     "name": "stderr",
     "output_type": "stream",
     "text": [
      "model_head.pkl not found on HuggingFace Hub, initialising classification head with random weights. You should TRAIN this model on a downstream task to use it for predictions and inference.\n"
     ]
    }
   ],
   "source": [
    "from setfit import SetFitModel\n",
    "\n",
    "model_id = \"sentence-transformers/all-mpnet-base-v2\"\n",
    "model = SetFitModel.from_pretrained(model_id)\n"
   ]
  },
  {
   "cell_type": "code",
   "execution_count": null,
   "id": "4c54d02e",
   "metadata": {},
   "outputs": [
    {
     "name": "stderr",
     "output_type": "stream",
     "text": [
      "/tmp/ipykernel_58195/2803454763.py:5: DeprecationWarning: `SetFitTrainer` has been deprecated and will be removed in v2.0.0 of SetFit. Please use `Trainer` instead.\n",
      "  trainer = SetFitTrainer(\n"
     ]
    },
    {
     "data": {
      "application/vnd.jupyter.widget-view+json": {
       "model_id": "55e35367d23040a6a2ccba242b9e6d91",
       "version_major": 2,
       "version_minor": 0
      },
      "text/plain": [
       "Map:   0%|          | 0/160 [00:00<?, ? examples/s]"
      ]
     },
     "metadata": {},
     "output_type": "display_data"
    }
   ],
   "source": [
    "from sentence_transformers.losses import CosineSimilarityLoss\n",
    "from setfit import SetFitTrainer\n",
    "\n",
    "trainer = SetFitTrainer(\n",
    "    model=model,\n",
    "    train_dataset=train_dataset,\n",
    "    eval_dataset=eval_dataset,\n",
    "    loss_class=CosineSimilarityLoss,\n",
    "    num_iterations=20,\n",
    "    metric=\"f1\",\n",
    "    metric_kwargs={\"average\": \"macro\"}\n",
    ")\n"
   ]
  },
  {
   "cell_type": "code",
   "execution_count": 23,
   "id": "18456dcb",
   "metadata": {},
   "outputs": [
    {
     "name": "stderr",
     "output_type": "stream",
     "text": [
      "***** Running training *****\n",
      "  Num unique pairs = 6400\n",
      "  Batch size = 16\n",
      "  Num epochs = 1\n"
     ]
    },
    {
     "data": {
      "text/html": [
       "\n",
       "    <div>\n",
       "      \n",
       "      <progress value='400' max='400' style='width:300px; height:20px; vertical-align: middle;'></progress>\n",
       "      [400/400 05:03, Epoch 1/1]\n",
       "    </div>\n",
       "    <table border=\"1\" class=\"dataframe\">\n",
       "  <thead>\n",
       " <tr style=\"text-align: left;\">\n",
       "      <th>Step</th>\n",
       "      <th>Training Loss</th>\n",
       "    </tr>\n",
       "  </thead>\n",
       "  <tbody>\n",
       "    <tr>\n",
       "      <td>1</td>\n",
       "      <td>0.011100</td>\n",
       "    </tr>\n",
       "    <tr>\n",
       "      <td>50</td>\n",
       "      <td>0.011400</td>\n",
       "    </tr>\n",
       "    <tr>\n",
       "      <td>100</td>\n",
       "      <td>0.006900</td>\n",
       "    </tr>\n",
       "    <tr>\n",
       "      <td>150</td>\n",
       "      <td>0.006900</td>\n",
       "    </tr>\n",
       "    <tr>\n",
       "      <td>200</td>\n",
       "      <td>0.005200</td>\n",
       "    </tr>\n",
       "    <tr>\n",
       "      <td>250</td>\n",
       "      <td>0.002900</td>\n",
       "    </tr>\n",
       "    <tr>\n",
       "      <td>300</td>\n",
       "      <td>0.002600</td>\n",
       "    </tr>\n",
       "    <tr>\n",
       "      <td>350</td>\n",
       "      <td>0.001300</td>\n",
       "    </tr>\n",
       "    <tr>\n",
       "      <td>400</td>\n",
       "      <td>0.001300</td>\n",
       "    </tr>\n",
       "  </tbody>\n",
       "</table><p>"
      ],
      "text/plain": [
       "<IPython.core.display.HTML object>"
      ]
     },
     "metadata": {},
     "output_type": "display_data"
    }
   ],
   "source": [
    "trainer.train()\n"
   ]
  },
  {
   "cell_type": "code",
   "execution_count": 24,
   "id": "be08eda7",
   "metadata": {},
   "outputs": [
    {
     "name": "stderr",
     "output_type": "stream",
     "text": [
      "***** Running evaluation *****\n"
     ]
    },
    {
     "data": {
      "text/plain": [
       "{'f1': 0.5294216467829347}"
      ]
     },
     "execution_count": 24,
     "metadata": {},
     "output_type": "execute_result"
    }
   ],
   "source": [
    "trainer.evaluate()\n"
   ]
  },
  {
   "cell_type": "code",
   "execution_count": 25,
   "id": "ffd88ce3",
   "metadata": {},
   "outputs": [
    {
     "data": {
      "application/vnd.jupyter.widget-view+json": {
       "model_id": "da078367090d46f5b404f5a8c7c450fa",
       "version_major": 2,
       "version_minor": 0
      },
      "text/plain": [
       "model_head.pkl:   0%|          | 0.00/124k [00:00<?, ?B/s]"
      ]
     },
     "metadata": {},
     "output_type": "display_data"
    },
    {
     "data": {
      "application/vnd.jupyter.widget-view+json": {
       "model_id": "6c3aa95a1d8f43d997ad431cccea1453",
       "version_major": 2,
       "version_minor": 0
      },
      "text/plain": [
       "model.safetensors:   0%|          | 0.00/438M [00:00<?, ?B/s]"
      ]
     },
     "metadata": {},
     "output_type": "display_data"
    },
    {
     "data": {
      "application/vnd.jupyter.widget-view+json": {
       "model_id": "6aa73ed572794d6ab9e26a695721fcf4",
       "version_major": 2,
       "version_minor": 0
      },
      "text/plain": [
       "Upload 2 LFS files:   0%|          | 0/2 [00:00<?, ?it/s]"
      ]
     },
     "metadata": {},
     "output_type": "display_data"
    },
    {
     "data": {
      "text/plain": [
       "CommitInfo(commit_url='https://huggingface.co/gpham/all-mpnet-base-v2-setfit-arxiv/commit/e67a22e20a567d0e67190af30eb3a38a1386772f', commit_message='Add SetFit model', commit_description='', oid='e67a22e20a567d0e67190af30eb3a38a1386772f', pr_url=None, repo_url=RepoUrl('https://huggingface.co/gpham/all-mpnet-base-v2-setfit-arxiv', endpoint='https://huggingface.co', repo_type='model', repo_id='gpham/all-mpnet-base-v2-setfit-arxiv'), pr_revision=None, pr_num=None)"
      ]
     },
     "execution_count": 25,
     "metadata": {},
     "output_type": "execute_result"
    }
   ],
   "source": [
    "trainer.push_to_hub(\"gpham/all-mpnet-base-v2-setfit-arxiv\")\n"
   ]
  },
  {
   "cell_type": "code",
   "execution_count": 26,
   "id": "5b99c457",
   "metadata": {},
   "outputs": [
    {
     "data": {
      "application/vnd.jupyter.widget-view+json": {
       "model_id": "4b4a6b4b307b40efa70cf47ebd7e18c1",
       "version_major": 2,
       "version_minor": 0
      },
      "text/plain": [
       "config.json:   0%|          | 0.00/613 [00:00<?, ?B/s]"
      ]
     },
     "metadata": {},
     "output_type": "display_data"
    },
    {
     "data": {
      "application/vnd.jupyter.widget-view+json": {
       "model_id": "1538d2a811f0484085e25f748c1903a1",
       "version_major": 2,
       "version_minor": 0
      },
      "text/plain": [
       "modules.json:   0%|          | 0.00/349 [00:00<?, ?B/s]"
      ]
     },
     "metadata": {},
     "output_type": "display_data"
    },
    {
     "data": {
      "application/vnd.jupyter.widget-view+json": {
       "model_id": "cdb7afa93e8042569e3c5f19cb276641",
       "version_major": 2,
       "version_minor": 0
      },
      "text/plain": [
       "config_sentence_transformers.json:   0%|          | 0.00/205 [00:00<?, ?B/s]"
      ]
     },
     "metadata": {},
     "output_type": "display_data"
    },
    {
     "data": {
      "application/vnd.jupyter.widget-view+json": {
       "model_id": "73ea1b47e2ce40488c2dc6d4503aa1b6",
       "version_major": 2,
       "version_minor": 0
      },
      "text/plain": [
       "README.md:   0%|          | 0.00/111k [00:00<?, ?B/s]"
      ]
     },
     "metadata": {},
     "output_type": "display_data"
    },
    {
     "data": {
      "application/vnd.jupyter.widget-view+json": {
       "model_id": "92f2e6bd1f224abfb2bb25a9e6c95748",
       "version_major": 2,
       "version_minor": 0
      },
      "text/plain": [
       "sentence_bert_config.json:   0%|          | 0.00/53.0 [00:00<?, ?B/s]"
      ]
     },
     "metadata": {},
     "output_type": "display_data"
    },
    {
     "data": {
      "application/vnd.jupyter.widget-view+json": {
       "model_id": "573d68fa399b499fb8211fd9f084fc5c",
       "version_major": 2,
       "version_minor": 0
      },
      "text/plain": [
       "model.safetensors:   0%|          | 0.00/438M [00:00<?, ?B/s]"
      ]
     },
     "metadata": {},
     "output_type": "display_data"
    },
    {
     "data": {
      "application/vnd.jupyter.widget-view+json": {
       "model_id": "c89a28e9ebdb47dcb654b32fe553291f",
       "version_major": 2,
       "version_minor": 0
      },
      "text/plain": [
       "tokenizer_config.json:   0%|          | 0.00/1.61k [00:00<?, ?B/s]"
      ]
     },
     "metadata": {},
     "output_type": "display_data"
    },
    {
     "data": {
      "application/vnd.jupyter.widget-view+json": {
       "model_id": "9f95f2ce7f5942e2b4f4b13044b3dcfe",
       "version_major": 2,
       "version_minor": 0
      },
      "text/plain": [
       "vocab.txt:   0%|          | 0.00/232k [00:00<?, ?B/s]"
      ]
     },
     "metadata": {},
     "output_type": "display_data"
    },
    {
     "data": {
      "application/vnd.jupyter.widget-view+json": {
       "model_id": "e6134c61f9a94c3da5317410320dffac",
       "version_major": 2,
       "version_minor": 0
      },
      "text/plain": [
       "tokenizer.json:   0%|          | 0.00/711k [00:00<?, ?B/s]"
      ]
     },
     "metadata": {},
     "output_type": "display_data"
    },
    {
     "data": {
      "application/vnd.jupyter.widget-view+json": {
       "model_id": "fd33d9bc1c414bac9ae38b75d9cb2efb",
       "version_major": 2,
       "version_minor": 0
      },
      "text/plain": [
       "special_tokens_map.json:   0%|          | 0.00/964 [00:00<?, ?B/s]"
      ]
     },
     "metadata": {},
     "output_type": "display_data"
    },
    {
     "data": {
      "application/vnd.jupyter.widget-view+json": {
       "model_id": "ca5092fa00bb4e88a8d2b559eea31448",
       "version_major": 2,
       "version_minor": 0
      },
      "text/plain": [
       "config.json:   0%|          | 0.00/296 [00:00<?, ?B/s]"
      ]
     },
     "metadata": {},
     "output_type": "display_data"
    },
    {
     "data": {
      "application/vnd.jupyter.widget-view+json": {
       "model_id": "3048119aca964fbbb5554c23f88aff2b",
       "version_major": 2,
       "version_minor": 0
      },
      "text/plain": [
       "config_setfit.json:   0%|          | 0.00/53.0 [00:00<?, ?B/s]"
      ]
     },
     "metadata": {},
     "output_type": "display_data"
    },
    {
     "data": {
      "application/vnd.jupyter.widget-view+json": {
       "model_id": "bcc84aeed21d44d8bdaab4aeac36ed0c",
       "version_major": 2,
       "version_minor": 0
      },
      "text/plain": [
       "model_head.pkl:   0%|          | 0.00/124k [00:00<?, ?B/s]"
      ]
     },
     "metadata": {},
     "output_type": "display_data"
    }
   ],
   "source": [
    "model = SetFitModel.from_pretrained(\"gpham/all-mpnet-base-v2-setfit-arxiv\")\n"
   ]
  },
  {
   "cell_type": "code",
   "execution_count": 28,
   "id": "3dd9adbf",
   "metadata": {},
   "outputs": [
    {
     "data": {
      "application/vnd.jupyter.widget-view+json": {
       "model_id": "9f3ec74236ae4effa95a9b03e68709e7",
       "version_major": 2,
       "version_minor": 0
      },
      "text/plain": [
       "Batches:   0%|          | 0/346 [00:00<?, ?it/s]"
      ]
     },
     "metadata": {},
     "output_type": "display_data"
    }
   ],
   "source": [
    "aug_stream_data.set_format(type=\"pandas\")\n",
    "train_df = aug_stream_data[\"train\"][:]\n",
    "valid_df = aug_stream_data[\"validation\"][:]\n",
    "\n",
    "X_train, y_train = train_df[\"text\"], train_df[\"label\"]\n",
    "X_valid, y_valid = valid_df[\"text\"], valid_df[\"label\"]\n",
    "labels = aug_stream_data[\"train\"].features[\"label\"].names\n",
    "\n",
    "X_train_embed = model.encode(X_train, show_progress_bar=True)\n"
   ]
  },
  {
   "cell_type": "code",
   "execution_count": 29,
   "id": "7ec87891",
   "metadata": {},
   "outputs": [
    {
     "data": {
      "application/vnd.jupyter.widget-view+json": {
       "model_id": "d39b728bcb6f4fe9a2f90e961684eca3",
       "version_major": 2,
       "version_minor": 0
      },
      "text/plain": [
       "Batches:   0%|          | 0/44 [00:00<?, ?it/s]"
      ]
     },
     "metadata": {},
     "output_type": "display_data"
    }
   ],
   "source": [
    "X_valid_embed = model.encode(X_valid, show_progress_bar=True)\n"
   ]
  },
  {
   "cell_type": "code",
   "execution_count": 30,
   "id": "7efd609a",
   "metadata": {},
   "outputs": [
    {
     "data": {
      "text/plain": [
       "((11054, 768), (1382, 768))"
      ]
     },
     "execution_count": 30,
     "metadata": {},
     "output_type": "execute_result"
    }
   ],
   "source": [
    "X_train_embed.shape, X_valid_embed.shape\n"
   ]
  },
  {
   "cell_type": "code",
   "execution_count": 31,
   "id": "9b47a2e5",
   "metadata": {},
   "outputs": [],
   "source": [
    "from sklearn.metrics import balanced_accuracy_score, f1_score\n",
    "from sklearn.utils.extmath import density\n",
    "from time import time\n",
    "\n",
    "def benchmark(clf, custom_name=False):\n",
    "    print(\"_\" * 80)\n",
    "    print(\"Training: \")\n",
    "    print(clf)\n",
    "   \n",
    "    t0 = time()\n",
    "    clf.fit(X_train_embed, y_train)\n",
    "    train_time = time() - t0\n",
    "    print(f\"train time: {train_time:.3}s\")\n",
    "\n",
    "    t0 = time()\n",
    "    pred = clf.predict(X_valid_embed)\n",
    "    test_time = time() - t0\n",
    "    print(f\"inference time:  {test_time:.3}s\")\n",
    "\n",
    "    balanced_accuracy = balanced_accuracy_score(y_valid, pred)\n",
    "    print(f\"Balanced accuracy score:    {balanced_accuracy:.3}\")\n",
    "\n",
    "    macro_f1 = f1_score(y_valid, pred, average=\"macro\")\n",
    "    print(f\"Macro F1 score:    {macro_f1:.3}\")\n",
    "\n",
    "    weighted_f1 = f1_score(y_valid, pred, average=\"weighted\")\n",
    "    print(f\"Weighted F1 score:    {weighted_f1:.3}\")\n",
    "\n",
    "    if hasattr(clf, \"coef_\"):\n",
    "        print(f\"dimensionality: {clf.coef_.shape[1]}\")\n",
    "        print(f\"density: {density(clf.coef_)}\")\n",
    "        print()\n",
    "    \n",
    "    print()\n",
    "    if custom_name:\n",
    "        clf_descr = str(custom_name)\n",
    "    else:\n",
    "        clf_descr = clf.__class__.__name__\n",
    "    return clf_descr, balanced_accuracy, macro_f1, weighted_f1, train_time, test_time\n"
   ]
  },
  {
   "cell_type": "code",
   "execution_count": 32,
   "id": "a12326ed",
   "metadata": {},
   "outputs": [
    {
     "name": "stdout",
     "output_type": "stream",
     "text": [
      "================================================================================\n",
      "Logistic Regression\n",
      "________________________________________________________________________________\n",
      "Training: \n",
      "LogisticRegression(class_weight='balanced')\n",
      "train time: 42.4s\n",
      "inference time:  0.0338s\n",
      "Balanced accuracy score:    0.679\n",
      "Macro F1 score:    0.62\n",
      "Weighted F1 score:    0.718\n",
      "dimensionality: 768\n",
      "density: 1.0\n",
      "\n",
      "\n",
      "================================================================================\n",
      "Ridge Classifier\n",
      "________________________________________________________________________________\n",
      "Training: \n",
      "RidgeClassifier(class_weight='balanced')\n",
      "train time: 0.195s\n",
      "inference time:  0.0307s\n",
      "Balanced accuracy score:    0.691\n",
      "Macro F1 score:    0.631\n",
      "Weighted F1 score:    0.721\n",
      "dimensionality: 768\n",
      "density: 1.0\n",
      "\n",
      "\n",
      "================================================================================\n",
      "kNN\n",
      "________________________________________________________________________________\n",
      "Training: \n",
      "KNeighborsClassifier()\n",
      "train time: 0.00445s\n",
      "inference time:  0.374s\n",
      "Balanced accuracy score:    0.635\n",
      "Macro F1 score:    0.643\n",
      "Weighted F1 score:    0.753\n",
      "\n",
      "================================================================================\n",
      "RandomForest Classifier\n",
      "________________________________________________________________________________\n",
      "Training: \n",
      "RandomForestClassifier(class_weight='balanced')\n",
      "train time: 47.2s\n",
      "inference time:  0.0389s\n",
      "Balanced accuracy score:    0.647\n",
      "Macro F1 score:    0.66\n",
      "Weighted F1 score:    0.764\n",
      "\n",
      "================================================================================\n",
      "Linear SVC\n",
      "________________________________________________________________________________\n",
      "Training: \n",
      "LinearSVC(class_weight='balanced')\n",
      "train time: 21.7s\n",
      "inference time:  0.0149s\n",
      "Balanced accuracy score:    0.719\n",
      "Macro F1 score:    0.689\n",
      "Weighted F1 score:    0.776\n",
      "dimensionality: 768\n",
      "density: 1.0\n",
      "\n",
      "\n",
      "================================================================================\n",
      "SGD Classifier\n",
      "________________________________________________________________________________\n",
      "Training: \n",
      "SGDClassifier(class_weight='balanced')\n",
      "train time: 3.5s\n",
      "inference time:  0.00172s\n",
      "Balanced accuracy score:    0.69\n",
      "Macro F1 score:    0.644\n",
      "Weighted F1 score:    0.751\n",
      "dimensionality: 768\n",
      "density: 1.0\n",
      "\n",
      "\n",
      "================================================================================\n",
      "NearestCentroid\n",
      "________________________________________________________________________________\n",
      "Training: \n",
      "NearestCentroid()\n",
      "train time: 0.091s\n",
      "inference time:  0.0487s\n",
      "Balanced accuracy score:    0.623\n",
      "Macro F1 score:    0.559\n",
      "Weighted F1 score:    0.665\n",
      "\n"
     ]
    }
   ],
   "source": [
    "from sklearn.linear_model import LogisticRegression, SGDClassifier, RidgeClassifier\n",
    "from sklearn.neighbors import KNeighborsClassifier, NearestCentroid\n",
    "from sklearn.svm import LinearSVC\n",
    "from sklearn.ensemble import RandomForestClassifier\n",
    "\n",
    "results = []\n",
    "for clf, name in (\n",
    "    (LogisticRegression(class_weight=\"balanced\"), \"Logistic Regression\"),\n",
    "    (RidgeClassifier(class_weight=\"balanced\"), \"Ridge Classifier\"),\n",
    "    (KNeighborsClassifier(), \"kNN\"),\n",
    "    (RandomForestClassifier(class_weight=\"balanced\"), \"RandomForest Classifier\"),\n",
    "    (LinearSVC(class_weight=\"balanced\"), \"Linear SVC\"),\n",
    "    (SGDClassifier(class_weight=\"balanced\"), \"SGD Classifier\"),\n",
    "    (NearestCentroid(), \"NearestCentroid\"),\n",
    "):\n",
    "    print(\"=\" * 80)\n",
    "    print(name)\n",
    "    results.append(benchmark(clf, name))\n",
    "    "
   ]
  },
  {
   "cell_type": "code",
   "execution_count": 33,
   "id": "217cfb96",
   "metadata": {},
   "outputs": [
    {
     "data": {
      "image/png": "[encoded data removed]",
      "text/plain": [
       "<Figure size 1000x800 with 1 Axes>"
      ]
     },
     "metadata": {},
     "output_type": "display_data"
    },
    {
     "data": {
      "image/png": "[encoded data removed]",
      "text/plain": [
       "<Figure size 1000x800 with 1 Axes>"
      ]
     },
     "metadata": {},
     "output_type": "display_data"
    }
   ],
   "source": [
    "import numpy as np\n",
    "import matplotlib.pyplot as plt  # Make sure matplotlib is imported\n",
    "\n",
    "indices = np.arange(len(results))\n",
    "\n",
    "# Extract all 5 elements from the results\n",
    "results = [[x[i] for x in results] for i in range(6)]\n",
    "\n",
    "# Unpack all 5 elements\n",
    "clf_names, balanced_accuracy_scores, macro_f1_scores, weighted_f1_scores, training_time, test_time = results\n",
    "training_time = np.array(training_time)\n",
    "test_time = np.array(test_time)\n",
    "\n",
    "fig, ax1 = plt.subplots(figsize=(10, 8))\n",
    "ax1.scatter(macro_f1_scores, training_time, s=60)\n",
    "ax1.set(\n",
    "    title=\"Macro F1 scores-training time trade-off\",\n",
    "    yscale=\"log\",\n",
    "    xlabel=\"Test Macro F1 score\",\n",
    "    ylabel=\"training time (s)\",\n",
    ")\n",
    "\n",
    "fig, ax2 = plt.subplots(figsize=(10, 8))\n",
    "ax2.scatter(macro_f1_scores, test_time, s=60)\n",
    "ax2.set(\n",
    "    title=\"Macro F1 scores-test time trade-off\",\n",
    "    yscale=\"log\",\n",
    "    xlabel=\"Test Macro F1 score\",\n",
    "    ylabel=\"test time (s)\",\n",
    ")\n",
    "\n",
    "\n",
    "# Add text annotations to all plots\n",
    "for i, txt in enumerate(clf_names):\n",
    "    ax1.annotate(txt, (macro_f1_scores[i], training_time[i]))\n",
    "    ax2.annotate(txt, (macro_f1_scores[i], test_time[i]))\n"
   ]
  }
 ],
 "metadata": {
  "kernelspec": {
   "display_name": ".venv",
   "language": "python",
   "name": "python3"
  },
  "language_info": {
   "codemirror_mode": {
    "name": "ipython",
    "version": 3
   },
   "file_extension": ".py",
   "mimetype": "text/x-python",
   "name": "python",
   "nbconvert_exporter": "python",
   "pygments_lexer": "ipython3",
   "version": "3.11.12"
  }
 },
 "nbformat": 4,
 "nbformat_minor": 5
}
