{
 "cells": [
  {
   "cell_type": "code",
   "execution_count": 3,
   "id": "e5abeae0",
   "metadata": {},
   "outputs": [],
   "source": [
    "import pandas as pd\n",
    "import numpy as np\n",
    "from datasets import load_from_disk\n"
   ]
  },
  {
   "cell_type": "code",
   "execution_count": 4,
   "id": "573b4ef5",
   "metadata": {},
   "outputs": [],
   "source": [
    "aug_stream_data = load_from_disk(\"data/processed/aug_stream_data\")\n"
   ]
  },
  {
   "cell_type": "code",
   "execution_count": 5,
   "id": "5a27d731",
   "metadata": {},
   "outputs": [],
   "source": [
    "aug_stream_data.set_format(type=\"pandas\")\n",
    "train_df = aug_stream_data[\"train\"][:]\n",
    "valid_df = aug_stream_data[\"validation\"][:]\n"
   ]
  },
  {
   "cell_type": "code",
   "execution_count": 6,
   "id": "e388b59b",
   "metadata": {},
   "outputs": [],
   "source": [
    "X_train, y_train = train_df[\"text\"], train_df[\"label\"]\n",
    "X_valid, y_valid = valid_df[\"text\"], valid_df[\"label\"]\n",
    "labels = aug_stream_data[\"train\"].features[\"label\"].names\n"
   ]
  },
  {
   "cell_type": "code",
   "execution_count": null,
   "id": "80f1695e",
   "metadata": {},
   "outputs": [],
   "source": [
    "from sentence_transformers import SentenceTransformer\n",
    "model = SentenceTransformer('sentence-transformers/all-mpnet-base-v2')\n",
    "X_train_embed = model.encode(X_train, show_progress_bar=True)\n"
   ]
  },
  {
   "cell_type": "code",
   "execution_count": null,
   "id": "a84b0131",
   "metadata": {},
   "outputs": [],
   "source": [
    "X_valid_embed = model.encode(X_valid, show_progress_bar=True)\n"
   ]
  },
  {
   "cell_type": "code",
   "execution_count": 7,
   "id": "ada3adb6",
   "metadata": {},
   "outputs": [
    {
     "data": {
      "text/plain": [
       "((8914, 768), (1114, 768))"
      ]
     },
     "execution_count": 7,
     "metadata": {},
     "output_type": "execute_result"
    }
   ],
   "source": [
    "X_train_embed.shape, X_valid_embed.shape\n"
   ]
  },
  {
   "cell_type": "code",
   "execution_count": 8,
   "id": "aa092763",
   "metadata": {},
   "outputs": [],
   "source": [
    "X_embed = np.vstack([X_train_embed, X_valid_embed])\n",
    "y = pd.concat([y_train, y_valid])\n"
   ]
  },
  {
   "cell_type": "code",
   "execution_count": null,
   "id": "8ffed37a",
   "metadata": {},
   "outputs": [],
   "source": [
    "from time import time\n",
    "from scipy.stats import loguniform\n",
    "from sklearn.model_selection import RandomizedSearchCV\n",
    "from sklearn.svm import LinearSVC\n",
    "\n",
    "print(\"Fitting the classifier to the training set\")\n",
    "t0 = time()\n",
    "param_grid = {\n",
    "    \"C\": loguniform(1e-3, 1e3),\n",
    "    # \"gamma\": loguniform(1e-4, 1e-1),\n",
    "}\n",
    "clf = RandomizedSearchCV(\n",
    "    LinearSVC(class_weight=\"balanced\"), param_grid, n_iter=40\n",
    ")\n",
    "\n",
    "clf = clf.fit(X_embed, y)\n",
    "\n",
    "print(\"done in %0.3fs\" % (time() - t0))\n",
    "print(\"Best estimator found by grid search:\")\n",
    "print(clf.best_estimator_)\n"
   ]
  },
  {
   "cell_type": "code",
   "execution_count": null,
   "id": "6e5f11a6",
   "metadata": {},
   "outputs": [],
   "source": [
    "# Enable categorical support for XGBoost\n",
    "dtrain = xgb.DMatrix(X_train, label=y_train, enable_categorical=True)\n",
    "dtest = xgb.DMatrix(X_test, label=y_test, enable_categorical=True)\n",
    "\n",
    "param = {\n",
    "    'max_depth': 6,\n",
    "    'eta': 0.3,\n",
    "    'objective': 'multi:softmax',\n",
    "    'num_class': len(label_mapping),\n",
    "    'eval_metric': 'mlogloss'\n",
    "}\n",
    "\n",
    "num_round = 100\n",
    "bst = xgb.train(param, dtrain, num_round)\n",
    "\n",
    "# Evaluate the model\n",
    "y_pred = bst.predict(dtest)\n",
    "accuracy = accuracy_score(y_test, y_pred)\n",
    "print(f'Accuracy: {accuracy:.2f}')\n"
   ]
  },
  {
   "cell_type": "code",
   "execution_count": null,
   "id": "fff56fa5",
   "metadata": {},
   "outputs": [],
   "source": [
    "from sklearn.linear_model import LogisticRegression, SGDClassifier, RidgeClassifier\n",
    "from sklearn.neighbors import KNeighborsClassifier, NearestCentroid\n",
    "from sklearn.svm import LinearSVC\n",
    "from xgboost import XGBClassifier\n",
    "\n",
    "results_embed = []\n",
    "for clf, name in (\n",
    "    (LogisticRegression(class_weight=\"balanced\"), \"Logistic Regression\"),\n",
    "    (RidgeClassifier(class_weight=\"balanced\"), \"Ridge Classifier\"),\n",
    "    (KNeighborsClassifier(), \"kNN\"),\n",
    "    (XGBClassifier(), \"XGBoost\"),\n",
    "    (LinearSVC(class_weight=\"balanced\"), \"Linear SVC\"),\n",
    "    (SGDClassifier(class_weight=\"balanced\"), \"SGD Classifier\"),\n",
    "    (NearestCentroid(), \"NearestCentroid\"),\n",
    "):\n",
    "    print(\"=\" * 80)\n",
    "    print(name)\n",
    "    results_embed.append(benchmark(clf, name))\n"
   ]
  },
  {
   "cell_type": "code",
   "execution_count": null,
   "id": "f3589dc7",
   "metadata": {},
   "outputs": [],
   "source": [
    "from src.utils import plot_confusion_matrix\n",
    "from sklearn.svm import LinearSVC\n",
    "\n",
    "svm_clf = LinearSVC(class_weight=\"balanced\", random_state=42)\n",
    "svm_clf.fit(X_train_embed, y_train)\n",
    "y_preds = svm_clf.predict(X_valid_embed)\n",
    "\n",
    "plot_confusion_matrix(y_preds, y_valid, labels)\n"
   ]
  },
  {
   "cell_type": "code",
   "execution_count": null,
   "id": "6151848b",
   "metadata": {},
   "outputs": [],
   "source": [
    "from sklearn.metrics import classification_report\n",
    "\n",
    "print(classification_report(y_valid, y_preds, target_names=labels))\n"
   ]
  }
 ],
 "metadata": {
  "kernelspec": {
   "display_name": "assignment-03",
   "language": "python",
   "name": "python3"
  },
  "language_info": {
   "codemirror_mode": {
    "name": "ipython",
    "version": 3
   },
   "file_extension": ".py",
   "mimetype": "text/x-python",
   "name": "python",
   "nbconvert_exporter": "python",
   "pygments_lexer": "ipython3",
   "version": "3.11.11"
  }
 },
 "nbformat": 4,
 "nbformat_minor": 5
}
