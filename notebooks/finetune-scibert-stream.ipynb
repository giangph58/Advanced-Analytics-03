{
 "cells": [
  {
   "cell_type": "markdown",
   "id": "9b15ed7a",
   "metadata": {},
   "source": [
    "Attempt to finetune SciBERT-base for Arxiv papers multiclassification:\n",
    "- Prepare dataset\n",
    "- Tokenize\n",
    "- Load model\n",
    "- Define metrics\n",
    "- Define Trainer object and TrainingArguments\n",
    "- Evaluate predictions\n",
    "- Error analysis\n"
   ]
  },
  {
   "cell_type": "code",
   "execution_count": null,
   "id": "b7e6a904",
   "metadata": {},
   "outputs": [],
   "source": [
    "from datasets import DatasetDict, Dataset, ClassLabel\n",
    "import pandas as pd\n",
    "import glob\n",
    "from src.utils import map_category, plot_confusion_matrix\n",
    "from sklearn.model_selection import train_test_split\n",
    "import torch\n",
    "import numpy as np\n",
    "import matplotlib.pyplot as plt\n"
   ]
  },
  {
   "cell_type": "code",
   "execution_count": 2,
   "id": "9a2be5bd",
   "metadata": {},
   "outputs": [],
   "source": [
    "# Define the path to the interim data directory\n",
    "data_path = \"data/interim/part-*.json\"\n",
    "json_files = glob.glob(data_path)\n",
    "papers_df = pd.concat([pd.read_json(file, lines=True) for file in json_files], ignore_index=True)\n",
    "\n",
    "papers_df[\"label\"] = papers_df[\"main_category\"].apply(map_category)\n",
    "papers_df[\"text\"] = papers_df[\"title\"] + \"\\n\" + papers_df[\"summary\"]\n",
    "papers_df = papers_df[[\"text\", \"label\"]]\n"
   ]
  },
  {
   "cell_type": "code",
   "execution_count": 3,
   "id": "d152b2cc",
   "metadata": {},
   "outputs": [],
   "source": [
    "train_df, temp_df = train_test_split(\n",
    "    papers_df, \n",
    "    test_size=0.2,\n",
    "    stratify=papers_df[\"label\"],\n",
    "    random_state=42\n",
    ")\n",
    "val_df, test_df = train_test_split(\n",
    "    temp_df,\n",
    "    test_size=0.5,\n",
    "    stratify=temp_df[\"label\"],\n",
    "    random_state=42\n",
    ")\n"
   ]
  },
  {
   "cell_type": "code",
   "execution_count": 4,
   "id": "99d971e4",
   "metadata": {},
   "outputs": [
    {
     "name": "stdout",
     "output_type": "stream",
     "text": [
      "Training set: 7121 examples (80.0%)\n",
      "Validation set: 890 examples (10.0%)\n",
      "Test set: 891 examples (10.0%)\n",
      "Total categories to classify: 20\n",
      "\n",
      "Split: train\n",
      "Number of unique categories: 20\n",
      "Categories present: 20/20\n",
      "\n",
      "Label Distribution:\n",
      "          Count  Percentage\n",
      "label                      \n",
      "cs         3052       42.86\n",
      "math       1201       16.87\n",
      "cond-mat    510        7.16\n",
      "astro-ph    453        6.36\n",
      "physics     451        6.33\n",
      "quant-ph    326        4.58\n",
      "eess        309        4.34\n",
      "hep-ph      146        2.05\n",
      "stat        138        1.94\n",
      "gr-qc       121        1.70\n",
      "hep-th      102        1.43\n",
      "q-bio        54        0.76\n",
      "econ         50        0.70\n",
      "nucl-th      46        0.65\n",
      "hep-ex       36        0.51\n",
      "nlin         30        0.42\n",
      "q-fin        28        0.39\n",
      "math-ph      27        0.38\n",
      "nucl-ex      22        0.31\n",
      "hep-lat      19        0.27\n",
      "------------------------------\n",
      "\n",
      "Split: validation\n",
      "Number of unique categories: 20\n",
      "Categories present: 20/20\n",
      "\n",
      "Label Distribution:\n",
      "          Count  Percentage\n",
      "label                      \n",
      "cs          381       42.81\n",
      "math        150       16.85\n",
      "cond-mat     64        7.19\n",
      "physics      56        6.29\n",
      "astro-ph     56        6.29\n",
      "quant-ph     40        4.49\n",
      "eess         38        4.27\n",
      "hep-ph       18        2.02\n",
      "stat         17        1.91\n",
      "gr-qc        15        1.69\n",
      "hep-th       13        1.46\n",
      "q-bio         7        0.79\n",
      "econ          6        0.67\n",
      "nucl-th       6        0.67\n",
      "hep-ex        5        0.56\n",
      "nlin          4        0.45\n",
      "math-ph       4        0.45\n",
      "q-fin         4        0.45\n",
      "nucl-ex       3        0.34\n",
      "hep-lat       3        0.34\n",
      "------------------------------\n",
      "\n",
      "Split: test\n",
      "Number of unique categories: 20\n",
      "Categories present: 20/20\n",
      "\n",
      "Label Distribution:\n",
      "          Count  Percentage\n",
      "label                      \n",
      "cs          382       42.87\n",
      "math        151       16.95\n",
      "cond-mat     64        7.18\n",
      "physics      57        6.40\n",
      "astro-ph     57        6.40\n",
      "quant-ph     41        4.60\n",
      "eess         39        4.38\n",
      "hep-ph       18        2.02\n",
      "stat         17        1.91\n",
      "gr-qc        15        1.68\n",
      "hep-th       13        1.46\n",
      "econ          6        0.67\n",
      "q-bio         6        0.67\n",
      "nucl-th       6        0.67\n",
      "nlin          4        0.45\n",
      "hep-ex        4        0.45\n",
      "nucl-ex       3        0.34\n",
      "math-ph       3        0.34\n",
      "q-fin         3        0.34\n",
      "hep-lat       2        0.22\n",
      "------------------------------\n"
     ]
    }
   ],
   "source": [
    "# Print split sizes to verify\n",
    "print(f\"Training set: {len(train_df)} examples ({len(train_df)/len(papers_df)*100:.1f}%)\")\n",
    "print(f\"Validation set: {len(val_df)} examples ({len(val_df)/len(papers_df)*100:.1f}%)\")\n",
    "print(f\"Test set: {len(test_df)} examples ({len(test_df)/len(papers_df)*100:.1f}%)\")\n",
    "\n",
    "# Check category distribution across all splits using pandas\n",
    "print(f\"Total categories to classify: {len(papers_df['label'].unique())}\")\n",
    "\n",
    "# Dictionary of DataFrames for easy iteration\n",
    "split_dfs = {\n",
    "    \"train\": train_df,\n",
    "    \"validation\": val_df,\n",
    "    \"test\": test_df\n",
    "}\n",
    "\n",
    "for split_name, df in split_dfs.items():\n",
    "    # Get unique categories in this split\n",
    "    split_categories = set(df[\"label\"].unique())\n",
    "    \n",
    "    # Check if all categories are present\n",
    "    missing_categories = set(papers_df[\"label\"]) - split_categories\n",
    "    \n",
    "    print(f\"\\nSplit: {split_name}\")\n",
    "    print(f\"Number of unique categories: {len(split_categories)}\")\n",
    "    print(f\"Categories present: {len(split_categories)}/{len(papers_df['label'].unique())}\")\n",
    "\n",
    "    # Calculate and print label distribution\n",
    "    print(\"\\nLabel Distribution:\")\n",
    "    label_counts = df['label'].value_counts()\n",
    "    label_percentages = df['label'].value_counts(normalize=True) * 100\n",
    "    distribution_df = pd.DataFrame({'Count': label_counts, 'Percentage': label_percentages.round(2)})\n",
    "    print(distribution_df)\n",
    "    print(\"-\" * 30) # Separator for clarity\n"
   ]
  },
  {
   "cell_type": "code",
   "execution_count": 5,
   "id": "e20e2241",
   "metadata": {},
   "outputs": [
    {
     "data": {
      "application/vnd.jupyter.widget-view+json": {
       "model_id": "22f72666a3b44bf897814f3ba27a8a49",
       "version_major": 2,
       "version_minor": 0
      },
      "text/plain": [
       "Casting the dataset:   0%|          | 0/7121 [00:00<?, ? examples/s]"
      ]
     },
     "metadata": {},
     "output_type": "display_data"
    },
    {
     "data": {
      "application/vnd.jupyter.widget-view+json": {
       "model_id": "527008da553e4c038dd922ab4e37d84b",
       "version_major": 2,
       "version_minor": 0
      },
      "text/plain": [
       "Casting the dataset:   0%|          | 0/890 [00:00<?, ? examples/s]"
      ]
     },
     "metadata": {},
     "output_type": "display_data"
    },
    {
     "data": {
      "application/vnd.jupyter.widget-view+json": {
       "model_id": "40aab8ae7c174279b19fbbc9b6aaca34",
       "version_major": 2,
       "version_minor": 0
      },
      "text/plain": [
       "Casting the dataset:   0%|          | 0/891 [00:00<?, ? examples/s]"
      ]
     },
     "metadata": {},
     "output_type": "display_data"
    },
    {
     "name": "stdout",
     "output_type": "stream",
     "text": [
      "DatasetDict({\n",
      "    train: Dataset({\n",
      "        features: ['text', 'label'],\n",
      "        num_rows: 7121\n",
      "    })\n",
      "    validation: Dataset({\n",
      "        features: ['text', 'label'],\n",
      "        num_rows: 890\n",
      "    })\n",
      "    test: Dataset({\n",
      "        features: ['text', 'label'],\n",
      "        num_rows: 891\n",
      "    })\n",
      "})\n"
     ]
    }
   ],
   "source": [
    "# Create the final DatasetDict with train, validation, and test splits\n",
    "data = DatasetDict({\n",
    "    \"train\": Dataset.from_pandas(train_df, preserve_index=False),\n",
    "    \"validation\": Dataset.from_pandas(val_df, preserve_index=False),\n",
    "    \"test\": Dataset.from_pandas(test_df, preserve_index=False)\n",
    "})\n",
    "\n",
    "labels = sorted(papers_df[\"label\"].unique())\n",
    "class_label = ClassLabel(names=labels)\n",
    "\n",
    "data = data.cast_column(\"label\", class_label)\n",
    "print(data)\n"
   ]
  },
  {
   "cell_type": "code",
   "execution_count": 9,
   "id": "e485d78c",
   "metadata": {},
   "outputs": [],
   "source": [
    "from transformers import AutoTokenizer\n",
    "model_id = \"allenai/scibert_scivocab_uncased\"\n",
    "device = torch.device(\"cuda\" if torch.cuda.is_available() else \"cpu\")\n",
    "tokenizer = AutoTokenizer.from_pretrained(model_id)\n",
    "\n",
    "def tokenize(batch):\n",
    "    return tokenizer(batch[\"text\"], padding=True, truncation=True, max_length=512)\n"
   ]
  },
  {
   "cell_type": "code",
   "execution_count": 10,
   "id": "4ed65b94",
   "metadata": {},
   "outputs": [
    {
     "data": {
      "application/vnd.jupyter.widget-view+json": {
       "model_id": "a900823d5e014d19a209be0bdf8d1e18",
       "version_major": 2,
       "version_minor": 0
      },
      "text/plain": [
       "Map:   0%|          | 0/7121 [00:00<?, ? examples/s]"
      ]
     },
     "metadata": {},
     "output_type": "display_data"
    },
    {
     "data": {
      "application/vnd.jupyter.widget-view+json": {
       "model_id": "5d60f169e81f4dae8ba901d6ee4a8678",
       "version_major": 2,
       "version_minor": 0
      },
      "text/plain": [
       "Map:   0%|          | 0/890 [00:00<?, ? examples/s]"
      ]
     },
     "metadata": {},
     "output_type": "display_data"
    },
    {
     "data": {
      "application/vnd.jupyter.widget-view+json": {
       "model_id": "8f723355ee79498088b8952c21e46498",
       "version_major": 2,
       "version_minor": 0
      },
      "text/plain": [
       "Map:   0%|          | 0/891 [00:00<?, ? examples/s]"
      ]
     },
     "metadata": {},
     "output_type": "display_data"
    }
   ],
   "source": [
    "data_encoded = data.map(tokenize, batched=True, batch_size=None)\n"
   ]
  },
  {
   "cell_type": "code",
   "execution_count": 11,
   "id": "3a0135f4",
   "metadata": {},
   "outputs": [
    {
     "data": {
      "text/plain": [
       "((7121,), (890,))"
      ]
     },
     "execution_count": 11,
     "metadata": {},
     "output_type": "execute_result"
    }
   ],
   "source": [
    "X_train = np.array(data_encoded[\"train\"][\"text\"])\n",
    "X_valid = np.array(data_encoded[\"validation\"][\"text\"])\n",
    "y_train = np.array(data_encoded[\"train\"][\"label\"])\n",
    "y_valid = np.array(data_encoded[\"validation\"][\"label\"])\n",
    "X_train.shape, X_valid.shape\n"
   ]
  },
  {
   "cell_type": "code",
   "execution_count": 12,
   "id": "751e9b7e",
   "metadata": {},
   "outputs": [
    {
     "data": {
      "application/vnd.jupyter.widget-view+json": {
       "model_id": "5ab75d6c07b742aea5a053284c59a7a6",
       "version_major": 2,
       "version_minor": 0
      },
      "text/plain": [
       "pytorch_model.bin:   0%|          | 0.00/442M [00:00<?, ?B/s]"
      ]
     },
     "metadata": {},
     "output_type": "display_data"
    },
    {
     "name": "stderr",
     "output_type": "stream",
     "text": [
      "Some weights of BertForSequenceClassification were not initialized from the model checkpoint at allenai/scibert_scivocab_uncased and are newly initialized: ['classifier.bias', 'classifier.weight']\n",
      "You should probably TRAIN this model on a down-stream task to be able to use it for predictions and inference.\n"
     ]
    },
    {
     "data": {
      "application/vnd.jupyter.widget-view+json": {
       "model_id": "fdc67d99bc6441c4addf6bb77a5459e9",
       "version_major": 2,
       "version_minor": 0
      },
      "text/plain": [
       "model.safetensors:   0%|          | 0.00/442M [00:00<?, ?B/s]"
      ]
     },
     "metadata": {},
     "output_type": "display_data"
    }
   ],
   "source": [
    "from transformers import AutoModelForSequenceClassification\n",
    "\n",
    "num_labels = len(labels)\n",
    "model = (AutoModelForSequenceClassification\n",
    "        .from_pretrained(model_id, num_labels=num_labels)\n",
    "        .to(device))\n"
   ]
  },
  {
   "cell_type": "code",
   "execution_count": 13,
   "id": "3ff50249",
   "metadata": {},
   "outputs": [],
   "source": [
    "from sklearn.metrics import accuracy_score, f1_score\n",
    "def compute_metrics(pred):\n",
    "    labels = pred.label_ids\n",
    "    preds = pred.predictions.argmax(-1)\n",
    "    f1 = f1_score(labels, preds, average=\"weighted\")\n",
    "    acc = accuracy_score(labels, preds)\n",
    "    return {\"accuracy\": acc, \"f1\": f1}\n"
   ]
  },
  {
   "cell_type": "code",
   "execution_count": 14,
   "id": "d0cb20ae",
   "metadata": {},
   "outputs": [
    {
     "data": {
      "application/vnd.jupyter.widget-view+json": {
       "model_id": "0faed1a5bda34108826cb452fa60d2cb",
       "version_major": 2,
       "version_minor": 0
      },
      "text/plain": [
       "VBox(children=(HTML(value='<center> <img\\nsrc=https://huggingface.co/front/assets/huggingface_logo-noborder.sv…"
      ]
     },
     "metadata": {},
     "output_type": "display_data"
    }
   ],
   "source": [
    "from huggingface_hub import notebook_login\n",
    "notebook_login()\n"
   ]
  },
  {
   "cell_type": "code",
   "execution_count": 16,
   "id": "83f13169",
   "metadata": {},
   "outputs": [],
   "source": [
    "from transformers import Trainer, TrainingArguments\n",
    "\n",
    "batch_size = 64\n",
    "num_train_epochs = 2\n",
    "learning_rate = 2e-5\n",
    "logging_steps = len(data_encoded[\"train\"]) // batch_size\n",
    "model_name = f\"{model_id}-finetuned-arxiv\"\n",
    "training_args = TrainingArguments(output_dir=model_name,\n",
    "                                  num_train_epochs=num_train_epochs,\n",
    "                                  learning_rate=learning_rate,per_device_train_batch_size=batch_size,per_device_eval_batch_size=batch_size,weight_decay=0.01,\n",
    "                                  eval_strategy=\"epoch\",\n",
    "                                  disable_tqdm=False,\n",
    "                                  logging_steps=logging_steps,push_to_hub=True,\n",
    "                                  log_level=\"error\")\n"
   ]
  },
  {
   "cell_type": "code",
   "execution_count": 29,
   "id": "85dbb64a",
   "metadata": {},
   "outputs": [
    {
     "name": "stdout",
     "output_type": "stream",
     "text": [
      "Class weights:\n",
      "astro-ph: 0.7860\n",
      "cond-mat: 0.6981\n",
      "cs: 0.1167\n",
      "econ: 7.1210\n",
      "eess: 1.1523\n",
      "gr-qc: 2.9426\n",
      "hep-ex: 9.8903\n",
      "hep-lat: 18.7395\n",
      "hep-ph: 2.4387\n",
      "hep-th: 3.4907\n",
      "math: 0.2965\n",
      "math-ph: 13.1870\n",
      "nlin: 11.8683\n",
      "nucl-ex: 16.1841\n",
      "nucl-th: 7.7402\n",
      "physics: 0.7895\n",
      "q-bio: 6.5935\n",
      "q-fin: 12.7161\n",
      "quant-ph: 1.0922\n",
      "stat: 2.5801\n"
     ]
    }
   ],
   "source": [
    "from sklearn.utils.class_weight import compute_class_weight\n",
    "\n",
    "# Calculate class weights\n",
    "train_labels = np.array(data_encoded[\"train\"][\"label\"])\n",
    "class_weights = compute_class_weight(\n",
    "    class_weight=\"balanced\",\n",
    "    classes=np.unique(train_labels),\n",
    "    y=train_labels\n",
    ")\n",
    "\n",
    "# Convert to PyTorch tensor and move to the right device\n",
    "class_weights = torch.tensor(class_weights, dtype=torch.float).to(device)\n",
    "\n",
    "# Print the weights to see the balance\n",
    "weight_dict = {data[\"train\"].features[\"label\"].int2str(i): w.item() for i, w in enumerate(class_weights)}\n",
    "print(\"Class weights:\")\n",
    "for cls, weight in sorted(weight_dict.items()):\n",
    "    print(f\"{cls}: {weight:.4f}\")\n",
    "\n",
    "class CustomTrainer(Trainer):\n",
    "    def __init__(self, class_weights=None, *args, **kwargs):\n",
    "        super().__init__(*args, **kwargs)\n",
    "        self.class_weights = class_weights\n",
    "        \n",
    "    def compute_weighted_loss(self, model, inputs, return_outputs=False):\n",
    "        labels = inputs.pop(\"labels\")\n",
    "        outputs = model(**inputs)\n",
    "        logits = outputs.logits\n",
    "        \n",
    "        # Apply class weights to the loss\n",
    "        loss_fct = torch.nn.CrossEntropyLoss(weight=self.class_weights)\n",
    "        loss = loss_fct(logits.view(-1, model.config.num_labels), labels.view(-1))\n",
    "        \n",
    "        return (loss, outputs) if return_outputs else loss\n"
   ]
  },
  {
   "cell_type": "code",
   "execution_count": 30,
   "id": "9b1871a6",
   "metadata": {},
   "outputs": [
    {
     "name": "stderr",
     "output_type": "stream",
     "text": [
      "/tmp/ipykernel_26146/1236485304.py:22: FutureWarning: `tokenizer` is deprecated and will be removed in version 5.0.0 for `CustomTrainer.__init__`. Use `processing_class` instead.\n",
      "  super().__init__(*args, **kwargs)\n"
     ]
    },
    {
     "data": {
      "text/html": [
       "\n",
       "    <div>\n",
       "      \n",
       "      <progress value='224' max='224' style='width:300px; height:20px; vertical-align: middle;'></progress>\n",
       "      [224/224 04:53, Epoch 2/2]\n",
       "    </div>\n",
       "    <table border=\"1\" class=\"dataframe\">\n",
       "  <thead>\n",
       " <tr style=\"text-align: left;\">\n",
       "      <th>Epoch</th>\n",
       "      <th>Training Loss</th>\n",
       "      <th>Validation Loss</th>\n",
       "      <th>Accuracy</th>\n",
       "      <th>F1</th>\n",
       "    </tr>\n",
       "  </thead>\n",
       "  <tbody>\n",
       "    <tr>\n",
       "      <td>1</td>\n",
       "      <td>0.513600</td>\n",
       "      <td>0.603520</td>\n",
       "      <td>0.823596</td>\n",
       "      <td>0.811577</td>\n",
       "    </tr>\n",
       "    <tr>\n",
       "      <td>2</td>\n",
       "      <td>0.359200</td>\n",
       "      <td>0.611151</td>\n",
       "      <td>0.820225</td>\n",
       "      <td>0.811025</td>\n",
       "    </tr>\n",
       "  </tbody>\n",
       "</table><p>"
      ],
      "text/plain": [
       "<IPython.core.display.HTML object>"
      ]
     },
     "metadata": {},
     "output_type": "display_data"
    },
    {
     "data": {
      "text/plain": [
       "TrainOutput(global_step=224, training_loss=0.4357878001672881, metrics={'train_runtime': 295.2871, 'train_samples_per_second': 48.231, 'train_steps_per_second': 0.759, 'total_flos': 3747833257648128.0, 'train_loss': 0.4357878001672881, 'epoch': 2.0})"
      ]
     },
     "execution_count": 30,
     "metadata": {},
     "output_type": "execute_result"
    }
   ],
   "source": [
    "from transformers import Trainer\n",
    "trainer = CustomTrainer(\n",
    "    class_weights=class_weights,\n",
    "    model=model, \n",
    "    args=training_args,\n",
    "    compute_metrics=compute_metrics,\n",
    "    train_dataset=data_encoded[\"train\"],\n",
    "    eval_dataset=data_encoded[\"validation\"],\n",
    "    tokenizer=tokenizer\n",
    ")\n",
    "\n",
    "trainer.train()\n"
   ]
  },
  {
   "cell_type": "code",
   "execution_count": 31,
   "id": "17a06ec7",
   "metadata": {},
   "outputs": [
    {
     "data": {
      "text/html": [
       "\n",
       "    <div>\n",
       "      \n",
       "      <progress value='2' max='14' style='width:300px; height:20px; vertical-align: middle;'></progress>\n",
       "      [ 2/14 00:00 < 00:05, 2.26 it/s]\n",
       "    </div>\n",
       "    "
      ],
      "text/plain": [
       "<IPython.core.display.HTML object>"
      ]
     },
     "metadata": {},
     "output_type": "display_data"
    }
   ],
   "source": [
    "preds_output = trainer.predict(data_encoded[\"validation\"])\n"
   ]
  },
  {
   "cell_type": "code",
   "execution_count": 32,
   "id": "9b8e6d09",
   "metadata": {},
   "outputs": [
    {
     "data": {
      "text/plain": [
       "{'test_loss': 0.6111505031585693,\n",
       " 'test_accuracy': 0.8202247191011236,\n",
       " 'test_f1': 0.811025267891951,\n",
       " 'test_runtime': 5.8877,\n",
       " 'test_samples_per_second': 151.163,\n",
       " 'test_steps_per_second': 2.378}"
      ]
     },
     "execution_count": 32,
     "metadata": {},
     "output_type": "execute_result"
    }
   ],
   "source": [
    "preds_output.metrics\n"
   ]
  },
  {
   "cell_type": "code",
   "execution_count": 33,
   "id": "7459cd9a",
   "metadata": {},
   "outputs": [],
   "source": [
    "y_preds = np.argmax(preds_output.predictions, axis=1)\n"
   ]
  },
  {
   "cell_type": "code",
   "execution_count": 35,
   "id": "a5c4e1e3",
   "metadata": {},
   "outputs": [
    {
     "data": {
      "image/png": "[encoded data removed]",
      "text/plain": [
       "<Figure size 1000x1000 with 1 Axes>"
      ]
     },
     "metadata": {},
     "output_type": "display_data"
    }
   ],
   "source": [
    "plot_confusion_matrix(y_preds, y_valid, labels)\n"
   ]
  },
  {
   "cell_type": "code",
   "execution_count": null,
   "id": "6f6f4f0f",
   "metadata": {},
   "outputs": [],
   "source": [
    "from torch.nn.functional import cross_entropy\n",
    "\n",
    "def forward_pass_with_label(batch):\n",
    "    # Place all input tensors on the same device as the model\n",
    "    inputs = {k:v.to(device) for k,v in batch.items()\n",
    "              if k in tokenizer.model_input_names}\n",
    "    with torch.no_grad():\n",
    "        output = model(**inputs)\n",
    "        pred_label = torch.argmax(output.logits, axis=-1)\n",
    "        loss = cross_entropy(output.logits, batch[\"label\"].to(device),\n",
    "                         reduction=\"none\")\n",
    "    # Place outputs on CPU for compatibility with other dataset columns\n",
    "    return {\"loss\": loss.cpu().numpy(),\n",
    "            \"predicted_label\": pred_label.cpu().numpy()}\n"
   ]
  },
  {
   "cell_type": "code",
   "execution_count": null,
   "id": "55362386",
   "metadata": {},
   "outputs": [],
   "source": [
    "# Convert our dataset back to PyTorch tensors\n",
    "data_encoded.set_format(\"torch\",\n",
    "                        columns=[\"input_ids\", \"attention_mask\", \"label\"])\n",
    "# Compute loss values\n",
    "data_encoded[\"validation\"] = data_encoded[\"validation\"].map(\n",
    "    forward_pass_with_label, batched=True, batch_size=16)\n"
   ]
  },
  {
   "cell_type": "code",
   "execution_count": null,
   "id": "306d69da",
   "metadata": {},
   "outputs": [],
   "source": [
    "def label_int2str(row):\n",
    "    return data[\"train\"].features[\"label\"].int2str(row)\n"
   ]
  },
  {
   "cell_type": "code",
   "execution_count": null,
   "id": "1eb8643e",
   "metadata": {},
   "outputs": [],
   "source": [
    "data_encoded.set_format(\"pandas\")\n",
    "cols = [\"text\", \"label\", \"predicted_label\", \"loss\"]\n",
    "df_test = data_encoded[\"validation\"][:][cols]\n",
    "df_test[\"label\"] = df_test[\"label\"].apply(label_int2str)\n",
    "df_test[\"predicted_label\"] = (df_test[\"predicted_label\"].apply(label_int2str))\n"
   ]
  },
  {
   "cell_type": "code",
   "execution_count": null,
   "id": "a2a1bd83",
   "metadata": {},
   "outputs": [],
   "source": [
    "df_test.sort_values(\"loss\", ascending=False).head(10)\n"
   ]
  },
  {
   "cell_type": "code",
   "execution_count": null,
   "id": "c7f0d3fe",
   "metadata": {},
   "outputs": [],
   "source": [
    "df_test.sort_values(\"loss\", ascending=True).head(10)\n"
   ]
  }
 ],
 "metadata": {
  "kernelspec": {
   "display_name": ".venv",
   "language": "python",
   "name": "python3"
  },
  "language_info": {
   "codemirror_mode": {
    "name": "ipython",
    "version": 3
   },
   "file_extension": ".py",
   "mimetype": "text/x-python",
   "name": "python",
   "nbconvert_exporter": "python",
   "pygments_lexer": "ipython3",
   "version": "3.11.12"
  }
 },
 "nbformat": 4,
 "nbformat_minor": 5
}
