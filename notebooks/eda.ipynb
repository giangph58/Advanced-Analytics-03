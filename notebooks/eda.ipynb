{
 "cells": [
  {
   "cell_type": "code",
   "execution_count": 1,
   "id": "bed4e9f6",
   "metadata": {},
   "outputs": [
    {
     "name": "stdout",
     "output_type": "stream",
     "text": [
      "I am using the following SPARK_HOME: d:\\OneDrive - CGIAR\\Master\\Advanced Analytics\\assignments\\assignment-03\\spark\\spark-3.5.5-bin-hadoop3\n",
      "Windows detected: set HADOOP_HOME to: d:\\OneDrive - CGIAR\\Master\\Advanced Analytics\\assignments\\assignment-03\\spark\\winutils\n",
      "  Also added Hadoop bin directory to PATH: d:\\OneDrive - CGIAR\\Master\\Advanced Analytics\\assignments\\assignment-03\\spark\\winutils\\bin\n"
     ]
    }
   ],
   "source": [
    "import os\n",
    "spark_home = os.path.abspath(os.getcwd() + \"/spark/spark-3.5.5-bin-hadoop3\")\n",
    "hadoop_home = os.path.abspath(os.getcwd() + \"/spark/winutils\")\n",
    "print(f\"I am using the following SPARK_HOME: {spark_home}\")\n",
    "if os.name == 'nt':\n",
    "    os.environ[\"HADOOP_HOME\"] = f\"{hadoop_home}\"\n",
    "    print(f\"Windows detected: set HADOOP_HOME to: {os.environ['HADOOP_HOME']}\")\n",
    "    hadoop_bin = os.path.join(hadoop_home, \"bin\")\n",
    "    os.environ[\"PATH\"] = f\"{hadoop_bin};{os.environ['PATH']}\"\n",
    "    print(f\"  Also added Hadoop bin directory to PATH: {hadoop_bin}\")\n",
    "\n",
    "import findspark\n",
    "import pyspark\n",
    "from pyspark.streaming import StreamingContext\n",
    "\n",
    "findspark.init(spark_home)\n",
    "sc = pyspark.SparkContext()\n",
    "spark = pyspark.sql.SparkSession.builder.getOrCreate()\n"
   ]
  },
  {
   "cell_type": "code",
   "execution_count": 2,
   "id": "4ea9dde8",
   "metadata": {},
   "outputs": [],
   "source": [
    "papers_df = spark.read.json(\"data/interim\")\n"
   ]
  },
  {
   "cell_type": "markdown",
   "id": "488cb561",
   "metadata": {},
   "source": [
    "# Data structure\n",
    "\n",
    "Understand what you have and whether it's clean:\n",
    "- What is the schema of the dataset?\n",
    "- Are there missing values in key fields like title, summary, main_category, categories, or published?\n",
    "- Are there duplicated records (aid)?"
   ]
  },
  {
   "cell_type": "code",
   "execution_count": 3,
   "id": "003c200a",
   "metadata": {},
   "outputs": [
    {
     "name": "stdout",
     "output_type": "stream",
     "text": [
      "root\n",
      " |-- aid: string (nullable = true)\n",
      " |-- categories: string (nullable = true)\n",
      " |-- main_category: string (nullable = true)\n",
      " |-- published: string (nullable = true)\n",
      " |-- summary: string (nullable = true)\n",
      " |-- title: string (nullable = true)\n",
      "\n",
      "Dataset size: 4442 papers\n",
      "Number of columns: 6\n",
      "+---+----------+-------------+---------+-------+-----+\n",
      "|aid|categories|main_category|published|summary|title|\n",
      "+---+----------+-------------+---------+-------+-----+\n",
      "|  0|         0|            0|        0|      0|    0|\n",
      "+---+----------+-------------+---------+-------+-----+\n",
      "\n"
     ]
    }
   ],
   "source": [
    "# Schema\n",
    "papers_df.printSchema()\n",
    "\n",
    "# Get basic statistics and information\n",
    "print(f\"Dataset size: {papers_df.count()} papers\")\n",
    "print(f\"Number of columns: {len(papers_df.columns)}\")\n",
    "\n",
    "# Check for missing values\n",
    "from pyspark.sql.functions import col, count, when, isnan, isnull\n",
    "from pyspark.sql.functions import split, size, year, month, explode, round, sum as spark_sum\n",
    "\n",
    "papers_df.select([count(when(col(c).isNull() | isnan(col(c)), c)).alias(c) \n",
    "                          for c in papers_df.columns]).show()\n"
   ]
  },
  {
   "cell_type": "code",
   "execution_count": 10,
   "id": "eb228599",
   "metadata": {},
   "outputs": [
    {
     "name": "stdout",
     "output_type": "stream",
     "text": [
      "First record:\n",
      "{'aid': 'http://arxiv.org/abs/2503.21666v1',\n",
      " 'categories': 'eess.SY,cs.SY',\n",
      " 'main_category': 'eess.SY',\n",
      " 'published': '2025-03-27T16:33:31Z',\n",
      " 'summary': 'This paper presents a novel modeling approach for building performance\\n'\n",
      "            'simulation, characterized as a white-box model with a high degree of modularity\\n'\n",
      "            'and flexibility, enabling direct integration into complex large-scale energy\\n'\n",
      "            'system co-simulations. The introduced model is described in detail, with a\\n'\n",
      "            'focus on its modular structure, and proposes various configurations that\\n'\n",
      "            'include various building insulation, heating methods, occupancy patterns, and\\n'\n",
      "            'weather data to analyze different scenarios, and the energy consumption, CO2\\n'\n",
      "            'emissions, and heating costs are compared and analyzed across 36 introduced\\n'\n",
      "            'scenarios. The thermodynamic behavior of the model is shown to be consistent\\n'\n",
      "            'with real-world conditions, and the comparison of the scenarios concludes that\\n'\n",
      "            'the use of heat pumps for indoor heating in well-insulated buildings has\\n'\n",
      "            'significant economic and sustainability benefits, whereas the use of natural\\n'\n",
      "            'gas-fueled boilers is more cost-effective for buildings with low energy\\n'\n",
      "            'ratings.',\n",
      " 'title': 'Economy and sustainability analysis with a novel modular configurable\\n'\n",
      "          '  multi-modal white-box building model'}\n"
     ]
    }
   ],
   "source": [
    "# Print the first record in a dictionary format with better formatting\n",
    "from pprint import pprint\n",
    "\n",
    "# Get the first record as a dictionary\n",
    "first_record = papers_df.limit(1).toPandas().T.to_dict()[0]\n",
    "\n",
    "# Pretty print with formatting\n",
    "print(\"First record:\")\n",
    "pprint(first_record, width=100, compact=False)\n"
   ]
  },
  {
   "cell_type": "markdown",
   "id": "45c9d8cb",
   "metadata": {},
   "source": [
    "# Main category distribution\n",
    "\n",
    "Understand your labels before deciding on prediction strategy:\n",
    "- How many unique values are there in `main_category`?\n",
    "- What are the top N most frequent `main_category` values?\n",
    "- Are some `main_category` values very rare or dominant? (e.g., does one class dominate 50% of the data?)\n",
    "- How many unique `categories` values?\n",
    "- What’s the average number of `categories` per paper (for multilabel setup)?\n",
    "- How do `main_category` distributions differ over week?\n",
    "- What's the distribution of Arxiv main category (before `.`)?\n"
   ]
  },
  {
   "cell_type": "code",
   "execution_count": 4,
   "id": "339d1bc1",
   "metadata": {},
   "outputs": [
    {
     "name": "stdout",
     "output_type": "stream",
     "text": [
      "Number of unique main_categories: 143\n"
     ]
    }
   ],
   "source": [
    "# Target Analysis: Main Category Distribution and Characteristics# Target Analysis: Main Category Distribution and Characteristics\n",
    "\n",
    "# ---------- 1. Count unique values in main_category ----------\n",
    "unique_main_categories = papers_df.select(\"main_category\").distinct().count()\n",
    "print(f\"Number of unique main_categories: {unique_main_categories}\")\n"
   ]
  },
  {
   "cell_type": "code",
   "execution_count": 5,
   "id": "91a6c284",
   "metadata": {},
   "outputs": [
    {
     "name": "stdout",
     "output_type": "stream",
     "text": [
      "\n",
      "Top 10 most frequent main categories:\n",
      "+-----------------+-----+\n",
      "|main_category    |count|\n",
      "+-----------------+-----+\n",
      "|cs.CV            |511  |\n",
      "|cs.LG            |295  |\n",
      "|cs.CL            |234  |\n",
      "|quant-ph         |195  |\n",
      "|cs.RO            |118  |\n",
      "|cs.AI            |108  |\n",
      "|math.AP          |94   |\n",
      "|eess.SY          |91   |\n",
      "|cond-mat.mtrl-sci|90   |\n",
      "|hep-ph           |84   |\n",
      "+-----------------+-----+\n",
      "only showing top 10 rows\n",
      "\n"
     ]
    }
   ],
   "source": [
    "# ---------- 2. Top N most frequent main_categories ----------\n",
    "N = 10  # Change this to see more or fewer categories\n",
    "main_cat_dist = papers_df.groupBy(\"main_category\").count().orderBy(\"count\", ascending=False)\n",
    "print(f\"\\nTop {N} most frequent main categories:\")\n",
    "main_cat_dist.show(N, truncate=False)\n"
   ]
  },
  {
   "cell_type": "code",
   "execution_count": 6,
   "id": "fca271f3",
   "metadata": {},
   "outputs": [
    {
     "name": "stdout",
     "output_type": "stream",
     "text": [
      "\n",
      "Category distribution with percentages:\n",
      "+-----------------+-----+----------+\n",
      "|main_category    |count|percentage|\n",
      "+-----------------+-----+----------+\n",
      "|cs.CV            |511  |11.5      |\n",
      "|cs.LG            |295  |6.64      |\n",
      "|cs.CL            |234  |5.27      |\n",
      "|quant-ph         |195  |4.39      |\n",
      "|cs.RO            |118  |2.66      |\n",
      "|cs.AI            |108  |2.43      |\n",
      "|math.AP          |94   |2.12      |\n",
      "|eess.SY          |91   |2.05      |\n",
      "|cond-mat.mtrl-sci|90   |2.03      |\n",
      "|hep-ph           |84   |1.89      |\n",
      "|math.OC          |73   |1.64      |\n",
      "|gr-qc            |70   |1.58      |\n",
      "|physics.optics   |69   |1.55      |\n",
      "|eess.SP          |68   |1.53      |\n",
      "|math.CO          |67   |1.51      |\n",
      "|astro-ph.GA      |66   |1.49      |\n",
      "|cs.CR            |62   |1.4       |\n",
      "|hep-th           |61   |1.37      |\n",
      "|cond-mat.mes-hall|60   |1.35      |\n",
      "|math.NA          |59   |1.33      |\n",
      "+-----------------+-----+----------+\n",
      "only showing top 20 rows\n",
      "\n",
      "Dominant categories (>5%): 3\n",
      "+-------------+-----+----------+\n",
      "|main_category|count|percentage|\n",
      "+-------------+-----+----------+\n",
      "|cs.CV        |511  |11.5      |\n",
      "|cs.LG        |295  |6.64      |\n",
      "|cs.CL        |234  |5.27      |\n",
      "+-------------+-----+----------+\n",
      "\n",
      "Rare categories (<1%): 113\n",
      "+------------------+-----+----------+\n",
      "|main_category     |count|percentage|\n",
      "+------------------+-----+----------+\n",
      "|math.NT           |42   |0.95      |\n",
      "|cond-mat.soft     |42   |0.95      |\n",
      "|eess.IV           |41   |0.92      |\n",
      "|math.DS           |40   |0.9       |\n",
      "|math.AG           |38   |0.86      |\n",
      "|cs.IT             |38   |0.86      |\n",
      "|math.DG           |37   |0.83      |\n",
      "|astro-ph.IM       |34   |0.77      |\n",
      "|nucl-th           |34   |0.77      |\n",
      "|astro-ph.EP       |32   |0.72      |\n",
      "|cs.DS             |31   |0.7       |\n",
      "|math.FA           |31   |0.7       |\n",
      "|cond-mat.stat-mech|29   |0.65      |\n",
      "|math.RT           |28   |0.63      |\n",
      "|cs.NI             |27   |0.61      |\n",
      "|physics.soc-ph    |27   |0.61      |\n",
      "|math.ST           |26   |0.59      |\n",
      "|cs.GR             |25   |0.56      |\n",
      "|math.GT           |25   |0.56      |\n",
      "|cs.SD             |25   |0.56      |\n",
      "+------------------+-----+----------+\n",
      "only showing top 20 rows\n",
      "\n"
     ]
    }
   ],
   "source": [
    "# ---------- 3. Check for category imbalance ----------\n",
    "total_papers = papers_df.count()\n",
    "main_cat_dist_with_pct = main_cat_dist.withColumn(\n",
    "    \"percentage\", round((col(\"count\") / total_papers) * 100, 2)\n",
    ")\n",
    "\n",
    "print(\"\\nCategory distribution with percentages:\")\n",
    "main_cat_dist_with_pct.show(20, truncate=False)\n",
    "\n",
    "# Find dominant categories (>10%) and rare categories (<1%)\n",
    "dominant_categories = main_cat_dist_with_pct.filter(\"percentage > 5\")\n",
    "rare_categories = main_cat_dist_with_pct.filter(\"percentage < 1\")\n",
    "\n",
    "print(f\"Dominant categories (>5%): {dominant_categories.count()}\")\n",
    "dominant_categories.show(truncate=False)\n",
    "\n",
    "print(f\"Rare categories (<1%): {rare_categories.count()}\")\n",
    "rare_categories.show(truncate=False)\n"
   ]
  },
  {
   "cell_type": "code",
   "execution_count": 7,
   "id": "cef31a1f",
   "metadata": {},
   "outputs": [
    {
     "name": "stdout",
     "output_type": "stream",
     "text": [
      "\n",
      "Number of unique subcategories: 185\n"
     ]
    }
   ],
   "source": [
    "# ---------- 4. Unique subcategories in categories field ----------\n",
    "# Assuming categories field contains comma-separated category codes\n",
    "categories_exploded = papers_df.select(\n",
    "    explode(split(col(\"categories\"), \",\")).alias(\"subcategory\")\n",
    ")\n",
    "unique_subcategories = categories_exploded.select(\"subcategory\").distinct().count()\n",
    "print(f\"\\nNumber of unique subcategories: {unique_subcategories}\")\n"
   ]
  },
  {
   "cell_type": "code",
   "execution_count": 8,
   "id": "deb8005e",
   "metadata": {},
   "outputs": [
    {
     "name": "stdout",
     "output_type": "stream",
     "text": [
      "\n",
      "Average number of categories per paper: 1.77\n",
      "\n",
      "Distribution of number of categories per paper:\n",
      "+--------------+-----+----------+\n",
      "|num_categories|count|percentage|\n",
      "+--------------+-----+----------+\n",
      "|             1| 2183|    49.14%|\n",
      "|             2| 1438|    32.37%|\n",
      "|             3|  590|    13.28%|\n",
      "|             4|  153|     3.44%|\n",
      "|             5|   64|     1.44%|\n",
      "|             6|   12|     0.27%|\n",
      "|             7|    2|     0.05%|\n",
      "+--------------+-----+----------+\n",
      "\n"
     ]
    }
   ],
   "source": [
    "from pyspark.sql.functions import concat, lit\n",
    "\n",
    "cat_dist_with_count = papers_df.withColumn(\n",
    "    \"num_categories\", size(split(col(\"categories\"), \",\"))\n",
    ")\n",
    "\n",
    "avg_labels = cat_dist_with_count.agg(\n",
    "    {\"num_categories\": \"avg\"}\n",
    ").collect()[0][0]\n",
    "\n",
    "print(f\"\\nAverage number of categories per paper: {avg_labels:.2f}\")\n",
    "\n",
    "category_dist = cat_dist_with_count.groupBy(\"num_categories\").count()\n",
    "\n",
    "# Add percentage column\n",
    "category_dist_with_pct = category_dist.withColumn(\n",
    "    \"percentage\", round((col(\"count\") / total_papers) * 100, 2)\n",
    ")\n",
    "\n",
    "# Format the output to include both count and percentage\n",
    "print(\"\\nDistribution of number of categories per paper:\")\n",
    "category_dist_with_pct.select(\n",
    "    \"num_categories\", \n",
    "    \"count\", \n",
    "    concat(col(\"percentage\").cast(\"string\"), lit(\"%\")).alias(\"percentage\")\n",
    ").orderBy(\"num_categories\").show(20)\n"
   ]
  },
  {
   "cell_type": "code",
   "execution_count": 10,
   "id": "d7ea083b",
   "metadata": {},
   "outputs": [
    {
     "name": "stdout",
     "output_type": "stream",
     "text": [
      "\n",
      "Trend for top 10 categories over time (by week):\n",
      "+---------+-----------------+-----+----------+----------+\n",
      "|week_date|main_category    |count|week_total|percentage|\n",
      "+---------+-----------------+-----+----------+----------+\n",
      "|Apr-7    |cond-mat.mtrl-sci|49   |2344      |2.09      |\n",
      "|Apr-7    |cs.AI            |63   |2344      |2.69      |\n",
      "|Apr-7    |cs.CL            |128  |2344      |5.46      |\n",
      "|Apr-7    |cs.CV            |255  |2344      |10.88     |\n",
      "|Apr-7    |cs.LG            |153  |2344      |6.53      |\n",
      "|Apr-7    |cs.RO            |71   |2344      |3.03      |\n",
      "|Apr-7    |eess.SY          |46   |2344      |1.96      |\n",
      "|Apr-7    |hep-ph           |51   |2344      |2.18      |\n",
      "|Apr-7    |math.AP          |58   |2344      |2.47      |\n",
      "|Apr-7    |quant-ph         |101  |2344      |4.31      |\n",
      "|Mar-24   |cond-mat.mtrl-sci|2    |125       |1.6       |\n",
      "|Mar-24   |cs.AI            |2    |125       |1.6       |\n",
      "|Mar-24   |cs.CL            |11   |125       |8.8       |\n",
      "|Mar-24   |cs.CV            |28   |125       |22.4      |\n",
      "|Mar-24   |cs.LG            |6    |125       |4.8       |\n",
      "|Mar-24   |cs.RO            |1    |125       |0.8       |\n",
      "|Mar-24   |eess.SY          |2    |125       |1.6       |\n",
      "|Mar-24   |hep-ph           |2    |125       |1.6       |\n",
      "|Mar-24   |math.AP          |2    |125       |1.6       |\n",
      "|Mar-24   |quant-ph         |7    |125       |5.6       |\n",
      "|Mar-31   |cond-mat.mtrl-sci|39   |1973      |1.98      |\n",
      "|Mar-31   |cs.AI            |43   |1973      |2.18      |\n",
      "|Mar-31   |cs.CL            |95   |1973      |4.82      |\n",
      "|Mar-31   |cs.CV            |228  |1973      |11.56     |\n",
      "|Mar-31   |cs.LG            |136  |1973      |6.89      |\n",
      "|Mar-31   |cs.RO            |46   |1973      |2.33      |\n",
      "|Mar-31   |eess.SY          |43   |1973      |2.18      |\n",
      "|Mar-31   |hep-ph           |31   |1973      |1.57      |\n",
      "|Mar-31   |math.AP          |34   |1973      |1.72      |\n",
      "|Mar-31   |quant-ph         |87   |1973      |4.41      |\n",
      "+---------+-----------------+-----+----------+----------+\n",
      "\n",
      "\n",
      "Note: The week_date format is 'MMM-d' showing the Monday that starts each week\n"
     ]
    }
   ],
   "source": [
    "# ---------- 6. Category distributions over week ----------\n",
    "from pyspark.sql.functions import weekofyear, date_format, dayofweek, date_sub, expr, to_date\n",
    "\n",
    "# Convert published field to date components and find the Monday that starts each week\n",
    "papers_with_date = papers_df.withColumn(\n",
    "    \"pub_date\", to_date(col(\"published\"))\n",
    ").withColumn(\n",
    "    # Calculate days to subtract to get to Monday (Sunday=1, Monday=2, etc.)\n",
    "    # For Monday (2) we subtract 0, Tuesday (3) subtract 1, etc.\n",
    "    \"days_from_monday\", expr(\"dayofweek(pub_date) - 2\")\n",
    ").withColumn(\n",
    "    # Handle Sunday (need to subtract 6 days instead of -1)\n",
    "    \"days_from_monday\", \n",
    "    when(col(\"days_from_monday\") < 0, 6).otherwise(col(\"days_from_monday\"))\n",
    ").withColumn(\n",
    "    # Get the Monday date\n",
    "    \"week_start\", date_sub(col(\"pub_date\"), col(\"days_from_monday\"))\n",
    ").withColumn(\n",
    "    # Format it as \"Mar-31\" \n",
    "    \"week_date\", date_format(col(\"week_start\"), \"MMM-d\")\n",
    ")\n",
    "\n",
    "# Count papers by week and category\n",
    "weekly_cat_dist = papers_with_date.groupBy(\"week_date\", \"main_category\").count().orderBy(\"week_date\", \"count\", ascending=False)\n",
    "\n",
    "# print(\"\\nCategory distribution by week (showing first 20 rows):\")\n",
    "# weekly_cat_dist.show(20, truncate=False)\n",
    "\n",
    "# Calculate percentage distribution by week\n",
    "weekly_totals = papers_with_date.groupBy(\"week_date\").count().withColumnRenamed(\"count\", \"week_total\")\n",
    "\n",
    "weekly_cat_pct = weekly_cat_dist.join(weekly_totals, \"week_date\") \\\n",
    "    .withColumn(\"percentage\", round((col(\"count\") / col(\"week_total\")) * 100, 2)) \\\n",
    "    .orderBy(\"week_date\", \"percentage\", ascending=False)\n",
    "\n",
    "# print(\"\\nPercentage distribution of categories by week (showing first 20 rows):\")\n",
    "# weekly_cat_pct.select(\"week_date\", \"main_category\", \"count\", \"week_total\", \"percentage\").show(20, truncate=False)\n",
    "\n",
    "# Optional: Track specific categories over time\n",
    "top_categories = main_cat_dist.limit(10).select(\"main_category\").rdd.flatMap(lambda x: x).collect()\n",
    "top_cat_trend = weekly_cat_pct.filter(col(\"main_category\").isin(top_categories))\n",
    "\n",
    "print(\"\\nTrend for top 10 categories over time (by week):\")\n",
    "top_cat_trend.orderBy(\"week_date\", \"main_category\").show(50, truncate=False)\n",
    "\n",
    "# Add a visualization hint\n",
    "print(\"\\nNote: The week_date format is 'MMM-d' showing the Monday that starts each week\")\n"
   ]
  },
  {
   "cell_type": "code",
   "execution_count": 12,
   "id": "8ae9a986",
   "metadata": {},
   "outputs": [
    {
     "data": {
      "application/vnd.plotly.v1+json": {
       "config": {
        "plotlyServerURL": "https://plot.ly"
       },
       "data": [
        {
         "hovertemplate": "main_category=cond-mat.mtrl-sci<br>Week=%{x}<br>Percentage (%)=%{y}<extra></extra>",
         "legendgroup": "cond-mat.mtrl-sci",
         "line": {
          "color": "#636efa",
          "dash": "solid"
         },
         "marker": {
          "symbol": "circle"
         },
         "mode": "lines+markers",
         "name": "cond-mat.mtrl-sci",
         "orientation": "v",
         "showlegend": true,
         "type": "scatter",
         "x": [
          "Apr-7",
          "Mar-24",
          "Mar-31"
         ],
         "xaxis": "x",
         "y": {
          "bdata": "uB6F61G4AECamZmZmZn5P65H4XoUrv8/",
          "dtype": "f8"
         },
         "yaxis": "y"
        },
        {
         "hovertemplate": "main_category=cs.AI<br>Week=%{x}<br>Percentage (%)=%{y}<extra></extra>",
         "legendgroup": "cs.AI",
         "line": {
          "color": "#EF553B",
          "dash": "solid"
         },
         "marker": {
          "symbol": "circle"
         },
         "mode": "lines+markers",
         "name": "cs.AI",
         "orientation": "v",
         "showlegend": true,
         "type": "scatter",
         "x": [
          "Apr-7",
          "Mar-24",
          "Mar-31"
         ],
         "xaxis": "x",
         "y": {
          "bdata": "hetRuB6FBUCamZmZmZn5P3E9CtejcAFA",
          "dtype": "f8"
         },
         "yaxis": "y"
        },
        {
         "hovertemplate": "main_category=cs.CL<br>Week=%{x}<br>Percentage (%)=%{y}<extra></extra>",
         "legendgroup": "cs.CL",
         "line": {
          "color": "#00cc96",
          "dash": "solid"
         },
         "marker": {
          "symbol": "circle"
         },
         "mode": "lines+markers",
         "name": "cs.CL",
         "orientation": "v",
         "showlegend": true,
         "type": "scatter",
         "x": [
          "Apr-7",
          "Mar-24",
          "Mar-31"
         ],
         "xaxis": "x",
         "y": {
          "bdata": "16NwPQrXFUCamZmZmZkhQEjhehSuRxNA",
          "dtype": "f8"
         },
         "yaxis": "y"
        },
        {
         "hovertemplate": "main_category=cs.CV<br>Week=%{x}<br>Percentage (%)=%{y}<extra></extra>",
         "legendgroup": "cs.CV",
         "line": {
          "color": "#ab63fa",
          "dash": "solid"
         },
         "marker": {
          "symbol": "circle"
         },
         "mode": "lines+markers",
         "name": "cs.CV",
         "orientation": "v",
         "showlegend": true,
         "type": "scatter",
         "x": [
          "Apr-7",
          "Mar-24",
          "Mar-31"
         ],
         "xaxis": "x",
         "y": {
          "bdata": "w/UoXI/CJUBmZmZmZmY2QB+F61G4HidA",
          "dtype": "f8"
         },
         "yaxis": "y"
        },
        {
         "hovertemplate": "main_category=cs.LG<br>Week=%{x}<br>Percentage (%)=%{y}<extra></extra>",
         "legendgroup": "cs.LG",
         "line": {
          "color": "#FFA15A",
          "dash": "solid"
         },
         "marker": {
          "symbol": "circle"
         },
         "mode": "lines+markers",
         "name": "cs.LG",
         "orientation": "v",
         "showlegend": true,
         "type": "scatter",
         "x": [
          "Apr-7",
          "Mar-24",
          "Mar-31"
         ],
         "xaxis": "x",
         "y": {
          "bdata": "H4XrUbgeGkAzMzMzMzMTQI/C9ShcjxtA",
          "dtype": "f8"
         },
         "yaxis": "y"
        },
        {
         "hovertemplate": "main_category=cs.RO<br>Week=%{x}<br>Percentage (%)=%{y}<extra></extra>",
         "legendgroup": "cs.RO",
         "line": {
          "color": "#19d3f3",
          "dash": "solid"
         },
         "marker": {
          "symbol": "circle"
         },
         "mode": "lines+markers",
         "name": "cs.RO",
         "orientation": "v",
         "showlegend": true,
         "type": "scatter",
         "x": [
          "Apr-7",
          "Mar-24",
          "Mar-31"
         ],
         "xaxis": "x",
         "y": {
          "bdata": "PQrXo3A9CECamZmZmZnpP6RwPQrXowJA",
          "dtype": "f8"
         },
         "yaxis": "y"
        },
        {
         "hovertemplate": "main_category=eess.SY<br>Week=%{x}<br>Percentage (%)=%{y}<extra></extra>",
         "legendgroup": "eess.SY",
         "line": {
          "color": "#FF6692",
          "dash": "solid"
         },
         "marker": {
          "symbol": "circle"
         },
         "mode": "lines+markers",
         "name": "eess.SY",
         "orientation": "v",
         "showlegend": true,
         "type": "scatter",
         "x": [
          "Apr-7",
          "Mar-24",
          "Mar-31"
         ],
         "xaxis": "x",
         "y": {
          "bdata": "XI/C9Shc/z+amZmZmZn5P3E9CtejcAFA",
          "dtype": "f8"
         },
         "yaxis": "y"
        },
        {
         "hovertemplate": "main_category=hep-ph<br>Week=%{x}<br>Percentage (%)=%{y}<extra></extra>",
         "legendgroup": "hep-ph",
         "line": {
          "color": "#B6E880",
          "dash": "solid"
         },
         "marker": {
          "symbol": "circle"
         },
         "mode": "lines+markers",
         "name": "hep-ph",
         "orientation": "v",
         "showlegend": true,
         "type": "scatter",
         "x": [
          "Apr-7",
          "Mar-24",
          "Mar-31"
         ],
         "xaxis": "x",
         "y": {
          "bdata": "cT0K16NwAUCamZmZmZn5Px+F61G4Hvk/",
          "dtype": "f8"
         },
         "yaxis": "y"
        },
        {
         "hovertemplate": "main_category=math.AP<br>Week=%{x}<br>Percentage (%)=%{y}<extra></extra>",
         "legendgroup": "math.AP",
         "line": {
          "color": "#FF97FF",
          "dash": "solid"
         },
         "marker": {
          "symbol": "circle"
         },
         "mode": "lines+markers",
         "name": "math.AP",
         "orientation": "v",
         "showlegend": true,
         "type": "scatter",
         "x": [
          "Apr-7",
          "Mar-24",
          "Mar-31"
         ],
         "xaxis": "x",
         "y": {
          "bdata": "w/UoXI/CA0CamZmZmZn5P4XrUbgehfs/",
          "dtype": "f8"
         },
         "yaxis": "y"
        },
        {
         "hovertemplate": "main_category=quant-ph<br>Week=%{x}<br>Percentage (%)=%{y}<extra></extra>",
         "legendgroup": "quant-ph",
         "line": {
          "color": "#FECB52",
          "dash": "solid"
         },
         "marker": {
          "symbol": "circle"
         },
         "mode": "lines+markers",
         "name": "quant-ph",
         "orientation": "v",
         "showlegend": true,
         "type": "scatter",
         "x": [
          "Apr-7",
          "Mar-24",
          "Mar-31"
         ],
         "xaxis": "x",
         "y": {
          "bdata": "PQrXo3A9EUBmZmZmZmYWQKRwPQrXoxFA",
          "dtype": "f8"
         },
         "yaxis": "y"
        }
       ],
       "layout": {
        "legend": {
         "orientation": "h",
         "title": {
          "text": "main_category"
         },
         "tracegroupgap": 0,
         "x": 0.5,
         "xanchor": "center",
         "y": 1.02,
         "yanchor": "top"
        },
        "margin": {
         "t": 50
        },
        "template": {
         "data": {
          "bar": [
           {
            "error_x": {
             "color": "#2a3f5f"
            },
            "error_y": {
             "color": "#2a3f5f"
            },
            "marker": {
             "line": {
              "color": "white",
              "width": 0.5
             },
             "pattern": {
              "fillmode": "overlay",
              "size": 10,
              "solidity": 0.2
             }
            },
            "type": "bar"
           }
          ],
          "barpolar": [
           {
            "marker": {
             "line": {
              "color": "white",
              "width": 0.5
             },
             "pattern": {
              "fillmode": "overlay",
              "size": 10,
              "solidity": 0.2
             }
            },
            "type": "barpolar"
           }
          ],
          "carpet": [
           {
            "aaxis": {
             "endlinecolor": "#2a3f5f",
             "gridcolor": "#C8D4E3",
             "linecolor": "#C8D4E3",
             "minorgridcolor": "#C8D4E3",
             "startlinecolor": "#2a3f5f"
            },
            "baxis": {
             "endlinecolor": "#2a3f5f",
             "gridcolor": "#C8D4E3",
             "linecolor": "#C8D4E3",
             "minorgridcolor": "#C8D4E3",
             "startlinecolor": "#2a3f5f"
            },
            "type": "carpet"
           }
          ],
          "choropleth": [
           {
            "colorbar": {
             "outlinewidth": 0,
             "ticks": ""
            },
            "type": "choropleth"
           }
          ],
          "contour": [
           {
            "colorbar": {
             "outlinewidth": 0,
             "ticks": ""
            },
            "colorscale": [
             [
              0,
              "#0d0887"
             ],
             [
              0.1111111111111111,
              "#46039f"
             ],
             [
              0.2222222222222222,
              "#7201a8"
             ],
             [
              0.3333333333333333,
              "#9c179e"
             ],
             [
              0.4444444444444444,
              "#bd3786"
             ],
             [
              0.5555555555555556,
              "#d8576b"
             ],
             [
              0.6666666666666666,
              "#ed7953"
             ],
             [
              0.7777777777777778,
              "#fb9f3a"
             ],
             [
              0.8888888888888888,
              "#fdca26"
             ],
             [
              1,
              "#f0f921"
             ]
            ],
            "type": "contour"
           }
          ],
          "contourcarpet": [
           {
            "colorbar": {
             "outlinewidth": 0,
             "ticks": ""
            },
            "type": "contourcarpet"
           }
          ],
          "heatmap": [
           {
            "colorbar": {
             "outlinewidth": 0,
             "ticks": ""
            },
            "colorscale": [
             [
              0,
              "#0d0887"
             ],
             [
              0.1111111111111111,
              "#46039f"
             ],
             [
              0.2222222222222222,
              "#7201a8"
             ],
             [
              0.3333333333333333,
              "#9c179e"
             ],
             [
              0.4444444444444444,
              "#bd3786"
             ],
             [
              0.5555555555555556,
              "#d8576b"
             ],
             [
              0.6666666666666666,
              "#ed7953"
             ],
             [
              0.7777777777777778,
              "#fb9f3a"
             ],
             [
              0.8888888888888888,
              "#fdca26"
             ],
             [
              1,
              "#f0f921"
             ]
            ],
            "type": "heatmap"
           }
          ],
          "histogram": [
           {
            "marker": {
             "pattern": {
              "fillmode": "overlay",
              "size": 10,
              "solidity": 0.2
             }
            },
            "type": "histogram"
           }
          ],
          "histogram2d": [
           {
            "colorbar": {
             "outlinewidth": 0,
             "ticks": ""
            },
            "colorscale": [
             [
              0,
              "#0d0887"
             ],
             [
              0.1111111111111111,
              "#46039f"
             ],
             [
              0.2222222222222222,
              "#7201a8"
             ],
             [
              0.3333333333333333,
              "#9c179e"
             ],
             [
              0.4444444444444444,
              "#bd3786"
             ],
             [
              0.5555555555555556,
              "#d8576b"
             ],
             [
              0.6666666666666666,
              "#ed7953"
             ],
             [
              0.7777777777777778,
              "#fb9f3a"
             ],
             [
              0.8888888888888888,
              "#fdca26"
             ],
             [
              1,
              "#f0f921"
             ]
            ],
            "type": "histogram2d"
           }
          ],
          "histogram2dcontour": [
           {
            "colorbar": {
             "outlinewidth": 0,
             "ticks": ""
            },
            "colorscale": [
             [
              0,
              "#0d0887"
             ],
             [
              0.1111111111111111,
              "#46039f"
             ],
             [
              0.2222222222222222,
              "#7201a8"
             ],
             [
              0.3333333333333333,
              "#9c179e"
             ],
             [
              0.4444444444444444,
              "#bd3786"
             ],
             [
              0.5555555555555556,
              "#d8576b"
             ],
             [
              0.6666666666666666,
              "#ed7953"
             ],
             [
              0.7777777777777778,
              "#fb9f3a"
             ],
             [
              0.8888888888888888,
              "#fdca26"
             ],
             [
              1,
              "#f0f921"
             ]
            ],
            "type": "histogram2dcontour"
           }
          ],
          "mesh3d": [
           {
            "colorbar": {
             "outlinewidth": 0,
             "ticks": ""
            },
            "type": "mesh3d"
           }
          ],
          "parcoords": [
           {
            "line": {
             "colorbar": {
              "outlinewidth": 0,
              "ticks": ""
             }
            },
            "type": "parcoords"
           }
          ],
          "pie": [
           {
            "automargin": true,
            "type": "pie"
           }
          ],
          "scatter": [
           {
            "fillpattern": {
             "fillmode": "overlay",
             "size": 10,
             "solidity": 0.2
            },
            "type": "scatter"
           }
          ],
          "scatter3d": [
           {
            "line": {
             "colorbar": {
              "outlinewidth": 0,
              "ticks": ""
             }
            },
            "marker": {
             "colorbar": {
              "outlinewidth": 0,
              "ticks": ""
             }
            },
            "type": "scatter3d"
           }
          ],
          "scattercarpet": [
           {
            "marker": {
             "colorbar": {
              "outlinewidth": 0,
              "ticks": ""
             }
            },
            "type": "scattercarpet"
           }
          ],
          "scattergeo": [
           {
            "marker": {
             "colorbar": {
              "outlinewidth": 0,
              "ticks": ""
             }
            },
            "type": "scattergeo"
           }
          ],
          "scattergl": [
           {
            "marker": {
             "colorbar": {
              "outlinewidth": 0,
              "ticks": ""
             }
            },
            "type": "scattergl"
           }
          ],
          "scattermap": [
           {
            "marker": {
             "colorbar": {
              "outlinewidth": 0,
              "ticks": ""
             }
            },
            "type": "scattermap"
           }
          ],
          "scattermapbox": [
           {
            "marker": {
             "colorbar": {
              "outlinewidth": 0,
              "ticks": ""
             }
            },
            "type": "scattermapbox"
           }
          ],
          "scatterpolar": [
           {
            "marker": {
             "colorbar": {
              "outlinewidth": 0,
              "ticks": ""
             }
            },
            "type": "scatterpolar"
           }
          ],
          "scatterpolargl": [
           {
            "marker": {
             "colorbar": {
              "outlinewidth": 0,
              "ticks": ""
             }
            },
            "type": "scatterpolargl"
           }
          ],
          "scatterternary": [
           {
            "marker": {
             "colorbar": {
              "outlinewidth": 0,
              "ticks": ""
             }
            },
            "type": "scatterternary"
           }
          ],
          "surface": [
           {
            "colorbar": {
             "outlinewidth": 0,
             "ticks": ""
            },
            "colorscale": [
             [
              0,
              "#0d0887"
             ],
             [
              0.1111111111111111,
              "#46039f"
             ],
             [
              0.2222222222222222,
              "#7201a8"
             ],
             [
              0.3333333333333333,
              "#9c179e"
             ],
             [
              0.4444444444444444,
              "#bd3786"
             ],
             [
              0.5555555555555556,
              "#d8576b"
             ],
             [
              0.6666666666666666,
              "#ed7953"
             ],
             [
              0.7777777777777778,
              "#fb9f3a"
             ],
             [
              0.8888888888888888,
              "#fdca26"
             ],
             [
              1,
              "#f0f921"
             ]
            ],
            "type": "surface"
           }
          ],
          "table": [
           {
            "cells": {
             "fill": {
              "color": "#EBF0F8"
             },
             "line": {
              "color": "white"
             }
            },
            "header": {
             "fill": {
              "color": "#C8D4E3"
             },
             "line": {
              "color": "white"
             }
            },
            "type": "table"
           }
          ]
         },
         "layout": {
          "annotationdefaults": {
           "arrowcolor": "#2a3f5f",
           "arrowhead": 0,
           "arrowwidth": 1
          },
          "autotypenumbers": "strict",
          "coloraxis": {
           "colorbar": {
            "outlinewidth": 0,
            "ticks": ""
           }
          },
          "colorscale": {
           "diverging": [
            [
             0,
             "#8e0152"
            ],
            [
             0.1,
             "#c51b7d"
            ],
            [
             0.2,
             "#de77ae"
            ],
            [
             0.3,
             "#f1b6da"
            ],
            [
             0.4,
             "#fde0ef"
            ],
            [
             0.5,
             "#f7f7f7"
            ],
            [
             0.6,
             "#e6f5d0"
            ],
            [
             0.7,
             "#b8e186"
            ],
            [
             0.8,
             "#7fbc41"
            ],
            [
             0.9,
             "#4d9221"
            ],
            [
             1,
             "#276419"
            ]
           ],
           "sequential": [
            [
             0,
             "#0d0887"
            ],
            [
             0.1111111111111111,
             "#46039f"
            ],
            [
             0.2222222222222222,
             "#7201a8"
            ],
            [
             0.3333333333333333,
             "#9c179e"
            ],
            [
             0.4444444444444444,
             "#bd3786"
            ],
            [
             0.5555555555555556,
             "#d8576b"
            ],
            [
             0.6666666666666666,
             "#ed7953"
            ],
            [
             0.7777777777777778,
             "#fb9f3a"
            ],
            [
             0.8888888888888888,
             "#fdca26"
            ],
            [
             1,
             "#f0f921"
            ]
           ],
           "sequentialminus": [
            [
             0,
             "#0d0887"
            ],
            [
             0.1111111111111111,
             "#46039f"
            ],
            [
             0.2222222222222222,
             "#7201a8"
            ],
            [
             0.3333333333333333,
             "#9c179e"
            ],
            [
             0.4444444444444444,
             "#bd3786"
            ],
            [
             0.5555555555555556,
             "#d8576b"
            ],
            [
             0.6666666666666666,
             "#ed7953"
            ],
            [
             0.7777777777777778,
             "#fb9f3a"
            ],
            [
             0.8888888888888888,
             "#fdca26"
            ],
            [
             1,
             "#f0f921"
            ]
           ]
          },
          "colorway": [
           "#636efa",
           "#EF553B",
           "#00cc96",
           "#ab63fa",
           "#FFA15A",
           "#19d3f3",
           "#FF6692",
           "#B6E880",
           "#FF97FF",
           "#FECB52"
          ],
          "font": {
           "color": "#2a3f5f"
          },
          "geo": {
           "bgcolor": "white",
           "lakecolor": "white",
           "landcolor": "white",
           "showlakes": true,
           "showland": true,
           "subunitcolor": "#C8D4E3"
          },
          "hoverlabel": {
           "align": "left"
          },
          "hovermode": "closest",
          "mapbox": {
           "style": "light"
          },
          "paper_bgcolor": "white",
          "plot_bgcolor": "white",
          "polar": {
           "angularaxis": {
            "gridcolor": "#EBF0F8",
            "linecolor": "#EBF0F8",
            "ticks": ""
           },
           "bgcolor": "white",
           "radialaxis": {
            "gridcolor": "#EBF0F8",
            "linecolor": "#EBF0F8",
            "ticks": ""
           }
          },
          "scene": {
           "xaxis": {
            "backgroundcolor": "white",
            "gridcolor": "#DFE8F3",
            "gridwidth": 2,
            "linecolor": "#EBF0F8",
            "showbackground": true,
            "ticks": "",
            "zerolinecolor": "#EBF0F8"
           },
           "yaxis": {
            "backgroundcolor": "white",
            "gridcolor": "#DFE8F3",
            "gridwidth": 2,
            "linecolor": "#EBF0F8",
            "showbackground": true,
            "ticks": "",
            "zerolinecolor": "#EBF0F8"
           },
           "zaxis": {
            "backgroundcolor": "white",
            "gridcolor": "#DFE8F3",
            "gridwidth": 2,
            "linecolor": "#EBF0F8",
            "showbackground": true,
            "ticks": "",
            "zerolinecolor": "#EBF0F8"
           }
          },
          "shapedefaults": {
           "line": {
            "color": "#2a3f5f"
           }
          },
          "ternary": {
           "aaxis": {
            "gridcolor": "#DFE8F3",
            "linecolor": "#A2B1C6",
            "ticks": ""
           },
           "baxis": {
            "gridcolor": "#DFE8F3",
            "linecolor": "#A2B1C6",
            "ticks": ""
           },
           "bgcolor": "white",
           "caxis": {
            "gridcolor": "#DFE8F3",
            "linecolor": "#A2B1C6",
            "ticks": ""
           }
          },
          "title": {
           "x": 0.05
          },
          "xaxis": {
           "automargin": true,
           "gridcolor": "#EBF0F8",
           "linecolor": "#EBF0F8",
           "ticks": "",
           "title": {
            "standoff": 15
           },
           "zerolinecolor": "#EBF0F8",
           "zerolinewidth": 2
          },
          "yaxis": {
           "automargin": true,
           "gridcolor": "#EBF0F8",
           "linecolor": "#EBF0F8",
           "ticks": "",
           "title": {
            "standoff": 15
           },
           "zerolinecolor": "#EBF0F8",
           "zerolinewidth": 2
          }
         }
        },
        "title": {
         "text": "Weekly Trends of Top 10 Categories"
        },
        "xaxis": {
         "anchor": "y",
         "domain": [
          0,
          1
         ],
         "tickangle": 45,
         "title": {
          "text": "Week"
         }
        },
        "yaxis": {
         "anchor": "x",
         "domain": [
          0,
          1
         ],
         "ticksuffix": "%",
         "title": {
          "text": "Percentage (%)"
         }
        }
       }
      }
     },
     "metadata": {},
     "output_type": "display_data"
    }
   ],
   "source": [
    "import plotly.express as px\n",
    "import pandas as pd\n",
    "\n",
    "# Convert Spark DataFrame to Pandas and prepare data\n",
    "top_cat_pandas = top_cat_trend.orderBy(\"week_date\", \"main_category\").toPandas()\n",
    "\n",
    "# Create line chart with Plotly\n",
    "fig = px.line(\n",
    "    top_cat_pandas, \n",
    "    x='week_date', \n",
    "    y='percentage', \n",
    "    color='main_category',\n",
    "    markers=True,\n",
    "    title='Weekly Trends of Top 10 Categories',\n",
    "    labels={'week_date': 'Week', 'percentage': 'Percentage (%)'}\n",
    ")\n",
    "\n",
    "# Basic layout improvements\n",
    "fig.update_layout(\n",
    "    xaxis=dict(tickangle=45),\n",
    "    yaxis=dict(ticksuffix='%'),\n",
    "    legend=dict(\n",
    "        orientation='h',  # Horizontal orientation\n",
    "        yanchor='top', # Anchor to bottom of legend box\n",
    "        y=1.02,          # Position just above the plot area\n",
    "        xanchor='center', # Center horizontally\n",
    "        x=0.5\n",
    "    ),\n",
    "    margin=dict(t=50),   # Add top margin for legend space\n",
    "    template='plotly_white'\n",
    ")\n",
    "\n",
    "# Show the plot\n",
    "fig.show(render=\"png\")\n"
   ]
  },
  {
   "cell_type": "code",
   "execution_count": 13,
   "id": "5796a3bb",
   "metadata": {},
   "outputs": [],
   "source": [
    "# ---------- 7. Archive distribution ----------\n",
    "\n",
    "arxiv_main_category = {\n",
    "    \"astro-ph\": [\n",
    "        \"astro-ph.CO\", \"astro-ph.EP\", \"astro-ph.GA\", \"astro-ph.HE\",\n",
    "        \"astro-ph.IM\", \"astro-ph.SR\"\n",
    "    ],\n",
    "    \"cond-mat\": [\n",
    "        \"cond-mat.dis-nn\", \"cond-mat.mes-hall\", \"cond-mat.mtrl-sci\",\n",
    "        \"cond-mat.other\", \"cond-mat.quant-gas\", \"cond-mat.soft\",\n",
    "        \"cond-mat.stat-mech\", \"cond-mat.str-el\", \"cond-mat.supr-con\"\n",
    "    ],\n",
    "    \"gr-qc\": [\n",
    "        \"gr-qc\"\n",
    "    ],\n",
    "    \"hep\": [\n",
    "        \"hep-ex\", \"hep-lat\", \"hep-ph\", \"hep-th\"\n",
    "    ],\n",
    "    \"math-ph\": [\n",
    "        \"math-ph\"\n",
    "    ],\n",
    "    \"nlin\": [\n",
    "        \"nlin.AO\", \"nlin.CG\", \"nlin.CD\", \"nlin.SI\", \"nlin.PS\"\n",
    "    ],\n",
    "    \"nucl\": [\n",
    "        \"nucl-ex\", \"nucl-th\"\n",
    "    ],\n",
    "    \"quant-ph\": [\n",
    "        \"quant-ph\"\n",
    "    ],\n",
    "    \"physics\": [\n",
    "        \"physics.acc-ph\", \"physics.ao-ph\", \"physics.app-ph\", \"physics.atm-clus\",\n",
    "        \"physics.atom-ph\", \"physics.bio-ph\", \"physics.chem-ph\", \"physics.class-ph\",\n",
    "        \"physics.comp-ph\", \"physics.data-an\", \"physics.ed-ph\", \"physics.flu-dyn\",\n",
    "        \"physics.gen-ph\", \"physics.geo-ph\", \"physics.hist-ph\", \"physics.ins-det\",\n",
    "        \"physics.med-ph\", \"physics.optics\", \"physics.plasm-ph\", \"physics.pop-ph\",\n",
    "        \"physics.soc-ph\", \"physics.space-ph\"\n",
    "    ],\n",
    "    \"math\": [\n",
    "        \"math.AC\", \"math.AG\", \"math.AP\", \"math.AT\", \"math.CA\", \"math.CO\",\n",
    "        \"math.CT\", \"math.CV\", \"math.DG\", \"math.DS\", \"math.FA\", \"math.GM\",\n",
    "        \"math.GN\", \"math.GR\", \"math.GT\", \"math.HO\", \"math.IT\", \"math.KT\",\n",
    "        \"math.LO\", \"math.MG\", \"math.MP\", \"math.NA\", \"math.NT\", \"math.OA\",\n",
    "        \"math.OC\", \"math.PR\", \"math.QA\", \"math.RA\", \"math.RT\", \"math.SG\",\n",
    "        \"math.SP\", \"math.ST\"\n",
    "    ],\n",
    "    \"cs\": [\n",
    "        \"cs.AI\", \"cs.AR\", \"cs.CC\", \"cs.CE\", \"cs.CG\", \"cs.CL\", \"cs.CR\", \"cs.CV\",\n",
    "        \"cs.CY\", \"cs.DB\", \"cs.DC\", \"cs.DL\", \"cs.DM\", \"cs.DS\", \"cs.ET\", \"cs.FL\",\n",
    "        \"cs.GL\", \"cs.GR\", \"cs.GT\", \"cs.HC\", \"cs.IR\", \"cs.IT\", \"cs.LG\", \"cs.LO\",\n",
    "        \"cs.MA\", \"cs.MM\", \"cs.MS\", \"cs.NA\", \"cs.NE\", \"cs.NI\", \"cs.OH\", \"cs.OS\",\n",
    "        \"cs.PF\", \"cs.PL\", \"cs.RO\", \"cs.SC\", \"cs.SD\", \"cs.SE\", \"cs.SI\", \"cs.SY\"\n",
    "    ],\n",
    "    \"q-bio\": [\n",
    "        \"q-bio.BM\", \"q-bio.CB\", \"q-bio.GN\", \"q-bio.MN\", \"q-bio.NC\", \"q-bio.OT\",\n",
    "        \"q-bio.PE\", \"q-bio.QM\", \"q-bio.SC\", \"q-bio.TO\"\n",
    "    ],\n",
    "    \"q-fin\": [\n",
    "        \"q-fin.CP\", \"q-fin.EC\", \"q-fin.GN\", \"q-fin.MF\", \"q-fin.PM\", \"q-fin.PR\",\n",
    "        \"q-fin.RM\", \"q-fin.ST\", \"q-fin.TR\"\n",
    "    ],\n",
    "    \"stat\": [\n",
    "        \"stat.AP\", \"stat.CO\", \"stat.ME\", \"stat.ML\", \"stat.OT\", \"stat.TH\"\n",
    "    ],\n",
    "    \"eess\": [\n",
    "        \"eess.AS\", \"eess.IV\", \"eess.SP\", \"eess.SY\"\n",
    "    ],\n",
    "    \"econ\": [\n",
    "        \"econ.EM\", \"econ.GN\", \"econ.TH\"\n",
    "    ],\n",
    "}\n",
    "\n",
    "from pyspark.sql.functions import col, udf\n",
    "from pyspark.sql.types import StringType\n",
    "\n",
    "# Create mapping with dictionary comprehension\n",
    "category_to_parent = {child: parent for parent, children in arxiv_main_category.items() for child in children}\n",
    "\n",
    "# Define mapping UDF\n",
    "@udf(StringType())\n",
    "def map_category(category):\n",
    "    return category_to_parent.get(category, \"other\")\n",
    "\n",
    "# Add column with single function call\n",
    "papers_with_categories = papers_df.withColumn(\"arxiv_main_category\", map_category(col(\"main_category\")))\n"
   ]
  },
  {
   "cell_type": "code",
   "execution_count": 23,
   "id": "14271c9b",
   "metadata": {},
   "outputs": [
    {
     "name": "stdout",
     "output_type": "stream",
     "text": [
      "Number of unique arxiv_main_categories: 16\n",
      "\n",
      "ArXiv Main Category Distribution:\n",
      "+-------------------+-----+----------+\n",
      "|arxiv_main_category|count|percentage|\n",
      "+-------------------+-----+----------+\n",
      "|cs                 |1868 |42.05     |\n",
      "|math               |765  |17.22     |\n",
      "|cond-mat           |323  |7.27      |\n",
      "|astro-ph           |290  |6.53      |\n",
      "|physics            |284  |6.39      |\n",
      "|eess               |209  |4.71      |\n",
      "|quant-ph           |195  |4.39      |\n",
      "|hep                |182  |4.1       |\n",
      "|stat               |94   |2.12      |\n",
      "|gr-qc              |70   |1.58      |\n",
      "|nucl               |55   |1.24      |\n",
      "|econ               |34   |0.77      |\n",
      "|q-bio              |31   |0.7       |\n",
      "|nlin               |16   |0.36      |\n",
      "|q-fin              |14   |0.32      |\n",
      "|math-ph            |12   |0.27      |\n",
      "+-------------------+-----+----------+\n",
      "\n",
      "\n",
      "Class Imbalance Ratio (max/min): 155.67\n",
      "Classes with <1% representation: 5\n"
     ]
    },
    {
     "data": {
      "image/png": "[encoded data removed]",
      "text/plain": [
       "<Figure size 1200x800 with 1 Axes>"
      ]
     },
     "metadata": {},
     "output_type": "display_data"
    }
   ],
   "source": [
    "# Get distribution of arxiv_main_category\n",
    "from pyspark.sql.functions import col, count, round\n",
    "from pyspark.sql.functions import max as spark_max\n",
    "\n",
    "# Count the unique arxiv_main_category values\n",
    "unique_arxiv_main_categories = papers_with_categories.select(\"arxiv_main_category\").distinct().count()\n",
    "print(f\"Number of unique arxiv_main_categories: {unique_arxiv_main_categories}\")\n",
    "\n",
    "\n",
    "# Count categories and calculate percentages\n",
    "total_papers = papers_with_categories.count()\n",
    "cat_distribution = papers_with_categories.groupBy(\"arxiv_main_category\") \\\n",
    "    .count() \\\n",
    "    .withColumn(\"percentage\", round((col(\"count\") / total_papers) * 100, 2)) \\\n",
    "    .orderBy(\"count\", ascending=False)\n",
    "\n",
    "# Display distribution\n",
    "print(\"\\nArXiv Main Category Distribution:\")\n",
    "cat_distribution.show(truncate=False)\n",
    "\n",
    "# Check class imbalance\n",
    "max_count = cat_distribution.agg({\"count\": \"max\"}).collect()[0][0]\n",
    "min_count = cat_distribution.agg({\"count\": \"min\"}).collect()[0][0]\n",
    "print(f\"\\nClass Imbalance Ratio (max/min): {max_count/min_count:.2f}\")\n",
    "\n",
    "# Count classes with less than 1% representation\n",
    "rare_classes = cat_distribution.filter(\"percentage < 1\").count()\n",
    "print(f\"Classes with <1% representation: {rare_classes}\")\n",
    "\n",
    "# Optional: Quick visualization using pandas and matplotlib\n",
    "import pandas as pd\n",
    "import matplotlib.pyplot as plt\n",
    "\n",
    "# Convert to pandas for easy plotting\n",
    "latest_date = papers_df.agg(spark_max(\"published\")).collect()[0][0]\n",
    "pd_distribution = cat_distribution.toPandas()\n",
    "\n",
    "# Create horizontal bar chart\n",
    "plt.figure(figsize=(12, 8))  # Slightly larger figure to accommodate annotations\n",
    "bars = plt.barh(pd_distribution['arxiv_main_category'], pd_distribution['percentage'])\n",
    "plt.xlabel('Percentage (%)')\n",
    "plt.ylabel('Category')\n",
    "plt.title(f'ArXiv Main Category Distribution (Total: {total_papers:,} papers)\\n(Data through {latest_date})', \n",
    "         fontsize=14)\n",
    "# Add count annotations to each bar\n",
    "for i, bar in enumerate(bars):\n",
    "    count = pd_distribution.iloc[i]['count']\n",
    "    plt.text(\n",
    "        bar.get_width() + 0.3,  # Position slightly to the right of the bar\n",
    "        bar.get_y() + bar.get_height()/2,  # Vertical center of the bar\n",
    "        f'{count:,}',  # Format with commas for thousands\n",
    "        va='center'  # Vertically centered\n",
    "    )\n",
    "\n",
    "plt.tight_layout()\n",
    "plt.show()\n"
   ]
  },
  {
   "cell_type": "markdown",
   "id": "b7c76152",
   "metadata": {},
   "source": [
    "# Input features\n",
    "\n",
    "Evaluate your input features `title` and `summary`:\n",
    "- What is the average/median/min/max length (in words or characters) of:\n",
    "    - title\n",
    "    - summary\n",
    "    - title + summary?\n",
    "- Are there unusually short or long texts that should be filtered?\n",
    "- Are there stopwords or LaTeX/math formatting (\\\\mathsf, etc.) that should be removed?\n",
    "- Are there phrases or token patterns in title and summary that can be related to `main_category`?\n"
   ]
  },
  {
   "cell_type": "code",
   "execution_count": 15,
   "id": "77864d5f",
   "metadata": {},
   "outputs": [
    {
     "name": "stdout",
     "output_type": "stream",
     "text": [
      "\n",
      "Text Statistics (min, max, avg):\n",
      "Title: 12-242 chars (81.2 avg), 1-33 words (10.8 avg)\n",
      "Summary: 104-2168 chars (1163.1 avg), 13-294 words (147.3 avg)\n",
      "Combined: 140-2233 chars (1244.4 avg), 17-305 words (158.1 avg)\n"
     ]
    }
   ],
   "source": [
    "from pyspark.sql.functions import length, size, split, col, expr, percentile_approx\n",
    "from pyspark.sql.functions import min as spark_min, max as spark_max, avg as spark_avg\n",
    "from pyspark.sql.functions import regexp_extract, regexp_replace\n",
    "from pyspark.ml.feature import StopWordsRemover, NGram, CountVectorizer, Tokenizer\n",
    "\n",
    "# ---------- 1. Text Length Statistics ----------\n",
    "text_stats = papers_df.select(\n",
    "    length(\"title\").alias(\"title_chars\"),\n",
    "    size(split(\"title\", \" \")).alias(\"title_words\"),\n",
    "    length(\"summary\").alias(\"summary_chars\"),\n",
    "    size(split(\"summary\", \" \")).alias(\"summary_words\")\n",
    ").withColumn(\n",
    "    \"combined_chars\", col(\"title_chars\") + col(\"summary_chars\")\n",
    ").withColumn(\n",
    "    \"combined_words\", col(\"title_words\") + col(\"summary_words\")\n",
    ")\n",
    "\n",
    "# Calculate statistics\n",
    "stats = text_stats.agg(\n",
    "    spark_min(\"title_chars\"), spark_max(\"title_chars\"), spark_avg(\"title_chars\"), percentile_approx(\"title_chars\", 0.5),\n",
    "    spark_min(\"title_words\"), spark_max(\"title_words\"), spark_avg(\"title_words\"),\n",
    "    spark_min(\"summary_chars\"), spark_max(\"summary_chars\"), spark_avg(\"summary_chars\"), \n",
    "    spark_min(\"summary_words\"), spark_max(\"summary_words\"), spark_avg(\"summary_words\"),\n",
    "    spark_min(\"combined_chars\"), spark_max(\"combined_chars\"), spark_avg(\"combined_chars\"),\n",
    "    spark_min(\"combined_words\"), spark_max(\"combined_words\"), spark_avg(\"combined_words\")\n",
    ").collect()[0]\n",
    "\n",
    "print(\"\\nText Statistics (min, max, avg):\")\n",
    "print(f\"Title: {stats[0]}-{stats[1]} chars ({stats[2]:.1f} avg), {stats[4]}-{stats[5]} words ({stats[6]:.1f} avg)\")\n",
    "print(f\"Summary: {stats[7]}-{stats[8]} chars ({stats[9]:.1f} avg), {stats[10]}-{stats[11]} words ({stats[12]:.1f} avg)\")\n",
    "print(f\"Combined: {stats[13]}-{stats[14]} chars ({stats[15]:.1f} avg), {stats[16]}-{stats[17]} words ({stats[18]:.1f} avg)\")\n"
   ]
  },
  {
   "cell_type": "code",
   "execution_count": 16,
   "id": "93cc0e57",
   "metadata": {},
   "outputs": [
    {
     "name": "stdout",
     "output_type": "stream",
     "text": [
      "\n",
      "Outlier thresholds (1st-99th percentiles):\n",
      "Title length: 27-155 chars\n",
      "Summary length: 273-1913 chars\n"
     ]
    }
   ],
   "source": [
    "# ---------- 2. Identify Outliers (1st/99th percentiles) ----------\n",
    "percentiles = text_stats.select(\n",
    "    percentile_approx(\"title_chars\", [0.01, 0.99]).alias(\"title_thresholds\"),\n",
    "    percentile_approx(\"summary_chars\", [0.01, 0.99]).alias(\"summary_thresholds\")\n",
    ").collect()[0]\n",
    "\n",
    "print(f\"\\nOutlier thresholds (1st-99th percentiles):\")\n",
    "print(f\"Title length: {percentiles[0][0]}-{percentiles[0][1]} chars\")\n",
    "print(f\"Summary length: {percentiles[1][0]}-{percentiles[1][1]} chars\")\n"
   ]
  },
  {
   "cell_type": "code",
   "execution_count": 17,
   "id": "1a0369f9",
   "metadata": {},
   "outputs": [
    {
     "name": "stdout",
     "output_type": "stream",
     "text": [
      "\n",
      "LaTeX Usage:\n",
      "Papers with LaTeX in title: 0 (0.0%)\n",
      "Papers with LaTeX in summary: 0 (0.0%)\n"
     ]
    }
   ],
   "source": [
    "# ---------- 3. Check for LaTeX and Math formatting ----------\n",
    "latex_pattern = r'\\\\[a-zA-Z]+'\n",
    "latex_counts = papers_df.select(\n",
    "    (size(expr(f\"regexp_extract_all(title, '{latex_pattern}', 0)\")) > 0).cast(\"int\").alias(\"title_has_latex\"),\n",
    "    (size(expr(f\"regexp_extract_all(summary, '{latex_pattern}', 0)\")) > 0).cast(\"int\").alias(\"summary_has_latex\")\n",
    ").agg(\n",
    "    spark_sum(\"title_has_latex\"), \n",
    "    spark_sum(\"summary_has_latex\")\n",
    ").collect()[0]\n",
    "\n",
    "print(f\"\\nLaTeX Usage:\")\n",
    "print(f\"Papers with LaTeX in title: {latex_counts[0]} ({latex_counts[0]/papers_df.count()*100:.1f}%)\")\n",
    "print(f\"Papers with LaTeX in summary: {latex_counts[1]} ({latex_counts[1]/papers_df.count()*100:.1f}%)\")\n"
   ]
  },
  {
   "cell_type": "code",
   "execution_count": 18,
   "id": "775363f9",
   "metadata": {},
   "outputs": [
    {
     "name": "stdout",
     "output_type": "stream",
     "text": [
      "\n",
      "Top 10 bigrams in titles:\n",
      "'language models': 94\n",
      "'large language': 68\n",
      "'reinforcement learning': 48\n",
      "'machine learning': 47\n",
      "'neural networks': 43\n",
      "'black hole': 29\n",
      "'deep learning': 27\n",
      "'vision language': 26\n",
      "'large scale': 25\n",
      "'two dimensional': 24\n"
     ]
    }
   ],
   "source": [
    "from pyspark.sql.functions import explode, col, count as spark_count, trim, lower, regexp_replace\n",
    "\n",
    "# 1. Better text cleaning before processing\n",
    "clean_papers = papers_df.withColumn(\n",
    "    \"clean_title\", \n",
    "    trim(regexp_replace(lower(col(\"title\")), \"[^a-zA-Z0-9\\\\s]\", \" \"))\n",
    ")\n",
    "\n",
    "# 2. Apply tokenization pipeline\n",
    "tokenizer = Tokenizer(inputCol=\"clean_title\", outputCol=\"tokens\")\n",
    "remover = StopWordsRemover(inputCol=\"tokens\", outputCol=\"filtered\")\n",
    "bigram = NGram(n=2, inputCol=\"filtered\", outputCol=\"bigrams\")\n",
    "\n",
    "# 3. Generate and filter meaningful bigrams\n",
    "pipeline_result = bigram.transform(remover.transform(tokenizer.transform(clean_papers)))\n",
    "bigram_counts = pipeline_result.select(\n",
    "    explode(\"bigrams\").alias(\"bigram\")\n",
    ").filter(\n",
    "    # Multiple filters to ensure quality bigrams\n",
    "    (length(trim(col(\"bigram\"))) > 3) &                   # Reasonable length\n",
    "    (~col(\"bigram\").contains(\"  \")) &                     # No double spaces\n",
    "    (col(\"bigram\").rlike(\"^[a-zA-Z0-9].*[a-zA-Z0-9]$\"))   # Start/end with alphanumeric\n",
    ").groupBy(\n",
    "    \"bigram\"\n",
    ").agg(\n",
    "    spark_count(\"*\").alias(\"count\")\n",
    ").orderBy(\n",
    "    col(\"count\").desc()\n",
    ")\n",
    "\n",
    "# 4. Show results\n",
    "print(\"\\nTop 10 bigrams in titles:\")\n",
    "for row in bigram_counts.limit(10).collect():\n",
    "    print(f\"'{row.bigram}': {row['count']}\")\n",
    "    "
   ]
  },
  {
   "cell_type": "code",
   "execution_count": 19,
   "id": "4f320ae1",
   "metadata": {},
   "outputs": [
    {
     "name": "stdout",
     "output_type": "stream",
     "text": [
      "\n",
      "Top 5 bigrams per category:\n",
      "\n",
      "cs.CV:\n",
      "  'vision language': 18\n",
      "  'language models': 12\n",
      "  'gaussian splatting': 11\n",
      "  'zero shot': 10\n",
      "  'object detection': 10\n",
      "\n",
      "cs.LG:\n",
      "  'reinforcement learning': 24\n",
      "  'neural networks': 15\n",
      "  'time series': 13\n",
      "  'language models': 9\n",
      "  'machine learning': 8\n",
      "\n",
      "cs.CL:\n",
      "  'language models': 49\n",
      "  'large language': 32\n",
      "  'retrieval augmented': 11\n",
      "  'test time': 6\n",
      "  'augmented generation': 6\n",
      "\n",
      "quant-ph:\n",
      "  'variational quantum': 8\n",
      "  'quantum circuits': 4\n",
      "  'quantum dynamics': 4\n",
      "  'quantum error': 4\n",
      "  'machine learning': 4\n",
      "\n",
      "cs.RO:\n",
      "  'reinforcement learning': 6\n",
      "  'motion planning': 4\n",
      "  'human robot': 4\n",
      "  'autonomous driving': 4\n",
      "  'vision language': 3\n",
      "\n",
      "cs.AI:\n",
      "  'language models': 6\n",
      "  'large language': 5\n",
      "  'generative ai': 4\n",
      "  'reinforcement learning': 4\n",
      "  'llm based': 4\n",
      "\n",
      "math.AP:\n",
      "  'schr dinger': 8\n",
      "  'parabolic equations': 4\n",
      "  'solutions two': 3\n",
      "  'minkowski problem': 3\n",
      "  'wave equation': 3\n",
      "\n",
      "eess.SY:\n",
      "  'multi agent': 5\n",
      "  'predictive control': 4\n",
      "  'agent systems': 4\n",
      "  'linear quadratic': 3\n",
      "  'data driven': 3\n",
      "\n",
      "cond-mat.mtrl-sci:\n",
      "  'machine learning': 5\n",
      "  'electronic structure': 4\n",
      "  'x ray': 3\n",
      "  'two dimensional': 3\n",
      "  '2 aminopyrimidinium': 3\n",
      "\n",
      "hep-ph:\n",
      "  'dark matter': 5\n",
      "  'axion dark': 3\n",
      "  'gravitational waves': 3\n",
      "  'cp violation': 3\n",
      "  'type ii': 2\n"
     ]
    }
   ],
   "source": [
    "from pyspark.sql.functions import explode, col, count as spark_count\n",
    "\n",
    "# 1. Process all papers once with category information\n",
    "category_bigrams = clean_papers.select(\n",
    "    \"main_category\", \n",
    "    \"clean_title\"\n",
    ").transform(\n",
    "    # Apply the same pipeline to all papers at once\n",
    "    lambda df: bigram.transform(remover.transform(tokenizer.transform(df)))\n",
    ")\n",
    "\n",
    "# 2. Extract, filter and count bigrams with categories in one operation\n",
    "bigram_by_category = category_bigrams.select(\n",
    "    \"main_category\",\n",
    "    explode(\"bigrams\").alias(\"bigram\")\n",
    ").filter(\n",
    "    # Apply same quality filters as main analysis \n",
    "    (length(trim(col(\"bigram\"))) > 3) &\n",
    "    (~col(\"bigram\").contains(\"  \")) &\n",
    "    (col(\"bigram\").rlike(\"^[a-zA-Z0-9].*[a-zA-Z0-9]$\"))\n",
    ").groupBy(\n",
    "    \"main_category\", \"bigram\"\n",
    ").count().orderBy(\n",
    "    col(\"main_category\"), col(\"count\").desc()\n",
    ")\n",
    "\n",
    "# 3. Display top bigrams for selected categories in one efficient loop\n",
    "top_categories = papers_df.groupBy(\"main_category\").count() \\\n",
    "                          .orderBy(\"count\", ascending=False) \\\n",
    "                          .limit(10) \\\n",
    "                          .select(\"main_category\") \\\n",
    "                          .rdd.flatMap(lambda x: x).collect()\n",
    "\n",
    "\n",
    "print(\"\\nTop 5 bigrams per category:\")\n",
    "for category in top_categories[:10]:\n",
    "    print(f\"\\n{category}:\")\n",
    "    top_for_category = bigram_by_category.filter(col(\"main_category\") == category).limit(5).collect()\n",
    "    for row in top_for_category:\n",
    "        print(f\"  '{row.bigram}': {row['count']}\")"
   ]
  },
  {
   "cell_type": "code",
   "execution_count": 20,
   "id": "662d88ad",
   "metadata": {},
   "outputs": [
    {
     "name": "stdout",
     "output_type": "stream",
     "text": [
      "\n",
      "Top 10 bigrams in summaries:\n",
      "'state art': 531\n",
      "'real world': 448\n",
      "'language models': 447\n",
      "'large language': 384\n",
      "'large scale': 266\n",
      "'machine learning': 223\n",
      "'experimental results': 218\n",
      "'extensive experiments': 197\n",
      "'fine tuning': 197\n",
      "'real time': 197\n",
      "\n",
      "Top 5 summary bigrams per category:\n",
      "\n",
      "cs.CV:\n",
      "  'state art': 223\n",
      "  'real world': 139\n",
      "  'extensive experiments': 114\n",
      "  'github com': 88\n",
      "  'high quality': 84\n",
      "\n",
      "cs.LG:\n",
      "  'reinforcement learning': 67\n",
      "  'state art': 65\n",
      "  'machine learning': 59\n",
      "  'real world': 58\n",
      "  'neural networks': 49\n",
      "\n",
      "cs.CL:\n",
      "  'language models': 179\n",
      "  'large language': 152\n",
      "  'fine tuning': 52\n",
      "  'state art': 40\n",
      "  'real world': 33\n",
      "\n",
      "quant-ph:\n",
      "  'quantum computing': 29\n",
      "  'quantum systems': 26\n",
      "  'variational quantum': 25\n",
      "  'ground state': 23\n",
      "  'quantum algorithms': 21\n",
      "\n",
      "cs.RO:\n",
      "  'real world': 55\n",
      "  'real time': 25\n",
      "  'experimental results': 20\n",
      "  'motion planning': 19\n",
      "  'imitation learning': 18\n"
     ]
    }
   ],
   "source": [
    "from pyspark.sql.functions import explode, col, count as spark_count, trim, lower, regexp_replace, length\n",
    "\n",
    "# ----------------- Summary Bigram Analysis -----------------\n",
    "\n",
    "# 1. Clean the summary text\n",
    "clean_papers_summary = papers_df.withColumn(\n",
    "    \"clean_summary\", \n",
    "    trim(regexp_replace(lower(col(\"summary\")), \"[^a-zA-Z0-9\\\\s]\", \" \"))\n",
    ")\n",
    "\n",
    "# 2. Apply tokenization pipeline\n",
    "sum_tokenizer = Tokenizer(inputCol=\"clean_summary\", outputCol=\"summary_tokens\")\n",
    "sum_remover = StopWordsRemover(inputCol=\"summary_tokens\", outputCol=\"summary_filtered\")\n",
    "sum_bigram = NGram(n=2, inputCol=\"summary_filtered\", outputCol=\"summary_bigrams\")\n",
    "\n",
    "# 3. Generate and filter meaningful bigrams\n",
    "summary_pipeline = sum_bigram.transform(\n",
    "    sum_remover.transform(\n",
    "        sum_tokenizer.transform(clean_papers_summary)\n",
    "    )\n",
    ")\n",
    "\n",
    "# 4. Extract and count bigrams\n",
    "summary_bigram_counts = summary_pipeline.select(\n",
    "    explode(\"summary_bigrams\").alias(\"bigram\")\n",
    ").filter(\n",
    "    # Same quality filters as used for titles\n",
    "    (length(trim(col(\"bigram\"))) > 3) &\n",
    "    (~col(\"bigram\").contains(\"  \")) &\n",
    "    (col(\"bigram\").rlike(\"^[a-zA-Z0-9].*[a-zA-Z0-9]$\"))\n",
    ").groupBy(\n",
    "    \"bigram\"\n",
    ").agg(\n",
    "    spark_count(\"*\").alias(\"count\")\n",
    ").orderBy(\n",
    "    col(\"count\").desc()\n",
    ")\n",
    "\n",
    "# 5. Show top bigrams in summaries\n",
    "print(\"\\nTop 10 bigrams in summaries:\")\n",
    "for row in summary_bigram_counts.limit(10).collect():\n",
    "    print(f\"'{row.bigram}': {row['count']}\")\n",
    "\n",
    "# 6. Category-specific summary bigrams in a single efficient operation\n",
    "category_summary_bigrams = clean_papers_summary.select(\n",
    "    \"main_category\",\n",
    "    \"clean_summary\"\n",
    ").transform(\n",
    "    # Apply the pipeline to all papers at once\n",
    "    lambda df: sum_bigram.transform(sum_remover.transform(sum_tokenizer.transform(df)))\n",
    ")\n",
    "\n",
    "# 7. Process all categories at once\n",
    "summary_bigrams_by_category = category_summary_bigrams.select(\n",
    "    \"main_category\",\n",
    "    explode(\"summary_bigrams\").alias(\"bigram\")\n",
    ").filter(\n",
    "    # Same quality filters\n",
    "    (length(trim(col(\"bigram\"))) > 3) &\n",
    "    (~col(\"bigram\").contains(\"  \")) &\n",
    "    (col(\"bigram\").rlike(\"^[a-zA-Z0-9].*[a-zA-Z0-9]$\"))\n",
    ").groupBy(\n",
    "    \"main_category\", \"bigram\"\n",
    ").count().orderBy(\n",
    "    col(\"main_category\"), col(\"count\").desc()\n",
    ")\n",
    "\n",
    "# 8. Display top summary bigrams by category\n",
    "print(\"\\nTop 5 summary bigrams per category:\")\n",
    "for category in top_categories[:5]:  # Limiting to top 5 categories for brevity\n",
    "    print(f\"\\n{category}:\")\n",
    "    top_for_category = summary_bigrams_by_category.filter(col(\"main_category\") == category).limit(5).collect()\n",
    "    for row in top_for_category:\n",
    "        print(f\"  '{row.bigram}': {row['count']}\")\n",
    "        "
   ]
  },
  {
   "cell_type": "code",
   "execution_count": 21,
   "id": "b8f5dcbd",
   "metadata": {},
   "outputs": [
    {
     "name": "stdout",
     "output_type": "stream",
     "text": [
      "\n",
      "Top keywords correlated with categories:\n",
      "\n",
      "cs.CV:\n",
      "  'pose': 9 occurrences, 0.90 importance\n",
      "  'anything': 7 occurrences, 0.88 importance\n",
      "  'grounding': 7 occurrences, 0.88 importance\n",
      "  'video': 67 occurrences, 0.86 importance\n",
      "  'monocular': 6 occurrences, 0.86 importance\n",
      "  'restoration': 6 occurrences, 0.86 importance\n",
      "  'controllable': 6 occurrences, 0.86 importance\n",
      "  'visual': 38 occurrences, 0.81 importance\n",
      "  'r1': 8 occurrences, 0.80 importance\n",
      "  'segmentation': 51 occurrences, 0.77 importance\n",
      "\n",
      "cs.LG:\n",
      "  'unlearning': 6 occurrences, 0.75 importance\n",
      "  'federated': 16 occurrences, 0.64 importance\n",
      "  'forecasting': 10 occurrences, 0.59 importance\n",
      "  'series': 14 occurrences, 0.48 importance\n",
      "  'reinforcement': 26 occurrences, 0.47 importance\n",
      "  'expert': 6 occurrences, 0.46 importance\n",
      "  'informed': 6 occurrences, 0.43 importance\n",
      "  'policy': 6 occurrences, 0.38 importance\n",
      "  'neural': 32 occurrences, 0.34 importance\n",
      "  'graph': 20 occurrences, 0.30 importance\n",
      "\n",
      "cs.CL:\n",
      "  'multilingual': 9 occurrences, 0.82 importance\n",
      "  'translation': 9 occurrences, 0.64 importance\n",
      "  'news': 7 occurrences, 0.64 importance\n",
      "  'llms': 25 occurrences, 0.51 importance\n",
      "  'language': 75 occurrences, 0.44 importance\n",
      "  'question': 6 occurrences, 0.40 importance\n",
      "  'augmented': 12 occurrences, 0.38 importance\n",
      "  'reasoning': 28 occurrences, 0.35 importance\n",
      "  'evaluation': 16 occurrences, 0.35 importance\n",
      "  'speech': 9 occurrences, 0.35 importance\n",
      "\n",
      "quant-ph:\n",
      "  'qubit': 9 occurrences, 0.82 importance\n",
      "  'entanglement': 9 occurrences, 0.64 importance\n",
      "  'quantum': 125 occurrences, 0.57 importance\n",
      "  'circuits': 7 occurrences, 0.54 importance\n",
      "  'variational': 11 occurrences, 0.50 importance\n",
      "  'states': 16 occurrences, 0.31 importance\n",
      "  'algorithm': 10 occurrences, 0.30 importance\n",
      "  'error': 6 occurrences, 0.25 importance\n",
      "  'algorithms': 7 occurrences, 0.23 importance\n",
      "  'state': 11 occurrences, 0.18 importance\n",
      "\n",
      "cs.RO:\n",
      "  'robot': 26 occurrences, 0.93 importance\n",
      "  'robots': 8 occurrences, 0.89 importance\n",
      "  'grasping': 7 occurrences, 0.88 importance\n",
      "  'manipulation': 12 occurrences, 0.80 importance\n",
      "  'robotic': 6 occurrences, 0.75 importance\n",
      "  'planning': 15 occurrences, 0.68 importance\n",
      "  'navigation': 6 occurrences, 0.60 importance\n",
      "  'trajectory': 9 occurrences, 0.47 importance\n",
      "  'autonomous': 14 occurrences, 0.44 importance\n",
      "  'driving': 7 occurrences, 0.39 importance\n",
      "\n",
      "cs.AI:\n",
      "  'agents': 11 occurrences, 0.41 importance\n",
      "  'agent': 13 occurrences, 0.33 importance\n",
      "  'intelligence': 7 occurrences, 0.28 importance\n",
      "  'ai': 27 occurrences, 0.26 importance\n",
      "  'reasoning': 20 occurrences, 0.25 importance\n",
      "  'knowledge': 12 occurrences, 0.21 importance\n",
      "  'llm': 16 occurrences, 0.17 importance\n",
      "  'generative': 6 occurrences, 0.15 importance\n",
      "  'framework': 10 occurrences, 0.08 importance\n",
      "  'efficient': 6 occurrences, 0.06 importance\n",
      "\n",
      "math.AP:\n",
      "  'parabolic': 6 occurrences, 0.67 importance\n",
      "  'existence': 7 occurrences, 0.58 importance\n",
      "  'dinger': 8 occurrences, 0.57 importance\n",
      "  'schr': 8 occurrences, 0.57 importance\n",
      "  'l': 9 occurrences, 0.39 importance\n",
      "  'solutions': 14 occurrences, 0.34 importance\n",
      "  'equation': 12 occurrences, 0.31 importance\n",
      "  'equations': 17 occurrences, 0.28 importance\n",
      "  'p': 10 occurrences, 0.24 importance\n",
      "  'nonlinear': 9 occurrences, 0.24 importance\n",
      "\n",
      "eess.SY:\n",
      "  'control': 22 occurrences, 0.28 importance\n",
      "  'distributed': 7 occurrences, 0.26 importance\n",
      "  'systems': 18 occurrences, 0.13 importance\n",
      "  'energy': 6 occurrences, 0.11 importance\n",
      "  'system': 8 occurrences, 0.09 importance\n",
      "  'driven': 7 occurrences, 0.08 importance\n",
      "  'analysis': 8 occurrences, 0.08 importance\n",
      "  'approach': 8 occurrences, 0.07 importance\n",
      "  'networks': 7 occurrences, 0.07 importance\n",
      "  'based': 13 occurrences, 0.05 importance\n",
      "\n",
      "cond-mat.mtrl-sci:\n",
      "  'hydrogen': 7 occurrences, 0.78 importance\n",
      "  'crystal': 6 occurrences, 0.55 importance\n",
      "  'materials': 6 occurrences, 0.50 importance\n",
      "  'electronic': 7 occurrences, 0.44 importance\n",
      "  'x': 13 occurrences, 0.30 importance\n",
      "  'properties': 9 occurrences, 0.24 importance\n",
      "  '2': 19 occurrences, 0.20 importance\n",
      "  'structure': 7 occurrences, 0.14 importance\n",
      "  '3': 7 occurrences, 0.12 importance\n",
      "  'single': 6 occurrences, 0.12 importance\n",
      "\n",
      "hep-ph:\n",
      "  'cp': 6 occurrences, 1.00 importance\n",
      "  'quark': 9 occurrences, 0.82 importance\n",
      "  'decays': 9 occurrences, 0.75 importance\n",
      "  'higgs': 8 occurrences, 0.62 importance\n",
      "  'qcd': 8 occurrences, 0.42 importance\n",
      "  'b': 6 occurrences, 0.38 importance\n",
      "  'dark': 8 occurrences, 0.29 importance\n",
      "  'matter': 8 occurrences, 0.26 importance\n",
      "  'theory': 6 occurrences, 0.09 importance\n",
      "  'model': 11 occurrences, 0.04 importance\n"
     ]
    }
   ],
   "source": [
    "# Are certain keywords more correlated with certain categories?\n",
    "\n",
    "from pyspark.ml.feature import Tokenizer, StopWordsRemover, HashingTF, IDF\n",
    "from pyspark.sql.functions import array_contains\n",
    "from pyspark.sql.functions import col, expr, udf\n",
    "from pyspark.sql.types import FloatType, ArrayType, StringType\n",
    "from pyspark.ml import Pipeline\n",
    "\n",
    "# 1. Prepare data - clean text and add category\n",
    "keyword_data = papers_df.select(\n",
    "    \"main_category\",\n",
    "    regexp_replace(lower(col(\"title\")), \"[^a-zA-Z0-9\\\\s]\", \" \").alias(\"cleaned_text\")\n",
    ")\n",
    "\n",
    "# 2. Create ML pipeline for feature extraction\n",
    "tokenizer = Tokenizer(inputCol=\"cleaned_text\", outputCol=\"words\")\n",
    "remover = StopWordsRemover(inputCol=\"words\", outputCol=\"filtered\")\n",
    "hashingTF = HashingTF(inputCol=\"filtered\", outputCol=\"rawFeatures\", numFeatures=10000)\n",
    "idf = IDF(inputCol=\"rawFeatures\", outputCol=\"features\", minDocFreq=5)\n",
    "pipeline = Pipeline(stages=[tokenizer, remover, hashingTF, idf])\n",
    "\n",
    "# 3. Fit the pipeline and transform data\n",
    "model = pipeline.fit(keyword_data)\n",
    "transformed = model.transform(keyword_data)\n",
    "\n",
    "# 4. Calculate keyword significance for each category\n",
    "# Get vocabulary from the HashingTF model (using the vocabulary from token counts)\n",
    "from pyspark.ml.feature import CountVectorizer\n",
    "cv = CountVectorizer(inputCol=\"filtered\", outputCol=\"counts\", minDF=10)\n",
    "cv_model = cv.fit(transformed)\n",
    "vocab = cv_model.vocabulary\n",
    "\n",
    "# 5. For each category, find most distinctive keywords\n",
    "print(\"\\nTop keywords correlated with categories:\")\n",
    "for category in top_categories[:10]:  # Show top 20 categories\n",
    "    # Filter for this category and collect weighted term frequencies\n",
    "    category_docs = transformed.filter(col(\"main_category\") == category)\n",
    "    \n",
    "    # Extract top terms for this category using the TF-IDF weights\n",
    "    @udf(returnType=ArrayType(StringType()))\n",
    "    def get_top_terms(words, features):\n",
    "        # Pair words with their feature weights and sort by weight\n",
    "        return [w for _, w in sorted([(features[i], w) for i, w in enumerate(words) if i < len(features)], \n",
    "                                   key=lambda x: x[0], reverse=True)[:10]]\n",
    "    \n",
    "    # Apply the UDF to get top terms for each document\n",
    "    category_terms = category_docs.withColumn(\"top_terms\", get_top_terms(\"filtered\", \"features\"))\n",
    "    \n",
    "    # Count term frequency across all documents in this category\n",
    "    top_terms = category_terms.select(explode(\"filtered\").alias(\"term\")).groupBy(\"term\").count()\n",
    "    \n",
    "    # Get overall corpus frequency for comparison\n",
    "    corpus_freq = transformed.select(explode(\"filtered\").alias(\"term\")).groupBy(\"term\").count().withColumnRenamed(\"count\", \"corpus_count\")\n",
    "    \n",
    "    # Calculate term importance as ratio of category frequency to corpus frequency\n",
    "    term_importance = top_terms.join(corpus_freq, \"term\").withColumn(\n",
    "        \"importance\", col(\"count\") / col(\"corpus_count\")\n",
    "    ).orderBy(\"importance\", ascending=False)\n",
    "    \n",
    "    # Display results\n",
    "    print(f\"\\n{category}:\")\n",
    "    for row in term_importance.filter(col(\"count\") > 5).limit(10).collect():\n",
    "        print(f\"  '{row.term}': {row['count']} occurrences, {row.importance:.2f} importance\")\n"
   ]
  }
 ],
 "metadata": {
  "kernelspec": {
   "display_name": "assignment-03",
   "language": "python",
   "name": "python3"
  },
  "language_info": {
   "codemirror_mode": {
    "name": "ipython",
    "version": 3
   },
   "file_extension": ".py",
   "mimetype": "text/x-python",
   "name": "python",
   "nbconvert_exporter": "python",
   "pygments_lexer": "ipython3",
   "version": "3.11.11"
  }
 },
 "nbformat": 4,
 "nbformat_minor": 5
}
