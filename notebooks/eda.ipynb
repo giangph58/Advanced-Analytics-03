{
 "cells": [
  {
   "cell_type": "code",
   "execution_count": null,
   "id": "41f341d4",
   "metadata": {},
   "outputs": [],
   "source": [
    "# Automatically reload every imported module if its source file has changed since the last import, before running any code.\n",
    "%load_ext autoreload\n",
    "%autoreload 2\n"
   ]
  },
  {
   "cell_type": "code",
   "execution_count": 1,
   "id": "bed4e9f6",
   "metadata": {},
   "outputs": [],
   "source": [
    "import os\n",
    "spark_home = os.path.abspath(os.getcwd() + \"/spark/spark-3.5.5-bin-hadoop3\")\n",
    "hadoop_home = os.path.abspath(os.getcwd() + \"/spark/winutils\")\n",
    "# print(f\"I am using the following SPARK_HOME: {spark_home}\")\n",
    "if os.name == 'nt':\n",
    "    os.environ[\"HADOOP_HOME\"] = f\"{hadoop_home}\"\n",
    "    # print(f\"Windows detected: set HADOOP_HOME to: {os.environ['HADOOP_HOME']}\")\n",
    "    hadoop_bin = os.path.join(hadoop_home, \"bin\")\n",
    "    os.environ[\"PATH\"] = f\"{hadoop_bin};{os.environ['PATH']}\"\n",
    "    # print(f\"  Also added Hadoop bin directory to PATH: {hadoop_bin}\")\n",
    "\n",
    "import findspark\n",
    "import pyspark\n",
    "from pyspark.streaming import StreamingContext\n",
    "\n",
    "findspark.init(spark_home)\n",
    "sc = pyspark.SparkContext()\n",
    "spark = pyspark.sql.SparkSession.builder.getOrCreate()\n"
   ]
  },
  {
   "cell_type": "code",
   "execution_count": 2,
   "id": "4ea9dde8",
   "metadata": {},
   "outputs": [],
   "source": [
    "papers_df = spark.read.json(\"data/interim\")\n"
   ]
  },
  {
   "cell_type": "markdown",
   "id": "488cb561",
   "metadata": {},
   "source": [
    "# Data structure\n",
    "\n",
    "Understand what you have and whether it's clean:\n",
    "- What is the schema of the dataset?\n",
    "- Are there missing values in key fields like title, summary, main_category, categories, or published?\n",
    "- Are there duplicated records (`aid`)?"
   ]
  },
  {
   "cell_type": "code",
   "execution_count": 3,
   "id": "003c200a",
   "metadata": {},
   "outputs": [
    {
     "name": "stdout",
     "output_type": "stream",
     "text": [
      "root\n",
      " |-- aid: string (nullable = true)\n",
      " |-- categories: string (nullable = true)\n",
      " |-- main_category: string (nullable = true)\n",
      " |-- published: string (nullable = true)\n",
      " |-- summary: string (nullable = true)\n",
      " |-- title: string (nullable = true)\n",
      "\n",
      "Dataset size: 5052 papers\n",
      "Number of columns: 6\n",
      "+---+----------+-------------+---------+-------+-----+\n",
      "|aid|categories|main_category|published|summary|title|\n",
      "+---+----------+-------------+---------+-------+-----+\n",
      "|  0|         0|            0|        0|      0|    0|\n",
      "+---+----------+-------------+---------+-------+-----+\n",
      "\n"
     ]
    }
   ],
   "source": [
    "# Schema\n",
    "papers_df.printSchema()\n",
    "\n",
    "# Get basic statistics and information\n",
    "print(f\"Dataset size: {papers_df.count()} papers\")\n",
    "print(f\"Number of columns: {len(papers_df.columns)}\")\n",
    "\n",
    "# Check for missing values\n",
    "from pyspark.sql.functions import col, count, when, isnan, isnull\n",
    "from pyspark.sql.functions import split, size, year, month, explode, round, sum as spark_sum\n",
    "\n",
    "papers_df.select([count(when(col(c).isNull() | isnan(col(c)), c)).alias(c) \n",
    "                          for c in papers_df.columns]).show()\n"
   ]
  },
  {
   "cell_type": "code",
   "execution_count": 4,
   "id": "eb228599",
   "metadata": {},
   "outputs": [
    {
     "name": "stdout",
     "output_type": "stream",
     "text": [
      "First record:\n",
      "{'aid': 'http://arxiv.org/abs/2503.21660v1',\n",
      " 'categories': 'hep-th,cond-mat.str-el,gr-qc',\n",
      " 'main_category': 'hep-th',\n",
      " 'published': '2025-03-27T16:24:08Z',\n",
      " 'summary': 'Fractons, characterized by restricted mobility and governed by higher-moment\\n'\n",
      "            'conservation laws, represent a novel phase of matter with deep connections to\\n'\n",
      "            'tensor gauge theories and emergent gravity. This work systematically explores\\n'\n",
      "            'the duality between fractons and non-Lorentzian particles -- Carroll and\\n'\n",
      "            'Galilean -- within electromagnetic (EM) fields. By constructing canonical\\n'\n",
      "            'actions for fractons in rank-2 gauge fields, we derive their equations of\\n'\n",
      "            'motion and demonstrate that static fractons exhibit duality with\\n'\n",
      "            'electric-sector of Carroll particles, while mobile fracton dipoles correspond\\n'\n",
      "            'to both electric and magnetic sectors of Galilean particles. The algebraic\\n'\n",
      "            'underpinnings of these dualities are clarified through symmetry analyses,\\n'\n",
      "            'revealing structural parallels between the fracton and Carroll/Galilean\\n'\n",
      "            'algebras. Furthermore, by gauging the fracton algebra, we develop a geometric\\n'\n",
      "            'framework for fracton gravity, linking it to non-Lorentzian spacetime\\n'\n",
      "            'geometries. These results unify fracton dynamics with non-relativistic and\\n'\n",
      "            'ultra-relativistic limits of physics, offering insights into emergent gravity\\n'\n",
      "            'and exotic condensed matter systems.',\n",
      " 'title': 'Fracton and Non-Lorentzian Particle Duality: Gauge Field Couplings and\\n'\n",
      "          '  Geometric Implications'}\n"
     ]
    }
   ],
   "source": [
    "# Print the first record in a dictionary format with better formatting\n",
    "from pprint import pprint\n",
    "\n",
    "# Get the first record as a dictionary\n",
    "first_record = papers_df.limit(1).toPandas().T.to_dict()[0]\n",
    "\n",
    "# Pretty print with formatting\n",
    "print(\"First record:\")\n",
    "pprint(first_record, width=100, compact=False)\n"
   ]
  },
  {
   "cell_type": "markdown",
   "id": "45c9d8cb",
   "metadata": {},
   "source": [
    "# Main category distribution\n",
    "\n",
    "Understand your labels before deciding on prediction strategy:\n",
    "- How many unique values are there in `main_category`?\n",
    "- What are the top N most frequent `main_category` values?\n",
    "- Are some `main_category` values very rare or dominant? (e.g., does one class dominate 50% of the data?)\n",
    "- How many unique `categories` values?\n",
    "- What’s the average number of `categories` per paper (for multilabel setup)?\n",
    "- How do `main_category` distributions differ over week? Over day?\n",
    "- What's the distribution of Arxiv main category (before `.`)?\n"
   ]
  },
  {
   "cell_type": "code",
   "execution_count": 5,
   "id": "339d1bc1",
   "metadata": {},
   "outputs": [
    {
     "name": "stdout",
     "output_type": "stream",
     "text": [
      "Number of unique main_categories: 143\n"
     ]
    }
   ],
   "source": [
    "# Target Analysis: Main Category Distribution and Characteristics\n",
    "\n",
    "# ---------- 1. Count unique values in main_category ----------\n",
    "unique_main_categories = papers_df.select(\"main_category\").distinct().count()\n",
    "print(f\"Number of unique main_categories: {unique_main_categories}\")\n"
   ]
  },
  {
   "cell_type": "code",
   "execution_count": 6,
   "id": "91a6c284",
   "metadata": {},
   "outputs": [
    {
     "name": "stdout",
     "output_type": "stream",
     "text": [
      "\n",
      "Top 10 most frequent main categories:\n",
      "+-----------------+-----+\n",
      "|main_category    |count|\n",
      "+-----------------+-----+\n",
      "|cs.CV            |592  |\n",
      "|cs.LG            |330  |\n",
      "|cs.CL            |272  |\n",
      "|quant-ph         |222  |\n",
      "|cs.RO            |140  |\n",
      "|cs.AI            |120  |\n",
      "|math.AP          |107  |\n",
      "|cond-mat.mtrl-sci|101  |\n",
      "|eess.SY          |101  |\n",
      "|hep-ph           |94   |\n",
      "+-----------------+-----+\n",
      "only showing top 10 rows\n",
      "\n"
     ]
    }
   ],
   "source": [
    "# ---------- 2. Top N most frequent main_categories ----------\n",
    "N = 10  # Change this to see more or fewer categories\n",
    "main_cat_dist = papers_df.groupBy(\"main_category\").count().orderBy(\"count\", ascending=False)\n",
    "print(f\"\\nTop {N} most frequent main categories:\")\n",
    "main_cat_dist.show(N, truncate=False)\n"
   ]
  },
  {
   "cell_type": "code",
   "execution_count": 7,
   "id": "fca271f3",
   "metadata": {},
   "outputs": [
    {
     "name": "stdout",
     "output_type": "stream",
     "text": [
      "\n",
      "Category distribution with percentages:\n",
      "+-----------------+-----+----------+\n",
      "|main_category    |count|percentage|\n",
      "+-----------------+-----+----------+\n",
      "|cs.CV            |592  |11.72     |\n",
      "|cs.LG            |330  |6.53      |\n",
      "|cs.CL            |272  |5.38      |\n",
      "|quant-ph         |222  |4.39      |\n",
      "|cs.RO            |140  |2.77      |\n",
      "|cs.AI            |120  |2.38      |\n",
      "|math.AP          |107  |2.12      |\n",
      "|eess.SY          |101  |2.0       |\n",
      "|cond-mat.mtrl-sci|101  |2.0       |\n",
      "|hep-ph           |94   |1.86      |\n",
      "|eess.SP          |84   |1.66      |\n",
      "|gr-qc            |80   |1.58      |\n",
      "|math.OC          |79   |1.56      |\n",
      "|physics.optics   |78   |1.54      |\n",
      "|hep-th           |76   |1.5       |\n",
      "|math.CO          |75   |1.48      |\n",
      "|math.NA          |72   |1.43      |\n",
      "|astro-ph.GA      |72   |1.43      |\n",
      "|cs.CR            |71   |1.41      |\n",
      "|cs.IR            |67   |1.33      |\n",
      "+-----------------+-----+----------+\n",
      "only showing top 20 rows\n",
      "\n",
      "Dominant categories (>5%): 3\n",
      "+-------------+-----+----------+\n",
      "|main_category|count|percentage|\n",
      "+-------------+-----+----------+\n",
      "|cs.CV        |592  |11.72     |\n",
      "|cs.LG        |330  |6.53      |\n",
      "|cs.CL        |272  |5.38      |\n",
      "+-------------+-----+----------+\n",
      "\n",
      "Rare categories (<1%): 114\n",
      "+------------------+-----+----------+\n",
      "|main_category     |count|percentage|\n",
      "+------------------+-----+----------+\n",
      "|math.NT           |50   |0.99      |\n",
      "|physics.flu-dyn   |50   |0.99      |\n",
      "|cond-mat.soft     |50   |0.99      |\n",
      "|cs.IT             |48   |0.95      |\n",
      "|math.AG           |45   |0.89      |\n",
      "|math.DS           |45   |0.89      |\n",
      "|eess.IV           |43   |0.85      |\n",
      "|math.DG           |41   |0.81      |\n",
      "|nucl-th           |38   |0.75      |\n",
      "|astro-ph.IM       |37   |0.73      |\n",
      "|math.FA           |37   |0.73      |\n",
      "|astro-ph.EP       |36   |0.71      |\n",
      "|cond-mat.stat-mech|33   |0.65      |\n",
      "|math.RT           |32   |0.63      |\n",
      "|cs.DS             |31   |0.61      |\n",
      "|cs.DC             |31   |0.61      |\n",
      "|cs.NI             |31   |0.61      |\n",
      "|math.ST           |29   |0.57      |\n",
      "|cs.SD             |28   |0.55      |\n",
      "|cs.AR             |28   |0.55      |\n",
      "+------------------+-----+----------+\n",
      "only showing top 20 rows\n",
      "\n"
     ]
    }
   ],
   "source": [
    "# ---------- 3. Check for category imbalance ----------\n",
    "total_papers = papers_df.count()\n",
    "main_cat_dist_with_pct = main_cat_dist.withColumn(\n",
    "    \"percentage\", round((col(\"count\") / total_papers) * 100, 2)\n",
    ")\n",
    "\n",
    "print(\"\\nCategory distribution with percentages:\")\n",
    "main_cat_dist_with_pct.show(20, truncate=False)\n",
    "\n",
    "# Find dominant categories (>10%) and rare categories (<1%)\n",
    "dominant_categories = main_cat_dist_with_pct.filter(\"percentage > 5\")\n",
    "rare_categories = main_cat_dist_with_pct.filter(\"percentage < 1\")\n",
    "\n",
    "print(f\"Dominant categories (>5%): {dominant_categories.count()}\")\n",
    "dominant_categories.show(truncate=False)\n",
    "\n",
    "print(f\"Rare categories (<1%): {rare_categories.count()}\")\n",
    "rare_categories.show(truncate=False)\n"
   ]
  },
  {
   "cell_type": "code",
   "execution_count": 8,
   "id": "cef31a1f",
   "metadata": {},
   "outputs": [
    {
     "name": "stdout",
     "output_type": "stream",
     "text": [
      "\n",
      "Number of unique subcategories: 189\n"
     ]
    }
   ],
   "source": [
    "# ---------- 4. Unique subcategories in categories field ----------\n",
    "# Assuming categories field contains comma-separated category codes\n",
    "categories_exploded = papers_df.select(\n",
    "    explode(split(col(\"categories\"), \",\")).alias(\"subcategory\")\n",
    ")\n",
    "unique_subcategories = categories_exploded.select(\"subcategory\").distinct().count()\n",
    "print(f\"\\nNumber of unique subcategories: {unique_subcategories}\")\n"
   ]
  },
  {
   "cell_type": "code",
   "execution_count": 9,
   "id": "deb8005e",
   "metadata": {},
   "outputs": [
    {
     "name": "stdout",
     "output_type": "stream",
     "text": [
      "\n",
      "Average number of categories per paper: 1.76\n",
      "\n",
      "Distribution of number of categories per paper:\n",
      "+--------------+-----+----------+\n",
      "|num_categories|count|percentage|\n",
      "+--------------+-----+----------+\n",
      "|             1| 2504|    49.56%|\n",
      "|             2| 1608|    31.83%|\n",
      "|             3|  673|    13.32%|\n",
      "|             4|  178|     3.52%|\n",
      "|             5|   74|     1.46%|\n",
      "|             6|   13|     0.26%|\n",
      "|             7|    2|     0.04%|\n",
      "+--------------+-----+----------+\n",
      "\n"
     ]
    }
   ],
   "source": [
    "from pyspark.sql.functions import concat, lit\n",
    "\n",
    "cat_dist_with_count = papers_df.withColumn(\n",
    "    \"num_categories\", size(split(col(\"categories\"), \",\"))\n",
    ")\n",
    "\n",
    "avg_labels = cat_dist_with_count.agg(\n",
    "    {\"num_categories\": \"avg\"}\n",
    ").collect()[0][0]\n",
    "\n",
    "print(f\"\\nAverage number of categories per paper: {avg_labels:.2f}\")\n",
    "\n",
    "category_dist = cat_dist_with_count.groupBy(\"num_categories\").count()\n",
    "\n",
    "# Add percentage column\n",
    "category_dist_with_pct = category_dist.withColumn(\n",
    "    \"percentage\", round((col(\"count\") / total_papers) * 100, 2)\n",
    ")\n",
    "\n",
    "# Format the output to include both count and percentage\n",
    "print(\"\\nDistribution of number of categories per paper:\")\n",
    "category_dist_with_pct.select(\n",
    "    \"num_categories\", \n",
    "    \"count\", \n",
    "    concat(col(\"percentage\").cast(\"string\"), lit(\"%\")).alias(\"percentage\")\n",
    ").orderBy(\"num_categories\").show(20)\n"
   ]
  },
  {
   "cell_type": "code",
   "execution_count": 10,
   "id": "d7ea083b",
   "metadata": {},
   "outputs": [
    {
     "name": "stdout",
     "output_type": "stream",
     "text": [
      "\n",
      "Trend for top 10 categories over time (by week):\n",
      "+---------+-----------------+-----+----------+----------+\n",
      "|week_date|main_category    |count|week_total|percentage|\n",
      "+---------+-----------------+-----+----------+----------+\n",
      "|Apr-14   |cond-mat.mtrl-sci|11   |610       |1.8       |\n",
      "|Apr-14   |cs.AI            |12   |610       |1.97      |\n",
      "|Apr-14   |cs.CL            |38   |610       |6.23      |\n",
      "|Apr-14   |cs.CV            |81   |610       |13.28     |\n",
      "|Apr-14   |cs.LG            |35   |610       |5.74      |\n",
      "|Apr-14   |cs.RO            |22   |610       |3.61      |\n",
      "|Apr-14   |eess.SY          |10   |610       |1.64      |\n",
      "|Apr-14   |hep-ph           |10   |610       |1.64      |\n",
      "|Apr-14   |math.AP          |13   |610       |2.13      |\n",
      "|Apr-14   |quant-ph         |27   |610       |4.43      |\n",
      "|Apr-7    |cond-mat.mtrl-sci|49   |2344      |2.09      |\n",
      "|Apr-7    |cs.AI            |63   |2344      |2.69      |\n",
      "|Apr-7    |cs.CL            |128  |2344      |5.46      |\n",
      "|Apr-7    |cs.CV            |255  |2344      |10.88     |\n",
      "|Apr-7    |cs.LG            |153  |2344      |6.53      |\n",
      "|Apr-7    |cs.RO            |71   |2344      |3.03      |\n",
      "|Apr-7    |eess.SY          |46   |2344      |1.96      |\n",
      "|Apr-7    |hep-ph           |51   |2344      |2.18      |\n",
      "|Apr-7    |math.AP          |58   |2344      |2.47      |\n",
      "|Apr-7    |quant-ph         |101  |2344      |4.31      |\n",
      "|Mar-24   |cond-mat.mtrl-sci|2    |125       |1.6       |\n",
      "|Mar-24   |cs.AI            |2    |125       |1.6       |\n",
      "|Mar-24   |cs.CL            |11   |125       |8.8       |\n",
      "|Mar-24   |cs.CV            |28   |125       |22.4      |\n",
      "|Mar-24   |cs.LG            |6    |125       |4.8       |\n",
      "|Mar-24   |cs.RO            |1    |125       |0.8       |\n",
      "|Mar-24   |eess.SY          |2    |125       |1.6       |\n",
      "|Mar-24   |hep-ph           |2    |125       |1.6       |\n",
      "|Mar-24   |math.AP          |2    |125       |1.6       |\n",
      "|Mar-24   |quant-ph         |7    |125       |5.6       |\n",
      "|Mar-31   |cond-mat.mtrl-sci|39   |1973      |1.98      |\n",
      "|Mar-31   |cs.AI            |43   |1973      |2.18      |\n",
      "|Mar-31   |cs.CL            |95   |1973      |4.82      |\n",
      "|Mar-31   |cs.CV            |228  |1973      |11.56     |\n",
      "|Mar-31   |cs.LG            |136  |1973      |6.89      |\n",
      "|Mar-31   |cs.RO            |46   |1973      |2.33      |\n",
      "|Mar-31   |eess.SY          |43   |1973      |2.18      |\n",
      "|Mar-31   |hep-ph           |31   |1973      |1.57      |\n",
      "|Mar-31   |math.AP          |34   |1973      |1.72      |\n",
      "|Mar-31   |quant-ph         |87   |1973      |4.41      |\n",
      "+---------+-----------------+-----+----------+----------+\n",
      "\n",
      "\n",
      "Note: The week_date format is 'MMM-d' showing the Monday that starts each week\n"
     ]
    }
   ],
   "source": [
    "# ---------- 6. Category distributions over week ----------\n",
    "from pyspark.sql.functions import weekofyear, date_format, dayofweek, date_sub, expr, to_date\n",
    "\n",
    "# Convert published field to date components and find the Monday that starts each week\n",
    "papers_with_date = papers_df.withColumn(\n",
    "    \"pub_date\", to_date(col(\"published\"))\n",
    ").withColumn(\n",
    "    # Calculate days to subtract to get to Monday (Sunday=1, Monday=2, etc.)\n",
    "    # For Monday (2) we subtract 0, Tuesday (3) subtract 1, etc.\n",
    "    \"days_from_monday\", expr(\"dayofweek(pub_date) - 2\")\n",
    ").withColumn(\n",
    "    # Handle Sunday (need to subtract 6 days instead of -1)\n",
    "    \"days_from_monday\", \n",
    "    when(col(\"days_from_monday\") < 0, 6).otherwise(col(\"days_from_monday\"))\n",
    ").withColumn(\n",
    "    # Get the Monday date\n",
    "    \"week_start\", date_sub(col(\"pub_date\"), col(\"days_from_monday\"))\n",
    ").withColumn(\n",
    "    # Format it as \"Mar-31\" \n",
    "    \"week_date\", date_format(col(\"week_start\"), \"MMM-d\")\n",
    ")\n",
    "\n",
    "# Count papers by week and category\n",
    "weekly_cat_dist = papers_with_date.groupBy(\"week_date\", \"main_category\").count().orderBy(\"week_date\", \"count\", ascending=False)\n",
    "\n",
    "# print(\"\\nCategory distribution by week (showing first 20 rows):\")\n",
    "# weekly_cat_dist.show(20, truncate=False)\n",
    "\n",
    "# Calculate percentage distribution by week\n",
    "weekly_totals = papers_with_date.groupBy(\"week_date\").count().withColumnRenamed(\"count\", \"week_total\")\n",
    "\n",
    "weekly_cat_pct = weekly_cat_dist.join(weekly_totals, \"week_date\") \\\n",
    "    .withColumn(\"percentage\", round((col(\"count\") / col(\"week_total\")) * 100, 2)) \\\n",
    "    .orderBy(\"week_date\", \"percentage\", ascending=False)\n",
    "\n",
    "# print(\"\\nPercentage distribution of categories by week (showing first 20 rows):\")\n",
    "# weekly_cat_pct.select(\"week_date\", \"main_category\", \"count\", \"week_total\", \"percentage\").show(20, truncate=False)\n",
    "\n",
    "# Optional: Track specific categories over time\n",
    "top_categories = main_cat_dist.limit(10).select(\"main_category\").rdd.flatMap(lambda x: x).collect()\n",
    "top_cat_trend = weekly_cat_pct.filter(col(\"main_category\").isin(top_categories))\n",
    "\n",
    "print(\"\\nTrend for top 10 categories over time (by week):\")\n",
    "top_cat_trend.orderBy(\"week_date\", \"main_category\").show(50, truncate=False)\n",
    "\n",
    "# Add a visualization hint\n",
    "print(\"\\nNote: The week_date format is 'MMM-d' showing the Monday that starts each week\")\n"
   ]
  },
  {
   "cell_type": "code",
   "execution_count": 11,
   "id": "8ae9a986",
   "metadata": {},
   "outputs": [
    {
     "data": {
      "application/vnd.plotly.v1+json": {
       "config": {
        "plotlyServerURL": "https://plot.ly"
       },
       "data": [
        {
         "hovertemplate": "main_category=cond-mat.mtrl-sci<br>Week=%{x}<br>Percentage (%)=%{y}<extra></extra>",
         "legendgroup": "cond-mat.mtrl-sci",
         "line": {
          "color": "#636efa",
          "dash": "solid"
         },
         "marker": {
          "symbol": "circle"
         },
         "mode": "lines+markers",
         "name": "cond-mat.mtrl-sci",
         "orientation": "v",
         "showlegend": true,
         "type": "scatter",
         "x": [
          "Apr-14",
          "Apr-7",
          "Mar-24",
          "Mar-31"
         ],
         "xaxis": "x",
         "y": {
          "bdata": "zczMzMzM/D+4HoXrUbgAQJqZmZmZmfk/rkfhehSu/z8=",
          "dtype": "f8"
         },
         "yaxis": "y"
        },
        {
         "hovertemplate": "main_category=cs.AI<br>Week=%{x}<br>Percentage (%)=%{y}<extra></extra>",
         "legendgroup": "cs.AI",
         "line": {
          "color": "#EF553B",
          "dash": "solid"
         },
         "marker": {
          "symbol": "circle"
         },
         "mode": "lines+markers",
         "name": "cs.AI",
         "orientation": "v",
         "showlegend": true,
         "type": "scatter",
         "x": [
          "Apr-14",
          "Apr-7",
          "Mar-24",
          "Mar-31"
         ],
         "xaxis": "x",
         "y": {
          "bdata": "hetRuB6F/z+F61G4HoUFQJqZmZmZmfk/cT0K16NwAUA=",
          "dtype": "f8"
         },
         "yaxis": "y"
        },
        {
         "hovertemplate": "main_category=cs.CL<br>Week=%{x}<br>Percentage (%)=%{y}<extra></extra>",
         "legendgroup": "cs.CL",
         "line": {
          "color": "#00cc96",
          "dash": "solid"
         },
         "marker": {
          "symbol": "circle"
         },
         "mode": "lines+markers",
         "name": "cs.CL",
         "orientation": "v",
         "showlegend": true,
         "type": "scatter",
         "x": [
          "Apr-14",
          "Apr-7",
          "Mar-24",
          "Mar-31"
         ],
         "xaxis": "x",
         "y": {
          "bdata": "7FG4HoXrGEDXo3A9CtcVQJqZmZmZmSFASOF6FK5HE0A=",
          "dtype": "f8"
         },
         "yaxis": "y"
        },
        {
         "hovertemplate": "main_category=cs.CV<br>Week=%{x}<br>Percentage (%)=%{y}<extra></extra>",
         "legendgroup": "cs.CV",
         "line": {
          "color": "#ab63fa",
          "dash": "solid"
         },
         "marker": {
          "symbol": "circle"
         },
         "mode": "lines+markers",
         "name": "cs.CV",
         "orientation": "v",
         "showlegend": true,
         "type": "scatter",
         "x": [
          "Apr-14",
          "Apr-7",
          "Mar-24",
          "Mar-31"
         ],
         "xaxis": "x",
         "y": {
          "bdata": "j8L1KFyPKkDD9Shcj8IlQGZmZmZmZjZAH4XrUbgeJ0A=",
          "dtype": "f8"
         },
         "yaxis": "y"
        },
        {
         "hovertemplate": "main_category=cs.LG<br>Week=%{x}<br>Percentage (%)=%{y}<extra></extra>",
         "legendgroup": "cs.LG",
         "line": {
          "color": "#FFA15A",
          "dash": "solid"
         },
         "marker": {
          "symbol": "circle"
         },
         "mode": "lines+markers",
         "name": "cs.LG",
         "orientation": "v",
         "showlegend": true,
         "type": "scatter",
         "x": [
          "Apr-14",
          "Apr-7",
          "Mar-24",
          "Mar-31"
         ],
         "xaxis": "x",
         "y": {
          "bdata": "9ihcj8L1FkAfhetRuB4aQDMzMzMzMxNAj8L1KFyPG0A=",
          "dtype": "f8"
         },
         "yaxis": "y"
        },
        {
         "hovertemplate": "main_category=cs.RO<br>Week=%{x}<br>Percentage (%)=%{y}<extra></extra>",
         "legendgroup": "cs.RO",
         "line": {
          "color": "#19d3f3",
          "dash": "solid"
         },
         "marker": {
          "symbol": "circle"
         },
         "mode": "lines+markers",
         "name": "cs.RO",
         "orientation": "v",
         "showlegend": true,
         "type": "scatter",
         "x": [
          "Apr-14",
          "Apr-7",
          "Mar-24",
          "Mar-31"
         ],
         "xaxis": "x",
         "y": {
          "bdata": "4XoUrkfhDEA9CtejcD0IQJqZmZmZmek/pHA9CtejAkA=",
          "dtype": "f8"
         },
         "yaxis": "y"
        },
        {
         "hovertemplate": "main_category=eess.SY<br>Week=%{x}<br>Percentage (%)=%{y}<extra></extra>",
         "legendgroup": "eess.SY",
         "line": {
          "color": "#FF6692",
          "dash": "solid"
         },
         "marker": {
          "symbol": "circle"
         },
         "mode": "lines+markers",
         "name": "eess.SY",
         "orientation": "v",
         "showlegend": true,
         "type": "scatter",
         "x": [
          "Apr-14",
          "Apr-7",
          "Mar-24",
          "Mar-31"
         ],
         "xaxis": "x",
         "y": {
          "bdata": "PQrXo3A9+j9cj8L1KFz/P5qZmZmZmfk/cT0K16NwAUA=",
          "dtype": "f8"
         },
         "yaxis": "y"
        },
        {
         "hovertemplate": "main_category=hep-ph<br>Week=%{x}<br>Percentage (%)=%{y}<extra></extra>",
         "legendgroup": "hep-ph",
         "line": {
          "color": "#B6E880",
          "dash": "solid"
         },
         "marker": {
          "symbol": "circle"
         },
         "mode": "lines+markers",
         "name": "hep-ph",
         "orientation": "v",
         "showlegend": true,
         "type": "scatter",
         "x": [
          "Apr-14",
          "Apr-7",
          "Mar-24",
          "Mar-31"
         ],
         "xaxis": "x",
         "y": {
          "bdata": "PQrXo3A9+j9xPQrXo3ABQJqZmZmZmfk/H4XrUbge+T8=",
          "dtype": "f8"
         },
         "yaxis": "y"
        },
        {
         "hovertemplate": "main_category=math.AP<br>Week=%{x}<br>Percentage (%)=%{y}<extra></extra>",
         "legendgroup": "math.AP",
         "line": {
          "color": "#FF97FF",
          "dash": "solid"
         },
         "marker": {
          "symbol": "circle"
         },
         "mode": "lines+markers",
         "name": "math.AP",
         "orientation": "v",
         "showlegend": true,
         "type": "scatter",
         "x": [
          "Apr-14",
          "Apr-7",
          "Mar-24",
          "Mar-31"
         ],
         "xaxis": "x",
         "y": {
          "bdata": "CtejcD0KAUDD9Shcj8IDQJqZmZmZmfk/hetRuB6F+z8=",
          "dtype": "f8"
         },
         "yaxis": "y"
        },
        {
         "hovertemplate": "main_category=quant-ph<br>Week=%{x}<br>Percentage (%)=%{y}<extra></extra>",
         "legendgroup": "quant-ph",
         "line": {
          "color": "#FECB52",
          "dash": "solid"
         },
         "marker": {
          "symbol": "circle"
         },
         "mode": "lines+markers",
         "name": "quant-ph",
         "orientation": "v",
         "showlegend": true,
         "type": "scatter",
         "x": [
          "Apr-14",
          "Apr-7",
          "Mar-24",
          "Mar-31"
         ],
         "xaxis": "x",
         "y": {
          "bdata": "uB6F61G4EUA9CtejcD0RQGZmZmZmZhZApHA9CtejEUA=",
          "dtype": "f8"
         },
         "yaxis": "y"
        }
       ],
       "layout": {
        "legend": {
         "orientation": "h",
         "title": {
          "text": "main_category"
         },
         "tracegroupgap": 0,
         "x": 0.5,
         "xanchor": "center",
         "y": 1.02,
         "yanchor": "top"
        },
        "margin": {
         "t": 50
        },
        "template": {
         "data": {
          "bar": [
           {
            "error_x": {
             "color": "#2a3f5f"
            },
            "error_y": {
             "color": "#2a3f5f"
            },
            "marker": {
             "line": {
              "color": "white",
              "width": 0.5
             },
             "pattern": {
              "fillmode": "overlay",
              "size": 10,
              "solidity": 0.2
             }
            },
            "type": "bar"
           }
          ],
          "barpolar": [
           {
            "marker": {
             "line": {
              "color": "white",
              "width": 0.5
             },
             "pattern": {
              "fillmode": "overlay",
              "size": 10,
              "solidity": 0.2
             }
            },
            "type": "barpolar"
           }
          ],
          "carpet": [
           {
            "aaxis": {
             "endlinecolor": "#2a3f5f",
             "gridcolor": "#C8D4E3",
             "linecolor": "#C8D4E3",
             "minorgridcolor": "#C8D4E3",
             "startlinecolor": "#2a3f5f"
            },
            "baxis": {
             "endlinecolor": "#2a3f5f",
             "gridcolor": "#C8D4E3",
             "linecolor": "#C8D4E3",
             "minorgridcolor": "#C8D4E3",
             "startlinecolor": "#2a3f5f"
            },
            "type": "carpet"
           }
          ],
          "choropleth": [
           {
            "colorbar": {
             "outlinewidth": 0,
             "ticks": ""
            },
            "type": "choropleth"
           }
          ],
          "contour": [
           {
            "colorbar": {
             "outlinewidth": 0,
             "ticks": ""
            },
            "colorscale": [
             [
              0,
              "#0d0887"
             ],
             [
              0.1111111111111111,
              "#46039f"
             ],
             [
              0.2222222222222222,
              "#7201a8"
             ],
             [
              0.3333333333333333,
              "#9c179e"
             ],
             [
              0.4444444444444444,
              "#bd3786"
             ],
             [
              0.5555555555555556,
              "#d8576b"
             ],
             [
              0.6666666666666666,
              "#ed7953"
             ],
             [
              0.7777777777777778,
              "#fb9f3a"
             ],
             [
              0.8888888888888888,
              "#fdca26"
             ],
             [
              1,
              "#f0f921"
             ]
            ],
            "type": "contour"
           }
          ],
          "contourcarpet": [
           {
            "colorbar": {
             "outlinewidth": 0,
             "ticks": ""
            },
            "type": "contourcarpet"
           }
          ],
          "heatmap": [
           {
            "colorbar": {
             "outlinewidth": 0,
             "ticks": ""
            },
            "colorscale": [
             [
              0,
              "#0d0887"
             ],
             [
              0.1111111111111111,
              "#46039f"
             ],
             [
              0.2222222222222222,
              "#7201a8"
             ],
             [
              0.3333333333333333,
              "#9c179e"
             ],
             [
              0.4444444444444444,
              "#bd3786"
             ],
             [
              0.5555555555555556,
              "#d8576b"
             ],
             [
              0.6666666666666666,
              "#ed7953"
             ],
             [
              0.7777777777777778,
              "#fb9f3a"
             ],
             [
              0.8888888888888888,
              "#fdca26"
             ],
             [
              1,
              "#f0f921"
             ]
            ],
            "type": "heatmap"
           }
          ],
          "histogram": [
           {
            "marker": {
             "pattern": {
              "fillmode": "overlay",
              "size": 10,
              "solidity": 0.2
             }
            },
            "type": "histogram"
           }
          ],
          "histogram2d": [
           {
            "colorbar": {
             "outlinewidth": 0,
             "ticks": ""
            },
            "colorscale": [
             [
              0,
              "#0d0887"
             ],
             [
              0.1111111111111111,
              "#46039f"
             ],
             [
              0.2222222222222222,
              "#7201a8"
             ],
             [
              0.3333333333333333,
              "#9c179e"
             ],
             [
              0.4444444444444444,
              "#bd3786"
             ],
             [
              0.5555555555555556,
              "#d8576b"
             ],
             [
              0.6666666666666666,
              "#ed7953"
             ],
             [
              0.7777777777777778,
              "#fb9f3a"
             ],
             [
              0.8888888888888888,
              "#fdca26"
             ],
             [
              1,
              "#f0f921"
             ]
            ],
            "type": "histogram2d"
           }
          ],
          "histogram2dcontour": [
           {
            "colorbar": {
             "outlinewidth": 0,
             "ticks": ""
            },
            "colorscale": [
             [
              0,
              "#0d0887"
             ],
             [
              0.1111111111111111,
              "#46039f"
             ],
             [
              0.2222222222222222,
              "#7201a8"
             ],
             [
              0.3333333333333333,
              "#9c179e"
             ],
             [
              0.4444444444444444,
              "#bd3786"
             ],
             [
              0.5555555555555556,
              "#d8576b"
             ],
             [
              0.6666666666666666,
              "#ed7953"
             ],
             [
              0.7777777777777778,
              "#fb9f3a"
             ],
             [
              0.8888888888888888,
              "#fdca26"
             ],
             [
              1,
              "#f0f921"
             ]
            ],
            "type": "histogram2dcontour"
           }
          ],
          "mesh3d": [
           {
            "colorbar": {
             "outlinewidth": 0,
             "ticks": ""
            },
            "type": "mesh3d"
           }
          ],
          "parcoords": [
           {
            "line": {
             "colorbar": {
              "outlinewidth": 0,
              "ticks": ""
             }
            },
            "type": "parcoords"
           }
          ],
          "pie": [
           {
            "automargin": true,
            "type": "pie"
           }
          ],
          "scatter": [
           {
            "fillpattern": {
             "fillmode": "overlay",
             "size": 10,
             "solidity": 0.2
            },
            "type": "scatter"
           }
          ],
          "scatter3d": [
           {
            "line": {
             "colorbar": {
              "outlinewidth": 0,
              "ticks": ""
             }
            },
            "marker": {
             "colorbar": {
              "outlinewidth": 0,
              "ticks": ""
             }
            },
            "type": "scatter3d"
           }
          ],
          "scattercarpet": [
           {
            "marker": {
             "colorbar": {
              "outlinewidth": 0,
              "ticks": ""
             }
            },
            "type": "scattercarpet"
           }
          ],
          "scattergeo": [
           {
            "marker": {
             "colorbar": {
              "outlinewidth": 0,
              "ticks": ""
             }
            },
            "type": "scattergeo"
           }
          ],
          "scattergl": [
           {
            "marker": {
             "colorbar": {
              "outlinewidth": 0,
              "ticks": ""
             }
            },
            "type": "scattergl"
           }
          ],
          "scattermap": [
           {
            "marker": {
             "colorbar": {
              "outlinewidth": 0,
              "ticks": ""
             }
            },
            "type": "scattermap"
           }
          ],
          "scattermapbox": [
           {
            "marker": {
             "colorbar": {
              "outlinewidth": 0,
              "ticks": ""
             }
            },
            "type": "scattermapbox"
           }
          ],
          "scatterpolar": [
           {
            "marker": {
             "colorbar": {
              "outlinewidth": 0,
              "ticks": ""
             }
            },
            "type": "scatterpolar"
           }
          ],
          "scatterpolargl": [
           {
            "marker": {
             "colorbar": {
              "outlinewidth": 0,
              "ticks": ""
             }
            },
            "type": "scatterpolargl"
           }
          ],
          "scatterternary": [
           {
            "marker": {
             "colorbar": {
              "outlinewidth": 0,
              "ticks": ""
             }
            },
            "type": "scatterternary"
           }
          ],
          "surface": [
           {
            "colorbar": {
             "outlinewidth": 0,
             "ticks": ""
            },
            "colorscale": [
             [
              0,
              "#0d0887"
             ],
             [
              0.1111111111111111,
              "#46039f"
             ],
             [
              0.2222222222222222,
              "#7201a8"
             ],
             [
              0.3333333333333333,
              "#9c179e"
             ],
             [
              0.4444444444444444,
              "#bd3786"
             ],
             [
              0.5555555555555556,
              "#d8576b"
             ],
             [
              0.6666666666666666,
              "#ed7953"
             ],
             [
              0.7777777777777778,
              "#fb9f3a"
             ],
             [
              0.8888888888888888,
              "#fdca26"
             ],
             [
              1,
              "#f0f921"
             ]
            ],
            "type": "surface"
           }
          ],
          "table": [
           {
            "cells": {
             "fill": {
              "color": "#EBF0F8"
             },
             "line": {
              "color": "white"
             }
            },
            "header": {
             "fill": {
              "color": "#C8D4E3"
             },
             "line": {
              "color": "white"
             }
            },
            "type": "table"
           }
          ]
         },
         "layout": {
          "annotationdefaults": {
           "arrowcolor": "#2a3f5f",
           "arrowhead": 0,
           "arrowwidth": 1
          },
          "autotypenumbers": "strict",
          "coloraxis": {
           "colorbar": {
            "outlinewidth": 0,
            "ticks": ""
           }
          },
          "colorscale": {
           "diverging": [
            [
             0,
             "#8e0152"
            ],
            [
             0.1,
             "#c51b7d"
            ],
            [
             0.2,
             "#de77ae"
            ],
            [
             0.3,
             "#f1b6da"
            ],
            [
             0.4,
             "#fde0ef"
            ],
            [
             0.5,
             "#f7f7f7"
            ],
            [
             0.6,
             "#e6f5d0"
            ],
            [
             0.7,
             "#b8e186"
            ],
            [
             0.8,
             "#7fbc41"
            ],
            [
             0.9,
             "#4d9221"
            ],
            [
             1,
             "#276419"
            ]
           ],
           "sequential": [
            [
             0,
             "#0d0887"
            ],
            [
             0.1111111111111111,
             "#46039f"
            ],
            [
             0.2222222222222222,
             "#7201a8"
            ],
            [
             0.3333333333333333,
             "#9c179e"
            ],
            [
             0.4444444444444444,
             "#bd3786"
            ],
            [
             0.5555555555555556,
             "#d8576b"
            ],
            [
             0.6666666666666666,
             "#ed7953"
            ],
            [
             0.7777777777777778,
             "#fb9f3a"
            ],
            [
             0.8888888888888888,
             "#fdca26"
            ],
            [
             1,
             "#f0f921"
            ]
           ],
           "sequentialminus": [
            [
             0,
             "#0d0887"
            ],
            [
             0.1111111111111111,
             "#46039f"
            ],
            [
             0.2222222222222222,
             "#7201a8"
            ],
            [
             0.3333333333333333,
             "#9c179e"
            ],
            [
             0.4444444444444444,
             "#bd3786"
            ],
            [
             0.5555555555555556,
             "#d8576b"
            ],
            [
             0.6666666666666666,
             "#ed7953"
            ],
            [
             0.7777777777777778,
             "#fb9f3a"
            ],
            [
             0.8888888888888888,
             "#fdca26"
            ],
            [
             1,
             "#f0f921"
            ]
           ]
          },
          "colorway": [
           "#636efa",
           "#EF553B",
           "#00cc96",
           "#ab63fa",
           "#FFA15A",
           "#19d3f3",
           "#FF6692",
           "#B6E880",
           "#FF97FF",
           "#FECB52"
          ],
          "font": {
           "color": "#2a3f5f"
          },
          "geo": {
           "bgcolor": "white",
           "lakecolor": "white",
           "landcolor": "white",
           "showlakes": true,
           "showland": true,
           "subunitcolor": "#C8D4E3"
          },
          "hoverlabel": {
           "align": "left"
          },
          "hovermode": "closest",
          "mapbox": {
           "style": "light"
          },
          "paper_bgcolor": "white",
          "plot_bgcolor": "white",
          "polar": {
           "angularaxis": {
            "gridcolor": "#EBF0F8",
            "linecolor": "#EBF0F8",
            "ticks": ""
           },
           "bgcolor": "white",
           "radialaxis": {
            "gridcolor": "#EBF0F8",
            "linecolor": "#EBF0F8",
            "ticks": ""
           }
          },
          "scene": {
           "xaxis": {
            "backgroundcolor": "white",
            "gridcolor": "#DFE8F3",
            "gridwidth": 2,
            "linecolor": "#EBF0F8",
            "showbackground": true,
            "ticks": "",
            "zerolinecolor": "#EBF0F8"
           },
           "yaxis": {
            "backgroundcolor": "white",
            "gridcolor": "#DFE8F3",
            "gridwidth": 2,
            "linecolor": "#EBF0F8",
            "showbackground": true,
            "ticks": "",
            "zerolinecolor": "#EBF0F8"
           },
           "zaxis": {
            "backgroundcolor": "white",
            "gridcolor": "#DFE8F3",
            "gridwidth": 2,
            "linecolor": "#EBF0F8",
            "showbackground": true,
            "ticks": "",
            "zerolinecolor": "#EBF0F8"
           }
          },
          "shapedefaults": {
           "line": {
            "color": "#2a3f5f"
           }
          },
          "ternary": {
           "aaxis": {
            "gridcolor": "#DFE8F3",
            "linecolor": "#A2B1C6",
            "ticks": ""
           },
           "baxis": {
            "gridcolor": "#DFE8F3",
            "linecolor": "#A2B1C6",
            "ticks": ""
           },
           "bgcolor": "white",
           "caxis": {
            "gridcolor": "#DFE8F3",
            "linecolor": "#A2B1C6",
            "ticks": ""
           }
          },
          "title": {
           "x": 0.05
          },
          "xaxis": {
           "automargin": true,
           "gridcolor": "#EBF0F8",
           "linecolor": "#EBF0F8",
           "ticks": "",
           "title": {
            "standoff": 15
           },
           "zerolinecolor": "#EBF0F8",
           "zerolinewidth": 2
          },
          "yaxis": {
           "automargin": true,
           "gridcolor": "#EBF0F8",
           "linecolor": "#EBF0F8",
           "ticks": "",
           "title": {
            "standoff": 15
           },
           "zerolinecolor": "#EBF0F8",
           "zerolinewidth": 2
          }
         }
        },
        "title": {
         "text": "Weekly Trends of Top 10 Categories"
        },
        "xaxis": {
         "anchor": "y",
         "domain": [
          0,
          1
         ],
         "tickangle": 45,
         "title": {
          "text": "Week"
         }
        },
        "yaxis": {
         "anchor": "x",
         "domain": [
          0,
          1
         ],
         "ticksuffix": "%",
         "title": {
          "text": "Percentage (%)"
         }
        }
       }
      }
     },
     "metadata": {},
     "output_type": "display_data"
    }
   ],
   "source": [
    "import plotly.express as px\n",
    "import pandas as pd\n",
    "\n",
    "# Convert Spark DataFrame to Pandas and prepare data\n",
    "top_cat_pandas = top_cat_trend.orderBy(\"week_date\", \"main_category\").toPandas()\n",
    "\n",
    "# Create line chart with Plotly\n",
    "fig = px.line(\n",
    "    top_cat_pandas, \n",
    "    x='week_date', \n",
    "    y='percentage', \n",
    "    color='main_category',\n",
    "    markers=True,\n",
    "    title='Weekly Trends of Top 10 Categories',\n",
    "    labels={'week_date': 'Week', 'percentage': 'Percentage (%)'}\n",
    ")\n",
    "\n",
    "# Basic layout improvements\n",
    "fig.update_layout(\n",
    "    xaxis=dict(tickangle=45),\n",
    "    yaxis=dict(ticksuffix='%'),\n",
    "    legend=dict(\n",
    "        orientation='h',  # Horizontal orientation\n",
    "        yanchor='top', # Anchor to bottom of legend box\n",
    "        y=1.02,          # Position just above the plot area\n",
    "        xanchor='center', # Center horizontally\n",
    "        x=0.5\n",
    "    ),\n",
    "    margin=dict(t=50),   # Add top margin for legend space\n",
    "    template='plotly_white'\n",
    ")\n",
    "\n",
    "# Show the plot\n",
    "fig.show(render=\"png\")\n"
   ]
  },
  {
   "cell_type": "code",
   "execution_count": 12,
   "id": "e071e0ab",
   "metadata": {},
   "outputs": [
    {
     "data": {
      "image/png": "[encoded data removed]",
      "text/plain": [
       "<Figure size 1200x600 with 1 Axes>"
      ]
     },
     "metadata": {},
     "output_type": "display_data"
    }
   ],
   "source": [
    "from pyspark.sql.functions import to_date\n",
    "import matplotlib.pyplot as plt\n",
    "import seaborn as sns\n",
    "\n",
    "# Extract date\n",
    "date_df = papers_df.withColumn(\"publish_date\", to_date(\"published\"))\n",
    "\n",
    "# Count per day\n",
    "counts_df = date_df.groupBy(\"publish_date\").count().orderBy(\"publish_date\")\n",
    "\n",
    "# Convert to Pandas\n",
    "counts_pdf = counts_df.toPandas()\n",
    "\n",
    "# Plot\n",
    "plt.figure(figsize=(12, 6))\n",
    "sns.lineplot(x=\"publish_date\", y=\"count\", data=counts_pdf)\n",
    "plt.title(\"Number of Articles Published Per Day\")\n",
    "plt.xlabel(\"Date\")\n",
    "plt.ylabel(\"Count\")\n",
    "plt.xticks(rotation=45)\n",
    "plt.tight_layout()\n",
    "plt.show()\n"
   ]
  },
  {
   "cell_type": "code",
   "execution_count": 13,
   "id": "5796a3bb",
   "metadata": {},
   "outputs": [],
   "source": [
    "# ---------- 7. Archive distribution ----------\n",
    "\n",
    "arxiv_main_category = {\n",
    "    \"astro-ph\": [\n",
    "        \"astro-ph.CO\", \"astro-ph.EP\", \"astro-ph.GA\", \"astro-ph.HE\",\n",
    "        \"astro-ph.IM\", \"astro-ph.SR\"\n",
    "    ],\n",
    "    \"cond-mat\": [\n",
    "        \"cond-mat.dis-nn\", \"cond-mat.mes-hall\", \"cond-mat.mtrl-sci\",\n",
    "        \"cond-mat.other\", \"cond-mat.quant-gas\", \"cond-mat.soft\",\n",
    "        \"cond-mat.stat-mech\", \"cond-mat.str-el\", \"cond-mat.supr-con\"\n",
    "    ],\n",
    "    \"gr-qc\": [\n",
    "        \"gr-qc\"\n",
    "    ],\n",
    "    \"hep\": [\n",
    "        \"hep-ex\", \"hep-lat\", \"hep-ph\", \"hep-th\"\n",
    "    ],\n",
    "    \"math-ph\": [\n",
    "        \"math-ph\"\n",
    "    ],\n",
    "    \"nlin\": [\n",
    "        \"nlin.AO\", \"nlin.CG\", \"nlin.CD\", \"nlin.SI\", \"nlin.PS\"\n",
    "    ],\n",
    "    \"nucl\": [\n",
    "        \"nucl-ex\", \"nucl-th\"\n",
    "    ],\n",
    "    \"quant-ph\": [\n",
    "        \"quant-ph\"\n",
    "    ],\n",
    "    \"physics\": [\n",
    "        \"physics.acc-ph\", \"physics.ao-ph\", \"physics.app-ph\", \"physics.atm-clus\",\n",
    "        \"physics.atom-ph\", \"physics.bio-ph\", \"physics.chem-ph\", \"physics.class-ph\",\n",
    "        \"physics.comp-ph\", \"physics.data-an\", \"physics.ed-ph\", \"physics.flu-dyn\",\n",
    "        \"physics.gen-ph\", \"physics.geo-ph\", \"physics.hist-ph\", \"physics.ins-det\",\n",
    "        \"physics.med-ph\", \"physics.optics\", \"physics.plasm-ph\", \"physics.pop-ph\",\n",
    "        \"physics.soc-ph\", \"physics.space-ph\"\n",
    "    ],\n",
    "    \"math\": [\n",
    "        \"math.AC\", \"math.AG\", \"math.AP\", \"math.AT\", \"math.CA\", \"math.CO\",\n",
    "        \"math.CT\", \"math.CV\", \"math.DG\", \"math.DS\", \"math.FA\", \"math.GM\",\n",
    "        \"math.GN\", \"math.GR\", \"math.GT\", \"math.HO\", \"math.IT\", \"math.KT\",\n",
    "        \"math.LO\", \"math.MG\", \"math.MP\", \"math.NA\", \"math.NT\", \"math.OA\",\n",
    "        \"math.OC\", \"math.PR\", \"math.QA\", \"math.RA\", \"math.RT\", \"math.SG\",\n",
    "        \"math.SP\", \"math.ST\"\n",
    "    ],\n",
    "    \"cs\": [\n",
    "        \"cs.AI\", \"cs.AR\", \"cs.CC\", \"cs.CE\", \"cs.CG\", \"cs.CL\", \"cs.CR\", \"cs.CV\",\n",
    "        \"cs.CY\", \"cs.DB\", \"cs.DC\", \"cs.DL\", \"cs.DM\", \"cs.DS\", \"cs.ET\", \"cs.FL\",\n",
    "        \"cs.GL\", \"cs.GR\", \"cs.GT\", \"cs.HC\", \"cs.IR\", \"cs.IT\", \"cs.LG\", \"cs.LO\",\n",
    "        \"cs.MA\", \"cs.MM\", \"cs.MS\", \"cs.NA\", \"cs.NE\", \"cs.NI\", \"cs.OH\", \"cs.OS\",\n",
    "        \"cs.PF\", \"cs.PL\", \"cs.RO\", \"cs.SC\", \"cs.SD\", \"cs.SE\", \"cs.SI\", \"cs.SY\"\n",
    "    ],\n",
    "    \"q-bio\": [\n",
    "        \"q-bio.BM\", \"q-bio.CB\", \"q-bio.GN\", \"q-bio.MN\", \"q-bio.NC\", \"q-bio.OT\",\n",
    "        \"q-bio.PE\", \"q-bio.QM\", \"q-bio.SC\", \"q-bio.TO\"\n",
    "    ],\n",
    "    \"q-fin\": [\n",
    "        \"q-fin.CP\", \"q-fin.EC\", \"q-fin.GN\", \"q-fin.MF\", \"q-fin.PM\", \"q-fin.PR\",\n",
    "        \"q-fin.RM\", \"q-fin.ST\", \"q-fin.TR\"\n",
    "    ],\n",
    "    \"stat\": [\n",
    "        \"stat.AP\", \"stat.CO\", \"stat.ME\", \"stat.ML\", \"stat.OT\", \"stat.TH\"\n",
    "    ],\n",
    "    \"eess\": [\n",
    "        \"eess.AS\", \"eess.IV\", \"eess.SP\", \"eess.SY\"\n",
    "    ],\n",
    "    \"econ\": [\n",
    "        \"econ.EM\", \"econ.GN\", \"econ.TH\"\n",
    "    ],\n",
    "}\n",
    "\n",
    "from pyspark.sql.functions import col, udf\n",
    "from pyspark.sql.types import StringType\n",
    "\n",
    "# Create mapping with dictionary comprehension\n",
    "category_to_parent = {child: parent for parent, children in arxiv_main_category.items() for child in children}\n",
    "\n",
    "# Define mapping UDF\n",
    "@udf(StringType())\n",
    "def map_category(category):\n",
    "    return category_to_parent.get(category, \"other\")\n",
    "\n",
    "# Add column with single function call\n",
    "papers_df = papers_df.withColumn(\"arxiv_main_category\", map_category(col(\"main_category\")))\n"
   ]
  },
  {
   "cell_type": "code",
   "execution_count": 14,
   "id": "14271c9b",
   "metadata": {},
   "outputs": [
    {
     "name": "stdout",
     "output_type": "stream",
     "text": [
      "Number of unique arxiv_main_categories: 16\n",
      "\n",
      "ArXiv Main Category Distribution:\n",
      "+-------------------+-----+----------+\n",
      "|arxiv_main_category|count|percentage|\n",
      "+-------------------+-----+----------+\n",
      "|cs                 |2154 |42.64     |\n",
      "|math               |867  |17.16     |\n",
      "|cond-mat           |362  |7.17      |\n",
      "|astro-ph           |321  |6.35      |\n",
      "|physics            |315  |6.24      |\n",
      "|eess               |238  |4.71      |\n",
      "|quant-ph           |222  |4.39      |\n",
      "|hep                |212  |4.2       |\n",
      "|stat               |100  |1.98      |\n",
      "|gr-qc              |80   |1.58      |\n",
      "|nucl               |60   |1.19      |\n",
      "|q-bio              |39   |0.77      |\n",
      "|econ               |38   |0.75      |\n",
      "|nlin               |16   |0.32      |\n",
      "|q-fin              |15   |0.3       |\n",
      "|math-ph            |13   |0.26      |\n",
      "+-------------------+-----+----------+\n",
      "\n",
      "\n",
      "Class Imbalance Ratio (max/min): 165.69\n",
      "Classes with <1% representation: 5\n"
     ]
    },
    {
     "data": {
      "image/png": "[encoded data removed]",
      "text/plain": [
       "<Figure size 1200x800 with 1 Axes>"
      ]
     },
     "metadata": {},
     "output_type": "display_data"
    }
   ],
   "source": [
    "# Get distribution of arxiv_main_category\n",
    "from pyspark.sql.functions import col, count, round\n",
    "from pyspark.sql.functions import max as spark_max\n",
    "\n",
    "# Count the unique arxiv_main_category values\n",
    "unique_arxiv_main_categories = papers_df.select(\"arxiv_main_category\").distinct().count()\n",
    "print(f\"Number of unique arxiv_main_categories: {unique_arxiv_main_categories}\")\n",
    "\n",
    "\n",
    "# Count categories and calculate percentages\n",
    "total_papers = papers_df.count()\n",
    "cat_distribution = papers_df.groupBy(\"arxiv_main_category\") \\\n",
    "    .count() \\\n",
    "    .withColumn(\"percentage\", round((col(\"count\") / total_papers) * 100, 2)) \\\n",
    "    .orderBy(\"count\", ascending=False)\n",
    "\n",
    "# Display distribution\n",
    "print(\"\\nArXiv Main Category Distribution:\")\n",
    "cat_distribution.show(truncate=False)\n",
    "\n",
    "# Check class imbalance\n",
    "max_count = cat_distribution.agg({\"count\": \"max\"}).collect()[0][0]\n",
    "min_count = cat_distribution.agg({\"count\": \"min\"}).collect()[0][0]\n",
    "print(f\"\\nClass Imbalance Ratio (max/min): {max_count/min_count:.2f}\")\n",
    "\n",
    "# Count classes with less than 1% representation\n",
    "rare_classes = cat_distribution.filter(\"percentage < 1\").count()\n",
    "print(f\"Classes with <1% representation: {rare_classes}\")\n",
    "\n",
    "# Optional: Quick visualization using pandas and matplotlib\n",
    "import pandas as pd\n",
    "import matplotlib.pyplot as plt\n",
    "\n",
    "# Convert to pandas for easy plotting\n",
    "latest_date = papers_df.agg(spark_max(\"published\")).collect()[0][0]\n",
    "pd_distribution = cat_distribution.toPandas()\n",
    "\n",
    "# Create horizontal bar chart\n",
    "plt.figure(figsize=(12, 8))  # Slightly larger figure to accommodate annotations\n",
    "bars = plt.barh(pd_distribution['arxiv_main_category'], pd_distribution['percentage'])\n",
    "plt.xlabel('Percentage (%)')\n",
    "plt.ylabel('Category')\n",
    "plt.title(f'ArXiv Main Category Distribution (Total: {total_papers:,} papers)\\n(Data through {latest_date})', \n",
    "         fontsize=14)\n",
    "# Add count annotations to each bar\n",
    "for i, bar in enumerate(bars):\n",
    "    count = pd_distribution.iloc[i]['count']\n",
    "    plt.text(\n",
    "        bar.get_width() + 0.3,  # Position slightly to the right of the bar\n",
    "        bar.get_y() + bar.get_height()/2,  # Vertical center of the bar\n",
    "        f'{count:,}',  # Format with commas for thousands\n",
    "        va='center'  # Vertically centered\n",
    "    )\n",
    "\n",
    "plt.tight_layout()\n",
    "plt.show()\n"
   ]
  },
  {
   "cell_type": "code",
   "execution_count": 15,
   "id": "58fc34fb",
   "metadata": {},
   "outputs": [
    {
     "name": "stdout",
     "output_type": "stream",
     "text": [
      "Total number of categories in heatmap: 17\n"
     ]
    },
    {
     "data": {
      "image/png": "[encoded data removed]",
      "text/plain": [
       "<Figure size 1600x1400 with 2 Axes>"
      ]
     },
     "metadata": {},
     "output_type": "display_data"
    }
   ],
   "source": [
    "import pandas as pd\n",
    "import seaborn as sns\n",
    "import numpy as np\n",
    "\n",
    "# Collect category data to Pandas\n",
    "category_pdf = papers_df.select(\"categories\").toPandas()\n",
    "category_pdf[\"category_list\"] = category_pdf[\"categories\"].str.split(\",\")\n",
    "\n",
    "# Convert the Spark UDF to a regular Python function for Pandas\n",
    "def map_categories_pandas(category_list):\n",
    "    \"\"\"Map each category in a list to its parent category\"\"\"\n",
    "    # Handle empty lists or None values\n",
    "    if not category_list:\n",
    "        return []\n",
    "    # Map each category to its parent, defaulting to \"other\" if not found\n",
    "    return [category_to_parent.get(cat, \"other\") for cat in category_list]\n",
    "\n",
    "# Apply the function to the Pandas DataFrame\n",
    "category_pdf[\"arxiv_category_list\"] = category_pdf[\"category_list\"].apply(map_categories_pandas)\n",
    "\n",
    "# Get all unique categories for complete visualization\n",
    "all_categories = set()\n",
    "for cats in category_pdf[\"arxiv_category_list\"]:\n",
    "    all_categories.update(cats)\n",
    "all_cat_list = sorted(list(all_categories))\n",
    "\n",
    "print(f\"Total number of categories in heatmap: {len(all_cat_list)}\")\n",
    "\n",
    "# Create multi-hot encoding with all categories\n",
    "from sklearn.preprocessing import MultiLabelBinarizer\n",
    "mlb = MultiLabelBinarizer(classes=all_cat_list)\n",
    "multi_hot = mlb.fit_transform(category_pdf[\"arxiv_category_list\"])\n",
    "\n",
    "# Calculate raw co-occurrence matrix\n",
    "co_matrix = (multi_hot.T @ multi_hot)\n",
    "\n",
    "# Calculate individual category frequencies (diagonal elements)\n",
    "category_counts = np.diag(co_matrix)\n",
    "\n",
    "# Create normalized matrix using minimum count normalization\n",
    "norm_matrix = np.zeros_like(co_matrix, dtype=float)\n",
    "for i in range(len(all_cat_list)):\n",
    "    for j in range(len(all_cat_list)):\n",
    "        # Normalize by minimum of the individual counts\n",
    "        min_count = min(category_counts[i], category_counts[j])\n",
    "        if min_count > 0:  # Avoid division by zero\n",
    "            norm_matrix[i, j] = co_matrix[i, j] / min_count\n",
    "\n",
    "# Convert to DataFrame\n",
    "norm_df = pd.DataFrame(norm_matrix, index=all_cat_list, columns=all_cat_list)\n",
    "\n",
    "# Create a mask to hide the diagonal (optional)\n",
    "mask = np.eye(len(all_cat_list), dtype=bool)\n",
    "\n",
    "# Plot normalized heatmap\n",
    "plt.figure(figsize=(16, 14))  # Larger figure to accommodate all categories\n",
    "sns.heatmap(\n",
    "    norm_df, \n",
    "    cmap=\"YlOrRd\", \n",
    "    mask=mask,  # Hide the diagonal (self-association)\n",
    "    vmin=0, \n",
    "    vmax=1,\n",
    "    annot=False,  # Too many categories for annotations\n",
    "    xticklabels=True, \n",
    "    yticklabels=True\n",
    ")\n",
    "plt.title(\"Complete Normalized Category Co-occurrence Heatmap\", fontsize=16)\n",
    "plt.xticks(rotation=90, fontsize=14)  # Rotate and shrink labels for readability\n",
    "plt.yticks(fontsize=14, rotation=0)\n",
    "plt.tight_layout()\n",
    "plt.show()\n"
   ]
  },
  {
   "cell_type": "code",
   "execution_count": 16,
   "id": "4686bac0",
   "metadata": {},
   "outputs": [
    {
     "name": "stdout",
     "output_type": "stream",
     "text": [
      "Raw main_category distinct count: 143\n",
      "Raw distinct categories from categories field: 189\n"
     ]
    }
   ],
   "source": [
    "# ----- Inspect which categories have been mapped to \"other\" -----\n",
    "# Get raw counts directly from source columns\n",
    "raw_main_categories = papers_df.select(\"main_category\").distinct()\n",
    "raw_main_count = raw_main_categories.count()\n",
    "print(f\"Raw main_category distinct count: {raw_main_count}\")\n",
    "\n",
    "# Get all raw categories from the categories field\n",
    "raw_categories = papers_df.select(\n",
    "    explode(split(col(\"categories\"), \",\")).alias(\"category\")\n",
    ").distinct()\n",
    "raw_categories_count = raw_categories.count()\n",
    "print(f\"Raw distinct categories from categories field: {raw_categories_count}\")\n"
   ]
  },
  {
   "cell_type": "code",
   "execution_count": 17,
   "id": "289b966c",
   "metadata": {},
   "outputs": [
    {
     "name": "stdout",
     "output_type": "stream",
     "text": [
      "All distinct main_category values:\n",
      "  - 'astro-ph.CO'\n",
      "  - 'astro-ph.EP'\n",
      "  - 'astro-ph.GA'\n",
      "  - 'astro-ph.HE'\n",
      "  - 'astro-ph.IM'\n",
      "  - 'astro-ph.SR'\n",
      "  - 'cond-mat.dis-nn'\n",
      "  - 'cond-mat.mes-hall'\n",
      "  - 'cond-mat.mtrl-sci'\n",
      "  - 'cond-mat.other'\n",
      "  - 'cond-mat.quant-gas'\n",
      "  - 'cond-mat.soft'\n",
      "  - 'cond-mat.stat-mech'\n",
      "  - 'cond-mat.str-el'\n",
      "  - 'cond-mat.supr-con'\n",
      "  - 'cs.AI'\n",
      "  - 'cs.AR'\n",
      "  - 'cs.CC'\n",
      "  - 'cs.CE'\n",
      "  - 'cs.CG'\n",
      "  - 'cs.CL'\n",
      "  - 'cs.CR'\n",
      "  - 'cs.CV'\n",
      "  - 'cs.CY'\n",
      "  - 'cs.DB'\n",
      "  - 'cs.DC'\n",
      "  - 'cs.DL'\n",
      "  - 'cs.DM'\n",
      "  - 'cs.DS'\n",
      "  - 'cs.ET'\n",
      "  - 'cs.FL'\n",
      "  - 'cs.GR'\n",
      "  - 'cs.GT'\n",
      "  - 'cs.HC'\n",
      "  - 'cs.IR'\n",
      "  - 'cs.IT'\n",
      "  - 'cs.LG'\n",
      "  - 'cs.LO'\n",
      "  - 'cs.MA'\n",
      "  - 'cs.MM'\n",
      "  - 'cs.MS'\n",
      "  - 'cs.NE'\n",
      "  - 'cs.NI'\n",
      "  - 'cs.OH'\n",
      "  - 'cs.OS'\n",
      "  - 'cs.PF'\n",
      "  - 'cs.PL'\n",
      "  - 'cs.RO'\n",
      "  - 'cs.SC'\n",
      "  - 'cs.SD'\n",
      "  - 'cs.SE'\n",
      "  - 'cs.SI'\n",
      "  - 'econ.EM'\n",
      "  - 'econ.GN'\n",
      "  - 'econ.TH'\n",
      "  - 'eess.AS'\n",
      "  - 'eess.IV'\n",
      "  - 'eess.SP'\n",
      "  - 'eess.SY'\n",
      "  - 'gr-qc'\n",
      "  - 'hep-ex'\n",
      "  - 'hep-lat'\n",
      "  - 'hep-ph'\n",
      "  - 'hep-th'\n",
      "  - 'math-ph'\n",
      "  - 'math.AC'\n",
      "  - 'math.AG'\n",
      "  - 'math.AP'\n",
      "  - 'math.AT'\n",
      "  - 'math.CA'\n",
      "  - 'math.CO'\n",
      "  - 'math.CT'\n",
      "  - 'math.CV'\n",
      "  - 'math.DG'\n",
      "  - 'math.DS'\n",
      "  - 'math.FA'\n",
      "  - 'math.GN'\n",
      "  - 'math.GR'\n",
      "  - 'math.GT'\n",
      "  - 'math.HO'\n",
      "  - 'math.KT'\n",
      "  - 'math.LO'\n",
      "  - 'math.MG'\n",
      "  - 'math.NA'\n",
      "  - 'math.NT'\n",
      "  - 'math.OA'\n",
      "  - 'math.OC'\n",
      "  - 'math.PR'\n",
      "  - 'math.QA'\n",
      "  - 'math.RA'\n",
      "  - 'math.RT'\n",
      "  - 'math.SG'\n",
      "  - 'math.SP'\n",
      "  - 'math.ST'\n",
      "  - 'nlin.AO'\n",
      "  - 'nlin.CD'\n",
      "  - 'nlin.PS'\n",
      "  - 'nlin.SI'\n",
      "  - 'nucl-ex'\n",
      "  - 'nucl-th'\n",
      "  - 'physics.acc-ph'\n",
      "  - 'physics.ao-ph'\n",
      "  - 'physics.app-ph'\n",
      "  - 'physics.atom-ph'\n",
      "  - 'physics.bio-ph'\n",
      "  - 'physics.chem-ph'\n",
      "  - 'physics.class-ph'\n",
      "  - 'physics.comp-ph'\n",
      "  - 'physics.data-an'\n",
      "  - 'physics.ed-ph'\n",
      "  - 'physics.flu-dyn'\n",
      "  - 'physics.gen-ph'\n",
      "  - 'physics.geo-ph'\n",
      "  - 'physics.hist-ph'\n",
      "  - 'physics.ins-det'\n",
      "  - 'physics.med-ph'\n",
      "  - 'physics.optics'\n",
      "  - 'physics.plasm-ph'\n",
      "  - 'physics.pop-ph'\n",
      "  - 'physics.soc-ph'\n",
      "  - 'physics.space-ph'\n",
      "  - 'q-bio.BM'\n",
      "  - 'q-bio.CB'\n",
      "  - 'q-bio.GN'\n",
      "  - 'q-bio.MN'\n",
      "  - 'q-bio.NC'\n",
      "  - 'q-bio.OT'\n",
      "  - 'q-bio.PE'\n",
      "  - 'q-bio.QM'\n",
      "  - 'q-bio.TO'\n",
      "  - 'q-fin.CP'\n",
      "  - 'q-fin.MF'\n",
      "  - 'q-fin.PM'\n",
      "  - 'q-fin.PR'\n",
      "  - 'q-fin.RM'\n",
      "  - 'q-fin.ST'\n",
      "  - 'q-fin.TR'\n",
      "  - 'quant-ph'\n",
      "  - 'stat.AP'\n",
      "  - 'stat.CO'\n",
      "  - 'stat.ME'\n",
      "  - 'stat.ML'\n",
      "  - 'stat.OT'\n",
      "\n",
      "All distinct category values from categories field:\n",
      "  - '00-XX' (not in main_category)\n",
      "  - '40-06' (not in main_category)\n",
      "  - '81-04' (not in main_category)\n",
      "  - '94-10' (not in main_category)\n",
      "  - 'A.0' (not in main_category)\n",
      "  - 'B.4' (not in main_category)\n",
      "  - 'D.2.4' (not in main_category)\n",
      "  - 'D.3' (not in main_category)\n",
      "  - 'E.3.3' (not in main_category)\n",
      "  - 'F.0' (not in main_category)\n",
      "  - 'F.1.1' (not in main_category)\n",
      "  - 'F.2.2' (not in main_category)\n",
      "  - 'F.4.1' (not in main_category)\n",
      "  - 'G.1.1' (not in main_category)\n",
      "  - 'G.1.6' (not in main_category)\n",
      "  - 'G.2.2' (not in main_category)\n",
      "  - 'G.3' (not in main_category)\n",
      "  - 'H.3.3' (not in main_category)\n",
      "  - 'H.5.2' (not in main_category)\n",
      "  - 'I.2' (not in main_category)\n",
      "  - 'I.2.1' (not in main_category)\n",
      "  - 'I.2.10' (not in main_category)\n",
      "  - 'I.2.11' (not in main_category)\n",
      "  - 'I.2.4' (not in main_category)\n",
      "  - 'I.2.6' (not in main_category)\n",
      "  - 'I.2.7' (not in main_category)\n",
      "  - 'I.2.m' (not in main_category)\n",
      "  - 'I.4.5' (not in main_category)\n",
      "  - 'I.4.8' (not in main_category)\n",
      "  - 'I.5.1' (not in main_category)\n",
      "  - 'I.6' (not in main_category)\n",
      "  - 'J.2' (not in main_category)\n",
      "  - 'J.4' (not in main_category)\n",
      "  - 'J.6' (not in main_category)\n",
      "  - 'K.3.1' (not in main_category)\n",
      "  - 'K.4' (not in main_category)\n",
      "  - 'K.6.5' (not in main_category)\n",
      "  - 'astro-ph.CO'\n",
      "  - 'astro-ph.EP'\n",
      "  - 'astro-ph.GA'\n",
      "  - 'astro-ph.HE'\n",
      "  - 'astro-ph.IM'\n",
      "  - 'astro-ph.SR'\n",
      "  - 'cond-mat.dis-nn'\n",
      "  - 'cond-mat.mes-hall'\n",
      "  - 'cond-mat.mtrl-sci'\n",
      "  - 'cond-mat.other'\n",
      "  - 'cond-mat.quant-gas'\n",
      "  - 'cond-mat.soft'\n",
      "  - 'cond-mat.stat-mech'\n",
      "  - 'cond-mat.str-el'\n",
      "  - 'cond-mat.supr-con'\n",
      "  - 'cs.AI'\n",
      "  - 'cs.AR'\n",
      "  - 'cs.CC'\n",
      "  - 'cs.CE'\n",
      "  - 'cs.CG'\n",
      "  - 'cs.CL'\n",
      "  - 'cs.CR'\n",
      "  - 'cs.CV'\n",
      "  - 'cs.CY'\n",
      "  - 'cs.DB'\n",
      "  - 'cs.DC'\n",
      "  - 'cs.DL'\n",
      "  - 'cs.DM'\n",
      "  - 'cs.DS'\n",
      "  - 'cs.ET'\n",
      "  - 'cs.FL'\n",
      "  - 'cs.GR'\n",
      "  - 'cs.GT'\n",
      "  - 'cs.HC'\n",
      "  - 'cs.IR'\n",
      "  - 'cs.IT'\n",
      "  - 'cs.LG'\n",
      "  - 'cs.LO'\n",
      "  - 'cs.MA'\n",
      "  - 'cs.MM'\n",
      "  - 'cs.MS'\n",
      "  - 'cs.NA' (not in main_category)\n",
      "  - 'cs.NE'\n",
      "  - 'cs.NI'\n",
      "  - 'cs.OH'\n",
      "  - 'cs.OS'\n",
      "  - 'cs.PF'\n",
      "  - 'cs.PL'\n",
      "  - 'cs.RO'\n",
      "  - 'cs.SC'\n",
      "  - 'cs.SD'\n",
      "  - 'cs.SE'\n",
      "  - 'cs.SI'\n",
      "  - 'cs.SY' (not in main_category)\n",
      "  - 'econ.EM'\n",
      "  - 'econ.GN'\n",
      "  - 'econ.TH'\n",
      "  - 'eess.AS'\n",
      "  - 'eess.IV'\n",
      "  - 'eess.SP'\n",
      "  - 'eess.SY'\n",
      "  - 'gr-qc'\n",
      "  - 'hep-ex'\n",
      "  - 'hep-lat'\n",
      "  - 'hep-ph'\n",
      "  - 'hep-th'\n",
      "  - 'math-ph'\n",
      "  - 'math.AC'\n",
      "  - 'math.AG'\n",
      "  - 'math.AP'\n",
      "  - 'math.AT'\n",
      "  - 'math.CA'\n",
      "  - 'math.CO'\n",
      "  - 'math.CT'\n",
      "  - 'math.CV'\n",
      "  - 'math.DG'\n",
      "  - 'math.DS'\n",
      "  - 'math.FA'\n",
      "  - 'math.GN'\n",
      "  - 'math.GR'\n",
      "  - 'math.GT'\n",
      "  - 'math.HO'\n",
      "  - 'math.IT' (not in main_category)\n",
      "  - 'math.KT'\n",
      "  - 'math.LO'\n",
      "  - 'math.MG'\n",
      "  - 'math.MP' (not in main_category)\n",
      "  - 'math.NA'\n",
      "  - 'math.NT'\n",
      "  - 'math.OA'\n",
      "  - 'math.OC'\n",
      "  - 'math.PR'\n",
      "  - 'math.QA'\n",
      "  - 'math.RA'\n",
      "  - 'math.RT'\n",
      "  - 'math.SG'\n",
      "  - 'math.SP'\n",
      "  - 'math.ST'\n",
      "  - 'nlin.AO'\n",
      "  - 'nlin.CD'\n",
      "  - 'nlin.CG' (not in main_category)\n",
      "  - 'nlin.PS'\n",
      "  - 'nlin.SI'\n",
      "  - 'nucl-ex'\n",
      "  - 'nucl-th'\n",
      "  - 'physics.acc-ph'\n",
      "  - 'physics.ao-ph'\n",
      "  - 'physics.app-ph'\n",
      "  - 'physics.atm-clus' (not in main_category)\n",
      "  - 'physics.atom-ph'\n",
      "  - 'physics.bio-ph'\n",
      "  - 'physics.chem-ph'\n",
      "  - 'physics.class-ph'\n",
      "  - 'physics.comp-ph'\n",
      "  - 'physics.data-an'\n",
      "  - 'physics.ed-ph'\n",
      "  - 'physics.flu-dyn'\n",
      "  - 'physics.gen-ph'\n",
      "  - 'physics.geo-ph'\n",
      "  - 'physics.hist-ph'\n",
      "  - 'physics.ins-det'\n",
      "  - 'physics.med-ph'\n",
      "  - 'physics.optics'\n",
      "  - 'physics.plasm-ph'\n",
      "  - 'physics.pop-ph'\n",
      "  - 'physics.soc-ph'\n",
      "  - 'physics.space-ph'\n",
      "  - 'q-bio.BM'\n",
      "  - 'q-bio.CB'\n",
      "  - 'q-bio.GN'\n",
      "  - 'q-bio.MN'\n",
      "  - 'q-bio.NC'\n",
      "  - 'q-bio.OT'\n",
      "  - 'q-bio.PE'\n",
      "  - 'q-bio.QM'\n",
      "  - 'q-bio.TO'\n",
      "  - 'q-fin.CP'\n",
      "  - 'q-fin.EC' (not in main_category)\n",
      "  - 'q-fin.GN' (not in main_category)\n",
      "  - 'q-fin.MF'\n",
      "  - 'q-fin.PM'\n",
      "  - 'q-fin.PR'\n",
      "  - 'q-fin.RM'\n",
      "  - 'q-fin.ST'\n",
      "  - 'q-fin.TR'\n",
      "  - 'quant-ph'\n",
      "  - 'stat.AP'\n",
      "  - 'stat.CO'\n",
      "  - 'stat.ME'\n",
      "  - 'stat.ML'\n",
      "  - 'stat.OT'\n",
      "  - 'stat.TH' (not in main_category)\n"
     ]
    }
   ],
   "source": [
    "# Print the full lists to see exactly what's in each set\n",
    "main_cat_list = papers_df.select(\"main_category\").distinct().collect()\n",
    "main_cat_values = [row.main_category for row in main_cat_list]\n",
    "print(\"All distinct main_category values:\")\n",
    "for cat in sorted(main_cat_values):\n",
    "    print(f\"  - '{cat}'\")\n",
    "\n",
    "# Get all unique categories from categories field\n",
    "categories_list = papers_df.select(\n",
    "    explode(split(col(\"categories\"), \",\")).alias(\"category\")\n",
    ").distinct().collect()\n",
    "categories_values = [row.category for row in categories_list]\n",
    "print(\"\\nAll distinct category values from categories field:\")\n",
    "for cat in sorted(categories_values):\n",
    "    if cat not in main_cat_values:\n",
    "        print(f\"  - '{cat}' (not in main_category)\")\n",
    "    else:\n",
    "        print(f\"  - '{cat}'\")"
   ]
  },
  {
   "cell_type": "markdown",
   "id": "b7c76152",
   "metadata": {},
   "source": [
    "# Input features\n",
    "\n",
    "Evaluate your input features `title` and `summary`:\n",
    "- What is the average/median/min/max length (in words or characters) of:\n",
    "    - title\n",
    "    - summary\n",
    "    - title + summary?\n",
    "- Are there unusually short or long texts that should be filtered?\n",
    "- Are there stopwords or LaTeX/math formatting (\\\\mathsf, etc.) that should be removed?\n",
    "- Are there phrases or token patterns in title and summary that can be related to `main_category`?\n"
   ]
  },
  {
   "cell_type": "code",
   "execution_count": 18,
   "id": "77864d5f",
   "metadata": {},
   "outputs": [
    {
     "name": "stdout",
     "output_type": "stream",
     "text": [
      "\n",
      "Text Statistics (min, max, avg):\n",
      "Title: 12-242 chars (81.4 avg), 1-33 words (10.8 avg)\n",
      "Summary: 104-2168 chars (1166.1 avg), 13-294 words (147.5 avg)\n",
      "Combined: 140-2233 chars (1247.5 avg), 17-305 words (158.3 avg)\n"
     ]
    }
   ],
   "source": [
    "from pyspark.sql.functions import length, size, split, col, expr, percentile_approx\n",
    "from pyspark.sql.functions import min as spark_min, max as spark_max, avg as spark_avg, sum as spark_sum\n",
    "from pyspark.ml.feature import StopWordsRemover, NGram, CountVectorizer, Tokenizer\n",
    "\n",
    "# ---------- 1. Text Length Statistics ----------\n",
    "text_stats = papers_df.select(\n",
    "    length(\"title\").alias(\"title_chars\"),\n",
    "    size(split(\"title\", \" \")).alias(\"title_words\"),\n",
    "    length(\"summary\").alias(\"summary_chars\"),\n",
    "    size(split(\"summary\", \" \")).alias(\"summary_words\")\n",
    ").withColumn(\n",
    "    \"combined_chars\", col(\"title_chars\") + col(\"summary_chars\")\n",
    ").withColumn(\n",
    "    \"combined_words\", col(\"title_words\") + col(\"summary_words\")\n",
    ")\n",
    "\n",
    "# Calculate statistics\n",
    "stats = text_stats.agg(\n",
    "    spark_min(\"title_chars\"), spark_max(\"title_chars\"), spark_avg(\"title_chars\"), percentile_approx(\"title_chars\", 0.5),\n",
    "    spark_min(\"title_words\"), spark_max(\"title_words\"), spark_avg(\"title_words\"),\n",
    "    spark_min(\"summary_chars\"), spark_max(\"summary_chars\"), spark_avg(\"summary_chars\"), \n",
    "    spark_min(\"summary_words\"), spark_max(\"summary_words\"), spark_avg(\"summary_words\"),\n",
    "    spark_min(\"combined_chars\"), spark_max(\"combined_chars\"), spark_avg(\"combined_chars\"),\n",
    "    spark_min(\"combined_words\"), spark_max(\"combined_words\"), spark_avg(\"combined_words\")\n",
    ").collect()[0]\n",
    "\n",
    "print(\"\\nText Statistics (min, max, avg):\")\n",
    "print(f\"Title: {stats[0]}-{stats[1]} chars ({stats[2]:.1f} avg), {stats[4]}-{stats[5]} words ({stats[6]:.1f} avg)\")\n",
    "print(f\"Summary: {stats[7]}-{stats[8]} chars ({stats[9]:.1f} avg), {stats[10]}-{stats[11]} words ({stats[12]:.1f} avg)\")\n",
    "print(f\"Combined: {stats[13]}-{stats[14]} chars ({stats[15]:.1f} avg), {stats[16]}-{stats[17]} words ({stats[18]:.1f} avg)\")\n"
   ]
  },
  {
   "cell_type": "code",
   "execution_count": 19,
   "id": "467a6649",
   "metadata": {},
   "outputs": [
    {
     "data": {
      "image/png": "[encoded data removed]",
      "text/plain": [
       "<Figure size 1400x600 with 2 Axes>"
      ]
     },
     "metadata": {},
     "output_type": "display_data"
    }
   ],
   "source": [
    "from pyspark.ml.feature import Tokenizer\n",
    "from pyspark.sql.functions import size\n",
    "\n",
    "# Create tokenizers for both title and summary\n",
    "title_tokenizer = Tokenizer(inputCol=\"title\", outputCol=\"title_tokens_arr\")\n",
    "summary_tokenizer = Tokenizer(inputCol=\"summary\", outputCol=\"summary_tokens_arr\")\n",
    "\n",
    "# Apply tokenizers to get arrays of tokens\n",
    "tokenized_df = title_tokenizer.transform(summary_tokenizer.transform(papers_df))\n",
    "\n",
    "# Count the number of tokens in each array\n",
    "better_token_df = tokenized_df.withColumn(\"summary_tokens\", size(\"summary_tokens_arr\")) \\\n",
    "                             .withColumn(\"title_tokens\", size(\"title_tokens_arr\"))\n",
    "\n",
    "# Convert to pandas for visualization\n",
    "token_pdf = better_token_df.select(\"summary_tokens\", \"title_tokens\").toPandas()\n",
    "\n",
    "# Create a figure with two subplots side by side\n",
    "fig, (ax1, ax2) = plt.subplots(1, 2, figsize=(14, 6))\n",
    "\n",
    "# Plot summary tokens histogram\n",
    "sns.histplot(token_pdf[\"summary_tokens\"], bins=30, kde=True, ax=ax1, color=\"blue\")\n",
    "ax1.set_title(\"Token Count in Summaries\")\n",
    "ax1.set_xlabel(\"Number of Tokens\")\n",
    "ax1.set_ylabel(\"Count\")\n",
    "\n",
    "# Plot title tokens histogram\n",
    "sns.histplot(token_pdf[\"title_tokens\"], bins=20, kde=True, ax=ax2, color=\"green\") \n",
    "ax2.set_title(\"Token Count in Titles\")\n",
    "ax2.set_xlabel(\"Number of Tokens\")\n",
    "ax2.set_ylabel(\"Count\")\n",
    "\n",
    "# Adjust layout and display\n",
    "plt.tight_layout()\n",
    "plt.show()\n"
   ]
  },
  {
   "cell_type": "code",
   "execution_count": 20,
   "id": "1a0369f9",
   "metadata": {},
   "outputs": [
    {
     "name": "stdout",
     "output_type": "stream",
     "text": [
      "\n",
      "LaTeX Usage:\n",
      "Papers with LaTeX in title: 0 (0.0%)\n",
      "Papers with LaTeX in summary: 0 (0.0%)\n"
     ]
    }
   ],
   "source": [
    "# ---------- 2. Check for LaTeX and Math formatting ----------\n",
    "latex_pattern = r'\\\\[a-zA-Z]+'\n",
    "latex_counts = papers_df.select(\n",
    "    (size(expr(f\"regexp_extract_all(title, '{latex_pattern}', 0)\")) > 0).cast(\"int\").alias(\"title_has_latex\"),\n",
    "    (size(expr(f\"regexp_extract_all(summary, '{latex_pattern}', 0)\")) > 0).cast(\"int\").alias(\"summary_has_latex\")\n",
    ").agg(\n",
    "    spark_sum(\"title_has_latex\"), \n",
    "    spark_sum(\"summary_has_latex\")\n",
    ").collect()[0]\n",
    "\n",
    "print(f\"\\nLaTeX Usage:\")\n",
    "print(f\"Papers with LaTeX in title: {latex_counts[0]} ({latex_counts[0]/papers_df.count()*100:.1f}%)\")\n",
    "print(f\"Papers with LaTeX in summary: {latex_counts[1]} ({latex_counts[1]/papers_df.count()*100:.1f}%)\")\n"
   ]
  },
  {
   "cell_type": "code",
   "execution_count": 21,
   "id": "775363f9",
   "metadata": {},
   "outputs": [
    {
     "name": "stdout",
     "output_type": "stream",
     "text": [
      "\n",
      "Top 10 bigrams in titles:\n",
      "'language models': 108\n",
      "'large language': 76\n",
      "'reinforcement learning': 54\n",
      "'machine learning': 49\n",
      "'neural networks': 48\n",
      "'black hole': 33\n",
      "'vision language': 33\n",
      "'deep learning': 28\n",
      "'large scale': 26\n",
      "'real time': 25\n"
     ]
    }
   ],
   "source": [
    "from pyspark.sql.functions import explode, col, count as spark_count, trim, lower, regexp_replace\n",
    "\n",
    "# 1. Better text cleaning before processing\n",
    "clean_papers = papers_df.withColumn(\n",
    "    \"clean_title\", \n",
    "    trim(regexp_replace(lower(col(\"title\")), \"[^a-zA-Z0-9\\\\s]\", \" \"))\n",
    ")\n",
    "\n",
    "# 2. Apply tokenization pipeline\n",
    "tokenizer = Tokenizer(inputCol=\"clean_title\", outputCol=\"tokens\")\n",
    "remover = StopWordsRemover(inputCol=\"tokens\", outputCol=\"filtered\")\n",
    "bigram = NGram(n=2, inputCol=\"filtered\", outputCol=\"bigrams\")\n",
    "\n",
    "# 3. Generate and filter meaningful bigrams\n",
    "pipeline_result = bigram.transform(remover.transform(tokenizer.transform(clean_papers)))\n",
    "bigram_counts = pipeline_result.select(\n",
    "    explode(\"bigrams\").alias(\"bigram\")\n",
    ").filter(\n",
    "    # Multiple filters to ensure quality bigrams\n",
    "    (length(trim(col(\"bigram\"))) > 3) &                   # Reasonable length\n",
    "    (~col(\"bigram\").contains(\"  \")) &                     # No double spaces\n",
    "    (col(\"bigram\").rlike(\"^[a-zA-Z0-9].*[a-zA-Z0-9]$\"))   # Start/end with alphanumeric\n",
    ").groupBy(\n",
    "    \"bigram\"\n",
    ").agg(\n",
    "    spark_count(\"*\").alias(\"count\")\n",
    ").orderBy(\n",
    "    col(\"count\").desc()\n",
    ")\n",
    "\n",
    "# 4. Show results\n",
    "print(\"\\nTop 10 bigrams in titles:\")\n",
    "for row in bigram_counts.limit(10).collect():\n",
    "    print(f\"'{row.bigram}': {row['count']}\")\n",
    "    "
   ]
  },
  {
   "cell_type": "code",
   "execution_count": 22,
   "id": "4f320ae1",
   "metadata": {},
   "outputs": [
    {
     "name": "stdout",
     "output_type": "stream",
     "text": [
      "\n",
      "Top 5 bigrams per category:\n",
      "\n",
      "cs.CV:\n",
      "  'vision language': 24\n",
      "  'gaussian splatting': 14\n",
      "  'language models': 14\n",
      "  'object detection': 12\n",
      "  'training free': 11\n",
      "\n",
      "cs.LG:\n",
      "  'reinforcement learning': 25\n",
      "  'neural networks': 17\n",
      "  'time series': 14\n",
      "  'language models': 10\n",
      "  'neural network': 9\n",
      "\n",
      "cs.CL:\n",
      "  'language models': 57\n",
      "  'large language': 37\n",
      "  'retrieval augmented': 13\n",
      "  'augmented generation': 7\n",
      "  'machine translation': 6\n",
      "\n",
      "quant-ph:\n",
      "  'variational quantum': 8\n",
      "  'quantum systems': 4\n",
      "  'quantum state': 4\n",
      "  'quantum computing': 4\n",
      "  'quantum error': 4\n",
      "\n",
      "cs.RO:\n",
      "  'reinforcement learning': 7\n",
      "  'human robot': 6\n",
      "  'autonomous driving': 5\n",
      "  'motion planning': 4\n",
      "  'vision language': 4\n",
      "\n",
      "cs.AI:\n",
      "  'language models': 7\n",
      "  'reinforcement learning': 5\n",
      "  'large language': 5\n",
      "  'llm based': 4\n",
      "  'generative ai': 4\n",
      "\n",
      "math.AP:\n",
      "  'schr dinger': 9\n",
      "  'well posedness': 5\n",
      "  'normalized solutions': 4\n",
      "  'navier stokes': 4\n",
      "  'parabolic equations': 4\n",
      "\n",
      "cond-mat.mtrl-sci:\n",
      "  'machine learning': 5\n",
      "  'electronic structure': 4\n",
      "  '2 aminopyrimidinium': 3\n",
      "  'two dimensional': 3\n",
      "  'x ray': 3\n",
      "\n",
      "eess.SY:\n",
      "  'multi agent': 5\n",
      "  'agent systems': 4\n",
      "  'predictive control': 4\n",
      "  'reinforcement learning': 3\n",
      "  'linear quadratic': 3\n",
      "\n",
      "hep-ph:\n",
      "  'dark matter': 6\n",
      "  'cp violation': 3\n",
      "  'type ii': 3\n",
      "  'gravitational waves': 3\n",
      "  'axion dark': 3\n"
     ]
    }
   ],
   "source": [
    "from pyspark.sql.functions import explode, col, count as spark_count\n",
    "\n",
    "# 1. Process all papers once with category information\n",
    "category_bigrams = clean_papers.select(\n",
    "    \"main_category\", \n",
    "    \"clean_title\"\n",
    ").transform(\n",
    "    # Apply the same pipeline to all papers at once\n",
    "    lambda df: bigram.transform(remover.transform(tokenizer.transform(df)))\n",
    ")\n",
    "\n",
    "# 2. Extract, filter and count bigrams with categories in one operation\n",
    "bigram_by_category = category_bigrams.select(\n",
    "    \"main_category\",\n",
    "    explode(\"bigrams\").alias(\"bigram\")\n",
    ").filter(\n",
    "    # Apply same quality filters as main analysis \n",
    "    (length(trim(col(\"bigram\"))) > 3) &\n",
    "    (~col(\"bigram\").contains(\"  \")) &\n",
    "    (col(\"bigram\").rlike(\"^[a-zA-Z0-9].*[a-zA-Z0-9]$\"))\n",
    ").groupBy(\n",
    "    \"main_category\", \"bigram\"\n",
    ").count().orderBy(\n",
    "    col(\"main_category\"), col(\"count\").desc()\n",
    ")\n",
    "\n",
    "# 3. Display top bigrams for selected categories in one efficient loop\n",
    "top_categories = papers_df.groupBy(\"main_category\").count() \\\n",
    "                          .orderBy(\"count\", ascending=False) \\\n",
    "                          .limit(10) \\\n",
    "                          .select(\"main_category\") \\\n",
    "                          .rdd.flatMap(lambda x: x).collect()\n",
    "\n",
    "\n",
    "print(\"\\nTop 5 bigrams per category:\")\n",
    "for category in top_categories[:10]:\n",
    "    print(f\"\\n{category}:\")\n",
    "    top_for_category = bigram_by_category.filter(col(\"main_category\") == category).limit(5).collect()\n",
    "    for row in top_for_category:\n",
    "        print(f\"  '{row.bigram}': {row['count']}\")"
   ]
  },
  {
   "cell_type": "code",
   "execution_count": 23,
   "id": "662d88ad",
   "metadata": {},
   "outputs": [
    {
     "name": "stdout",
     "output_type": "stream",
     "text": [
      "\n",
      "Top 10 bigrams in summaries:\n",
      "'state art': 604\n",
      "'language models': 517\n",
      "'real world': 515\n",
      "'large language': 447\n",
      "'large scale': 294\n",
      "'experimental results': 251\n",
      "'machine learning': 241\n",
      "'extensive experiments': 228\n",
      "'results demonstrate': 223\n",
      "'fine tuning': 222\n",
      "\n",
      "Top 5 summary bigrams per category:\n",
      "\n",
      "cs.CV:\n",
      "  'state art': 253\n",
      "  'real world': 158\n",
      "  'extensive experiments': 130\n",
      "  'language models': 100\n",
      "  'github com': 100\n",
      "\n",
      "cs.LG:\n",
      "  'state art': 75\n",
      "  'reinforcement learning': 71\n",
      "  'real world': 65\n",
      "  'machine learning': 65\n",
      "  'neural networks': 54\n",
      "\n",
      "cs.CL:\n",
      "  'language models': 202\n",
      "  'large language': 174\n",
      "  'fine tuning': 53\n",
      "  'state art': 47\n",
      "  'real world': 42\n",
      "\n",
      "quant-ph:\n",
      "  'quantum computing': 34\n",
      "  'quantum systems': 31\n",
      "  'variational quantum': 27\n",
      "  'ground state': 25\n",
      "  'quantum circuits': 22\n",
      "\n",
      "cs.RO:\n",
      "  'real world': 65\n",
      "  'real time': 26\n",
      "  'experimental results': 24\n",
      "  'imitation learning': 23\n",
      "  'reinforcement learning': 22\n"
     ]
    }
   ],
   "source": [
    "from pyspark.sql.functions import explode, col, count as spark_count, trim, lower, regexp_replace, length\n",
    "\n",
    "# ----------------- Summary Bigram Analysis -----------------\n",
    "\n",
    "# 1. Clean the summary text\n",
    "clean_papers_summary = papers_df.withColumn(\n",
    "    \"clean_summary\", \n",
    "    trim(regexp_replace(lower(col(\"summary\")), \"[^a-zA-Z0-9\\\\s]\", \" \"))\n",
    ")\n",
    "\n",
    "# 2. Apply tokenization pipeline\n",
    "sum_tokenizer = Tokenizer(inputCol=\"clean_summary\", outputCol=\"summary_tokens\")\n",
    "sum_remover = StopWordsRemover(inputCol=\"summary_tokens\", outputCol=\"summary_filtered\")\n",
    "sum_bigram = NGram(n=2, inputCol=\"summary_filtered\", outputCol=\"summary_bigrams\")\n",
    "\n",
    "# 3. Generate and filter meaningful bigrams\n",
    "summary_pipeline = sum_bigram.transform(\n",
    "    sum_remover.transform(\n",
    "        sum_tokenizer.transform(clean_papers_summary)\n",
    "    )\n",
    ")\n",
    "\n",
    "# 4. Extract and count bigrams\n",
    "summary_bigram_counts = summary_pipeline.select(\n",
    "    explode(\"summary_bigrams\").alias(\"bigram\")\n",
    ").filter(\n",
    "    # Same quality filters as used for titles\n",
    "    (length(trim(col(\"bigram\"))) > 3) &\n",
    "    (~col(\"bigram\").contains(\"  \")) &\n",
    "    (col(\"bigram\").rlike(\"^[a-zA-Z0-9].*[a-zA-Z0-9]$\"))\n",
    ").groupBy(\n",
    "    \"bigram\"\n",
    ").agg(\n",
    "    spark_count(\"*\").alias(\"count\")\n",
    ").orderBy(\n",
    "    col(\"count\").desc()\n",
    ")\n",
    "\n",
    "# 5. Show top bigrams in summaries\n",
    "print(\"\\nTop 10 bigrams in summaries:\")\n",
    "for row in summary_bigram_counts.limit(10).collect():\n",
    "    print(f\"'{row.bigram}': {row['count']}\")\n",
    "\n",
    "# 6. Category-specific summary bigrams in a single efficient operation\n",
    "category_summary_bigrams = clean_papers_summary.select(\n",
    "    \"main_category\",\n",
    "    \"clean_summary\"\n",
    ").transform(\n",
    "    # Apply the pipeline to all papers at once\n",
    "    lambda df: sum_bigram.transform(sum_remover.transform(sum_tokenizer.transform(df)))\n",
    ")\n",
    "\n",
    "# 7. Process all categories at once\n",
    "summary_bigrams_by_category = category_summary_bigrams.select(\n",
    "    \"main_category\",\n",
    "    explode(\"summary_bigrams\").alias(\"bigram\")\n",
    ").filter(\n",
    "    # Same quality filters\n",
    "    (length(trim(col(\"bigram\"))) > 3) &\n",
    "    (~col(\"bigram\").contains(\"  \")) &\n",
    "    (col(\"bigram\").rlike(\"^[a-zA-Z0-9].*[a-zA-Z0-9]$\"))\n",
    ").groupBy(\n",
    "    \"main_category\", \"bigram\"\n",
    ").count().orderBy(\n",
    "    col(\"main_category\"), col(\"count\").desc()\n",
    ")\n",
    "\n",
    "# 8. Display top summary bigrams by category\n",
    "print(\"\\nTop 5 summary bigrams per category:\")\n",
    "for category in top_categories[:5]:  # Limiting to top 5 categories for brevity\n",
    "    print(f\"\\n{category}:\")\n",
    "    top_for_category = summary_bigrams_by_category.filter(col(\"main_category\") == category).limit(5).collect()\n",
    "    for row in top_for_category:\n",
    "        print(f\"  '{row.bigram}': {row['count']}\")\n",
    "        "
   ]
  },
  {
   "cell_type": "code",
   "execution_count": 24,
   "id": "b8f5dcbd",
   "metadata": {},
   "outputs": [
    {
     "name": "stdout",
     "output_type": "stream",
     "text": [
      "\n",
      "Top keywords correlated with categories:\n",
      "\n",
      "cs.CV:\n",
      "  'pose': 13 occurrences, 0.93 importance\n",
      "  'grounding': 9 occurrences, 0.90 importance\n",
      "  'monocular': 7 occurrences, 0.88 importance\n",
      "  'anything': 7 occurrences, 0.88 importance\n",
      "  'mask': 6 occurrences, 0.86 importance\n",
      "  'video': 74 occurrences, 0.84 importance\n",
      "  'splatting': 17 occurrences, 0.81 importance\n",
      "  'restoration': 8 occurrences, 0.80 importance\n",
      "  'controllable': 7 occurrences, 0.78 importance\n",
      "  'object': 42 occurrences, 0.78 importance\n",
      "\n",
      "cs.LG:\n",
      "  'unlearning': 6 occurrences, 0.67 importance\n",
      "  'federated': 19 occurrences, 0.66 importance\n",
      "  'forecasting': 10 occurrences, 0.53 importance\n",
      "  'series': 16 occurrences, 0.48 importance\n",
      "  'informed': 8 occurrences, 0.47 importance\n",
      "  'reinforcement': 27 occurrences, 0.44 importance\n",
      "  'expert': 6 occurrences, 0.40 importance\n",
      "  'improving': 6 occurrences, 0.33 importance\n",
      "  'adversarial': 6 occurrences, 0.33 importance\n",
      "  'policy': 6 occurrences, 0.33 importance\n",
      "\n",
      "cs.CL:\n",
      "  'multilingual': 11 occurrences, 0.85 importance\n",
      "  'translation': 11 occurrences, 0.69 importance\n",
      "  'news': 7 occurrences, 0.58 importance\n",
      "  'llms': 29 occurrences, 0.49 importance\n",
      "  'language': 87 occurrences, 0.43 importance\n",
      "  'question': 6 occurrences, 0.40 importance\n",
      "  'evaluation': 21 occurrences, 0.38 importance\n",
      "  'rag': 6 occurrences, 0.38 importance\n",
      "  'preference': 6 occurrences, 0.38 importance\n",
      "  'reasoning': 34 occurrences, 0.36 importance\n",
      "\n",
      "quant-ph:\n",
      "  'gates': 6 occurrences, 1.00 importance\n",
      "  'qubit': 11 occurrences, 0.85 importance\n",
      "  'entanglement': 11 occurrences, 0.65 importance\n",
      "  'quantum': 144 occurrences, 0.57 importance\n",
      "  'circuits': 7 occurrences, 0.50 importance\n",
      "  'superconducting': 6 occurrences, 0.50 importance\n",
      "  'variational': 11 occurrences, 0.46 importance\n",
      "  'classical': 7 occurrences, 0.37 importance\n",
      "  'states': 18 occurrences, 0.34 importance\n",
      "  'error': 7 occurrences, 0.26 importance\n",
      "\n",
      "cs.RO:\n",
      "  'robot': 32 occurrences, 0.94 importance\n",
      "  'robots': 8 occurrences, 0.89 importance\n",
      "  'grasping': 7 occurrences, 0.88 importance\n",
      "  'manipulation': 14 occurrences, 0.82 importance\n",
      "  'robotic': 7 occurrences, 0.78 importance\n",
      "  'navigation': 8 occurrences, 0.67 importance\n",
      "  'planning': 15 occurrences, 0.65 importance\n",
      "  'trajectory': 9 occurrences, 0.47 importance\n",
      "  'driving': 9 occurrences, 0.45 importance\n",
      "  'autonomous': 16 occurrences, 0.43 importance\n",
      "\n",
      "cs.AI:\n",
      "  'agents': 13 occurrences, 0.39 importance\n",
      "  'agent': 13 occurrences, 0.32 importance\n",
      "  'intelligence': 7 occurrences, 0.28 importance\n",
      "  'ai': 28 occurrences, 0.26 importance\n",
      "  'reasoning': 21 occurrences, 0.22 importance\n",
      "  'knowledge': 13 occurrences, 0.19 importance\n",
      "  'llm': 17 occurrences, 0.16 importance\n",
      "  'generative': 7 occurrences, 0.16 importance\n",
      "  'reinforcement': 6 occurrences, 0.10 importance\n",
      "  'graph': 6 occurrences, 0.08 importance\n",
      "\n",
      "math.AP:\n",
      "  'parabolic': 8 occurrences, 0.62 importance\n",
      "  'existence': 9 occurrences, 0.60 importance\n",
      "  'dinger': 9 occurrences, 0.56 importance\n",
      "  'schr': 9 occurrences, 0.56 importance\n",
      "  'domains': 6 occurrences, 0.46 importance\n",
      "  'solutions': 18 occurrences, 0.39 importance\n",
      "  'l': 9 occurrences, 0.36 importance\n",
      "  'equation': 15 occurrences, 0.32 importance\n",
      "  'equations': 19 occurrences, 0.27 importance\n",
      "  'operators': 8 occurrences, 0.24 importance\n",
      "\n",
      "cond-mat.mtrl-sci:\n",
      "  'hydrogen': 7 occurrences, 0.64 importance\n",
      "  'crystal': 6 occurrences, 0.55 importance\n",
      "  'materials': 7 occurrences, 0.47 importance\n",
      "  'electronic': 7 occurrences, 0.39 importance\n",
      "  'x': 13 occurrences, 0.27 importance\n",
      "  'properties': 10 occurrences, 0.25 importance\n",
      "  'electron': 6 occurrences, 0.19 importance\n",
      "  '2': 19 occurrences, 0.17 importance\n",
      "  'magnetic': 8 occurrences, 0.16 importance\n",
      "  'structure': 7 occurrences, 0.12 importance\n",
      "\n",
      "eess.SY:\n",
      "  'control': 24 occurrences, 0.29 importance\n",
      "  'distributed': 7 occurrences, 0.21 importance\n",
      "  'power': 7 occurrences, 0.18 importance\n",
      "  'systems': 23 occurrences, 0.15 importance\n",
      "  'energy': 7 occurrences, 0.11 importance\n",
      "  'linear': 7 occurrences, 0.11 importance\n",
      "  'analysis': 11 occurrences, 0.08 importance\n",
      "  'system': 8 occurrences, 0.08 importance\n",
      "  'driven': 7 occurrences, 0.07 importance\n",
      "  'approach': 8 occurrences, 0.07 importance\n",
      "\n",
      "hep-ph:\n",
      "  'cp': 6 occurrences, 1.00 importance\n",
      "  'quark': 9 occurrences, 0.82 importance\n",
      "  'axion': 6 occurrences, 0.75 importance\n",
      "  'decays': 10 occurrences, 0.71 importance\n",
      "  'higgs': 8 occurrences, 0.62 importance\n",
      "  'meson': 6 occurrences, 0.55 importance\n",
      "  'qcd': 9 occurrences, 0.43 importance\n",
      "  'heavy': 6 occurrences, 0.38 importance\n",
      "  'dark': 9 occurrences, 0.29 importance\n",
      "  'b': 6 occurrences, 0.29 importance\n"
     ]
    }
   ],
   "source": [
    "# Are certain keywords more correlated with certain categories?\n",
    "\n",
    "from pyspark.ml.feature import Tokenizer, StopWordsRemover, HashingTF, IDF\n",
    "from pyspark.sql.functions import array_contains\n",
    "from pyspark.sql.functions import col, expr, udf\n",
    "from pyspark.sql.types import FloatType, ArrayType, StringType\n",
    "from pyspark.ml import Pipeline\n",
    "\n",
    "# 1. Prepare data - clean text and add category\n",
    "keyword_data = papers_df.select(\n",
    "    \"main_category\",\n",
    "    regexp_replace(lower(col(\"title\")), \"[^a-zA-Z0-9\\\\s]\", \" \").alias(\"cleaned_text\")\n",
    ")\n",
    "\n",
    "# 2. Create ML pipeline for feature extraction\n",
    "tokenizer = Tokenizer(inputCol=\"cleaned_text\", outputCol=\"words\")\n",
    "remover = StopWordsRemover(inputCol=\"words\", outputCol=\"filtered\")\n",
    "hashingTF = HashingTF(inputCol=\"filtered\", outputCol=\"rawFeatures\", numFeatures=10000)\n",
    "idf = IDF(inputCol=\"rawFeatures\", outputCol=\"features\", minDocFreq=5)\n",
    "pipeline = Pipeline(stages=[tokenizer, remover, hashingTF, idf])\n",
    "\n",
    "# 3. Fit the pipeline and transform data\n",
    "model = pipeline.fit(keyword_data)\n",
    "transformed = model.transform(keyword_data)\n",
    "\n",
    "# 4. Calculate keyword significance for each category\n",
    "# Get vocabulary from the HashingTF model (using the vocabulary from token counts)\n",
    "from pyspark.ml.feature import CountVectorizer\n",
    "cv = CountVectorizer(inputCol=\"filtered\", outputCol=\"counts\", minDF=10)\n",
    "cv_model = cv.fit(transformed)\n",
    "vocab = cv_model.vocabulary\n",
    "\n",
    "# 5. For each category, find most distinctive keywords\n",
    "print(\"\\nTop keywords correlated with categories:\")\n",
    "for category in top_categories[:10]:  # Show top 20 categories\n",
    "    # Filter for this category and collect weighted term frequencies\n",
    "    category_docs = transformed.filter(col(\"main_category\") == category)\n",
    "    \n",
    "    # Extract top terms for this category using the TF-IDF weights\n",
    "    @udf(returnType=ArrayType(StringType()))\n",
    "    def get_top_terms(words, features):\n",
    "        # Pair words with their feature weights and sort by weight\n",
    "        return [w for _, w in sorted([(features[i], w) for i, w in enumerate(words) if i < len(features)], \n",
    "                                   key=lambda x: x[0], reverse=True)[:10]]\n",
    "    \n",
    "    # Apply the UDF to get top terms for each document\n",
    "    category_terms = category_docs.withColumn(\"top_terms\", get_top_terms(\"filtered\", \"features\"))\n",
    "    \n",
    "    # Count term frequency across all documents in this category\n",
    "    top_terms = category_terms.select(explode(\"filtered\").alias(\"term\")).groupBy(\"term\").count()\n",
    "    \n",
    "    # Get overall corpus frequency for comparison\n",
    "    corpus_freq = transformed.select(explode(\"filtered\").alias(\"term\")).groupBy(\"term\").count().withColumnRenamed(\"count\", \"corpus_count\")\n",
    "    \n",
    "    # Calculate term importance as ratio of category frequency to corpus frequency\n",
    "    term_importance = top_terms.join(corpus_freq, \"term\").withColumn(\n",
    "        \"importance\", col(\"count\") / col(\"corpus_count\")\n",
    "    ).orderBy(\"importance\", ascending=False)\n",
    "    \n",
    "    # Display results\n",
    "    print(f\"\\n{category}:\")\n",
    "    for row in term_importance.filter(col(\"count\") > 5).limit(10).collect():\n",
    "        print(f\"  '{row.term}': {row['count']} occurrences, {row.importance:.2f} importance\")\n"
   ]
  },
  {
   "cell_type": "markdown",
   "id": "625a3498",
   "metadata": {},
   "source": [
    "# Correlation structure\n",
    "\n",
    "Since these are text fields, correlation is better studied via embedding similarity or mutual information:\n",
    "- Correlation between `summary`, `title` and `main_category`\n",
    "- Correlation between `summary`, `title` and broader `arxiv_main_category`\n",
    "- Some overlap in words between `title` and `summary`"
   ]
  },
  {
   "cell_type": "code",
   "execution_count": 25,
   "id": "ea587d67",
   "metadata": {},
   "outputs": [
    {
     "name": "stderr",
     "output_type": "stream",
     "text": [
      "Device set to use cpu\n"
     ]
    },
    {
     "name": "stdout",
     "output_type": "stream",
     "text": [
      "Computing similarity between 'summary' and 'main_category'...\n",
      "\n",
      "Category similarity statistics (sorted by avg similarity):\n",
      "+----------------+--------------+-----------------+---------------+\n",
      "|main_category   |avg_similarity|stddev_similarity|avg ± std      |\n",
      "+----------------+--------------+-----------------+---------------+\n",
      "|physics.ed-ph   |0.3697        |0.0775           |0.3697 ± 0.0775|\n",
      "|physics.atom-ph |0.2787        |0.072            |0.2787 ± 0.072 |\n",
      "|cs.AI           |0.2448        |0.0766           |0.2448 ± 0.0766|\n",
      "|astro-ph.EP     |0.2364        |0.0617           |0.2364 ± 0.0617|\n",
      "|physics.chem-ph |0.2359        |0.0749           |0.2359 ± 0.0749|\n",
      "|q-bio.MN        |0.2315        |NULL             |0.2315         |\n",
      "|astro-ph.GA     |0.2272        |0.0491           |0.2272 ± 0.0491|\n",
      "|physics.bio-ph  |0.227         |0.0562           |0.227 ± 0.0562 |\n",
      "|math.HO         |0.224         |0.1469           |0.224 ± 0.1469 |\n",
      "|astro-ph.SR     |0.2216        |0.0569           |0.2216 ± 0.0569|\n",
      "|cs.DB           |0.2194        |0.0749           |0.2194 ± 0.0749|\n",
      "|physics.optics  |0.2182        |0.0821           |0.2182 ± 0.0821|\n",
      "|physics.space-ph|0.2115        |0.0465           |0.2115 ± 0.0465|\n",
      "|astro-ph.IM     |0.1975        |0.0777           |0.1975 ± 0.0777|\n",
      "|physics.med-ph  |0.191         |0.0655           |0.191 ± 0.0655 |\n",
      "|q-bio.GN        |0.1894        |0.0306           |0.1894 ± 0.0306|\n",
      "|q-bio.BM        |0.1844        |0.0546           |0.1844 ± 0.0546|\n",
      "|q-bio.CB        |0.1778        |NULL             |0.1778         |\n",
      "|gr-qc           |0.1755        |0.0624           |0.1755 ± 0.0624|\n",
      "|astro-ph.HE     |0.165         |0.0408           |0.165 ± 0.0408 |\n",
      "+----------------+--------------+-----------------+---------------+\n",
      "only showing top 20 rows\n",
      "\n",
      "Computing similarity between 'summary' and 'arxiv_main_category'...\n",
      "\n",
      "Category similarity statistics (sorted by avg similarity):\n",
      "+-------------------+--------------+-----------------+----------------+\n",
      "|arxiv_main_category|avg_similarity|stddev_similarity|avg ± std       |\n",
      "+-------------------+--------------+-----------------+----------------+\n",
      "|astro-ph           |0.2058        |0.0566           |0.2058 ± 0.0566 |\n",
      "|gr-qc              |0.1755        |0.0624           |0.1755 ± 0.0624 |\n",
      "|quant-ph           |0.1416        |0.0596           |0.1416 ± 0.0596 |\n",
      "|stat               |0.1367        |0.0652           |0.1367 ± 0.0652 |\n",
      "|econ               |0.1304        |0.071            |0.1304 ± 0.071  |\n",
      "|nucl               |0.1205        |0.0681           |0.1205 ± 0.0681 |\n",
      "|q-bio              |0.1114        |0.0631           |0.1114 ± 0.0631 |\n",
      "|physics            |0.079         |0.0871           |0.079 ± 0.0871  |\n",
      "|hep                |0.0705        |0.0526           |0.0705 ± 0.0526 |\n",
      "|cs                 |0.0632        |0.0501           |0.0632 ± 0.0501 |\n",
      "|q-fin              |0.051         |0.0576           |0.051 ± 0.0576  |\n",
      "|cond-mat           |0.0362        |0.0557           |0.0362 ± 0.0557 |\n",
      "|nlin               |0.0271        |0.0578           |0.0271 ± 0.0578 |\n",
      "|math-ph            |0.0138        |0.0515           |0.0138 ± 0.0515 |\n",
      "|math               |0.0121        |0.0666           |0.0121 ± 0.0666 |\n",
      "|eess               |-0.0099       |0.0496           |-0.0099 ± 0.0496|\n",
      "+-------------------+--------------+-----------------+----------------+\n",
      "\n",
      "Computing similarity between 'title' and 'main_category'...\n",
      "\n",
      "Category similarity statistics (sorted by avg similarity):\n",
      "+------------------+--------------+-----------------+---------------+\n",
      "|main_category     |avg_similarity|stddev_similarity|avg ± std      |\n",
      "+------------------+--------------+-----------------+---------------+\n",
      "|physics.ed-ph     |0.387         |0.1188           |0.387 ± 0.1188 |\n",
      "|physics.atom-ph   |0.2765        |0.0877           |0.2765 ± 0.0877|\n",
      "|cs.AI             |0.2345        |0.0961           |0.2345 ± 0.0961|\n",
      "|q-bio.GN          |0.2263        |0.0232           |0.2263 ± 0.0232|\n",
      "|physics.optics    |0.2245        |0.0877           |0.2245 ± 0.0877|\n",
      "|astro-ph.GA       |0.2136        |0.0688           |0.2136 ± 0.0688|\n",
      "|astro-ph.SR       |0.2125        |0.0685           |0.2125 ± 0.0685|\n",
      "|astro-ph.EP       |0.2109        |0.0684           |0.2109 ± 0.0684|\n",
      "|cs.DB             |0.2062        |0.0994           |0.2062 ± 0.0994|\n",
      "|physics.bio-ph    |0.1955        |0.0362           |0.1955 ± 0.0362|\n",
      "|physics.chem-ph   |0.1932        |0.1028           |0.1932 ± 0.1028|\n",
      "|physics.hist-ph   |0.19          |0.0694           |0.19 ± 0.0694  |\n",
      "|math.HO           |0.1861        |0.1137           |0.1861 ± 0.1137|\n",
      "|gr-qc             |0.1805        |0.0749           |0.1805 ± 0.0749|\n",
      "|physics.gen-ph    |0.1754        |0.0395           |0.1754 ± 0.0395|\n",
      "|q-bio.MN          |0.175         |NULL             |0.175          |\n",
      "|math.KT           |0.1749        |0.1746           |0.1749 ± 0.1746|\n",
      "|physics.comp-ph   |0.1742        |0.072            |0.1742 ± 0.072 |\n",
      "|q-fin.PM          |0.1737        |NULL             |0.1737         |\n",
      "|cond-mat.quant-gas|0.1702        |0.0708           |0.1702 ± 0.0708|\n",
      "+------------------+--------------+-----------------+---------------+\n",
      "only showing top 20 rows\n",
      "\n",
      "Computing similarity between 'title' and 'arxiv_main_category'...\n",
      "\n",
      "Category similarity statistics (sorted by avg similarity):\n",
      "+-------------------+--------------+-----------------+---------------+\n",
      "|arxiv_main_category|avg_similarity|stddev_similarity|avg ± std      |\n",
      "+-------------------+--------------+-----------------+---------------+\n",
      "|gr-qc              |0.1805        |0.0749           |0.1805 ± 0.0749|\n",
      "|astro-ph           |0.1731        |0.0779           |0.1731 ± 0.0779|\n",
      "|econ               |0.1566        |0.0689           |0.1566 ± 0.0689|\n",
      "|quant-ph           |0.1457        |0.0743           |0.1457 ± 0.0743|\n",
      "|stat               |0.1218        |0.0672           |0.1218 ± 0.0672|\n",
      "|q-bio              |0.119         |0.0787           |0.119 ± 0.0787 |\n",
      "|nucl               |0.115         |0.0685           |0.115 ± 0.0685 |\n",
      "|physics            |0.0951        |0.0918           |0.0951 ± 0.0918|\n",
      "|cs                 |0.0771        |0.0564           |0.0771 ± 0.0564|\n",
      "|hep                |0.0758        |0.0534           |0.0758 ± 0.0534|\n",
      "|cond-mat           |0.0631        |0.0594           |0.0631 ± 0.0594|\n",
      "|q-fin              |0.0488        |0.0605           |0.0488 ± 0.0605|\n",
      "|nlin               |0.0338        |0.0557           |0.0338 ± 0.0557|\n",
      "|eess               |0.0143        |0.0489           |0.0143 ± 0.0489|\n",
      "|math-ph            |0.0143        |0.052            |0.0143 ± 0.052 |\n",
      "|math               |0.0094        |0.0737           |0.0094 ± 0.0737|\n",
      "+-------------------+--------------+-----------------+---------------+\n",
      "\n"
     ]
    }
   ],
   "source": [
    "# ---- 1. Embedding similarity between text features and target columns ----\n",
    "from src.utils import analyze_similarity\n",
    "\n",
    "analyze_similarity(\n",
    "    papers_df, \n",
    "    text_feature=\"summary\", \n",
    "    target=\"main_category\"\n",
    ")\n",
    "\n",
    "analyze_similarity(\n",
    "    papers_df, \n",
    "    text_feature=\"summary\", \n",
    "    target=\"arxiv_main_category\"\n",
    ")\n",
    "\n",
    "analyze_similarity(\n",
    "    papers_df, \n",
    "    text_feature=\"title\", \n",
    "    target=\"main_category\"\n",
    ")\n",
    "\n",
    "analyze_similarity(\n",
    "    papers_df, \n",
    "    text_feature=\"title\", \n",
    "    target=\"arxiv_main_category\"\n",
    ")\n"
   ]
  },
  {
   "cell_type": "code",
   "execution_count": 26,
   "id": "c6874558",
   "metadata": {},
   "outputs": [
    {
     "name": "stdout",
     "output_type": "stream",
     "text": [
      "+-------+---------------------+\n",
      "|summary|title_summary_overlap|\n",
      "+-------+---------------------+\n",
      "|  count|                 5052|\n",
      "|   mean|  0.06995328094193422|\n",
      "| stddev|  0.04050947476160829|\n",
      "|    min|                  0.0|\n",
      "|    max|            0.7777778|\n",
      "+-------+---------------------+\n",
      "\n"
     ]
    }
   ],
   "source": [
    "# 2. Token overlap between title and summary\n",
    "\n",
    "from pyspark.sql.functions import udf\n",
    "from pyspark.sql.types import FloatType\n",
    "\n",
    "def jaccard_similarity(title, summary):\n",
    "    set_title = set(title.lower().split())\n",
    "    set_summary = set(summary.lower().split())\n",
    "    intersection = len(set_title & set_summary)\n",
    "    union = len(set_title | set_summary)\n",
    "    return float(intersection) / union if union > 0 else 0.0\n",
    "\n",
    "jaccard_udf = udf(jaccard_similarity, FloatType())\n",
    "\n",
    "df_overlap = papers_df.withColumn(\"title_summary_overlap\", jaccard_udf(col(\"title\"), col(\"summary\")))\n",
    "df_overlap.select(\"title_summary_overlap\").describe().show()\n",
    "\n",
    "# The Jaccard similarity of 0.07 ± 0.04 means only 7% overlap on average, which is minimal.\n"
   ]
  }
 ],
 "metadata": {
  "kernelspec": {
   "display_name": "assignment-03",
   "language": "python",
   "name": "python3"
  },
  "language_info": {
   "codemirror_mode": {
    "name": "ipython",
    "version": 3
   },
   "file_extension": ".py",
   "mimetype": "text/x-python",
   "name": "python",
   "nbconvert_exporter": "python",
   "pygments_lexer": "ipython3",
   "version": "3.11.11"
  }
 },
 "nbformat": 4,
 "nbformat_minor": 5
}
