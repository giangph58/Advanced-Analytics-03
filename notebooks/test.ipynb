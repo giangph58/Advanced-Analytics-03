{
 "cells": [
  {
   "cell_type": "code",
   "execution_count": null,
   "id": "b9d3d14e",
   "metadata": {},
   "outputs": [
    {
     "data": {
      "application/vnd.jupyter.widget-view+json": {
       "model_id": "09d3e51d73fc4072b4630340e1ff5595",
       "version_major": 2,
       "version_minor": 0
      },
      "text/plain": [
       "config.json:   0%|          | 0.00/1.27k [00:00<?, ?B/s]"
      ]
     },
     "metadata": {},
     "output_type": "display_data"
    },
    {
     "data": {
      "application/vnd.jupyter.widget-view+json": {
       "model_id": "4c6e8cae0e5a49bd8f1769677b37c597",
       "version_major": 2,
       "version_minor": 0
      },
      "text/plain": [
       "model.safetensors:   0%|          | 0.00/440M [00:00<?, ?B/s]"
      ]
     },
     "metadata": {},
     "output_type": "display_data"
    },
    {
     "data": {
      "application/vnd.jupyter.widget-view+json": {
       "model_id": "b14a948725c44097a314dc2b728e06e1",
       "version_major": 2,
       "version_minor": 0
      },
      "text/plain": [
       "tokenizer_config.json:   0%|          | 0.00/1.30k [00:00<?, ?B/s]"
      ]
     },
     "metadata": {},
     "output_type": "display_data"
    },
    {
     "data": {
      "application/vnd.jupyter.widget-view+json": {
       "model_id": "eca3e0875d07466eae6a2d28985a5096",
       "version_major": 2,
       "version_minor": 0
      },
      "text/plain": [
       "vocab.txt:   0%|          | 0.00/228k [00:00<?, ?B/s]"
      ]
     },
     "metadata": {},
     "output_type": "display_data"
    },
    {
     "data": {
      "application/vnd.jupyter.widget-view+json": {
       "model_id": "60196323c12245c99d495f739f2896ba",
       "version_major": 2,
       "version_minor": 0
      },
      "text/plain": [
       "tokenizer.json:   0%|          | 0.00/717k [00:00<?, ?B/s]"
      ]
     },
     "metadata": {},
     "output_type": "display_data"
    },
    {
     "data": {
      "application/vnd.jupyter.widget-view+json": {
       "model_id": "f886485afd2a49c5a49a5654d0b064d7",
       "version_major": 2,
       "version_minor": 0
      },
      "text/plain": [
       "special_tokens_map.json:   0%|          | 0.00/695 [00:00<?, ?B/s]"
      ]
     },
     "metadata": {},
     "output_type": "display_data"
    },
    {
     "name": "stderr",
     "output_type": "stream",
     "text": [
      "Device set to use cpu\n"
     ]
    }
   ],
   "source": [
    "from transformers import pipeline\n",
    "\n",
    "model_name = \"gpham/scibert-finetuned-arxiv-42\"\n",
    "classifier = pipeline(\"text-classification\", \n",
    "                     model=model_name)"
   ]
  },
  {
   "cell_type": "code",
   "execution_count": 19,
   "id": "1913d354",
   "metadata": {},
   "outputs": [
    {
     "data": {
      "text/plain": [
       "[{'label': 'econ', 'score': 0.9969146251678467}]"
      ]
     },
     "execution_count": 19,
     "metadata": {},
     "output_type": "execute_result"
    }
   ],
   "source": [
    "text = \"This paper studies the relationship between soft and hard paternalism by examining two kinds of restriction: a waiting period and a hard limit (cap) on risk-seeking behavior. Mandatory waiting periods have been instituted for medical procedures, gun purchases and other high-stakes decisions. Are these policies substitutes for hard restrictions, and are delayed decisions more respected? In an experiment, decision-makers are informed about an impending high-stakes decision. Treatments define when the decision is made: on the spot or after one day, and whether the initial decision can be revised. In a general population survey experiment, another class of subjects (Choice Architects) is granted the opportunity to make rules for decision-makers. Given a decision’s temporal structure, Choice Architects can decide on a cap to the decision-maker’s risk taking. In another treatment, Choice Architects can implement a mandatory waiting period in addition to the cap. This allows us to study the substitutional relationship between waiting periods and paternalistic action and the effect of deliberation on the autonomy afforded to the decision-maker. Our highly powered experiment reveals that exogenous deliberation has no effect on the cap. Moreover, endogenously prescribed waiting periods represent add-on restrictions that do not substitute for the cap. Choice Architects believe that, with time, the average decision-maker will take less risk and—because of the distribution of Choice Architects’ bliss points—come closer to Choice Architects’ subjective ideal choice. These findings highlight the complementarity of policy tools in targeting various parts of a distribution of decision-makers.\"\n",
    "\n",
    "classifier(text)\n"
   ]
  }
 ],
 "metadata": {
  "kernelspec": {
   "display_name": "assignment-03",
   "language": "python",
   "name": "python3"
  },
  "language_info": {
   "codemirror_mode": {
    "name": "ipython",
    "version": 3
   },
   "file_extension": ".py",
   "mimetype": "text/x-python",
   "name": "python",
   "nbconvert_exporter": "python",
   "pygments_lexer": "ipython3",
   "version": "3.11.11"
  }
 },
 "nbformat": 4,
 "nbformat_minor": 5
}
