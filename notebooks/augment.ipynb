{
 "cells": [
  {
   "cell_type": "code",
   "execution_count": 1,
   "id": "a50360ff",
   "metadata": {},
   "outputs": [],
   "source": [
    "from datasets import DatasetDict, Dataset, ClassLabel, load_dataset\n",
    "import pandas as pd\n",
    "import glob\n",
    "from sklearn.model_selection import train_test_split\n",
    "from src.utils import map_category\n"
   ]
  },
  {
   "cell_type": "code",
   "execution_count": 2,
   "id": "d4ae0ebd",
   "metadata": {},
   "outputs": [],
   "source": [
    "data_path = \"data/interim/part-*.json\"\n",
    "json_files = glob.glob(data_path)\n",
    "stream_df = pd.concat([pd.read_json(file, lines=True) for file in json_files], ignore_index=True)\n",
    "\n",
    "stream_df[\"label\"] = stream_df[\"main_category\"].apply(map_category)\n",
    "stream_df[\"text\"] = stream_df[\"title\"] + \"\\n\" + stream_df[\"summary\"]\n",
    "stream_df = stream_df[[\"text\", \"label\"]]\n"
   ]
  },
  {
   "cell_type": "code",
   "execution_count": 3,
   "id": "b92bd3a8",
   "metadata": {},
   "outputs": [
    {
     "data": {
      "text/plain": [
       "label\n",
       "cs          5458\n",
       "math        2205\n",
       "cond-mat     915\n",
       "physics      822\n",
       "astro-ph     802\n",
       "quant-ph     599\n",
       "eess         565\n",
       "hep          527\n",
       "stat         271\n",
       "gr-qc        213\n",
       "nucl         116\n",
       "q-bio         98\n",
       "econ          93\n",
       "nlin          54\n",
       "math-ph       52\n",
       "q-fin         46\n",
       "Name: count, dtype: int64"
      ]
     },
     "execution_count": 3,
     "metadata": {},
     "output_type": "execute_result"
    }
   ],
   "source": [
    "stream_df[\"label\"].value_counts()\n"
   ]
  },
  {
   "cell_type": "code",
   "execution_count": 4,
   "id": "8375ca95",
   "metadata": {},
   "outputs": [
    {
     "data": {
      "text/plain": [
       "label\n",
       "cs          3821\n",
       "math        1543\n",
       "cond-mat     641\n",
       "physics      575\n",
       "astro-ph     561\n",
       "quant-ph     419\n",
       "eess         396\n",
       "hep          369\n",
       "stat         190\n",
       "gr-qc        149\n",
       "nucl          81\n",
       "q-bio         69\n",
       "econ          65\n",
       "nlin          38\n",
       "math-ph       36\n",
       "q-fin         32\n",
       "Name: count, dtype: int64"
      ]
     },
     "execution_count": 4,
     "metadata": {},
     "output_type": "execute_result"
    }
   ],
   "source": [
    "train_df, temp_df = train_test_split(\n",
    "    stream_df, \n",
    "    test_size=0.3,\n",
    "    stratify=stream_df[\"label\"],\n",
    "    random_state=42\n",
    ")\n",
    "\n",
    "val_df, test_df = train_test_split(\n",
    "    temp_df,\n",
    "    test_size=0.5,\n",
    "    stratify=temp_df[\"label\"],\n",
    "    random_state=42\n",
    ")\n",
    "\n",
    "train_df[\"label\"].value_counts()"
   ]
  },
  {
   "cell_type": "code",
   "execution_count": 5,
   "id": "5655e681",
   "metadata": {},
   "outputs": [
    {
     "data": {
      "application/vnd.jupyter.widget-view+json": {
       "model_id": "107d2b1553d44887a9da23b69a8e8d1e",
       "version_major": 2,
       "version_minor": 0
      },
      "text/plain": [
       "README.md:   0%|          | 0.00/2.54k [00:00<?, ?B/s]"
      ]
     },
     "metadata": {},
     "output_type": "display_data"
    },
    {
     "name": "stderr",
     "output_type": "stream",
     "text": [
      "c:\\Users\\GPham\\miniforge3\\envs\\assignment-03\\Lib\\site-packages\\huggingface_hub\\file_download.py:144: UserWarning: `huggingface_hub` cache-system uses symlinks by default to efficiently store duplicated files but your machine does not support them in C:\\Users\\GPham\\.cache\\huggingface\\hub\\datasets--real-jiakai--arxiver-with-category. Caching files will still work but in a degraded version that might require more space on your disk. This warning can be disabled by setting the `HF_HUB_DISABLE_SYMLINKS_WARNING` environment variable. For more details, see https://huggingface.co/docs/huggingface_hub/how-to-cache#limitations.\n",
      "To support symlinks on Windows, you either need to activate Developer Mode or to run Python as an administrator. In order to activate developer mode, see this article: https://docs.microsoft.com/en-us/windows/apps/get-started/enable-your-device-for-development\n",
      "  warnings.warn(message)\n"
     ]
    },
    {
     "data": {
      "application/vnd.jupyter.widget-view+json": {
       "model_id": "4700e9b1501240989f1ae59065679d39",
       "version_major": 2,
       "version_minor": 0
      },
      "text/plain": [
       "papers.parquet:   0%|          | 0.00/1.44G [00:00<?, ?B/s]"
      ]
     },
     "metadata": {},
     "output_type": "display_data"
    },
    {
     "data": {
      "application/vnd.jupyter.widget-view+json": {
       "model_id": "53875ce3426a4b1da73aa4d40c0d255d",
       "version_major": 2,
       "version_minor": 0
      },
      "text/plain": [
       "Generating train split:   0%|          | 0/63357 [00:00<?, ? examples/s]"
      ]
     },
     "metadata": {},
     "output_type": "display_data"
    }
   ],
   "source": [
    "aux_data = load_dataset(\"real-jiakai/arxiver-with-category\")\n",
    "\n",
    "aux_data.set_format(type=\"pandas\")\n",
    "aux_df = aux_data[\"train\"][:]\n",
    "aux_df[\"label\"] = aux_df[\"primary_category\"].apply(map_category)\n",
    "aux_df[\"title\"] = aux_df[\"title\"].str.replace(\"\\n  \", \" \")\n",
    "aux_df[\"text\"] = aux_df[\"title\"] + \"\\n\" + aux_df[\"abstract\"]\n",
    "aux_df = aux_df[[\"text\", \"label\"]]\n"
   ]
  },
  {
   "cell_type": "code",
   "execution_count": 6,
   "id": "4bda8c02",
   "metadata": {},
   "outputs": [
    {
     "data": {
      "text/plain": [
       "label\n",
       "cs          26733\n",
       "math         9611\n",
       "cond-mat     4660\n",
       "astro-ph     4453\n",
       "physics      4163\n",
       "quant-ph     2930\n",
       "hep          2900\n",
       "eess         2839\n",
       "stat         1546\n",
       "gr-qc        1187\n",
       "q-bio         677\n",
       "nucl          512\n",
       "math-ph       365\n",
       "econ          288\n",
       "nlin          262\n",
       "q-fin         231\n",
       "Name: count, dtype: int64"
      ]
     },
     "execution_count": 6,
     "metadata": {},
     "output_type": "execute_result"
    }
   ],
   "source": [
    "aux_df[\"label\"].value_counts()\n"
   ]
  },
  {
   "cell_type": "code",
   "execution_count": 7,
   "id": "d9d2bc23",
   "metadata": {},
   "outputs": [],
   "source": [
    "train_counts = train_df[\"label\"].value_counts()\n",
    "aux_counts = aux_df[\"label\"].value_counts()\n",
    "\n",
    "TARGET_CLASS_SIZE = 500\n",
    "\n",
    "samples_to_take = {}\n",
    "\n",
    "for label in train_counts.index.union(aux_counts.index):\n",
    "    train_count = train_counts.get(label, 0)\n",
    "    aux_count = aux_counts.get(label, 0)\n",
    "    \n",
    "    desired = min(TARGET_CLASS_SIZE, train_count + aux_count)\n",
    "    need = desired - train_count\n",
    "    take = min(need, aux_count)\n",
    "    samples_to_take[label] = max(take, 0)  # avoid negatives\n"
   ]
  },
  {
   "cell_type": "code",
   "execution_count": 8,
   "id": "df3de0f7",
   "metadata": {},
   "outputs": [
    {
     "data": {
      "text/plain": [
       "{'astro-ph': 0,\n",
       " 'cond-mat': 0,\n",
       " 'cs': 0,\n",
       " 'econ': 288,\n",
       " 'eess': 104,\n",
       " 'gr-qc': 351,\n",
       " 'hep': 131,\n",
       " 'math': 0,\n",
       " 'math-ph': 365,\n",
       " 'nlin': 262,\n",
       " 'nucl': 419,\n",
       " 'physics': 0,\n",
       " 'q-bio': 431,\n",
       " 'q-fin': 231,\n",
       " 'quant-ph': 81,\n",
       " 'stat': 310}"
      ]
     },
     "execution_count": 8,
     "metadata": {},
     "output_type": "execute_result"
    }
   ],
   "source": [
    "samples_to_take"
   ]
  },
  {
   "cell_type": "code",
   "execution_count": 9,
   "id": "83a32fa8",
   "metadata": {},
   "outputs": [
    {
     "data": {
      "text/plain": [
       "label\n",
       "cs          3821\n",
       "math        1543\n",
       "cond-mat     641\n",
       "physics      575\n",
       "astro-ph     561\n",
       "quant-ph     500\n",
       "gr-qc        500\n",
       "hep          500\n",
       "stat         500\n",
       "eess         500\n",
       "q-bio        500\n",
       "nucl         500\n",
       "math-ph      401\n",
       "econ         353\n",
       "nlin         300\n",
       "q-fin        263\n",
       "Name: count, dtype: int64"
      ]
     },
     "execution_count": 9,
     "metadata": {},
     "output_type": "execute_result"
    }
   ],
   "source": [
    "sampled_aux = []\n",
    "\n",
    "for label, take_n in samples_to_take.items():\n",
    "    if take_n > 0:\n",
    "        class_subset = aux_df[aux_df[\"label\"] == label]\n",
    "        sampled = class_subset.sample(n=take_n, random_state=42)\n",
    "        sampled_aux.append(sampled)\n",
    "\n",
    "aug_aux_df = pd.concat(sampled_aux, ignore_index=True)\n",
    "\n",
    "aug_train_df = pd.concat([train_df, aug_aux_df], ignore_index=True)\n",
    "\n",
    "aug_train_df[\"label\"].value_counts()\n"
   ]
  },
  {
   "cell_type": "code",
   "execution_count": 10,
   "id": "3c28389e",
   "metadata": {},
   "outputs": [],
   "source": [
    "# sub_aux_df = aux_df.loc[aux_df[\"label\"].isin([\"econ\", \"nlin\", \"nucl-ex\", \"q-bio\",\"hep-lat\", \"hep-ex\", \"math-ph\", \"nucl-th\",\"q-fin\", \"hep-th\"])]\n"
   ]
  },
  {
   "cell_type": "code",
   "execution_count": 11,
   "id": "14dbc57d",
   "metadata": {},
   "outputs": [],
   "source": [
    "# sub_aux_df[\"label\"].value_counts()\n"
   ]
  },
  {
   "cell_type": "code",
   "execution_count": 12,
   "id": "a2e39203",
   "metadata": {},
   "outputs": [
    {
     "name": "stdout",
     "output_type": "stream",
     "text": [
      "Shape after augmentation: (11958, 2)\n"
     ]
    },
    {
     "data": {
      "text/plain": [
       "label\n",
       "cs          3821\n",
       "math        1543\n",
       "cond-mat     641\n",
       "physics      575\n",
       "astro-ph     561\n",
       "quant-ph     500\n",
       "gr-qc        500\n",
       "hep          500\n",
       "stat         500\n",
       "eess         500\n",
       "q-bio        500\n",
       "nucl         500\n",
       "math-ph      401\n",
       "econ         353\n",
       "nlin         300\n",
       "q-fin        263\n",
       "Name: count, dtype: int64"
      ]
     },
     "execution_count": 12,
     "metadata": {},
     "output_type": "execute_result"
    }
   ],
   "source": [
    "# aug_train_df = pd.concat([train_df, sub_aux_df])\n",
    "print(f\"Shape after augmentation: {aug_train_df.shape}\")\n",
    "aug_train_df[\"label\"].value_counts()\n"
   ]
  },
  {
   "cell_type": "code",
   "execution_count": 13,
   "id": "08fc56ad",
   "metadata": {},
   "outputs": [
    {
     "data": {
      "application/vnd.jupyter.widget-view+json": {
       "model_id": "f5c328a115444a8bb059a7c8c79a4b0c",
       "version_major": 2,
       "version_minor": 0
      },
      "text/plain": [
       "Casting the dataset:   0%|          | 0/11958 [00:00<?, ? examples/s]"
      ]
     },
     "metadata": {},
     "output_type": "display_data"
    },
    {
     "data": {
      "application/vnd.jupyter.widget-view+json": {
       "model_id": "740953d26ebc436dae1606006ad995e6",
       "version_major": 2,
       "version_minor": 0
      },
      "text/plain": [
       "Casting the dataset:   0%|          | 0/1925 [00:00<?, ? examples/s]"
      ]
     },
     "metadata": {},
     "output_type": "display_data"
    },
    {
     "data": {
      "application/vnd.jupyter.widget-view+json": {
       "model_id": "f722d61da15549fc984ca3e704048467",
       "version_major": 2,
       "version_minor": 0
      },
      "text/plain": [
       "Casting the dataset:   0%|          | 0/1926 [00:00<?, ? examples/s]"
      ]
     },
     "metadata": {},
     "output_type": "display_data"
    },
    {
     "data": {
      "application/vnd.jupyter.widget-view+json": {
       "model_id": "d0f3c445609f438b998918cc9965c6de",
       "version_major": 2,
       "version_minor": 0
      },
      "text/plain": [
       "Saving the dataset (0/1 shards):   0%|          | 0/11958 [00:00<?, ? examples/s]"
      ]
     },
     "metadata": {},
     "output_type": "display_data"
    },
    {
     "data": {
      "application/vnd.jupyter.widget-view+json": {
       "model_id": "5ac28c36884d465793e9857eb2e85f34",
       "version_major": 2,
       "version_minor": 0
      },
      "text/plain": [
       "Saving the dataset (0/1 shards):   0%|          | 0/1925 [00:00<?, ? examples/s]"
      ]
     },
     "metadata": {},
     "output_type": "display_data"
    },
    {
     "data": {
      "application/vnd.jupyter.widget-view+json": {
       "model_id": "a647da465dac4f13975d2ceeeec29386",
       "version_major": 2,
       "version_minor": 0
      },
      "text/plain": [
       "Saving the dataset (0/1 shards):   0%|          | 0/1926 [00:00<?, ? examples/s]"
      ]
     },
     "metadata": {},
     "output_type": "display_data"
    }
   ],
   "source": [
    "aug_stream_data = DatasetDict({\n",
    "    \"train\": Dataset.from_pandas(aug_train_df, preserve_index=False),\n",
    "    \"validation\": Dataset.from_pandas(val_df, preserve_index=False),\n",
    "    \"test\": Dataset.from_pandas(test_df, preserve_index=False)\n",
    "})\n",
    "\n",
    "labels = sorted(aug_train_df[\"label\"].unique())\n",
    "class_label = ClassLabel(names=labels)\n",
    "\n",
    "aug_stream_data = aug_stream_data.cast_column(\"label\", class_label)\n",
    "\n",
    "aug_stream_data.save_to_disk(\"data/processed/aug_stream_data\")\n"
   ]
  }
 ],
 "metadata": {
  "kernelspec": {
   "display_name": "assignment-03",
   "language": "python",
   "name": "python3"
  },
  "language_info": {
   "codemirror_mode": {
    "name": "ipython",
    "version": 3
   },
   "file_extension": ".py",
   "mimetype": "text/x-python",
   "name": "python",
   "nbconvert_exporter": "python",
   "pygments_lexer": "ipython3",
   "version": "3.11.11"
  }
 },
 "nbformat": 4,
 "nbformat_minor": 5
}
