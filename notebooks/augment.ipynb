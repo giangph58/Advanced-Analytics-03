{
 "cells": [
  {
   "cell_type": "code",
   "execution_count": 1,
   "id": "a50360ff",
   "metadata": {},
   "outputs": [],
   "source": [
    "from datasets import DatasetDict, Dataset, ClassLabel, load_dataset\n",
    "import pandas as pd\n",
    "import numpy as np\n",
    "import glob\n",
    "from sklearn.model_selection import train_test_split\n",
    "from src.utils import map_category\n"
   ]
  },
  {
   "cell_type": "code",
   "execution_count": 2,
   "id": "d4ae0ebd",
   "metadata": {},
   "outputs": [],
   "source": [
    "data_path = \"data/interim/part-*.json\"\n",
    "json_files = glob.glob(data_path)\n",
    "stream_df = pd.concat([pd.read_json(file, lines=True) for file in json_files], ignore_index=True)\n",
    "\n",
    "stream_df[\"label\"] = stream_df[\"main_category\"].apply(map_category)\n",
    "stream_df[\"text\"] = stream_df[\"title\"] + \"\\n\" + stream_df[\"summary\"]\n",
    "stream_df = stream_df[[\"text\", \"label\"]]\n"
   ]
  },
  {
   "cell_type": "code",
   "execution_count": 3,
   "id": "b92bd3a8",
   "metadata": {},
   "outputs": [
    {
     "data": {
      "text/plain": [
       "label\n",
       "cs          4747\n",
       "math        1913\n",
       "cond-mat     795\n",
       "physics      711\n",
       "astro-ph     700\n",
       "quant-ph     521\n",
       "eess         485\n",
       "stat         229\n",
       "hep-ph       223\n",
       "gr-qc        190\n",
       "hep-th       154\n",
       "q-bio         86\n",
       "econ          79\n",
       "nucl-th       72\n",
       "hep-ex        50\n",
       "nlin          47\n",
       "math-ph       43\n",
       "q-fin         43\n",
       "nucl-ex       29\n",
       "hep-lat       26\n",
       "Name: count, dtype: int64"
      ]
     },
     "execution_count": 3,
     "metadata": {},
     "output_type": "execute_result"
    }
   ],
   "source": [
    "stream_df[\"label\"].value_counts()\n"
   ]
  },
  {
   "cell_type": "code",
   "execution_count": 4,
   "id": "5655e681",
   "metadata": {},
   "outputs": [],
   "source": [
    "aux_data = load_dataset(\"real-jiakai/arxiver-with-category\")\n",
    "\n",
    "aux_data.set_format(type=\"pandas\")\n",
    "aux_df = aux_data[\"train\"][:]\n",
    "aux_df[\"label\"] = aux_df[\"primary_category\"].apply(map_category)\n",
    "aux_df[\"text\"] = aux_df[\"title\"] + \"\\n\" + aux_df[\"abstract\"]\n",
    "aux_df = aux_df[[\"text\", \"label\"]]\n"
   ]
  },
  {
   "cell_type": "code",
   "execution_count": 5,
   "id": "4bda8c02",
   "metadata": {},
   "outputs": [
    {
     "data": {
      "text/plain": [
       "label\n",
       "cs          26733\n",
       "math         9611\n",
       "cond-mat     4660\n",
       "astro-ph     4453\n",
       "physics      4163\n",
       "quant-ph     2930\n",
       "eess         2839\n",
       "hep-ph       1642\n",
       "stat         1546\n",
       "gr-qc        1187\n",
       "hep-th        918\n",
       "q-bio         677\n",
       "nucl-th       412\n",
       "math-ph       365\n",
       "econ          288\n",
       "nlin          262\n",
       "q-fin         231\n",
       "hep-ex        203\n",
       "hep-lat       137\n",
       "nucl-ex       100\n",
       "Name: count, dtype: int64"
      ]
     },
     "execution_count": 5,
     "metadata": {},
     "output_type": "execute_result"
    }
   ],
   "source": [
    "aux_df[\"label\"].value_counts()\n"
   ]
  },
  {
   "cell_type": "code",
   "execution_count": 20,
   "id": "3c28389e",
   "metadata": {},
   "outputs": [],
   "source": [
    "# sub_aux_df = aux_df.isin({\"label\": [\"econ\"]})\n",
    "sub_aux_df = aux_df.loc[aux_df[\"label\"].isin([\"econ\", \"nlin\", \"nucl-ex\", \"q-bio\", \"hep-lat\", \"hep-ex\", \"math-ph\", \"nucl-th\",\"q-fin\"])]"
   ]
  },
  {
   "cell_type": "code",
   "execution_count": 21,
   "id": "14dbc57d",
   "metadata": {},
   "outputs": [
    {
     "data": {
      "text/plain": [
       "label\n",
       "q-bio      677\n",
       "nucl-th    412\n",
       "math-ph    365\n",
       "econ       288\n",
       "nlin       262\n",
       "q-fin      231\n",
       "hep-ex     203\n",
       "hep-lat    137\n",
       "nucl-ex    100\n",
       "Name: count, dtype: int64"
      ]
     },
     "execution_count": 21,
     "metadata": {},
     "output_type": "execute_result"
    }
   ],
   "source": [
    "sub_aux_df[\"label\"].value_counts()\n"
   ]
  },
  {
   "cell_type": "code",
   "execution_count": 24,
   "id": "a2e39203",
   "metadata": {},
   "outputs": [
    {
     "name": "stdout",
     "output_type": "stream",
     "text": [
      "Shape after augmentation: (13818, 2)\n"
     ]
    },
    {
     "data": {
      "text/plain": [
       "label\n",
       "cs          4747\n",
       "math        1913\n",
       "cond-mat     795\n",
       "q-bio        763\n",
       "physics      711\n",
       "astro-ph     700\n",
       "quant-ph     521\n",
       "eess         485\n",
       "nucl-th      484\n",
       "math-ph      408\n",
       "econ         367\n",
       "nlin         309\n",
       "q-fin        274\n",
       "hep-ex       253\n",
       "stat         229\n",
       "hep-ph       223\n",
       "gr-qc        190\n",
       "hep-lat      163\n",
       "hep-th       154\n",
       "nucl-ex      129\n",
       "Name: count, dtype: int64"
      ]
     },
     "execution_count": 24,
     "metadata": {},
     "output_type": "execute_result"
    }
   ],
   "source": [
    "aug_stream_df = pd.concat([stream_df, sub_aux_df])\n",
    "print(f\"Shape after augmentation: {aug_stream_df.shape}\")\n",
    "aug_stream_df[\"label\"].value_counts()\n"
   ]
  },
  {
   "cell_type": "code",
   "execution_count": 25,
   "id": "af2b0048",
   "metadata": {},
   "outputs": [
    {
     "data": {
      "application/vnd.jupyter.widget-view+json": {
       "model_id": "a542759ecaf1406aad0e7c371ca888e6",
       "version_major": 2,
       "version_minor": 0
      },
      "text/plain": [
       "Casting the dataset:   0%|          | 0/11054 [00:00<?, ? examples/s]"
      ]
     },
     "metadata": {},
     "output_type": "display_data"
    },
    {
     "data": {
      "application/vnd.jupyter.widget-view+json": {
       "model_id": "2f7dbddcd82c433fa1d6a1350d6b9bf1",
       "version_major": 2,
       "version_minor": 0
      },
      "text/plain": [
       "Casting the dataset:   0%|          | 0/1382 [00:00<?, ? examples/s]"
      ]
     },
     "metadata": {},
     "output_type": "display_data"
    },
    {
     "data": {
      "application/vnd.jupyter.widget-view+json": {
       "model_id": "09797f47b9534fed8a380a80938c0f01",
       "version_major": 2,
       "version_minor": 0
      },
      "text/plain": [
       "Casting the dataset:   0%|          | 0/1382 [00:00<?, ? examples/s]"
      ]
     },
     "metadata": {},
     "output_type": "display_data"
    },
    {
     "data": {
      "application/vnd.jupyter.widget-view+json": {
       "model_id": "5c6029e7bda2453788830d7af36fabe7",
       "version_major": 2,
       "version_minor": 0
      },
      "text/plain": [
       "Saving the dataset (0/1 shards):   0%|          | 0/11054 [00:00<?, ? examples/s]"
      ]
     },
     "metadata": {},
     "output_type": "display_data"
    },
    {
     "data": {
      "application/vnd.jupyter.widget-view+json": {
       "model_id": "b8ab9309a6a04fd08f14c840dbd8256a",
       "version_major": 2,
       "version_minor": 0
      },
      "text/plain": [
       "Saving the dataset (0/1 shards):   0%|          | 0/1382 [00:00<?, ? examples/s]"
      ]
     },
     "metadata": {},
     "output_type": "display_data"
    },
    {
     "data": {
      "application/vnd.jupyter.widget-view+json": {
       "model_id": "6d6821dbaa8d412b86ee41e015c4c16a",
       "version_major": 2,
       "version_minor": 0
      },
      "text/plain": [
       "Saving the dataset (0/1 shards):   0%|          | 0/1382 [00:00<?, ? examples/s]"
      ]
     },
     "metadata": {},
     "output_type": "display_data"
    }
   ],
   "source": [
    "train_df, temp_df = train_test_split(\n",
    "    aug_stream_df, \n",
    "    test_size=0.2,\n",
    "    stratify=aug_stream_df[\"label\"],\n",
    "    random_state=42\n",
    ")\n",
    "val_df, test_df = train_test_split(\n",
    "    temp_df,\n",
    "    test_size=0.5,\n",
    "    stratify=temp_df[\"label\"],\n",
    "    random_state=42\n",
    ")\n",
    "\n",
    "aug_stream_data = DatasetDict({\n",
    "    \"train\": Dataset.from_pandas(train_df, preserve_index=False),\n",
    "    \"validation\": Dataset.from_pandas(val_df, preserve_index=False),\n",
    "    \"test\": Dataset.from_pandas(test_df, preserve_index=False)\n",
    "})\n",
    "\n",
    "labels = sorted(aug_stream_df[\"label\"].unique())\n",
    "class_label = ClassLabel(names=labels)\n",
    "\n",
    "aug_stream_data = aug_stream_data.cast_column(\"label\", class_label)\n",
    "\n",
    "aug_stream_data.save_to_disk(\"data/processed/aug_stream_data\")\n"
   ]
  }
 ],
 "metadata": {
  "kernelspec": {
   "display_name": ".venv",
   "language": "python",
   "name": "python3"
  },
  "language_info": {
   "codemirror_mode": {
    "name": "ipython",
    "version": 3
   },
   "file_extension": ".py",
   "mimetype": "text/x-python",
   "name": "python",
   "nbconvert_exporter": "python",
   "pygments_lexer": "ipython3",
   "version": "3.11.12"
  }
 },
 "nbformat": 4,
 "nbformat_minor": 5
}
