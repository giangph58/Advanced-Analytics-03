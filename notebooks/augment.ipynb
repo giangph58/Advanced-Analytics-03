{
 "cells": [
  {
   "cell_type": "code",
   "execution_count": 1,
   "id": "a50360ff",
   "metadata": {},
   "outputs": [],
   "source": [
    "from datasets import DatasetDict, Dataset, ClassLabel, load_dataset\n",
    "import pandas as pd\n",
    "import glob\n",
    "from sklearn.model_selection import train_test_split\n",
    "from src.utils import map_category\n"
   ]
  },
  {
   "cell_type": "code",
   "execution_count": 2,
   "id": "d4ae0ebd",
   "metadata": {},
   "outputs": [],
   "source": [
    "data_path = \"data/interim/part-*.json\"\n",
    "json_files = glob.glob(data_path)\n",
    "stream_df = pd.concat([pd.read_json(file, lines=True) for file in json_files], ignore_index=True)\n",
    "\n",
    "stream_df[\"label\"] = stream_df[\"main_category\"].apply(map_category)\n",
    "stream_df[\"text\"] = stream_df[\"title\"] + \"\\n\" + stream_df[\"summary\"]\n",
    "stream_df = stream_df[[\"text\", \"label\"]]\n"
   ]
  },
  {
   "cell_type": "code",
   "execution_count": 3,
   "id": "b92bd3a8",
   "metadata": {},
   "outputs": [
    {
     "data": {
      "text/plain": [
       "label\n",
       "cs          4747\n",
       "math        1913\n",
       "cond-mat     795\n",
       "physics      711\n",
       "astro-ph     700\n",
       "quant-ph     521\n",
       "eess         485\n",
       "hep          453\n",
       "stat         229\n",
       "gr-qc        190\n",
       "nucl         101\n",
       "q-bio         86\n",
       "econ          79\n",
       "nlin          47\n",
       "math-ph       43\n",
       "q-fin         43\n",
       "Name: count, dtype: int64"
      ]
     },
     "execution_count": 3,
     "metadata": {},
     "output_type": "execute_result"
    }
   ],
   "source": [
    "stream_df[\"label\"].value_counts()\n"
   ]
  },
  {
   "cell_type": "code",
   "execution_count": 4,
   "id": "8375ca95",
   "metadata": {},
   "outputs": [
    {
     "data": {
      "text/plain": [
       "label\n",
       "cs          3323\n",
       "math        1339\n",
       "cond-mat     556\n",
       "physics      498\n",
       "astro-ph     490\n",
       "quant-ph     365\n",
       "eess         340\n",
       "hep          317\n",
       "stat         160\n",
       "gr-qc        133\n",
       "nucl          71\n",
       "q-bio         60\n",
       "econ          55\n",
       "nlin          33\n",
       "q-fin         30\n",
       "math-ph       30\n",
       "Name: count, dtype: int64"
      ]
     },
     "execution_count": 4,
     "metadata": {},
     "output_type": "execute_result"
    }
   ],
   "source": [
    "train_df, temp_df = train_test_split(\n",
    "    stream_df, \n",
    "    test_size=0.3,\n",
    "    stratify=stream_df[\"label\"],\n",
    "    random_state=42\n",
    ")\n",
    "\n",
    "val_df, test_df = train_test_split(\n",
    "    temp_df,\n",
    "    test_size=0.5,\n",
    "    stratify=temp_df[\"label\"],\n",
    "    random_state=42\n",
    ")\n",
    "\n",
    "train_df[\"label\"].value_counts()"
   ]
  },
  {
   "cell_type": "code",
   "execution_count": 5,
   "id": "5655e681",
   "metadata": {},
   "outputs": [],
   "source": [
    "aux_data = load_dataset(\"real-jiakai/arxiver-with-category\")\n",
    "\n",
    "aux_data.set_format(type=\"pandas\")\n",
    "aux_df = aux_data[\"train\"][:]\n",
    "aux_df[\"label\"] = aux_df[\"primary_category\"].apply(map_category)\n",
    "aux_df[\"title\"] = aux_df[\"title\"].str.replace(\"\\n  \", \" \")\n",
    "aux_df[\"text\"] = aux_df[\"title\"] + \"\\n\" + aux_df[\"abstract\"]\n",
    "aux_df = aux_df[[\"text\", \"label\"]]\n"
   ]
  },
  {
   "cell_type": "code",
   "execution_count": 6,
   "id": "4bda8c02",
   "metadata": {},
   "outputs": [
    {
     "data": {
      "text/plain": [
       "label\n",
       "cs          26733\n",
       "math         9611\n",
       "cond-mat     4660\n",
       "astro-ph     4453\n",
       "physics      4163\n",
       "quant-ph     2930\n",
       "hep          2900\n",
       "eess         2839\n",
       "stat         1546\n",
       "gr-qc        1187\n",
       "q-bio         677\n",
       "nucl          512\n",
       "math-ph       365\n",
       "econ          288\n",
       "nlin          262\n",
       "q-fin         231\n",
       "Name: count, dtype: int64"
      ]
     },
     "execution_count": 6,
     "metadata": {},
     "output_type": "execute_result"
    }
   ],
   "source": [
    "aux_df[\"label\"].value_counts()\n"
   ]
  },
  {
   "cell_type": "code",
   "execution_count": 7,
   "id": "d9d2bc23",
   "metadata": {},
   "outputs": [],
   "source": [
    "train_counts = train_df[\"label\"].value_counts()\n",
    "aux_counts = aux_df[\"label\"].value_counts()\n",
    "\n",
    "TARGET_CLASS_SIZE = 500\n",
    "\n",
    "samples_to_take = {}\n",
    "\n",
    "for label in train_counts.index.union(aux_counts.index):\n",
    "    train_count = train_counts.get(label, 0)\n",
    "    aux_count = aux_counts.get(label, 0)\n",
    "    \n",
    "    desired = min(TARGET_CLASS_SIZE, train_count + aux_count)\n",
    "    need = desired - train_count\n",
    "    take = min(need, aux_count)\n",
    "    samples_to_take[label] = max(take, 0)  # avoid negatives\n"
   ]
  },
  {
   "cell_type": "code",
   "execution_count": 9,
   "id": "df3de0f7",
   "metadata": {},
   "outputs": [
    {
     "data": {
      "text/plain": [
       "{'astro-ph': np.int64(10),\n",
       " 'cond-mat': 0,\n",
       " 'cs': 0,\n",
       " 'econ': np.int64(288),\n",
       " 'eess': np.int64(160),\n",
       " 'gr-qc': np.int64(367),\n",
       " 'hep': np.int64(183),\n",
       " 'math': 0,\n",
       " 'math-ph': np.int64(365),\n",
       " 'nlin': np.int64(262),\n",
       " 'nucl': np.int64(429),\n",
       " 'physics': np.int64(2),\n",
       " 'q-bio': np.int64(440),\n",
       " 'q-fin': np.int64(231),\n",
       " 'quant-ph': np.int64(135),\n",
       " 'stat': np.int64(340)}"
      ]
     },
     "execution_count": 9,
     "metadata": {},
     "output_type": "execute_result"
    }
   ],
   "source": [
    "samples_to_take"
   ]
  },
  {
   "cell_type": "code",
   "execution_count": 10,
   "id": "83a32fa8",
   "metadata": {},
   "outputs": [
    {
     "data": {
      "text/plain": [
       "label\n",
       "cs          3323\n",
       "math        1339\n",
       "cond-mat     556\n",
       "physics      500\n",
       "q-bio        500\n",
       "astro-ph     500\n",
       "quant-ph     500\n",
       "hep          500\n",
       "nucl         500\n",
       "eess         500\n",
       "stat         500\n",
       "gr-qc        500\n",
       "math-ph      395\n",
       "econ         343\n",
       "nlin         295\n",
       "q-fin        261\n",
       "Name: count, dtype: int64"
      ]
     },
     "execution_count": 10,
     "metadata": {},
     "output_type": "execute_result"
    }
   ],
   "source": [
    "sampled_aux = []\n",
    "\n",
    "for label, take_n in samples_to_take.items():\n",
    "    if take_n > 0:\n",
    "        class_subset = aux_df[aux_df[\"label\"] == label]\n",
    "        sampled = class_subset.sample(n=take_n, random_state=42)\n",
    "        sampled_aux.append(sampled)\n",
    "\n",
    "aug_aux_df = pd.concat(sampled_aux, ignore_index=True)\n",
    "\n",
    "aug_train_df = pd.concat([train_df, aug_aux_df], ignore_index=True)\n",
    "\n",
    "aug_train_df[\"label\"].value_counts()\n"
   ]
  },
  {
   "cell_type": "code",
   "execution_count": 11,
   "id": "3c28389e",
   "metadata": {},
   "outputs": [],
   "source": [
    "# sub_aux_df = aux_df.loc[aux_df[\"label\"].isin([\"econ\", \"nlin\", \"nucl-ex\", \"q-bio\",\"hep-lat\", \"hep-ex\", \"math-ph\", \"nucl-th\",\"q-fin\", \"hep-th\"])]\n"
   ]
  },
  {
   "cell_type": "code",
   "execution_count": 12,
   "id": "14dbc57d",
   "metadata": {},
   "outputs": [],
   "source": [
    "# sub_aux_df[\"label\"].value_counts()\n"
   ]
  },
  {
   "cell_type": "code",
   "execution_count": 13,
   "id": "a2e39203",
   "metadata": {},
   "outputs": [
    {
     "name": "stdout",
     "output_type": "stream",
     "text": [
      "Shape after augmentation: (11012, 2)\n"
     ]
    },
    {
     "data": {
      "text/plain": [
       "label\n",
       "cs          3323\n",
       "math        1339\n",
       "cond-mat     556\n",
       "physics      500\n",
       "q-bio        500\n",
       "astro-ph     500\n",
       "quant-ph     500\n",
       "hep          500\n",
       "nucl         500\n",
       "eess         500\n",
       "stat         500\n",
       "gr-qc        500\n",
       "math-ph      395\n",
       "econ         343\n",
       "nlin         295\n",
       "q-fin        261\n",
       "Name: count, dtype: int64"
      ]
     },
     "execution_count": 13,
     "metadata": {},
     "output_type": "execute_result"
    }
   ],
   "source": [
    "# aug_train_df = pd.concat([train_df, sub_aux_df])\n",
    "print(f\"Shape after augmentation: {aug_train_df.shape}\")\n",
    "aug_train_df[\"label\"].value_counts()\n"
   ]
  },
  {
   "cell_type": "code",
   "execution_count": 14,
   "id": "08fc56ad",
   "metadata": {},
   "outputs": [
    {
     "data": {
      "application/vnd.jupyter.widget-view+json": {
       "model_id": "45e216e1b361466397b0097967a8920f",
       "version_major": 2,
       "version_minor": 0
      },
      "text/plain": [
       "Casting the dataset:   0%|          | 0/11012 [00:00<?, ? examples/s]"
      ]
     },
     "metadata": {},
     "output_type": "display_data"
    },
    {
     "data": {
      "application/vnd.jupyter.widget-view+json": {
       "model_id": "b0b701870acd419db7fcdb0e123aa677",
       "version_major": 2,
       "version_minor": 0
      },
      "text/plain": [
       "Casting the dataset:   0%|          | 0/1671 [00:00<?, ? examples/s]"
      ]
     },
     "metadata": {},
     "output_type": "display_data"
    },
    {
     "data": {
      "application/vnd.jupyter.widget-view+json": {
       "model_id": "ce61fb036e7d440fb774e64398805e1b",
       "version_major": 2,
       "version_minor": 0
      },
      "text/plain": [
       "Casting the dataset:   0%|          | 0/1672 [00:00<?, ? examples/s]"
      ]
     },
     "metadata": {},
     "output_type": "display_data"
    },
    {
     "data": {
      "application/vnd.jupyter.widget-view+json": {
       "model_id": "31e0afe3181b4c2c829406fe33a708e0",
       "version_major": 2,
       "version_minor": 0
      },
      "text/plain": [
       "Saving the dataset (0/1 shards):   0%|          | 0/11012 [00:00<?, ? examples/s]"
      ]
     },
     "metadata": {},
     "output_type": "display_data"
    },
    {
     "data": {
      "application/vnd.jupyter.widget-view+json": {
       "model_id": "50670844ebd44397af81084adaa331c4",
       "version_major": 2,
       "version_minor": 0
      },
      "text/plain": [
       "Saving the dataset (0/1 shards):   0%|          | 0/1671 [00:00<?, ? examples/s]"
      ]
     },
     "metadata": {},
     "output_type": "display_data"
    },
    {
     "data": {
      "application/vnd.jupyter.widget-view+json": {
       "model_id": "8768ed18401d458bb85ef7eb90e04bcb",
       "version_major": 2,
       "version_minor": 0
      },
      "text/plain": [
       "Saving the dataset (0/1 shards):   0%|          | 0/1672 [00:00<?, ? examples/s]"
      ]
     },
     "metadata": {},
     "output_type": "display_data"
    }
   ],
   "source": [
    "aug_stream_data = DatasetDict({\n",
    "    \"train\": Dataset.from_pandas(aug_train_df, preserve_index=False),\n",
    "    \"validation\": Dataset.from_pandas(val_df, preserve_index=False),\n",
    "    \"test\": Dataset.from_pandas(test_df, preserve_index=False)\n",
    "})\n",
    "\n",
    "labels = sorted(aug_train_df[\"label\"].unique())\n",
    "class_label = ClassLabel(names=labels)\n",
    "\n",
    "aug_stream_data = aug_stream_data.cast_column(\"label\", class_label)\n",
    "\n",
    "aug_stream_data.save_to_disk(\"data/processed/aug_stream_data\")\n"
   ]
  }
 ],
 "metadata": {
  "kernelspec": {
   "display_name": ".venv",
   "language": "python",
   "name": "python3"
  },
  "language_info": {
   "codemirror_mode": {
    "name": "ipython",
    "version": 3
   },
   "file_extension": ".py",
   "mimetype": "text/x-python",
   "name": "python",
   "nbconvert_exporter": "python",
   "pygments_lexer": "ipython3",
   "version": "3.11.12"
  }
 },
 "nbformat": 4,
 "nbformat_minor": 5
}
