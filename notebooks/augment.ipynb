{
 "cells": [
  {
   "cell_type": "code",
   "execution_count": null,
   "id": "a50360ff",
   "metadata": {},
   "outputs": [],
   "source": [
    "from datasets import DatasetDict, Dataset, ClassLabel, load_dataset\n",
    "import pandas as pd\n",
    "import glob\n",
    "from sklearn.model_selection import train_test_split\n",
    "from src.utils import map_category\n"
   ]
  },
  {
   "cell_type": "code",
   "execution_count": 2,
   "id": "d4ae0ebd",
   "metadata": {},
   "outputs": [],
   "source": [
    "data_path = \"data/interim/part-*.json\"\n",
    "json_files = glob.glob(data_path)\n",
    "stream_df = pd.concat([pd.read_json(file, lines=True) for file in json_files], ignore_index=True)\n",
    "\n",
    "stream_df[\"label\"] = stream_df[\"main_category\"].apply(map_category)\n",
    "stream_df[\"text\"] = stream_df[\"title\"] + \"\\n\" + stream_df[\"summary\"]\n",
    "stream_df = stream_df[[\"text\", \"label\"]]\n"
   ]
  },
  {
   "cell_type": "code",
   "execution_count": 3,
   "id": "b92bd3a8",
   "metadata": {},
   "outputs": [
    {
     "data": {
      "text/plain": [
       "label\n",
       "cs          4747\n",
       "math        1913\n",
       "cond-mat     795\n",
       "physics      711\n",
       "astro-ph     700\n",
       "quant-ph     521\n",
       "eess         485\n",
       "stat         229\n",
       "hep-ph       223\n",
       "gr-qc        190\n",
       "hep-th       154\n",
       "q-bio         86\n",
       "econ          79\n",
       "nucl-th       72\n",
       "hep-ex        50\n",
       "nlin          47\n",
       "math-ph       43\n",
       "q-fin         43\n",
       "nucl-ex       29\n",
       "hep-lat       26\n",
       "Name: count, dtype: int64"
      ]
     },
     "execution_count": 3,
     "metadata": {},
     "output_type": "execute_result"
    }
   ],
   "source": [
    "stream_df[\"label\"].value_counts()\n"
   ]
  },
  {
   "cell_type": "code",
   "execution_count": 4,
   "id": "8375ca95",
   "metadata": {},
   "outputs": [],
   "source": [
    "train_df, temp_df = train_test_split(\n",
    "    stream_df, \n",
    "    test_size=0.3,\n",
    "    stratify=stream_df[\"label\"],\n",
    "    random_state=42\n",
    ")\n",
    "\n",
    "val_df, test_df = train_test_split(\n",
    "    temp_df,\n",
    "    test_size=0.5,\n",
    "    stratify=temp_df[\"label\"],\n",
    "    random_state=42\n",
    ")\n"
   ]
  },
  {
   "cell_type": "code",
   "execution_count": 8,
   "id": "5655e681",
   "metadata": {},
   "outputs": [],
   "source": [
    "aux_data = load_dataset(\"real-jiakai/arxiver-with-category\")\n",
    "\n",
    "aux_data.set_format(type=\"pandas\")\n",
    "aux_df = aux_data[\"train\"][:]\n",
    "aux_df[\"label\"] = aux_df[\"primary_category\"].apply(map_category)\n",
    "aux_df[\"text\"] = aux_df[\"title\"] + \"\\n\" + aux_df[\"abstract\"]\n",
    "aux_df = aux_df[[\"text\", \"label\"]]\n"
   ]
  },
  {
   "cell_type": "code",
   "execution_count": 9,
   "id": "4bda8c02",
   "metadata": {},
   "outputs": [
    {
     "data": {
      "text/plain": [
       "label\n",
       "cs          26733\n",
       "math         9611\n",
       "cond-mat     4660\n",
       "astro-ph     4453\n",
       "physics      4163\n",
       "quant-ph     2930\n",
       "eess         2839\n",
       "hep-ph       1642\n",
       "stat         1546\n",
       "gr-qc        1187\n",
       "hep-th        918\n",
       "q-bio         677\n",
       "nucl-th       412\n",
       "math-ph       365\n",
       "econ          288\n",
       "nlin          262\n",
       "q-fin         231\n",
       "hep-ex        203\n",
       "hep-lat       137\n",
       "nucl-ex       100\n",
       "Name: count, dtype: int64"
      ]
     },
     "execution_count": 9,
     "metadata": {},
     "output_type": "execute_result"
    }
   ],
   "source": [
    "aux_df[\"label\"].value_counts()\n"
   ]
  },
  {
   "cell_type": "code",
   "execution_count": 12,
   "id": "3c28389e",
   "metadata": {},
   "outputs": [],
   "source": [
    "# sub_aux_df = aux_df.isin({\"label\": [\"econ\"]})\n",
    "sub_aux_df = aux_df.loc[aux_df[\"label\"].isin([\"econ\", \"nlin\", \"nucl-ex\", \"q-bio\", \"hep-lat\", \"hep-ex\", \"math-ph\", \"nucl-th\",\"q-fin\"])]\n"
   ]
  },
  {
   "cell_type": "code",
   "execution_count": 13,
   "id": "14dbc57d",
   "metadata": {},
   "outputs": [
    {
     "data": {
      "text/plain": [
       "label\n",
       "q-bio      677\n",
       "nucl-th    412\n",
       "math-ph    365\n",
       "econ       288\n",
       "nlin       262\n",
       "q-fin      231\n",
       "hep-ex     203\n",
       "hep-lat    137\n",
       "nucl-ex    100\n",
       "Name: count, dtype: int64"
      ]
     },
     "execution_count": 13,
     "metadata": {},
     "output_type": "execute_result"
    }
   ],
   "source": [
    "sub_aux_df[\"label\"].value_counts()\n"
   ]
  },
  {
   "cell_type": "code",
   "execution_count": 14,
   "id": "a2e39203",
   "metadata": {},
   "outputs": [
    {
     "name": "stdout",
     "output_type": "stream",
     "text": [
      "Shape after augmentation: (10475, 2)\n"
     ]
    },
    {
     "data": {
      "text/plain": [
       "label\n",
       "cs          3323\n",
       "math        1339\n",
       "q-bio        737\n",
       "cond-mat     557\n",
       "physics      498\n",
       "astro-ph     490\n",
       "nucl-th      462\n",
       "math-ph      395\n",
       "quant-ph     365\n",
       "econ         343\n",
       "eess         340\n",
       "nlin         295\n",
       "q-fin        261\n",
       "hep-ex       238\n",
       "stat         160\n",
       "hep-ph       156\n",
       "hep-lat      155\n",
       "gr-qc        133\n",
       "nucl-ex      120\n",
       "hep-th       108\n",
       "Name: count, dtype: int64"
      ]
     },
     "execution_count": 14,
     "metadata": {},
     "output_type": "execute_result"
    }
   ],
   "source": [
    "aug_train_df = pd.concat([train_df, sub_aux_df])\n",
    "print(f\"Shape after augmentation: {aug_train_df.shape}\")\n",
    "aug_train_df[\"label\"].value_counts()\n"
   ]
  },
  {
   "cell_type": "code",
   "execution_count": 15,
   "id": "08fc56ad",
   "metadata": {},
   "outputs": [
    {
     "data": {
      "application/vnd.jupyter.widget-view+json": {
       "model_id": "6992784aec7440a0b9b1c7a674e566a0",
       "version_major": 2,
       "version_minor": 0
      },
      "text/plain": [
       "Casting the dataset:   0%|          | 0/10475 [00:00<?, ? examples/s]"
      ]
     },
     "metadata": {},
     "output_type": "display_data"
    },
    {
     "data": {
      "application/vnd.jupyter.widget-view+json": {
       "model_id": "19a8a142ee8a4d19bf58eda911720012",
       "version_major": 2,
       "version_minor": 0
      },
      "text/plain": [
       "Casting the dataset:   0%|          | 0/1671 [00:00<?, ? examples/s]"
      ]
     },
     "metadata": {},
     "output_type": "display_data"
    },
    {
     "data": {
      "application/vnd.jupyter.widget-view+json": {
       "model_id": "9d148ba852bb4edd9aa1700e1f9be9ca",
       "version_major": 2,
       "version_minor": 0
      },
      "text/plain": [
       "Casting the dataset:   0%|          | 0/1672 [00:00<?, ? examples/s]"
      ]
     },
     "metadata": {},
     "output_type": "display_data"
    },
    {
     "data": {
      "application/vnd.jupyter.widget-view+json": {
       "model_id": "583b72198444435ead6d3e1da8b685fa",
       "version_major": 2,
       "version_minor": 0
      },
      "text/plain": [
       "Saving the dataset (0/1 shards):   0%|          | 0/10475 [00:00<?, ? examples/s]"
      ]
     },
     "metadata": {},
     "output_type": "display_data"
    },
    {
     "data": {
      "application/vnd.jupyter.widget-view+json": {
       "model_id": "daec8d285edd4b00bc73eb01d65cead2",
       "version_major": 2,
       "version_minor": 0
      },
      "text/plain": [
       "Saving the dataset (0/1 shards):   0%|          | 0/1671 [00:00<?, ? examples/s]"
      ]
     },
     "metadata": {},
     "output_type": "display_data"
    },
    {
     "data": {
      "application/vnd.jupyter.widget-view+json": {
       "model_id": "3df3168515d444bf9c538907aa40aa99",
       "version_major": 2,
       "version_minor": 0
      },
      "text/plain": [
       "Saving the dataset (0/1 shards):   0%|          | 0/1672 [00:00<?, ? examples/s]"
      ]
     },
     "metadata": {},
     "output_type": "display_data"
    }
   ],
   "source": [
    "aug_stream_data = DatasetDict({\n",
    "    \"train\": Dataset.from_pandas(aug_train_df, preserve_index=False),\n",
    "    \"validation\": Dataset.from_pandas(val_df, preserve_index=False),\n",
    "    \"test\": Dataset.from_pandas(test_df, preserve_index=False)\n",
    "})\n",
    "\n",
    "labels = sorted(aug_train_df[\"label\"].unique())\n",
    "class_label = ClassLabel(names=labels)\n",
    "\n",
    "aug_stream_data = aug_stream_data.cast_column(\"label\", class_label)\n",
    "\n",
    "aug_stream_data.save_to_disk(\"data/processed/aug_stream_data\")\n"
   ]
  }
 ],
 "metadata": {
  "kernelspec": {
   "display_name": ".venv",
   "language": "python",
   "name": "python3"
  },
  "language_info": {
   "codemirror_mode": {
    "name": "ipython",
    "version": 3
   },
   "file_extension": ".py",
   "mimetype": "text/x-python",
   "name": "python",
   "nbconvert_exporter": "python",
   "pygments_lexer": "ipython3",
   "version": "3.11.12"
  }
 },
 "nbformat": 4,
 "nbformat_minor": 5
}
