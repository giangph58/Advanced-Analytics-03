{
 "cells": [
  {
   "cell_type": "markdown",
   "id": "9b15ed7a",
   "metadata": {},
   "source": [
    "Attempt to finetune DistilBERT-base-uncased for Arxiv papers multiclassification:\n",
    "- Prepare dataset\n",
    "- Tokenize\n",
    "- Load model\n",
    "- Define metrics\n",
    "- Define Trainer object and TrainingArguments\n",
    "- Evaluate predictions\n",
    "- Error analysis\n"
   ]
  },
  {
   "cell_type": "code",
   "execution_count": null,
   "id": "b7e6a904",
   "metadata": {},
   "outputs": [],
   "source": [
    "import pandas as pd\n",
    "import numpy as np\n",
    "from datasets import load_from_disk\n",
    "\n",
    "all_stream_data = load_from_disk(\"data/processed/all_stream_data\")\n"
   ]
  },
  {
   "cell_type": "code",
   "execution_count": null,
   "id": "dcedb1c8",
   "metadata": {},
   "outputs": [],
   "source": [
    "print(all_stream_data)\n"
   ]
  },
  {
   "cell_type": "code",
   "execution_count": null,
   "id": "5e0073c4",
   "metadata": {},
   "outputs": [],
   "source": [
    "from datasets import concatenate_datasets\n",
    "\n",
    "full_dataset = concatenate_datasets(\n",
    "    [\n",
    "        all_stream_data[\"train\"],\n",
    "        all_stream_data[\"validation\"],\n",
    "        all_stream_data[\"test\"],\n",
    "    ]\n",
    ")\n"
   ]
  },
  {
   "cell_type": "code",
   "execution_count": null,
   "id": "e485d78c",
   "metadata": {},
   "outputs": [],
   "source": [
    "from transformers import AutoTokenizer\n",
    "import torch\n",
    "\n",
    "model_id = \"allenai/scibert_scivocab_uncased\"\n",
    "device = torch.device(\"cuda\" if torch.cuda.is_available() else \"cpu\")\n",
    "tokenizer = AutoTokenizer.from_pretrained(model_id)\n",
    "\n",
    "def tokenize(batch):\n",
    "    return tokenizer(batch[\"text\"], padding=True, truncation=True, max_length=256)\n"
   ]
  },
  {
   "cell_type": "code",
   "execution_count": null,
   "id": "67b863bb",
   "metadata": {},
   "outputs": [],
   "source": [
    "full_dataset = full_dataset.map(tokenize, batched=True, batch_size=None)\n"
   ]
  },
  {
   "cell_type": "code",
   "execution_count": null,
   "id": "ecee4604",
   "metadata": {},
   "outputs": [],
   "source": [
    "labels = full_dataset.features[\"label\"].names\n",
    "labels\n"
   ]
  },
  {
   "cell_type": "code",
   "execution_count": null,
   "id": "751e9b7e",
   "metadata": {},
   "outputs": [],
   "source": [
    "from transformers import AutoModelForSequenceClassification\n",
    "\n",
    "num_labels = len(labels)\n",
    "model = (AutoModelForSequenceClassification\n",
    "        .from_pretrained(model_id, num_labels=num_labels)\n",
    "        .to(device))\n"
   ]
  },
  {
   "cell_type": "code",
   "execution_count": null,
   "id": "d0cb20ae",
   "metadata": {},
   "outputs": [],
   "source": [
    "from huggingface_hub import notebook_login\n",
    "notebook_login()\n"
   ]
  },
  {
   "cell_type": "code",
   "execution_count": null,
   "id": "83f13169",
   "metadata": {},
   "outputs": [],
   "source": [
    "from transformers import Trainer, TrainingArguments, EarlyStoppingCallback\n",
    "from sklearn.metrics import balanced_accuracy_score, f1_score\n",
    "\n",
    "batch_size = 32\n",
    "num_train_epochs = 2\n",
    "learning_rate = 1e-5\n",
    "logging_steps = len(full_dataset) // batch_size\n",
    "model_name = f\"./models/scibert-finetuned-arxiv-final\"\n",
    "training_args = TrainingArguments(output_dir=model_name,\n",
    "                                  overwrite_output_dir=True,\n",
    "                                  num_train_epochs=num_train_epochs,\n",
    "                                  learning_rate=learning_rate,\n",
    "                                  per_device_train_batch_size=batch_size,\n",
    "                                  weight_decay=0.01,\n",
    "                                  warmup_steps=300,\n",
    "                                  fp16=True,\n",
    "                                  eval_strategy=\"no\",\n",
    "                                  save_steps=300,\n",
    "                                  save_strategy=\"steps\",\n",
    "                                  save_total_limit=5,\n",
    "                                  disable_tqdm=False,\n",
    "                                  logging_steps=logging_steps,\n",
    "                                  load_best_model_at_end=False,\n",
    "                                  metric_for_best_model=\"macro_f1\",\n",
    "                                  greater_is_better=True,\n",
    "                                  push_to_hub=True,\n",
    "                                  label_smoothing_factor=0.1,\n",
    "                                  log_level=\"error\")\n",
    "\n",
    "def compute_metrics(pred):\n",
    "    labels = pred.label_ids\n",
    "    preds = pred.predictions.argmax(-1)\n",
    "    macro_f1 = f1_score(labels, preds, average=\"macro\")\n",
    "    balanced_accuracy = balanced_accuracy_score(labels, preds)\n",
    "    return {\"macro_f1\": macro_f1, \"balanced_accuracy\": balanced_accuracy}\n"
   ]
  },
  {
   "cell_type": "code",
   "execution_count": null,
   "id": "9ebc14f0",
   "metadata": {},
   "outputs": [],
   "source": [
    "from sklearn.utils.class_weight import compute_class_weight\n",
    "\n",
    "# Calculate class weights\n",
    "train_labels = np.array(full_dataset[\"label\"])\n",
    "class_weights = compute_class_weight(\n",
    "    class_weight=\"balanced\",\n",
    "    classes=np.unique(train_labels),\n",
    "    y=train_labels\n",
    ")\n",
    "\n",
    "# Convert to PyTorch tensor and move to the right device\n",
    "class_weights = torch.tensor(class_weights, dtype=torch.float).to(model.device)\n",
    "\n",
    "class CustomTrainer(Trainer):\n",
    "    def __init__(self, class_weights=None, *args, **kwargs):\n",
    "        super().__init__(*args, **kwargs)\n",
    "        self.class_weights = class_weights\n",
    "        \n",
    "    def compute_loss(self, model, inputs, return_outputs=False, **kwargs):\n",
    "        labels = inputs.pop(\"labels\")\n",
    "        outputs = model(**inputs)\n",
    "        logits = outputs.logits\n",
    "        \n",
    "        # Apply class weights to the loss\n",
    "        loss_fct = torch.nn.CrossEntropyLoss(weight=self.class_weights)\n",
    "        loss = loss_fct(logits.view(-1, model.config.num_labels), labels.view(-1))\n",
    "        \n",
    "        return (loss, outputs) if return_outputs else loss\n"
   ]
  },
  {
   "cell_type": "code",
   "execution_count": null,
   "id": "9b1871a6",
   "metadata": {},
   "outputs": [],
   "source": [
    "trainer = CustomTrainer(\n",
    "    class_weights=class_weights,\n",
    "    model=model, \n",
    "    args=training_args,\n",
    "    compute_metrics=compute_metrics,\n",
    "    train_dataset=full_dataset,\n",
    "    eval_dataset=None,\n",
    "    processing_class=tokenizer,\n",
    "    # callbacks=[EarlyStoppingCallback(early_stopping_patience=5)]\n",
    ")\n",
    "\n",
    "trainer.train()\n"
   ]
  },
  {
   "cell_type": "code",
   "execution_count": null,
   "id": "17a06ec7",
   "metadata": {},
   "outputs": [],
   "source": [
    "preds_output = trainer.predict(eval_dataset)\n"
   ]
  },
  {
   "cell_type": "code",
   "execution_count": null,
   "id": "9b8e6d09",
   "metadata": {},
   "outputs": [],
   "source": [
    "preds_output.metrics\n"
   ]
  },
  {
   "cell_type": "code",
   "execution_count": null,
   "id": "7459cd9a",
   "metadata": {},
   "outputs": [],
   "source": [
    "y_preds = np.argmax(preds_output.predictions, axis=1)\n"
   ]
  },
  {
   "cell_type": "code",
   "execution_count": null,
   "id": "a5c4e1e3",
   "metadata": {},
   "outputs": [],
   "source": [
    "from src.utils import plot_confusion_matrix\n",
    "\n",
    "plot_confusion_matrix(y_preds, y_valid, labels)\n"
   ]
  },
  {
   "cell_type": "code",
   "execution_count": null,
   "id": "ed04e90f",
   "metadata": {},
   "outputs": [],
   "source": [
    "from sklearn.metrics import classification_report\n",
    "\n",
    "print(classification_report(y_valid, y_preds, target_names=labels))\n"
   ]
  }
 ],
 "metadata": {
  "kernelspec": {
   "display_name": ".venv",
   "language": "python",
   "name": "python3"
  },
  "language_info": {
   "codemirror_mode": {
    "name": "ipython",
    "version": 3
   },
   "file_extension": ".py",
   "mimetype": "text/x-python",
   "name": "python",
   "nbconvert_exporter": "python",
   "pygments_lexer": "ipython3",
   "version": "3.11.11"
  }
 },
 "nbformat": 4,
 "nbformat_minor": 5
}
