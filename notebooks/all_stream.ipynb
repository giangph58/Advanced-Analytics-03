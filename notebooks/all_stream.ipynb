{
 "cells": [
  {
   "cell_type": "code",
   "execution_count": 1,
   "id": "a50360ff",
   "metadata": {},
   "outputs": [],
   "source": [
    "from datasets import DatasetDict, Dataset, ClassLabel, load_dataset\n",
    "import pandas as pd\n",
    "import glob\n",
    "from sklearn.model_selection import train_test_split\n",
    "from src.utils import map_category\n"
   ]
  },
  {
   "cell_type": "code",
   "execution_count": 2,
   "id": "d4ae0ebd",
   "metadata": {},
   "outputs": [],
   "source": [
    "data_path = \"data/interim/part-*.json\"\n",
    "json_files = glob.glob(data_path)\n",
    "stream_df = pd.concat([pd.read_json(file, lines=True) for file in json_files], ignore_index=True)\n",
    "\n",
    "stream_df[\"label\"] = stream_df[\"main_category\"].apply(map_category)\n",
    "stream_df[\"text\"] = stream_df[\"title\"] + \"\\n\" + stream_df[\"summary\"]\n",
    "stream_df = stream_df[[\"text\", \"label\"]]\n"
   ]
  },
  {
   "cell_type": "code",
   "execution_count": 3,
   "id": "b92bd3a8",
   "metadata": {},
   "outputs": [
    {
     "data": {
      "text/plain": [
       "label\n",
       "cs          4747\n",
       "math        1913\n",
       "cond-mat     795\n",
       "physics      711\n",
       "astro-ph     700\n",
       "quant-ph     521\n",
       "eess         485\n",
       "hep          453\n",
       "stat         229\n",
       "gr-qc        190\n",
       "nucl         101\n",
       "q-bio         86\n",
       "econ          79\n",
       "nlin          47\n",
       "math-ph       43\n",
       "q-fin         43\n",
       "Name: count, dtype: int64"
      ]
     },
     "execution_count": 3,
     "metadata": {},
     "output_type": "execute_result"
    }
   ],
   "source": [
    "stream_df[\"label\"].value_counts()\n"
   ]
  },
  {
   "cell_type": "code",
   "execution_count": 4,
   "id": "8375ca95",
   "metadata": {},
   "outputs": [
    {
     "data": {
      "text/plain": [
       "label\n",
       "cs          3323\n",
       "math        1339\n",
       "cond-mat     556\n",
       "physics      498\n",
       "astro-ph     490\n",
       "quant-ph     365\n",
       "eess         340\n",
       "hep          317\n",
       "stat         160\n",
       "gr-qc        133\n",
       "nucl          71\n",
       "q-bio         60\n",
       "econ          55\n",
       "nlin          33\n",
       "q-fin         30\n",
       "math-ph       30\n",
       "Name: count, dtype: int64"
      ]
     },
     "execution_count": 4,
     "metadata": {},
     "output_type": "execute_result"
    }
   ],
   "source": [
    "train_df, temp_df = train_test_split(\n",
    "    stream_df, \n",
    "    test_size=0.3,\n",
    "    stratify=stream_df[\"label\"],\n",
    "    random_state=42\n",
    ")\n",
    "\n",
    "val_df, test_df = train_test_split(\n",
    "    temp_df,\n",
    "    test_size=0.5,\n",
    "    stratify=temp_df[\"label\"],\n",
    "    random_state=42\n",
    ")\n",
    "\n",
    "train_df[\"label\"].value_counts()"
   ]
  },
  {
   "cell_type": "code",
   "execution_count": 5,
   "id": "5655e681",
   "metadata": {},
   "outputs": [],
   "source": [
    "aux_data = load_dataset(\"real-jiakai/arxiver-with-category\")\n",
    "\n",
    "aux_data.set_format(type=\"pandas\")\n",
    "aux_df = aux_data[\"train\"][:]\n",
    "aux_df[\"label\"] = aux_df[\"primary_category\"].apply(map_category)\n",
    "aux_df[\"title\"] = aux_df[\"title\"].str.replace(\"\\n  \", \" \")\n",
    "aux_df[\"text\"] = aux_df[\"title\"] + \"\\n\" + aux_df[\"abstract\"]\n",
    "aux_df = aux_df[[\"text\", \"label\"]]\n"
   ]
  },
  {
   "cell_type": "code",
   "execution_count": 6,
   "id": "4bda8c02",
   "metadata": {},
   "outputs": [
    {
     "data": {
      "text/plain": [
       "label\n",
       "cs          26733\n",
       "math         9611\n",
       "cond-mat     4660\n",
       "astro-ph     4453\n",
       "physics      4163\n",
       "quant-ph     2930\n",
       "hep          2900\n",
       "eess         2839\n",
       "stat         1546\n",
       "gr-qc        1187\n",
       "q-bio         677\n",
       "nucl          512\n",
       "math-ph       365\n",
       "econ          288\n",
       "nlin          262\n",
       "q-fin         231\n",
       "Name: count, dtype: int64"
      ]
     },
     "execution_count": 6,
     "metadata": {},
     "output_type": "execute_result"
    }
   ],
   "source": [
    "aux_df[\"label\"].value_counts()\n"
   ]
  },
  {
   "cell_type": "code",
   "execution_count": 7,
   "id": "83a32fa8",
   "metadata": {},
   "outputs": [
    {
     "data": {
      "text/plain": [
       "label\n",
       "cs          30056\n",
       "math        10950\n",
       "cond-mat     5216\n",
       "astro-ph     4943\n",
       "physics      4661\n",
       "quant-ph     3295\n",
       "hep          3217\n",
       "eess         3179\n",
       "stat         1706\n",
       "gr-qc        1320\n",
       "q-bio         737\n",
       "nucl          583\n",
       "math-ph       395\n",
       "econ          343\n",
       "nlin          295\n",
       "q-fin         261\n",
       "Name: count, dtype: int64"
      ]
     },
     "execution_count": 7,
     "metadata": {},
     "output_type": "execute_result"
    }
   ],
   "source": [
    "all_train_df = pd.concat([train_df, aux_df], ignore_index=True)\n",
    "\n",
    "all_train_df[\"label\"].value_counts()\n"
   ]
  },
  {
   "cell_type": "code",
   "execution_count": 8,
   "id": "a2e39203",
   "metadata": {},
   "outputs": [
    {
     "name": "stdout",
     "output_type": "stream",
     "text": [
      "Shape after augmentation: (71157, 2)\n"
     ]
    },
    {
     "data": {
      "text/plain": [
       "label\n",
       "cs          30056\n",
       "math        10950\n",
       "cond-mat     5216\n",
       "astro-ph     4943\n",
       "physics      4661\n",
       "quant-ph     3295\n",
       "hep          3217\n",
       "eess         3179\n",
       "stat         1706\n",
       "gr-qc        1320\n",
       "q-bio         737\n",
       "nucl          583\n",
       "math-ph       395\n",
       "econ          343\n",
       "nlin          295\n",
       "q-fin         261\n",
       "Name: count, dtype: int64"
      ]
     },
     "execution_count": 8,
     "metadata": {},
     "output_type": "execute_result"
    }
   ],
   "source": [
    "# aug_train_df = pd.concat([train_df, sub_aux_df])\n",
    "print(f\"Shape after augmentation: {all_train_df.shape}\")\n",
    "all_train_df[\"label\"].value_counts()\n"
   ]
  },
  {
   "cell_type": "code",
   "execution_count": 9,
   "id": "08fc56ad",
   "metadata": {},
   "outputs": [
    {
     "data": {
      "application/vnd.jupyter.widget-view+json": {
       "model_id": "243b9c75d09f42c2850a973d531d52c1",
       "version_major": 2,
       "version_minor": 0
      },
      "text/plain": [
       "Casting the dataset:   0%|          | 0/71157 [00:00<?, ? examples/s]"
      ]
     },
     "metadata": {},
     "output_type": "display_data"
    },
    {
     "data": {
      "application/vnd.jupyter.widget-view+json": {
       "model_id": "0247440814d940d7afc0bff256bb70de",
       "version_major": 2,
       "version_minor": 0
      },
      "text/plain": [
       "Casting the dataset:   0%|          | 0/1671 [00:00<?, ? examples/s]"
      ]
     },
     "metadata": {},
     "output_type": "display_data"
    },
    {
     "data": {
      "application/vnd.jupyter.widget-view+json": {
       "model_id": "e36b423ede6a43edbb9899e8a3b697ce",
       "version_major": 2,
       "version_minor": 0
      },
      "text/plain": [
       "Casting the dataset:   0%|          | 0/1672 [00:00<?, ? examples/s]"
      ]
     },
     "metadata": {},
     "output_type": "display_data"
    },
    {
     "data": {
      "application/vnd.jupyter.widget-view+json": {
       "model_id": "7be3a7e09ad140838c48e87af4f3a6ec",
       "version_major": 2,
       "version_minor": 0
      },
      "text/plain": [
       "Saving the dataset (0/1 shards):   0%|          | 0/71157 [00:00<?, ? examples/s]"
      ]
     },
     "metadata": {},
     "output_type": "display_data"
    },
    {
     "data": {
      "application/vnd.jupyter.widget-view+json": {
       "model_id": "91d772e1198f4be29cb5810366c6a803",
       "version_major": 2,
       "version_minor": 0
      },
      "text/plain": [
       "Saving the dataset (0/1 shards):   0%|          | 0/1671 [00:00<?, ? examples/s]"
      ]
     },
     "metadata": {},
     "output_type": "display_data"
    },
    {
     "data": {
      "application/vnd.jupyter.widget-view+json": {
       "model_id": "cc07a7dfec4941f09ee9cc32d2b1321d",
       "version_major": 2,
       "version_minor": 0
      },
      "text/plain": [
       "Saving the dataset (0/1 shards):   0%|          | 0/1672 [00:00<?, ? examples/s]"
      ]
     },
     "metadata": {},
     "output_type": "display_data"
    }
   ],
   "source": [
    "all_stream_data = DatasetDict({\n",
    "    \"train\": Dataset.from_pandas(all_train_df, preserve_index=False),\n",
    "    \"validation\": Dataset.from_pandas(val_df, preserve_index=False),\n",
    "    \"test\": Dataset.from_pandas(test_df, preserve_index=False)\n",
    "})\n",
    "\n",
    "labels = sorted(all_train_df[\"label\"].unique())\n",
    "class_label = ClassLabel(names=labels)\n",
    "\n",
    "all_stream_data = all_stream_data.cast_column(\"label\", class_label)\n",
    "\n",
    "all_stream_data.save_to_disk(\"data/processed/all_stream_data\")\n"
   ]
  }
 ],
 "metadata": {
  "kernelspec": {
   "display_name": ".venv",
   "language": "python",
   "name": "python3"
  },
  "language_info": {
   "codemirror_mode": {
    "name": "ipython",
    "version": 3
   },
   "file_extension": ".py",
   "mimetype": "text/x-python",
   "name": "python",
   "nbconvert_exporter": "python",
   "pygments_lexer": "ipython3",
   "version": "3.11.12"
  }
 },
 "nbformat": 4,
 "nbformat_minor": 5
}
