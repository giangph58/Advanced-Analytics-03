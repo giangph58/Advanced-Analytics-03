{
 "cells": [
  {
   "cell_type": "code",
   "execution_count": 1,
   "id": "a50360ff",
   "metadata": {},
   "outputs": [],
   "source": [
    "from datasets import DatasetDict, Dataset, ClassLabel, load_dataset\n",
    "import pandas as pd\n",
    "import glob\n",
    "from sklearn.model_selection import train_test_split\n",
    "from src.utils import map_category\n"
   ]
  },
  {
   "cell_type": "code",
   "execution_count": 2,
   "id": "d4ae0ebd",
   "metadata": {},
   "outputs": [],
   "source": [
    "data_path = \"data/interim/part-*.json\"\n",
    "json_files = glob.glob(data_path)\n",
    "stream_df = pd.concat([pd.read_json(file, lines=True) for file in json_files], ignore_index=True)\n",
    "\n",
    "stream_df[\"label\"] = stream_df[\"main_category\"].apply(map_category)\n",
    "stream_df[\"text\"] = stream_df[\"title\"] + \"\\n\" + stream_df[\"summary\"]\n",
    "stream_df = stream_df[[\"text\", \"label\"]]\n"
   ]
  },
  {
   "cell_type": "code",
   "execution_count": 3,
   "id": "b92bd3a8",
   "metadata": {},
   "outputs": [
    {
     "data": {
      "text/plain": [
       "label\n",
       "cs          5458\n",
       "math        2205\n",
       "cond-mat     915\n",
       "physics      822\n",
       "astro-ph     802\n",
       "quant-ph     599\n",
       "eess         565\n",
       "hep          527\n",
       "stat         271\n",
       "gr-qc        213\n",
       "nucl         116\n",
       "q-bio         98\n",
       "econ          93\n",
       "nlin          54\n",
       "math-ph       52\n",
       "q-fin         46\n",
       "Name: count, dtype: int64"
      ]
     },
     "execution_count": 3,
     "metadata": {},
     "output_type": "execute_result"
    }
   ],
   "source": [
    "stream_df[\"label\"].value_counts()\n"
   ]
  },
  {
   "cell_type": "code",
   "execution_count": 4,
   "id": "8375ca95",
   "metadata": {},
   "outputs": [
    {
     "data": {
      "text/plain": [
       "label\n",
       "cs          3821\n",
       "math        1543\n",
       "cond-mat     641\n",
       "physics      575\n",
       "astro-ph     561\n",
       "quant-ph     419\n",
       "eess         396\n",
       "hep          369\n",
       "stat         190\n",
       "gr-qc        149\n",
       "nucl          81\n",
       "q-bio         69\n",
       "econ          65\n",
       "nlin          38\n",
       "math-ph       36\n",
       "q-fin         32\n",
       "Name: count, dtype: int64"
      ]
     },
     "execution_count": 4,
     "metadata": {},
     "output_type": "execute_result"
    }
   ],
   "source": [
    "train_df, temp_df = train_test_split(\n",
    "    stream_df, \n",
    "    test_size=0.3,\n",
    "    stratify=stream_df[\"label\"],\n",
    "    random_state=42\n",
    ")\n",
    "\n",
    "val_df, test_df = train_test_split(\n",
    "    temp_df,\n",
    "    test_size=0.5,\n",
    "    stratify=temp_df[\"label\"],\n",
    "    random_state=42\n",
    ")\n",
    "\n",
    "train_df[\"label\"].value_counts()\n"
   ]
  },
  {
   "cell_type": "code",
   "execution_count": 5,
   "id": "3a78e279",
   "metadata": {},
   "outputs": [
    {
     "data": {
      "text/plain": [
       "DatasetDict({\n",
       "    train: Dataset({\n",
       "        features: ['id', 'title', 'abstract', 'authors', 'published_date', 'link', 'markdown', 'primary_category', 'categories'],\n",
       "        num_rows: 63357\n",
       "    })\n",
       "})"
      ]
     },
     "execution_count": 5,
     "metadata": {},
     "output_type": "execute_result"
    }
   ],
   "source": [
    "aux_data = load_dataset(\"real-jiakai/arxiver-with-category\")\n",
    "aux_data\n"
   ]
  },
  {
   "cell_type": "code",
   "execution_count": 5,
   "id": "5655e681",
   "metadata": {},
   "outputs": [
    {
     "data": {
      "application/vnd.jupyter.widget-view+json": {
       "model_id": "a51da199a01b4bda8c43a89c087cb1db",
       "version_major": 2,
       "version_minor": 0
      },
      "text/plain": [
       "README.md:   0%|          | 0.00/2.54k [00:00<?, ?B/s]"
      ]
     },
     "metadata": {},
     "output_type": "display_data"
    },
    {
     "data": {
      "application/vnd.jupyter.widget-view+json": {
       "model_id": "58337d74950148b2b04f098e4665159a",
       "version_major": 2,
       "version_minor": 0
      },
      "text/plain": [
       "papers.parquet:   0%|          | 0.00/1.44G [00:00<?, ?B/s]"
      ]
     },
     "metadata": {},
     "output_type": "display_data"
    },
    {
     "data": {
      "application/vnd.jupyter.widget-view+json": {
       "model_id": "f63ebb1a1ce041d98b30a895b71bfca9",
       "version_major": 2,
       "version_minor": 0
      },
      "text/plain": [
       "Generating train split:   0%|          | 0/63357 [00:00<?, ? examples/s]"
      ]
     },
     "metadata": {},
     "output_type": "display_data"
    }
   ],
   "source": [
    "aux_data = load_dataset(\"real-jiakai/arxiver-with-category\")\n",
    "\n",
    "aux_data.set_format(type=\"pandas\")\n",
    "aux_df = aux_data[\"train\"][:]\n",
    "aux_df[\"label\"] = aux_df[\"primary_category\"].apply(map_category)\n",
    "aux_df[\"title\"] = aux_df[\"title\"].str.replace(\"\\n  \", \" \")\n",
    "aux_df[\"text\"] = aux_df[\"title\"] + \"\\n\" + aux_df[\"abstract\"]\n",
    "aux_df = aux_df[[\"text\", \"label\"]]\n"
   ]
  },
  {
   "cell_type": "code",
   "execution_count": 6,
   "id": "4bda8c02",
   "metadata": {},
   "outputs": [
    {
     "data": {
      "text/plain": [
       "label\n",
       "cs          26733\n",
       "math         9611\n",
       "cond-mat     4660\n",
       "astro-ph     4453\n",
       "physics      4163\n",
       "quant-ph     2930\n",
       "hep          2900\n",
       "eess         2839\n",
       "stat         1546\n",
       "gr-qc        1187\n",
       "q-bio         677\n",
       "nucl          512\n",
       "math-ph       365\n",
       "econ          288\n",
       "nlin          262\n",
       "q-fin         231\n",
       "Name: count, dtype: int64"
      ]
     },
     "execution_count": 6,
     "metadata": {},
     "output_type": "execute_result"
    }
   ],
   "source": [
    "aux_df[\"label\"].value_counts()\n"
   ]
  },
  {
   "cell_type": "code",
   "execution_count": 7,
   "id": "83a32fa8",
   "metadata": {},
   "outputs": [
    {
     "data": {
      "text/plain": [
       "label\n",
       "cs          30554\n",
       "math        11154\n",
       "cond-mat     5301\n",
       "astro-ph     5014\n",
       "physics      4738\n",
       "quant-ph     3349\n",
       "hep          3269\n",
       "eess         3235\n",
       "stat         1736\n",
       "gr-qc        1336\n",
       "q-bio         746\n",
       "nucl          593\n",
       "math-ph       401\n",
       "econ          353\n",
       "nlin          300\n",
       "q-fin         263\n",
       "Name: count, dtype: int64"
      ]
     },
     "execution_count": 7,
     "metadata": {},
     "output_type": "execute_result"
    }
   ],
   "source": [
    "all_train_df = pd.concat([train_df, aux_df], ignore_index=True)\n",
    "\n",
    "all_train_df[\"label\"].value_counts()\n"
   ]
  },
  {
   "cell_type": "code",
   "execution_count": 8,
   "id": "a2e39203",
   "metadata": {},
   "outputs": [
    {
     "name": "stdout",
     "output_type": "stream",
     "text": [
      "Shape after augmentation: (72342, 2)\n"
     ]
    },
    {
     "data": {
      "text/plain": [
       "label\n",
       "cs          30554\n",
       "math        11154\n",
       "cond-mat     5301\n",
       "astro-ph     5014\n",
       "physics      4738\n",
       "quant-ph     3349\n",
       "hep          3269\n",
       "eess         3235\n",
       "stat         1736\n",
       "gr-qc        1336\n",
       "q-bio         746\n",
       "nucl          593\n",
       "math-ph       401\n",
       "econ          353\n",
       "nlin          300\n",
       "q-fin         263\n",
       "Name: count, dtype: int64"
      ]
     },
     "execution_count": 8,
     "metadata": {},
     "output_type": "execute_result"
    }
   ],
   "source": [
    "# aug_train_df = pd.concat([train_df, sub_aux_df])\n",
    "print(f\"Shape after augmentation: {all_train_df.shape}\")\n",
    "all_train_df[\"label\"].value_counts()\n"
   ]
  },
  {
   "cell_type": "code",
   "execution_count": 9,
   "id": "08fc56ad",
   "metadata": {},
   "outputs": [
    {
     "data": {
      "application/vnd.jupyter.widget-view+json": {
       "model_id": "6277ab22fa8c4feb950377d558cd3c62",
       "version_major": 2,
       "version_minor": 0
      },
      "text/plain": [
       "Casting the dataset:   0%|          | 0/72342 [00:00<?, ? examples/s]"
      ]
     },
     "metadata": {},
     "output_type": "display_data"
    },
    {
     "data": {
      "application/vnd.jupyter.widget-view+json": {
       "model_id": "f2318272aa654b949a3935fe280666ef",
       "version_major": 2,
       "version_minor": 0
      },
      "text/plain": [
       "Casting the dataset:   0%|          | 0/1925 [00:00<?, ? examples/s]"
      ]
     },
     "metadata": {},
     "output_type": "display_data"
    },
    {
     "data": {
      "application/vnd.jupyter.widget-view+json": {
       "model_id": "ac95942535474f199812c812776e7304",
       "version_major": 2,
       "version_minor": 0
      },
      "text/plain": [
       "Casting the dataset:   0%|          | 0/1926 [00:00<?, ? examples/s]"
      ]
     },
     "metadata": {},
     "output_type": "display_data"
    },
    {
     "data": {
      "application/vnd.jupyter.widget-view+json": {
       "model_id": "d99afcc334c04e36bb3023881bd18732",
       "version_major": 2,
       "version_minor": 0
      },
      "text/plain": [
       "Saving the dataset (0/1 shards):   0%|          | 0/72342 [00:00<?, ? examples/s]"
      ]
     },
     "metadata": {},
     "output_type": "display_data"
    },
    {
     "data": {
      "application/vnd.jupyter.widget-view+json": {
       "model_id": "2d26ab9a97b5453e94944cefc5d9fad5",
       "version_major": 2,
       "version_minor": 0
      },
      "text/plain": [
       "Saving the dataset (0/1 shards):   0%|          | 0/1925 [00:00<?, ? examples/s]"
      ]
     },
     "metadata": {},
     "output_type": "display_data"
    },
    {
     "data": {
      "application/vnd.jupyter.widget-view+json": {
       "model_id": "41f5e9d80c0043b2af072a380114c70a",
       "version_major": 2,
       "version_minor": 0
      },
      "text/plain": [
       "Saving the dataset (0/1 shards):   0%|          | 0/1926 [00:00<?, ? examples/s]"
      ]
     },
     "metadata": {},
     "output_type": "display_data"
    }
   ],
   "source": [
    "all_stream_data = DatasetDict({\n",
    "    \"train\": Dataset.from_pandas(all_train_df, preserve_index=False),\n",
    "    \"validation\": Dataset.from_pandas(val_df, preserve_index=False),\n",
    "    \"test\": Dataset.from_pandas(test_df, preserve_index=False)\n",
    "})\n",
    "\n",
    "labels = sorted(all_train_df[\"label\"].unique())\n",
    "class_label = ClassLabel(names=labels)\n",
    "\n",
    "all_stream_data = all_stream_data.cast_column(\"label\", class_label)\n",
    "\n",
    "all_stream_data.save_to_disk(\"data/processed/all_stream_data\")\n"
   ]
  }
 ],
 "metadata": {
  "kernelspec": {
   "display_name": "assignment-03",
   "language": "python",
   "name": "python3"
  },
  "language_info": {
   "codemirror_mode": {
    "name": "ipython",
    "version": 3
   },
   "file_extension": ".py",
   "mimetype": "text/x-python",
   "name": "python",
   "nbconvert_exporter": "python",
   "pygments_lexer": "ipython3",
   "version": "3.11.11"
  }
 },
 "nbformat": 4,
 "nbformat_minor": 5
}
