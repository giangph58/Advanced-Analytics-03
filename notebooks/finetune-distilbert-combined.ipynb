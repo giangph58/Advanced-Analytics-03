{
 "cells": [
  {
   "cell_type": "markdown",
   "id": "9b15ed7a",
   "metadata": {},
   "source": [
    "Attempt to finetune DistilBERT-base-uncased for Arxiv papers multiclassification:\n",
    "- Prepare dataset\n",
    "- Tokenize\n",
    "- Load model\n",
    "- Define metrics\n",
    "- Define Trainer object and TrainingArguments\n",
    "- Evaluate predictions\n",
    "- Error analysis\n",
    "- \n"
   ]
  },
  {
   "cell_type": "code",
   "execution_count": 1,
   "id": "b7e6a904",
   "metadata": {},
   "outputs": [],
   "source": [
    "from datasets import DatasetDict, Dataset, ClassLabel\n",
    "import pandas as pd\n",
    "import glob\n",
    "from src.utils import map_category, plot_confusion_matrix\n",
    "from sklearn.model_selection import train_test_split\n",
    "import torch\n",
    "import numpy as np\n"
   ]
  },
  {
   "cell_type": "code",
   "execution_count": 2,
   "id": "37852b09",
   "metadata": {},
   "outputs": [
    {
     "data": {
      "application/vnd.jupyter.widget-view+json": {
       "model_id": "158c78757c14460cb817444760fb373e",
       "version_major": 2,
       "version_minor": 0
      },
      "text/plain": [
       "README.md:   0%|          | 0.00/2.54k [00:00<?, ?B/s]"
      ]
     },
     "metadata": {},
     "output_type": "display_data"
    },
    {
     "data": {
      "application/vnd.jupyter.widget-view+json": {
       "model_id": "e4066663a134495daa83e9b216a0505e",
       "version_major": 2,
       "version_minor": 0
      },
      "text/plain": [
       "papers.parquet:   0%|          | 0.00/1.44G [00:00<?, ?B/s]"
      ]
     },
     "metadata": {},
     "output_type": "display_data"
    },
    {
     "data": {
      "application/vnd.jupyter.widget-view+json": {
       "model_id": "872d70dc291e4cdebd1b5631d0b7b88f",
       "version_major": 2,
       "version_minor": 0
      },
      "text/plain": [
       "Generating train split:   0%|          | 0/63357 [00:00<?, ? examples/s]"
      ]
     },
     "metadata": {},
     "output_type": "display_data"
    }
   ],
   "source": [
    "from datasets import load_dataset\n",
    "aux_data = load_dataset(\"real-jiakai/arxiver-with-category\")\n"
   ]
  },
  {
   "cell_type": "code",
   "execution_count": 3,
   "id": "a9dea6aa",
   "metadata": {},
   "outputs": [
    {
     "name": "stdout",
     "output_type": "stream",
     "text": [
      "DatasetDict({\n",
      "    train: Dataset({\n",
      "        features: ['id', 'title', 'abstract', 'authors', 'published_date', 'link', 'markdown', 'primary_category', 'categories'],\n",
      "        num_rows: 63357\n",
      "    })\n",
      "})\n"
     ]
    }
   ],
   "source": [
    "print(aux_data)"
   ]
  },
  {
   "cell_type": "code",
   "execution_count": null,
   "id": "9b7e9f31",
   "metadata": {},
   "outputs": [],
   "source": [
    "aux_data.set_format(type=\"pandas\")\n",
    "aux_df = aux_data[\"train\"][:]\n",
    "aux_df[\"label\"] = aux_df[\"primary_category\"].apply(map_category)\n",
    "aux_df[\"text\"] = aux_df[\"title\"] + \"\\n\" + aux_df[\"abstract\"]\n",
    "aux_df = aux_df[[\"text\", \"label\"]]"
   ]
  },
  {
   "cell_type": "code",
   "execution_count": 13,
   "id": "9a2be5bd",
   "metadata": {},
   "outputs": [],
   "source": [
    "# Define the path to the interim data directory\n",
    "data_path = \"data/interim/part-*.json\"\n",
    "json_files = glob.glob(data_path)\n",
    "papers_df = pd.concat([pd.read_json(file, lines=True) for file in json_files], ignore_index=True)\n",
    "\n",
    "papers_df[\"label\"] = papers_df[\"main_category\"].apply(map_category)\n",
    "papers_df[\"text\"] = papers_df[\"title\"] + \"\\n\" + papers_df[\"summary\"]\n",
    "papers_df = papers_df[[\"text\", \"label\"]]\n"
   ]
  },
  {
   "cell_type": "code",
   "execution_count": 21,
   "id": "3af52772",
   "metadata": {},
   "outputs": [],
   "source": [
    "papers_df = pd.concat([papers_df, aux_df])\n"
   ]
  },
  {
   "cell_type": "code",
   "execution_count": 23,
   "id": "d152b2cc",
   "metadata": {},
   "outputs": [],
   "source": [
    "train_df, temp_df = train_test_split(\n",
    "    papers_df, \n",
    "    test_size=0.2,\n",
    "    stratify=papers_df[\"label\"],\n",
    "    random_state=42\n",
    ")\n",
    "val_df, test_df = train_test_split(\n",
    "    temp_df,\n",
    "    test_size=0.5,\n",
    "    stratify=temp_df[\"label\"],\n",
    "    random_state=42\n",
    ")\n"
   ]
  },
  {
   "cell_type": "code",
   "execution_count": 24,
   "id": "99d971e4",
   "metadata": {},
   "outputs": [
    {
     "name": "stdout",
     "output_type": "stream",
     "text": [
      "Training set: 59600 examples (80.0%)\n",
      "Validation set: 7450 examples (10.0%)\n",
      "Test set: 7450 examples (10.0%)\n",
      "Total categories to classify: 20\n",
      "\n",
      "Split: train\n",
      "Number of unique categories: 20\n",
      "Categories present: 20/20\n",
      "\n",
      "Label Distribution:\n",
      "          Count  Percentage\n",
      "label                      \n",
      "cs        25184       42.26\n",
      "math       9219       15.47\n",
      "cond-mat   4364        7.32\n",
      "astro-ph   4123        6.92\n",
      "physics    3899        6.54\n",
      "quant-ph   2761        4.63\n",
      "eess       2659        4.46\n",
      "hep-ph     1492        2.50\n",
      "stat       1420        2.38\n",
      "gr-qc      1102        1.85\n",
      "hep-th      858        1.44\n",
      "q-bio       610        1.02\n",
      "nucl-th     387        0.65\n",
      "math-ph     327        0.55\n",
      "econ        294        0.49\n",
      "nlin        247        0.41\n",
      "q-fin       219        0.37\n",
      "hep-ex      202        0.34\n",
      "hep-lat     130        0.22\n",
      "nucl-ex     103        0.17\n",
      "------------------------------\n",
      "\n",
      "Split: validation\n",
      "Number of unique categories: 20\n",
      "Categories present: 20/20\n",
      "\n",
      "Label Distribution:\n",
      "          Count  Percentage\n",
      "label                      \n",
      "cs         3148       42.26\n",
      "math       1152       15.46\n",
      "cond-mat    546        7.33\n",
      "astro-ph    515        6.91\n",
      "physics     487        6.54\n",
      "quant-ph    345        4.63\n",
      "eess        333        4.47\n",
      "hep-ph      186        2.50\n",
      "stat        177        2.38\n",
      "gr-qc       137        1.84\n",
      "hep-th      107        1.44\n",
      "q-bio        77        1.03\n",
      "nucl-th      49        0.66\n",
      "math-ph      41        0.55\n",
      "econ         36        0.48\n",
      "nlin         31        0.42\n",
      "q-fin        28        0.38\n",
      "hep-ex       25        0.34\n",
      "hep-lat      17        0.23\n",
      "nucl-ex      13        0.17\n",
      "------------------------------\n",
      "\n",
      "Split: test\n",
      "Number of unique categories: 20\n",
      "Categories present: 20/20\n",
      "\n",
      "Label Distribution:\n",
      "          Count  Percentage\n",
      "label                      \n",
      "cs         3148       42.26\n",
      "math       1153       15.48\n",
      "cond-mat    545        7.32\n",
      "astro-ph    515        6.91\n",
      "physics     488        6.55\n",
      "quant-ph    345        4.63\n",
      "eess        332        4.46\n",
      "hep-ph      187        2.51\n",
      "stat        178        2.39\n",
      "gr-qc       138        1.85\n",
      "hep-th      107        1.44\n",
      "q-bio        76        1.02\n",
      "nucl-th      48        0.64\n",
      "math-ph      40        0.54\n",
      "econ         37        0.50\n",
      "nlin         31        0.42\n",
      "q-fin        27        0.36\n",
      "hep-ex       26        0.35\n",
      "hep-lat      16        0.21\n",
      "nucl-ex      13        0.17\n",
      "------------------------------\n"
     ]
    }
   ],
   "source": [
    "# Print split sizes to verify\n",
    "print(f\"Training set: {len(train_df)} examples ({len(train_df)/len(papers_df)*100:.1f}%)\")\n",
    "print(f\"Validation set: {len(val_df)} examples ({len(val_df)/len(papers_df)*100:.1f}%)\")\n",
    "print(f\"Test set: {len(test_df)} examples ({len(test_df)/len(papers_df)*100:.1f}%)\")\n",
    "\n",
    "# Check category distribution across all splits using pandas\n",
    "print(f\"Total categories to classify: {len(papers_df['label'].unique())}\")\n",
    "\n",
    "# Dictionary of DataFrames for easy iteration\n",
    "split_dfs = {\n",
    "    \"train\": train_df,\n",
    "    \"validation\": val_df,\n",
    "    \"test\": test_df\n",
    "}\n",
    "\n",
    "for split_name, df in split_dfs.items():\n",
    "    # Get unique categories in this split\n",
    "    split_categories = set(df[\"label\"].unique())\n",
    "    \n",
    "    # Check if all categories are present\n",
    "    missing_categories = set(papers_df[\"label\"]) - split_categories\n",
    "    \n",
    "    print(f\"\\nSplit: {split_name}\")\n",
    "    print(f\"Number of unique categories: {len(split_categories)}\")\n",
    "    print(f\"Categories present: {len(split_categories)}/{len(papers_df['label'].unique())}\")\n",
    "\n",
    "    # Calculate and print label distribution\n",
    "    print(\"\\nLabel Distribution:\")\n",
    "    label_counts = df['label'].value_counts()\n",
    "    label_percentages = df['label'].value_counts(normalize=True) * 100\n",
    "    distribution_df = pd.DataFrame({'Count': label_counts, 'Percentage': label_percentages.round(2)})\n",
    "    print(distribution_df)\n",
    "    print(\"-\" * 30) # Separator for clarity\n"
   ]
  },
  {
   "cell_type": "code",
   "execution_count": 25,
   "id": "e20e2241",
   "metadata": {},
   "outputs": [
    {
     "data": {
      "application/vnd.jupyter.widget-view+json": {
       "model_id": "7e4b5885b393409eac6997179bda4424",
       "version_major": 2,
       "version_minor": 0
      },
      "text/plain": [
       "Casting the dataset:   0%|          | 0/59600 [00:00<?, ? examples/s]"
      ]
     },
     "metadata": {},
     "output_type": "display_data"
    },
    {
     "data": {
      "application/vnd.jupyter.widget-view+json": {
       "model_id": "590ca59574f74a5e821d872b4ff424f2",
       "version_major": 2,
       "version_minor": 0
      },
      "text/plain": [
       "Casting the dataset:   0%|          | 0/7450 [00:00<?, ? examples/s]"
      ]
     },
     "metadata": {},
     "output_type": "display_data"
    },
    {
     "data": {
      "application/vnd.jupyter.widget-view+json": {
       "model_id": "e306b1792f8a4359b79cbc116c49128d",
       "version_major": 2,
       "version_minor": 0
      },
      "text/plain": [
       "Casting the dataset:   0%|          | 0/7450 [00:00<?, ? examples/s]"
      ]
     },
     "metadata": {},
     "output_type": "display_data"
    },
    {
     "name": "stdout",
     "output_type": "stream",
     "text": [
      "DatasetDict({\n",
      "    train: Dataset({\n",
      "        features: ['text', 'label'],\n",
      "        num_rows: 59600\n",
      "    })\n",
      "    validation: Dataset({\n",
      "        features: ['text', 'label'],\n",
      "        num_rows: 7450\n",
      "    })\n",
      "    test: Dataset({\n",
      "        features: ['text', 'label'],\n",
      "        num_rows: 7450\n",
      "    })\n",
      "})\n"
     ]
    }
   ],
   "source": [
    "# Create the final DatasetDict with train, validation, and test splits\n",
    "data = DatasetDict({\n",
    "    \"train\": Dataset.from_pandas(train_df, preserve_index=False),\n",
    "    \"validation\": Dataset.from_pandas(val_df, preserve_index=False),\n",
    "    \"test\": Dataset.from_pandas(test_df, preserve_index=False)\n",
    "})\n",
    "\n",
    "labels = sorted(papers_df[\"label\"].unique())\n",
    "class_label = ClassLabel(names=labels)\n",
    "\n",
    "data = data.cast_column(\"label\", class_label)\n",
    "print(data)\n"
   ]
  },
  {
   "cell_type": "code",
   "execution_count": 26,
   "id": "e485d78c",
   "metadata": {},
   "outputs": [],
   "source": [
    "from transformers import AutoTokenizer\n",
    "model_id = \"distilbert-base-uncased\"\n",
    "device = torch.device(\"cuda\" if torch.cuda.is_available() else \"cpu\")\n",
    "tokenizer = AutoTokenizer.from_pretrained(model_id)\n",
    "\n",
    "def tokenize(batch):\n",
    "    return tokenizer(batch[\"text\"], padding=True, truncation=True)\n"
   ]
  },
  {
   "cell_type": "code",
   "execution_count": 27,
   "id": "4ed65b94",
   "metadata": {},
   "outputs": [
    {
     "data": {
      "application/vnd.jupyter.widget-view+json": {
       "model_id": "cfdac9f2cb9b40e18740094bc21f2b5f",
       "version_major": 2,
       "version_minor": 0
      },
      "text/plain": [
       "Map:   0%|          | 0/59600 [00:00<?, ? examples/s]"
      ]
     },
     "metadata": {},
     "output_type": "display_data"
    },
    {
     "data": {
      "application/vnd.jupyter.widget-view+json": {
       "model_id": "13c6b69687914be595d3fcffb6018ab3",
       "version_major": 2,
       "version_minor": 0
      },
      "text/plain": [
       "Map:   0%|          | 0/7450 [00:00<?, ? examples/s]"
      ]
     },
     "metadata": {},
     "output_type": "display_data"
    },
    {
     "data": {
      "application/vnd.jupyter.widget-view+json": {
       "model_id": "adb3b8ae89b54bb6b6abeaa52c96f600",
       "version_major": 2,
       "version_minor": 0
      },
      "text/plain": [
       "Map:   0%|          | 0/7450 [00:00<?, ? examples/s]"
      ]
     },
     "metadata": {},
     "output_type": "display_data"
    }
   ],
   "source": [
    "data_encoded = data.map(tokenize, batched=True, batch_size=None)\n"
   ]
  },
  {
   "cell_type": "code",
   "execution_count": 28,
   "id": "3a0135f4",
   "metadata": {},
   "outputs": [
    {
     "data": {
      "text/plain": [
       "((59600,), (7450,))"
      ]
     },
     "execution_count": 28,
     "metadata": {},
     "output_type": "execute_result"
    }
   ],
   "source": [
    "X_train = np.array(data_encoded[\"train\"][\"text\"])\n",
    "X_valid = np.array(data_encoded[\"validation\"][\"text\"])\n",
    "y_train = np.array(data_encoded[\"train\"][\"label\"])\n",
    "y_valid = np.array(data_encoded[\"validation\"][\"label\"])\n",
    "X_train.shape, X_valid.shape\n"
   ]
  },
  {
   "cell_type": "code",
   "execution_count": 29,
   "id": "751e9b7e",
   "metadata": {},
   "outputs": [
    {
     "name": "stderr",
     "output_type": "stream",
     "text": [
      "Some weights of DistilBertForSequenceClassification were not initialized from the model checkpoint at distilbert-base-uncased and are newly initialized: ['classifier.bias', 'classifier.weight', 'pre_classifier.bias', 'pre_classifier.weight']\n",
      "You should probably TRAIN this model on a down-stream task to be able to use it for predictions and inference.\n"
     ]
    }
   ],
   "source": [
    "from transformers import AutoModelForSequenceClassification\n",
    "\n",
    "num_labels = len(labels)\n",
    "model = (AutoModelForSequenceClassification\n",
    "        .from_pretrained(model_id, num_labels=num_labels)\n",
    "        .to(device))\n"
   ]
  },
  {
   "cell_type": "code",
   "execution_count": 30,
   "id": "3ff50249",
   "metadata": {},
   "outputs": [],
   "source": [
    "from sklearn.metrics import accuracy_score, f1_score\n",
    "def compute_metrics(pred):\n",
    "    labels = pred.label_ids\n",
    "    preds = pred.predictions.argmax(-1)\n",
    "    f1 = f1_score(labels, preds, average=\"weighted\")\n",
    "    acc = accuracy_score(labels, preds)\n",
    "    return {\"accuracy\": acc, \"f1\": f1}\n"
   ]
  },
  {
   "cell_type": "code",
   "execution_count": 31,
   "id": "d0cb20ae",
   "metadata": {},
   "outputs": [
    {
     "data": {
      "application/vnd.jupyter.widget-view+json": {
       "model_id": "66657c5b29c34f81be0a4c548dd2c4ac",
       "version_major": 2,
       "version_minor": 0
      },
      "text/plain": [
       "VBox(children=(HTML(value='<center> <img\\nsrc=https://huggingface.co/front/assets/huggingface_logo-noborder.sv…"
      ]
     },
     "metadata": {},
     "output_type": "display_data"
    }
   ],
   "source": [
    "from huggingface_hub import notebook_login\n",
    "notebook_login()\n"
   ]
  },
  {
   "cell_type": "code",
   "execution_count": 32,
   "id": "83f13169",
   "metadata": {},
   "outputs": [],
   "source": [
    "from transformers import Trainer, TrainingArguments\n",
    "\n",
    "batch_size = 64\n",
    "num_train_epochs = 5\n",
    "learning_rate = 2e-5\n",
    "logging_steps = len(data_encoded[\"train\"]) // batch_size\n",
    "model_name = f\"{model_id}-finetuned-arxiv\"\n",
    "training_args = TrainingArguments(output_dir=model_name,\n",
    "                                  num_train_epochs=num_train_epochs,\n",
    "                                  learning_rate=learning_rate,per_device_train_batch_size=batch_size,per_device_eval_batch_size=batch_size,weight_decay=0.01,\n",
    "                                  eval_strategy=\"epoch\",\n",
    "                                  disable_tqdm=False,\n",
    "                                  logging_steps=logging_steps,push_to_hub=True,\n",
    "                                  log_level=\"error\")\n"
   ]
  },
  {
   "cell_type": "code",
   "execution_count": 33,
   "id": "9ebc14f0",
   "metadata": {},
   "outputs": [],
   "source": [
    "from sklearn.utils.class_weight import compute_class_weight\n",
    "\n",
    "# Calculate class weights\n",
    "train_labels = np.array(data_encoded[\"train\"][\"label\"])\n",
    "class_weights = compute_class_weight(\n",
    "    class_weight=\"balanced\",\n",
    "    classes=np.unique(train_labels),\n",
    "    y=train_labels\n",
    ")\n",
    "\n",
    "# Convert to PyTorch tensor and move to the right device\n",
    "class_weights = torch.tensor(class_weights, dtype=torch.float).to(device)\n",
    "\n",
    "class CustomTrainer(Trainer):\n",
    "    def __init__(self, class_weights=None, *args, **kwargs):\n",
    "        super().__init__(*args, **kwargs)\n",
    "        self.class_weights = class_weights\n",
    "        \n",
    "    def compute_weighted_loss(self, model, inputs, return_outputs=False):\n",
    "        labels = inputs.pop(\"labels\")\n",
    "        outputs = model(**inputs)\n",
    "        logits = outputs.logits\n",
    "        \n",
    "        # Apply class weights to the loss\n",
    "        loss_fct = torch.nn.CrossEntropyLoss(weight=self.class_weights)\n",
    "        loss = loss_fct(logits.view(-1, model.config.num_labels), labels.view(-1))\n",
    "        \n",
    "        return (loss, outputs) if return_outputs else loss\n"
   ]
  },
  {
   "cell_type": "code",
   "execution_count": 34,
   "id": "9b1871a6",
   "metadata": {},
   "outputs": [
    {
     "name": "stderr",
     "output_type": "stream",
     "text": [
      "/tmp/ipykernel_43361/4006816452.py:16: FutureWarning: `tokenizer` is deprecated and will be removed in version 5.0.0 for `CustomTrainer.__init__`. Use `processing_class` instead.\n",
      "  super().__init__(*args, **kwargs)\n"
     ]
    },
    {
     "data": {
      "text/html": [
       "\n",
       "    <div>\n",
       "      \n",
       "      <progress value='4660' max='4660' style='width:300px; height:20px; vertical-align: middle;'></progress>\n",
       "      [4660/4660 53:16, Epoch 5/5]\n",
       "    </div>\n",
       "    <table border=\"1\" class=\"dataframe\">\n",
       "  <thead>\n",
       " <tr style=\"text-align: left;\">\n",
       "      <th>Epoch</th>\n",
       "      <th>Training Loss</th>\n",
       "      <th>Validation Loss</th>\n",
       "      <th>Accuracy</th>\n",
       "      <th>F1</th>\n",
       "    </tr>\n",
       "  </thead>\n",
       "  <tbody>\n",
       "    <tr>\n",
       "      <td>1</td>\n",
       "      <td>0.791600</td>\n",
       "      <td>0.569587</td>\n",
       "      <td>0.816510</td>\n",
       "      <td>0.810353</td>\n",
       "    </tr>\n",
       "    <tr>\n",
       "      <td>2</td>\n",
       "      <td>0.476200</td>\n",
       "      <td>0.491537</td>\n",
       "      <td>0.838926</td>\n",
       "      <td>0.826417</td>\n",
       "    </tr>\n",
       "    <tr>\n",
       "      <td>3</td>\n",
       "      <td>0.380100</td>\n",
       "      <td>0.498431</td>\n",
       "      <td>0.830738</td>\n",
       "      <td>0.823983</td>\n",
       "    </tr>\n",
       "    <tr>\n",
       "      <td>4</td>\n",
       "      <td>0.311300</td>\n",
       "      <td>0.479918</td>\n",
       "      <td>0.842953</td>\n",
       "      <td>0.840235</td>\n",
       "    </tr>\n",
       "    <tr>\n",
       "      <td>5</td>\n",
       "      <td>0.264800</td>\n",
       "      <td>0.490069</td>\n",
       "      <td>0.844966</td>\n",
       "      <td>0.841358</td>\n",
       "    </tr>\n",
       "  </tbody>\n",
       "</table><p>"
      ],
      "text/plain": [
       "<IPython.core.display.HTML object>"
      ]
     },
     "metadata": {},
     "output_type": "display_data"
    },
    {
     "data": {
      "text/plain": [
       "TrainOutput(global_step=4660, training_loss=0.4446698697851451, metrics={'train_runtime': 3197.1338, 'train_samples_per_second': 93.208, 'train_steps_per_second': 1.458, 'total_flos': 3.948795654144e+16, 'train_loss': 0.4446698697851451, 'epoch': 5.0})"
      ]
     },
     "execution_count": 34,
     "metadata": {},
     "output_type": "execute_result"
    }
   ],
   "source": [
    "from transformers import Trainer\n",
    "trainer = CustomTrainer(\n",
    "    class_weights=class_weights,\n",
    "    model=model, \n",
    "    args=training_args,\n",
    "    compute_metrics=compute_metrics,\n",
    "    train_dataset=data_encoded[\"train\"],\n",
    "    eval_dataset=data_encoded[\"validation\"],\n",
    "    tokenizer=tokenizer\n",
    ")\n",
    "\n",
    "trainer.train()\n"
   ]
  },
  {
   "cell_type": "code",
   "execution_count": 35,
   "id": "17a06ec7",
   "metadata": {},
   "outputs": [
    {
     "data": {
      "text/html": [],
      "text/plain": [
       "<IPython.core.display.HTML object>"
      ]
     },
     "metadata": {},
     "output_type": "display_data"
    }
   ],
   "source": [
    "preds_output = trainer.predict(data_encoded[\"validation\"])\n"
   ]
  },
  {
   "cell_type": "code",
   "execution_count": 36,
   "id": "9b8e6d09",
   "metadata": {},
   "outputs": [
    {
     "data": {
      "text/plain": [
       "{'test_loss': 0.4900691509246826,\n",
       " 'test_accuracy': 0.8449664429530201,\n",
       " 'test_f1': 0.8413581917551504,\n",
       " 'test_runtime': 28.8482,\n",
       " 'test_samples_per_second': 258.248,\n",
       " 'test_steps_per_second': 4.056}"
      ]
     },
     "execution_count": 36,
     "metadata": {},
     "output_type": "execute_result"
    }
   ],
   "source": [
    "preds_output.metrics\n"
   ]
  },
  {
   "cell_type": "code",
   "execution_count": 37,
   "id": "7459cd9a",
   "metadata": {},
   "outputs": [],
   "source": [
    "y_preds = np.argmax(preds_output.predictions, axis=1)\n"
   ]
  },
  {
   "cell_type": "code",
   "execution_count": 38,
   "id": "a5c4e1e3",
   "metadata": {},
   "outputs": [
    {
     "data": {
      "image/png": "[encoded data removed]",
      "text/plain": [
       "<Figure size 1000x1000 with 1 Axes>"
      ]
     },
     "metadata": {},
     "output_type": "display_data"
    }
   ],
   "source": [
    "plot_confusion_matrix(y_preds, y_valid, labels)\n"
   ]
  },
  {
   "cell_type": "code",
   "execution_count": 39,
   "id": "6f6f4f0f",
   "metadata": {},
   "outputs": [],
   "source": [
    "from torch.nn.functional import cross_entropy\n",
    "\n",
    "def forward_pass_with_label(batch):\n",
    "    # Place all input tensors on the same device as the model\n",
    "    inputs = {k:v.to(device) for k,v in batch.items()\n",
    "              if k in tokenizer.model_input_names}\n",
    "    with torch.no_grad():\n",
    "        output = model(**inputs)\n",
    "        pred_label = torch.argmax(output.logits, axis=-1)\n",
    "        loss = cross_entropy(output.logits, batch[\"label\"].to(device),\n",
    "                         reduction=\"none\")\n",
    "    # Place outputs on CPU for compatibility with other dataset columns\n",
    "    return {\"loss\": loss.cpu().numpy(),\n",
    "            \"predicted_label\": pred_label.cpu().numpy()}\n"
   ]
  },
  {
   "cell_type": "code",
   "execution_count": 40,
   "id": "55362386",
   "metadata": {},
   "outputs": [
    {
     "data": {
      "application/vnd.jupyter.widget-view+json": {
       "model_id": "6da1e5b44c0e40a3898f5572126671e1",
       "version_major": 2,
       "version_minor": 0
      },
      "text/plain": [
       "Map:   0%|          | 0/7450 [00:00<?, ? examples/s]"
      ]
     },
     "metadata": {},
     "output_type": "display_data"
    }
   ],
   "source": [
    "# Convert our dataset back to PyTorch tensors\n",
    "data_encoded.set_format(\"torch\",\n",
    "                        columns=[\"input_ids\", \"attention_mask\", \"label\"])\n",
    "# Compute loss values\n",
    "data_encoded[\"validation\"] = data_encoded[\"validation\"].map(\n",
    "    forward_pass_with_label, batched=True, batch_size=16)\n"
   ]
  },
  {
   "cell_type": "code",
   "execution_count": 41,
   "id": "306d69da",
   "metadata": {},
   "outputs": [],
   "source": [
    "def label_int2str(row):\n",
    "    return data[\"train\"].features[\"label\"].int2str(row)\n"
   ]
  },
  {
   "cell_type": "code",
   "execution_count": 42,
   "id": "1eb8643e",
   "metadata": {},
   "outputs": [],
   "source": [
    "data_encoded.set_format(\"pandas\")\n",
    "cols = [\"text\", \"label\", \"predicted_label\", \"loss\"]\n",
    "df_test = data_encoded[\"validation\"][:][cols]\n",
    "df_test[\"label\"] = df_test[\"label\"].apply(label_int2str)\n",
    "df_test[\"predicted_label\"] = (df_test[\"predicted_label\"].apply(label_int2str))\n"
   ]
  },
  {
   "cell_type": "code",
   "execution_count": 46,
   "id": "a2a1bd83",
   "metadata": {},
   "outputs": [],
   "source": [
    "df_test.sort_values(\"loss\", ascending=False).head(10)\n",
    "df_test.sort_values(\"loss\", ascending=False).to_csv(\"data/processed/errors.csv\")\n"
   ]
  },
  {
   "cell_type": "code",
   "execution_count": 44,
   "id": "c7f0d3fe",
   "metadata": {},
   "outputs": [
    {
     "data": {
      "text/html": [
       "<div>\n",
       "<style scoped>\n",
       "    .dataframe tbody tr th:only-of-type {\n",
       "        vertical-align: middle;\n",
       "    }\n",
       "\n",
       "    .dataframe tbody tr th {\n",
       "        vertical-align: top;\n",
       "    }\n",
       "\n",
       "    .dataframe thead th {\n",
       "        text-align: right;\n",
       "    }\n",
       "</style>\n",
       "<table border=\"1\" class=\"dataframe\">\n",
       "  <thead>\n",
       "    <tr style=\"text-align: right;\">\n",
       "      <th></th>\n",
       "      <th>text</th>\n",
       "      <th>label</th>\n",
       "      <th>predicted_label</th>\n",
       "      <th>loss</th>\n",
       "    </tr>\n",
       "  </thead>\n",
       "  <tbody>\n",
       "    <tr>\n",
       "      <th>4949</th>\n",
       "      <td>Attention over pre-trained Sentence Embeddings...</td>\n",
       "      <td>cs</td>\n",
       "      <td>cs</td>\n",
       "      <td>0.000608</td>\n",
       "    </tr>\n",
       "    <tr>\n",
       "      <th>1695</th>\n",
       "      <td>Constructing and Interpreting Causal Knowledge...</td>\n",
       "      <td>cs</td>\n",
       "      <td>cs</td>\n",
       "      <td>0.000608</td>\n",
       "    </tr>\n",
       "    <tr>\n",
       "      <th>5666</th>\n",
       "      <td>Do Language Models Learn about Legal Entity Ty...</td>\n",
       "      <td>cs</td>\n",
       "      <td>cs</td>\n",
       "      <td>0.000608</td>\n",
       "    </tr>\n",
       "    <tr>\n",
       "      <th>6680</th>\n",
       "      <td>Zero and Few-shot Semantic Parsing with Ambigu...</td>\n",
       "      <td>cs</td>\n",
       "      <td>cs</td>\n",
       "      <td>0.000615</td>\n",
       "    </tr>\n",
       "    <tr>\n",
       "      <th>4003</th>\n",
       "      <td>CAB: Empathetic Dialogue Generation with Cogni...</td>\n",
       "      <td>cs</td>\n",
       "      <td>cs</td>\n",
       "      <td>0.000616</td>\n",
       "    </tr>\n",
       "    <tr>\n",
       "      <th>1121</th>\n",
       "      <td>Improving Multilingual Retrieval-Augmented Lan...</td>\n",
       "      <td>cs</td>\n",
       "      <td>cs</td>\n",
       "      <td>0.000624</td>\n",
       "    </tr>\n",
       "    <tr>\n",
       "      <th>1582</th>\n",
       "      <td>In-context Pretraining: Language Modeling Beyo...</td>\n",
       "      <td>cs</td>\n",
       "      <td>cs</td>\n",
       "      <td>0.000625</td>\n",
       "    </tr>\n",
       "    <tr>\n",
       "      <th>5934</th>\n",
       "      <td>RE$^2$: Region-Aware Relation Extraction from ...</td>\n",
       "      <td>cs</td>\n",
       "      <td>cs</td>\n",
       "      <td>0.000629</td>\n",
       "    </tr>\n",
       "    <tr>\n",
       "      <th>737</th>\n",
       "      <td>PR-Attack: Coordinated Prompt-RAG Attacks on R...</td>\n",
       "      <td>cs</td>\n",
       "      <td>cs</td>\n",
       "      <td>0.000634</td>\n",
       "    </tr>\n",
       "    <tr>\n",
       "      <th>6410</th>\n",
       "      <td>DiLogics: Creating Web Automation Programs Wit...</td>\n",
       "      <td>cs</td>\n",
       "      <td>cs</td>\n",
       "      <td>0.000634</td>\n",
       "    </tr>\n",
       "  </tbody>\n",
       "</table>\n",
       "</div>"
      ],
      "text/plain": [
       "                                                   text label predicted_label  \\\n",
       "4949  Attention over pre-trained Sentence Embeddings...    cs              cs   \n",
       "1695  Constructing and Interpreting Causal Knowledge...    cs              cs   \n",
       "5666  Do Language Models Learn about Legal Entity Ty...    cs              cs   \n",
       "6680  Zero and Few-shot Semantic Parsing with Ambigu...    cs              cs   \n",
       "4003  CAB: Empathetic Dialogue Generation with Cogni...    cs              cs   \n",
       "1121  Improving Multilingual Retrieval-Augmented Lan...    cs              cs   \n",
       "1582  In-context Pretraining: Language Modeling Beyo...    cs              cs   \n",
       "5934  RE$^2$: Region-Aware Relation Extraction from ...    cs              cs   \n",
       "737   PR-Attack: Coordinated Prompt-RAG Attacks on R...    cs              cs   \n",
       "6410  DiLogics: Creating Web Automation Programs Wit...    cs              cs   \n",
       "\n",
       "          loss  \n",
       "4949  0.000608  \n",
       "1695  0.000608  \n",
       "5666  0.000608  \n",
       "6680  0.000615  \n",
       "4003  0.000616  \n",
       "1121  0.000624  \n",
       "1582  0.000625  \n",
       "5934  0.000629  \n",
       "737   0.000634  \n",
       "6410  0.000634  "
      ]
     },
     "execution_count": 44,
     "metadata": {},
     "output_type": "execute_result"
    }
   ],
   "source": [
    "df_test.sort_values(\"loss\", ascending=True).head(10)\n"
   ]
  }
 ],
 "metadata": {
  "kernelspec": {
   "display_name": ".venv",
   "language": "python",
   "name": "python3"
  },
  "language_info": {
   "codemirror_mode": {
    "name": "ipython",
    "version": 3
   },
   "file_extension": ".py",
   "mimetype": "text/x-python",
   "name": "python",
   "nbconvert_exporter": "python",
   "pygments_lexer": "ipython3",
   "version": "3.11.12"
  }
 },
 "nbformat": 4,
 "nbformat_minor": 5
}
