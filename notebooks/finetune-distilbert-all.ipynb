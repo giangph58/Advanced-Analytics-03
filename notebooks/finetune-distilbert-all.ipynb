{
 "cells": [
  {
   "cell_type": "markdown",
   "id": "9b15ed7a",
   "metadata": {},
   "source": [
    "Attempt to finetune DistilBERT-base-uncased for Arxiv papers multiclassification:\n",
    "- Prepare dataset\n",
    "- Tokenize\n",
    "- Load model\n",
    "- Define metrics\n",
    "- Define Trainer object and TrainingArguments\n",
    "- Evaluate predictions\n",
    "- Error analysis\n"
   ]
  },
  {
   "cell_type": "code",
   "execution_count": 1,
   "id": "b7e6a904",
   "metadata": {},
   "outputs": [],
   "source": [
    "import pandas as pd\n",
    "import numpy as np\n",
    "from datasets import load_from_disk\n",
    "\n",
    "all_stream_data = load_from_disk(\"data/processed/all_stream_data\")\n"
   ]
  },
  {
   "cell_type": "code",
   "execution_count": 2,
   "id": "e485d78c",
   "metadata": {},
   "outputs": [],
   "source": [
    "from transformers import AutoTokenizer\n",
    "import torch\n",
    "\n",
    "model_id = \"distilbert-base-uncased\"\n",
    "device = torch.device(\"cuda\" if torch.cuda.is_available() else \"cpu\")\n",
    "tokenizer = AutoTokenizer.from_pretrained(model_id)\n",
    "\n",
    "def tokenize(batch):\n",
    "    return tokenizer(batch[\"text\"], padding=True, truncation=True)\n"
   ]
  },
  {
   "cell_type": "code",
   "execution_count": 3,
   "id": "67b863bb",
   "metadata": {},
   "outputs": [
    {
     "data": {
      "application/vnd.jupyter.widget-view+json": {
       "model_id": "a4556fba56d7411883eb9e5eb9d99713",
       "version_major": 2,
       "version_minor": 0
      },
      "text/plain": [
       "Map:   0%|          | 0/1925 [00:00<?, ? examples/s]"
      ]
     },
     "metadata": {},
     "output_type": "display_data"
    }
   ],
   "source": [
    "train_dataset = all_stream_data[\"train\"].map(tokenize, batched=True, batch_size=None)\n",
    "\n",
    "eval_dataset = all_stream_data[\"validation\"].map(tokenize, batched=True, batch_size=None)\n"
   ]
  },
  {
   "cell_type": "code",
   "execution_count": 4,
   "id": "ecee4604",
   "metadata": {},
   "outputs": [],
   "source": [
    "labels = all_stream_data[\"train\"].features[\"label\"].names\n",
    "y_valid = np.array(eval_dataset[\"label\"])\n"
   ]
  },
  {
   "cell_type": "code",
   "execution_count": 5,
   "id": "751e9b7e",
   "metadata": {},
   "outputs": [
    {
     "name": "stderr",
     "output_type": "stream",
     "text": [
      "Some weights of DistilBertForSequenceClassification were not initialized from the model checkpoint at distilbert-base-uncased and are newly initialized: ['classifier.bias', 'classifier.weight', 'pre_classifier.bias', 'pre_classifier.weight']\n",
      "You should probably TRAIN this model on a down-stream task to be able to use it for predictions and inference.\n",
      "huggingface/tokenizers: The current process just got forked, after parallelism has already been used. Disabling parallelism to avoid deadlocks...\n",
      "To disable this warning, you can either:\n",
      "\t- Avoid using `tokenizers` before the fork if possible\n",
      "\t- Explicitly set the environment variable TOKENIZERS_PARALLELISM=(true | false)\n",
      "huggingface/tokenizers: The current process just got forked, after parallelism has already been used. Disabling parallelism to avoid deadlocks...\n",
      "To disable this warning, you can either:\n",
      "\t- Avoid using `tokenizers` before the fork if possible\n",
      "\t- Explicitly set the environment variable TOKENIZERS_PARALLELISM=(true | false)\n"
     ]
    }
   ],
   "source": [
    "from transformers import AutoModelForSequenceClassification\n",
    "\n",
    "num_labels = len(labels)\n",
    "model = (AutoModelForSequenceClassification\n",
    "        .from_pretrained(model_id, num_labels=num_labels)\n",
    "        .to(device))\n"
   ]
  },
  {
   "cell_type": "code",
   "execution_count": 6,
   "id": "d0cb20ae",
   "metadata": {},
   "outputs": [
    {
     "data": {
      "application/vnd.jupyter.widget-view+json": {
       "model_id": "8f9298351fee4ab69a779e59857fb9ef",
       "version_major": 2,
       "version_minor": 0
      },
      "text/plain": [
       "VBox(children=(HTML(value='<center> <img\\nsrc=https://huggingface.co/front/assets/huggingface_logo-noborder.sv…"
      ]
     },
     "metadata": {},
     "output_type": "display_data"
    }
   ],
   "source": [
    "from huggingface_hub import notebook_login\n",
    "notebook_login()\n"
   ]
  },
  {
   "cell_type": "code",
   "execution_count": 7,
   "id": "83f13169",
   "metadata": {},
   "outputs": [],
   "source": [
    "from transformers import Trainer, TrainingArguments, EarlyStoppingCallback\n",
    "from sklearn.metrics import balanced_accuracy_score, f1_score\n",
    "\n",
    "batch_size = 32\n",
    "num_train_epochs = 10\n",
    "learning_rate = 2e-5\n",
    "logging_steps = len(train_dataset) // batch_size\n",
    "model_name = f\"./models/{model_id}-finetuned-arxiv\"\n",
    "training_args = TrainingArguments(output_dir=model_name,\n",
    "                                  overwrite_output_dir=True,\n",
    "                                  num_train_epochs=num_train_epochs,\n",
    "                                  learning_rate=learning_rate,per_device_train_batch_size=batch_size,per_device_eval_batch_size=batch_size * 2,\n",
    "                                  weight_decay=0.01,\n",
    "                                  warmup_steps=500,\n",
    "                                  fp16=True,\n",
    "                                  eval_strategy=\"steps\",\n",
    "                                  eval_steps=500,\n",
    "                                  save_strategy=\"steps\",\n",
    "                                  save_total_limit=3,\n",
    "                                  disable_tqdm=False,\n",
    "                                  logging_steps=logging_steps,\n",
    "                                  load_best_model_at_end=True,\n",
    "                                  metric_for_best_model=\"macro_f1\",\n",
    "                                  greater_is_better=True,\n",
    "                                  push_to_hub=True,\n",
    "                                  label_smoothing_factor=0.1,\n",
    "                                  log_level=\"error\")\n",
    "\n",
    "def compute_metrics(pred):\n",
    "    labels = pred.label_ids\n",
    "    preds = pred.predictions.argmax(-1)\n",
    "    macro_f1 = f1_score(labels, preds, average=\"macro\")\n",
    "    balanced_accuracy = balanced_accuracy_score(labels, preds)\n",
    "    return {\"macro_f1\": macro_f1, \"balanced_accuracy\": balanced_accuracy}\n"
   ]
  },
  {
   "cell_type": "code",
   "execution_count": null,
   "id": "9ebc14f0",
   "metadata": {},
   "outputs": [],
   "source": [
    "from sklearn.utils.class_weight import compute_class_weight\n",
    "import numpy as np\n",
    "\n",
    "# Calculate class weights\n",
    "train_labels = np.array(train_dataset[\"label\"])\n",
    "class_weights = compute_class_weight(\n",
    "    class_weight=\"balanced\",\n",
    "    classes=np.unique(train_labels),\n",
    "    y=train_labels\n",
    ")\n",
    "\n",
    "# Convert to PyTorch tensor and move to the right device\n",
    "class_weights = torch.tensor(class_weights, dtype=torch.float).to(device)\n",
    "\n",
    "class CustomTrainer(Trainer):\n",
    "    def __init__(self, class_weights=None, *args, **kwargs):\n",
    "        super().__init__(*args, **kwargs)\n",
    "        self.class_weights = class_weights\n",
    "        \n",
    "    def compute_weighted_loss(self, model, inputs, return_outputs=False):\n",
    "        labels = inputs.pop(\"labels\")\n",
    "        outputs = model(**inputs)\n",
    "        logits = outputs.logits\n",
    "        \n",
    "        # Apply class weights to the loss\n",
    "        loss_fct = torch.nn.CrossEntropyLoss(weight=self.class_weights)\n",
    "        loss = loss_fct(logits.view(-1, model.config.num_labels), labels.view(-1))\n",
    "        \n",
    "        return (loss, outputs) if return_outputs else loss\n"
   ]
  },
  {
   "cell_type": "code",
   "execution_count": null,
   "id": "9b1871a6",
   "metadata": {},
   "outputs": [],
   "source": [
    "trainer = CustomTrainer(\n",
    "    class_weights=class_weights,\n",
    "    model=model, \n",
    "    args=training_args,\n",
    "    compute_metrics=compute_metrics,\n",
    "    train_dataset=train_dataset,\n",
    "    eval_dataset=eval_dataset,\n",
    "    processing_class=tokenizer,\n",
    "    callbacks=[EarlyStoppingCallback(early_stopping_patience=3)]\n",
    ")\n",
    "\n",
    "trainer.train()\n"
   ]
  },
  {
   "cell_type": "code",
   "execution_count": null,
   "id": "17a06ec7",
   "metadata": {},
   "outputs": [],
   "source": [
    "preds_output = trainer.predict(eval_dataset)\n"
   ]
  },
  {
   "cell_type": "code",
   "execution_count": null,
   "id": "9b8e6d09",
   "metadata": {},
   "outputs": [],
   "source": [
    "preds_output.metrics\n"
   ]
  },
  {
   "cell_type": "code",
   "execution_count": null,
   "id": "7459cd9a",
   "metadata": {},
   "outputs": [],
   "source": [
    "y_preds = np.argmax(preds_output.predictions, axis=1)\n"
   ]
  },
  {
   "cell_type": "code",
   "execution_count": null,
   "id": "a5c4e1e3",
   "metadata": {},
   "outputs": [],
   "source": [
    "from src.utils import plot_confusion_matrix\n",
    "\n",
    "plot_confusion_matrix(y_preds, y_valid, labels)\n"
   ]
  },
  {
   "cell_type": "code",
   "execution_count": null,
   "id": "6f6f4f0f",
   "metadata": {},
   "outputs": [],
   "source": [
    "from torch.nn.functional import cross_entropy\n",
    "\n",
    "def forward_pass_with_label(batch):\n",
    "    # Place all input tensors on the same device as the model\n",
    "    inputs = {k:v.to(device) for k,v in batch.items()\n",
    "              if k in tokenizer.model_input_names}\n",
    "    with torch.no_grad():\n",
    "        output = model(**inputs)\n",
    "        pred_label = torch.argmax(output.logits, axis=-1)\n",
    "        loss = cross_entropy(output.logits, batch[\"label\"].to(device),\n",
    "                         reduction=\"none\")\n",
    "    # Place outputs on CPU for compatibility with other dataset columns\n",
    "    return {\"loss\": loss.cpu().numpy(),\n",
    "            \"predicted_label\": pred_label.cpu().numpy()}\n"
   ]
  },
  {
   "cell_type": "code",
   "execution_count": null,
   "id": "55362386",
   "metadata": {},
   "outputs": [],
   "source": [
    "# Convert our dataset back to PyTorch tensors\n",
    "data_encoded.set_format(\"torch\",\n",
    "                        columns=[\"input_ids\", \"attention_mask\", \"label\"])\n",
    "# Compute loss values\n",
    "data_encoded[\"validation\"] = data_encoded[\"validation\"].map(\n",
    "    forward_pass_with_label, batched=True, batch_size=16)\n"
   ]
  },
  {
   "cell_type": "code",
   "execution_count": null,
   "id": "306d69da",
   "metadata": {},
   "outputs": [],
   "source": [
    "def label_int2str(row):\n",
    "    return data[\"train\"].features[\"label\"].int2str(row)\n"
   ]
  },
  {
   "cell_type": "code",
   "execution_count": null,
   "id": "1eb8643e",
   "metadata": {},
   "outputs": [],
   "source": [
    "data_encoded.set_format(\"pandas\")\n",
    "cols = [\"text\", \"label\", \"predicted_label\", \"loss\"]\n",
    "df_test = data_encoded[\"validation\"][:][cols]\n",
    "df_test[\"label\"] = df_test[\"label\"].apply(label_int2str)\n",
    "df_test[\"predicted_label\"] = (df_test[\"predicted_label\"].apply(label_int2str))\n"
   ]
  },
  {
   "cell_type": "code",
   "execution_count": null,
   "id": "a2a1bd83",
   "metadata": {},
   "outputs": [],
   "source": [
    "df_test.sort_values(\"loss\", ascending=False).head(10)\n"
   ]
  },
  {
   "cell_type": "code",
   "execution_count": null,
   "id": "c7f0d3fe",
   "metadata": {},
   "outputs": [],
   "source": [
    "df_test.sort_values(\"loss\", ascending=True).head(10)\n"
   ]
  }
 ],
 "metadata": {
  "kernelspec": {
   "display_name": ".venv",
   "language": "python",
   "name": "python3"
  },
  "language_info": {
   "codemirror_mode": {
    "name": "ipython",
    "version": 3
   },
   "file_extension": ".py",
   "mimetype": "text/x-python",
   "name": "python",
   "nbconvert_exporter": "python",
   "pygments_lexer": "ipython3",
   "version": "3.11.12"
  }
 },
 "nbformat": 4,
 "nbformat_minor": 5
}
