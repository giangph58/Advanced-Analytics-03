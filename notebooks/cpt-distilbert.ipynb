{
 "cells": [
  {
   "cell_type": "code",
   "execution_count": null,
   "id": "630217fc",
   "metadata": {},
   "outputs": [],
   "source": [
    "from datasets import load_dataset, DatasetDict, ClassLabel, Dataset\n",
    "from src.utils import map_category\n",
    "\n",
    "aux_data = load_dataset(\"real-jiakai/arxiver-with-category\")\n"
   ]
  },
  {
   "cell_type": "code",
   "execution_count": null,
   "id": "63295454",
   "metadata": {},
   "outputs": [],
   "source": [
    "aux_data.set_format(type=\"pandas\")\n",
    "aux_df = aux_data[\"train\"][:]\n",
    "aux_df[\"label\"] = aux_df[\"primary_category\"].apply(map_category)\n",
    "aux_df[\"title\"] = aux_df[\"title\"].str.replace(\"\\n  \", \" \")\n",
    "aux_df[\"text\"] = aux_df[\"title\"] + \"\\n\" + aux_df[\"abstract\"]\n",
    "aux_df = aux_df[[\"text\", \"label\"]]\n"
   ]
  },
  {
   "cell_type": "code",
   "execution_count": null,
   "id": "2742cfe4",
   "metadata": {},
   "outputs": [],
   "source": [
    "from sklearn.model_selection import train_test_split\n",
    "\n",
    "train_df, val_df = train_test_split(\n",
    "    aux_df, \n",
    "    test_size=0.1,\n",
    "    stratify=aux_df[\"label\"],\n",
    "    random_state=42\n",
    ")\n",
    "\n",
    "cpt_data = DatasetDict({\n",
    "    \"train\": Dataset.from_pandas(train_df, preserve_index=False),\n",
    "    \"validation\": Dataset.from_pandas(val_df, preserve_index=False)\n",
    "})\n",
    "\n",
    "labels = sorted(train_df[\"label\"].unique())\n",
    "class_label = ClassLabel(names=labels)\n",
    "\n",
    "cpt_data = cpt_data.cast_column(\"label\", class_label)\n",
    "\n",
    "cpt_data.save_to_disk(\"data/processed/cpt_data\")\n"
   ]
  },
  {
   "cell_type": "code",
   "execution_count": null,
   "id": "a4615e80",
   "metadata": {},
   "outputs": [],
   "source": [
    "from transformers import DistilBertForMaskedLM, DistilBertTokenizer, DataCollatorForLanguageModeling\n",
    "from transformers import Trainer, TrainingArguments, EarlyStoppingCallback\n",
    "\n",
    "model = DistilBertForMaskedLM.from_pretrained(\"distilbert-base-uncased\")\n",
    "tokenizer = DistilBertTokenizer.from_pretrained(\"distilbert-base-uncased\")\n",
    "\n",
    "def tokenize(batch):\n",
    "    return tokenizer(batch[\"text\"], padding=\"max_length\", \n",
    "                    truncation=True, max_length=512)\n",
    "\n",
    "tokenized_cpt_data = cpt_data.map(tokenize, batched=True, remove_columns=[\"label\"])\n"
   ]
  },
  {
   "cell_type": "code",
   "execution_count": null,
   "id": "decca37e",
   "metadata": {},
   "outputs": [],
   "source": [
    "# Data collator for masked language modeling\n",
    "data_collator = DataCollatorForLanguageModeling(\n",
    "    tokenizer=tokenizer, mlm=True, mlm_probability=0.15\n",
    ")\n",
    "\n",
    "# Define training arguments\n",
    "training_args = TrainingArguments(\n",
    "    output_dir=\"./models/distilbert-base-uncased-cpt-arxiv\",\n",
    "    overwrite_output_dir=True,\n",
    "    num_train_epochs=10,\n",
    "    per_device_train_batch_size=32,\n",
    "    per_device_eval_batch_size=64,\n",
    "    gradient_accumulation_steps=1,\n",
    "    fp16=True,\n",
    "    learning_rate=2e-5,\n",
    "    weight_decay=0.01,\n",
    "    warmup_steps=1000,\n",
    "    logging_dir='logs',\n",
    "    logging_steps=500,              \n",
    "    dataloader_num_workers=4,       \n",
    "    eval_strategy=\"steps\",   \n",
    "    eval_steps=500,\n",
    "    save_steps=500,\n",
    "    save_total_limit=2,\n",
    "    load_best_model_at_end=True,\n",
    "    metric_for_best_model=\"loss\"\n",
    ")\n",
    "\n",
    "# Initialize trainer\n",
    "trainer = Trainer(\n",
    "    model=model,\n",
    "    args=training_args,\n",
    "    train_dataset=tokenized_cpt_data[\"train\"],\n",
    "    eval_dataset=tokenized_cpt_data[\"validation\"],\n",
    "    data_collator=data_collator,\n",
    "    callbacks=[EarlyStoppingCallback(early_stopping_patience=3)]\n",
    ")\n",
    "\n",
    "# Run continued pretraining\n",
    "trainer.train()\n"
   ]
  },
  {
   "cell_type": "code",
   "execution_count": null,
   "id": "51165954",
   "metadata": {},
   "outputs": [],
   "source": [
    "# Save domain-adapted model\n",
    "model.save_pretrained(\"distilbert-arxiv-domain-adapted\")\n",
    "tokenizer.save_pretrained(\"distilbert-arxiv-domain-adapted\")\n"
   ]
  }
 ],
 "metadata": {
  "kernelspec": {
   "display_name": ".venv",
   "language": "python",
   "name": "python3"
  },
  "language_info": {
   "codemirror_mode": {
    "name": "ipython",
    "version": 3
   },
   "file_extension": ".py",
   "mimetype": "text/x-python",
   "name": "python",
   "nbconvert_exporter": "python",
   "pygments_lexer": "ipython3",
   "version": "3.11.12"
  }
 },
 "nbformat": 4,
 "nbformat_minor": 5
}
